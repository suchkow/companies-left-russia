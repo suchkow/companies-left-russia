{
 "cells": [
  {
   "cell_type": "markdown",
   "id": "bd6a4c39",
   "metadata": {},
   "source": [
    "# Our database with companies that left Russia in 2022"
   ]
  },
  {
   "cell_type": "markdown",
   "id": "65bf5d2c",
   "metadata": {},
   "source": [
    "### База Тиграна с Action, Tone + База старая с INT  + Spark"
   ]
  },
  {
   "cell_type": "code",
   "execution_count": 1,
   "id": "5e459caf",
   "metadata": {},
   "outputs": [],
   "source": [
    "import pandas as pd\n",
    "import matplotlib.pyplot as plt\n",
    "import numpy as np\n",
    "from kmodes.kprototypes import KPrototypes"
   ]
  },
  {
   "cell_type": "code",
   "execution_count": 2,
   "id": "72ec1267",
   "metadata": {},
   "outputs": [
    {
     "ename": "FileNotFoundError",
     "evalue": "[Errno 2] No such file or directory: 'database new.csv'",
     "output_type": "error",
     "traceback": [
      "\u001B[1;31m---------------------------------------------------------------------------\u001B[0m",
      "\u001B[1;31mFileNotFoundError\u001B[0m                         Traceback (most recent call last)",
      "Cell \u001B[1;32mIn[2], line 1\u001B[0m\n\u001B[1;32m----> 1\u001B[0m df_int \u001B[38;5;241m=\u001B[39m \u001B[43mpd\u001B[49m\u001B[38;5;241;43m.\u001B[39;49m\u001B[43mread_csv\u001B[49m\u001B[43m(\u001B[49m\u001B[38;5;124;43m\"\u001B[39;49m\u001B[38;5;124;43mdatabase new.csv\u001B[39;49m\u001B[38;5;124;43m\"\u001B[39;49m\u001B[43m)\u001B[49m\n\u001B[0;32m      2\u001B[0m df_actions_tone \u001B[38;5;241m=\u001B[39m pd\u001B[38;5;241m.\u001B[39mread_csv(\u001B[38;5;124m\"\u001B[39m\u001B[38;5;124mnew database with Actions.csv\u001B[39m\u001B[38;5;124m\"\u001B[39m)\n\u001B[0;32m      3\u001B[0m spark \u001B[38;5;241m=\u001B[39m pd\u001B[38;5;241m.\u001B[39mread_csv(\u001B[38;5;124m\"\u001B[39m\u001B[38;5;124mspark.csv\u001B[39m\u001B[38;5;124m\"\u001B[39m, delimiter\u001B[38;5;241m=\u001B[39m\u001B[38;5;124m'\u001B[39m\u001B[38;5;124m;\u001B[39m\u001B[38;5;124m'\u001B[39m)\n",
      "File \u001B[1;32m~\\miniconda3\\lib\\site-packages\\pandas\\util\\_decorators.py:211\u001B[0m, in \u001B[0;36mdeprecate_kwarg.<locals>._deprecate_kwarg.<locals>.wrapper\u001B[1;34m(*args, **kwargs)\u001B[0m\n\u001B[0;32m    209\u001B[0m     \u001B[38;5;28;01melse\u001B[39;00m:\n\u001B[0;32m    210\u001B[0m         kwargs[new_arg_name] \u001B[38;5;241m=\u001B[39m new_arg_value\n\u001B[1;32m--> 211\u001B[0m \u001B[38;5;28;01mreturn\u001B[39;00m func(\u001B[38;5;241m*\u001B[39margs, \u001B[38;5;241m*\u001B[39m\u001B[38;5;241m*\u001B[39mkwargs)\n",
      "File \u001B[1;32m~\\miniconda3\\lib\\site-packages\\pandas\\util\\_decorators.py:331\u001B[0m, in \u001B[0;36mdeprecate_nonkeyword_arguments.<locals>.decorate.<locals>.wrapper\u001B[1;34m(*args, **kwargs)\u001B[0m\n\u001B[0;32m    325\u001B[0m \u001B[38;5;28;01mif\u001B[39;00m \u001B[38;5;28mlen\u001B[39m(args) \u001B[38;5;241m>\u001B[39m num_allow_args:\n\u001B[0;32m    326\u001B[0m     warnings\u001B[38;5;241m.\u001B[39mwarn(\n\u001B[0;32m    327\u001B[0m         msg\u001B[38;5;241m.\u001B[39mformat(arguments\u001B[38;5;241m=\u001B[39m_format_argument_list(allow_args)),\n\u001B[0;32m    328\u001B[0m         \u001B[38;5;167;01mFutureWarning\u001B[39;00m,\n\u001B[0;32m    329\u001B[0m         stacklevel\u001B[38;5;241m=\u001B[39mfind_stack_level(),\n\u001B[0;32m    330\u001B[0m     )\n\u001B[1;32m--> 331\u001B[0m \u001B[38;5;28;01mreturn\u001B[39;00m func(\u001B[38;5;241m*\u001B[39margs, \u001B[38;5;241m*\u001B[39m\u001B[38;5;241m*\u001B[39mkwargs)\n",
      "File \u001B[1;32m~\\miniconda3\\lib\\site-packages\\pandas\\io\\parsers\\readers.py:950\u001B[0m, in \u001B[0;36mread_csv\u001B[1;34m(filepath_or_buffer, sep, delimiter, header, names, index_col, usecols, squeeze, prefix, mangle_dupe_cols, dtype, engine, converters, true_values, false_values, skipinitialspace, skiprows, skipfooter, nrows, na_values, keep_default_na, na_filter, verbose, skip_blank_lines, parse_dates, infer_datetime_format, keep_date_col, date_parser, dayfirst, cache_dates, iterator, chunksize, compression, thousands, decimal, lineterminator, quotechar, quoting, doublequote, escapechar, comment, encoding, encoding_errors, dialect, error_bad_lines, warn_bad_lines, on_bad_lines, delim_whitespace, low_memory, memory_map, float_precision, storage_options)\u001B[0m\n\u001B[0;32m    935\u001B[0m kwds_defaults \u001B[38;5;241m=\u001B[39m _refine_defaults_read(\n\u001B[0;32m    936\u001B[0m     dialect,\n\u001B[0;32m    937\u001B[0m     delimiter,\n\u001B[1;32m   (...)\u001B[0m\n\u001B[0;32m    946\u001B[0m     defaults\u001B[38;5;241m=\u001B[39m{\u001B[38;5;124m\"\u001B[39m\u001B[38;5;124mdelimiter\u001B[39m\u001B[38;5;124m\"\u001B[39m: \u001B[38;5;124m\"\u001B[39m\u001B[38;5;124m,\u001B[39m\u001B[38;5;124m\"\u001B[39m},\n\u001B[0;32m    947\u001B[0m )\n\u001B[0;32m    948\u001B[0m kwds\u001B[38;5;241m.\u001B[39mupdate(kwds_defaults)\n\u001B[1;32m--> 950\u001B[0m \u001B[38;5;28;01mreturn\u001B[39;00m \u001B[43m_read\u001B[49m\u001B[43m(\u001B[49m\u001B[43mfilepath_or_buffer\u001B[49m\u001B[43m,\u001B[49m\u001B[43m \u001B[49m\u001B[43mkwds\u001B[49m\u001B[43m)\u001B[49m\n",
      "File \u001B[1;32m~\\miniconda3\\lib\\site-packages\\pandas\\io\\parsers\\readers.py:605\u001B[0m, in \u001B[0;36m_read\u001B[1;34m(filepath_or_buffer, kwds)\u001B[0m\n\u001B[0;32m    602\u001B[0m _validate_names(kwds\u001B[38;5;241m.\u001B[39mget(\u001B[38;5;124m\"\u001B[39m\u001B[38;5;124mnames\u001B[39m\u001B[38;5;124m\"\u001B[39m, \u001B[38;5;28;01mNone\u001B[39;00m))\n\u001B[0;32m    604\u001B[0m \u001B[38;5;66;03m# Create the parser.\u001B[39;00m\n\u001B[1;32m--> 605\u001B[0m parser \u001B[38;5;241m=\u001B[39m TextFileReader(filepath_or_buffer, \u001B[38;5;241m*\u001B[39m\u001B[38;5;241m*\u001B[39mkwds)\n\u001B[0;32m    607\u001B[0m \u001B[38;5;28;01mif\u001B[39;00m chunksize \u001B[38;5;129;01mor\u001B[39;00m iterator:\n\u001B[0;32m    608\u001B[0m     \u001B[38;5;28;01mreturn\u001B[39;00m parser\n",
      "File \u001B[1;32m~\\miniconda3\\lib\\site-packages\\pandas\\io\\parsers\\readers.py:1442\u001B[0m, in \u001B[0;36mTextFileReader.__init__\u001B[1;34m(self, f, engine, **kwds)\u001B[0m\n\u001B[0;32m   1439\u001B[0m     \u001B[38;5;28mself\u001B[39m\u001B[38;5;241m.\u001B[39moptions[\u001B[38;5;124m\"\u001B[39m\u001B[38;5;124mhas_index_names\u001B[39m\u001B[38;5;124m\"\u001B[39m] \u001B[38;5;241m=\u001B[39m kwds[\u001B[38;5;124m\"\u001B[39m\u001B[38;5;124mhas_index_names\u001B[39m\u001B[38;5;124m\"\u001B[39m]\n\u001B[0;32m   1441\u001B[0m \u001B[38;5;28mself\u001B[39m\u001B[38;5;241m.\u001B[39mhandles: IOHandles \u001B[38;5;241m|\u001B[39m \u001B[38;5;28;01mNone\u001B[39;00m \u001B[38;5;241m=\u001B[39m \u001B[38;5;28;01mNone\u001B[39;00m\n\u001B[1;32m-> 1442\u001B[0m \u001B[38;5;28mself\u001B[39m\u001B[38;5;241m.\u001B[39m_engine \u001B[38;5;241m=\u001B[39m \u001B[38;5;28;43mself\u001B[39;49m\u001B[38;5;241;43m.\u001B[39;49m\u001B[43m_make_engine\u001B[49m\u001B[43m(\u001B[49m\u001B[43mf\u001B[49m\u001B[43m,\u001B[49m\u001B[43m \u001B[49m\u001B[38;5;28;43mself\u001B[39;49m\u001B[38;5;241;43m.\u001B[39;49m\u001B[43mengine\u001B[49m\u001B[43m)\u001B[49m\n",
      "File \u001B[1;32m~\\miniconda3\\lib\\site-packages\\pandas\\io\\parsers\\readers.py:1735\u001B[0m, in \u001B[0;36mTextFileReader._make_engine\u001B[1;34m(self, f, engine)\u001B[0m\n\u001B[0;32m   1733\u001B[0m     \u001B[38;5;28;01mif\u001B[39;00m \u001B[38;5;124m\"\u001B[39m\u001B[38;5;124mb\u001B[39m\u001B[38;5;124m\"\u001B[39m \u001B[38;5;129;01mnot\u001B[39;00m \u001B[38;5;129;01min\u001B[39;00m mode:\n\u001B[0;32m   1734\u001B[0m         mode \u001B[38;5;241m+\u001B[39m\u001B[38;5;241m=\u001B[39m \u001B[38;5;124m\"\u001B[39m\u001B[38;5;124mb\u001B[39m\u001B[38;5;124m\"\u001B[39m\n\u001B[1;32m-> 1735\u001B[0m \u001B[38;5;28mself\u001B[39m\u001B[38;5;241m.\u001B[39mhandles \u001B[38;5;241m=\u001B[39m \u001B[43mget_handle\u001B[49m\u001B[43m(\u001B[49m\n\u001B[0;32m   1736\u001B[0m \u001B[43m    \u001B[49m\u001B[43mf\u001B[49m\u001B[43m,\u001B[49m\n\u001B[0;32m   1737\u001B[0m \u001B[43m    \u001B[49m\u001B[43mmode\u001B[49m\u001B[43m,\u001B[49m\n\u001B[0;32m   1738\u001B[0m \u001B[43m    \u001B[49m\u001B[43mencoding\u001B[49m\u001B[38;5;241;43m=\u001B[39;49m\u001B[38;5;28;43mself\u001B[39;49m\u001B[38;5;241;43m.\u001B[39;49m\u001B[43moptions\u001B[49m\u001B[38;5;241;43m.\u001B[39;49m\u001B[43mget\u001B[49m\u001B[43m(\u001B[49m\u001B[38;5;124;43m\"\u001B[39;49m\u001B[38;5;124;43mencoding\u001B[39;49m\u001B[38;5;124;43m\"\u001B[39;49m\u001B[43m,\u001B[49m\u001B[43m \u001B[49m\u001B[38;5;28;43;01mNone\u001B[39;49;00m\u001B[43m)\u001B[49m\u001B[43m,\u001B[49m\n\u001B[0;32m   1739\u001B[0m \u001B[43m    \u001B[49m\u001B[43mcompression\u001B[49m\u001B[38;5;241;43m=\u001B[39;49m\u001B[38;5;28;43mself\u001B[39;49m\u001B[38;5;241;43m.\u001B[39;49m\u001B[43moptions\u001B[49m\u001B[38;5;241;43m.\u001B[39;49m\u001B[43mget\u001B[49m\u001B[43m(\u001B[49m\u001B[38;5;124;43m\"\u001B[39;49m\u001B[38;5;124;43mcompression\u001B[39;49m\u001B[38;5;124;43m\"\u001B[39;49m\u001B[43m,\u001B[49m\u001B[43m \u001B[49m\u001B[38;5;28;43;01mNone\u001B[39;49;00m\u001B[43m)\u001B[49m\u001B[43m,\u001B[49m\n\u001B[0;32m   1740\u001B[0m \u001B[43m    \u001B[49m\u001B[43mmemory_map\u001B[49m\u001B[38;5;241;43m=\u001B[39;49m\u001B[38;5;28;43mself\u001B[39;49m\u001B[38;5;241;43m.\u001B[39;49m\u001B[43moptions\u001B[49m\u001B[38;5;241;43m.\u001B[39;49m\u001B[43mget\u001B[49m\u001B[43m(\u001B[49m\u001B[38;5;124;43m\"\u001B[39;49m\u001B[38;5;124;43mmemory_map\u001B[39;49m\u001B[38;5;124;43m\"\u001B[39;49m\u001B[43m,\u001B[49m\u001B[43m \u001B[49m\u001B[38;5;28;43;01mFalse\u001B[39;49;00m\u001B[43m)\u001B[49m\u001B[43m,\u001B[49m\n\u001B[0;32m   1741\u001B[0m \u001B[43m    \u001B[49m\u001B[43mis_text\u001B[49m\u001B[38;5;241;43m=\u001B[39;49m\u001B[43mis_text\u001B[49m\u001B[43m,\u001B[49m\n\u001B[0;32m   1742\u001B[0m \u001B[43m    \u001B[49m\u001B[43merrors\u001B[49m\u001B[38;5;241;43m=\u001B[39;49m\u001B[38;5;28;43mself\u001B[39;49m\u001B[38;5;241;43m.\u001B[39;49m\u001B[43moptions\u001B[49m\u001B[38;5;241;43m.\u001B[39;49m\u001B[43mget\u001B[49m\u001B[43m(\u001B[49m\u001B[38;5;124;43m\"\u001B[39;49m\u001B[38;5;124;43mencoding_errors\u001B[39;49m\u001B[38;5;124;43m\"\u001B[39;49m\u001B[43m,\u001B[49m\u001B[43m \u001B[49m\u001B[38;5;124;43m\"\u001B[39;49m\u001B[38;5;124;43mstrict\u001B[39;49m\u001B[38;5;124;43m\"\u001B[39;49m\u001B[43m)\u001B[49m\u001B[43m,\u001B[49m\n\u001B[0;32m   1743\u001B[0m \u001B[43m    \u001B[49m\u001B[43mstorage_options\u001B[49m\u001B[38;5;241;43m=\u001B[39;49m\u001B[38;5;28;43mself\u001B[39;49m\u001B[38;5;241;43m.\u001B[39;49m\u001B[43moptions\u001B[49m\u001B[38;5;241;43m.\u001B[39;49m\u001B[43mget\u001B[49m\u001B[43m(\u001B[49m\u001B[38;5;124;43m\"\u001B[39;49m\u001B[38;5;124;43mstorage_options\u001B[39;49m\u001B[38;5;124;43m\"\u001B[39;49m\u001B[43m,\u001B[49m\u001B[43m \u001B[49m\u001B[38;5;28;43;01mNone\u001B[39;49;00m\u001B[43m)\u001B[49m\u001B[43m,\u001B[49m\n\u001B[0;32m   1744\u001B[0m \u001B[43m\u001B[49m\u001B[43m)\u001B[49m\n\u001B[0;32m   1745\u001B[0m \u001B[38;5;28;01massert\u001B[39;00m \u001B[38;5;28mself\u001B[39m\u001B[38;5;241m.\u001B[39mhandles \u001B[38;5;129;01mis\u001B[39;00m \u001B[38;5;129;01mnot\u001B[39;00m \u001B[38;5;28;01mNone\u001B[39;00m\n\u001B[0;32m   1746\u001B[0m f \u001B[38;5;241m=\u001B[39m \u001B[38;5;28mself\u001B[39m\u001B[38;5;241m.\u001B[39mhandles\u001B[38;5;241m.\u001B[39mhandle\n",
      "File \u001B[1;32m~\\miniconda3\\lib\\site-packages\\pandas\\io\\common.py:856\u001B[0m, in \u001B[0;36mget_handle\u001B[1;34m(path_or_buf, mode, encoding, compression, memory_map, is_text, errors, storage_options)\u001B[0m\n\u001B[0;32m    851\u001B[0m \u001B[38;5;28;01melif\u001B[39;00m \u001B[38;5;28misinstance\u001B[39m(handle, \u001B[38;5;28mstr\u001B[39m):\n\u001B[0;32m    852\u001B[0m     \u001B[38;5;66;03m# Check whether the filename is to be opened in binary mode.\u001B[39;00m\n\u001B[0;32m    853\u001B[0m     \u001B[38;5;66;03m# Binary mode does not support 'encoding' and 'newline'.\u001B[39;00m\n\u001B[0;32m    854\u001B[0m     \u001B[38;5;28;01mif\u001B[39;00m ioargs\u001B[38;5;241m.\u001B[39mencoding \u001B[38;5;129;01mand\u001B[39;00m \u001B[38;5;124m\"\u001B[39m\u001B[38;5;124mb\u001B[39m\u001B[38;5;124m\"\u001B[39m \u001B[38;5;129;01mnot\u001B[39;00m \u001B[38;5;129;01min\u001B[39;00m ioargs\u001B[38;5;241m.\u001B[39mmode:\n\u001B[0;32m    855\u001B[0m         \u001B[38;5;66;03m# Encoding\u001B[39;00m\n\u001B[1;32m--> 856\u001B[0m         handle \u001B[38;5;241m=\u001B[39m \u001B[38;5;28;43mopen\u001B[39;49m\u001B[43m(\u001B[49m\n\u001B[0;32m    857\u001B[0m \u001B[43m            \u001B[49m\u001B[43mhandle\u001B[49m\u001B[43m,\u001B[49m\n\u001B[0;32m    858\u001B[0m \u001B[43m            \u001B[49m\u001B[43mioargs\u001B[49m\u001B[38;5;241;43m.\u001B[39;49m\u001B[43mmode\u001B[49m\u001B[43m,\u001B[49m\n\u001B[0;32m    859\u001B[0m \u001B[43m            \u001B[49m\u001B[43mencoding\u001B[49m\u001B[38;5;241;43m=\u001B[39;49m\u001B[43mioargs\u001B[49m\u001B[38;5;241;43m.\u001B[39;49m\u001B[43mencoding\u001B[49m\u001B[43m,\u001B[49m\n\u001B[0;32m    860\u001B[0m \u001B[43m            \u001B[49m\u001B[43merrors\u001B[49m\u001B[38;5;241;43m=\u001B[39;49m\u001B[43merrors\u001B[49m\u001B[43m,\u001B[49m\n\u001B[0;32m    861\u001B[0m \u001B[43m            \u001B[49m\u001B[43mnewline\u001B[49m\u001B[38;5;241;43m=\u001B[39;49m\u001B[38;5;124;43m\"\u001B[39;49m\u001B[38;5;124;43m\"\u001B[39;49m\u001B[43m,\u001B[49m\n\u001B[0;32m    862\u001B[0m \u001B[43m        \u001B[49m\u001B[43m)\u001B[49m\n\u001B[0;32m    863\u001B[0m     \u001B[38;5;28;01melse\u001B[39;00m:\n\u001B[0;32m    864\u001B[0m         \u001B[38;5;66;03m# Binary mode\u001B[39;00m\n\u001B[0;32m    865\u001B[0m         handle \u001B[38;5;241m=\u001B[39m \u001B[38;5;28mopen\u001B[39m(handle, ioargs\u001B[38;5;241m.\u001B[39mmode)\n",
      "\u001B[1;31mFileNotFoundError\u001B[0m: [Errno 2] No such file or directory: 'database new.csv'"
     ]
    }
   ],
   "source": [
    "df_int = pd.read_csv(\"database new.csv\")\n",
    "df_actions_tone = pd.read_csv(\"new database with Actions.csv\")\n",
    "spark = pd.read_csv(\"spark.csv\", delimiter=';')"
   ]
  },
  {
   "cell_type": "code",
   "execution_count": null,
   "id": "2a096064",
   "metadata": {},
   "outputs": [],
   "source": [
    "df_int.shape"
   ]
  },
  {
   "cell_type": "code",
   "execution_count": null,
   "id": "9ca8f579",
   "metadata": {},
   "outputs": [],
   "source": [
    "print(\" \\nCount total NaN at each column in a DataFrame : \\n\\n\", df_int.isnull().sum())"
   ]
  },
  {
   "cell_type": "code",
   "execution_count": null,
   "id": "a47857bf",
   "metadata": {},
   "outputs": [],
   "source": [
    "df_actions_tone.shape"
   ]
  },
  {
   "cell_type": "code",
   "execution_count": null,
   "id": "6e22f83f",
   "metadata": {
    "scrolled": true
   },
   "outputs": [],
   "source": [
    "df_actions_tone = df_actions_tone.drop('Unnamed: 0', axis = 1)\n",
    "df_actions_tone = df_actions_tone.rename(columns = {'tone': 'Tone'})\n",
    "df_actions_tone = df_actions_tone.sort_values(by='Company')\n",
    "df_actions_tone = df_actions_tone.reset_index(drop=True)\n",
    "df_actions_tone.head(1)"
   ]
  },
  {
   "cell_type": "code",
   "execution_count": null,
   "id": "454f95a1",
   "metadata": {},
   "outputs": [],
   "source": [
    "# Define a dictionary to map the numbers to their corresponding labels\n",
    "label_mapping = {0: 'leaved', 1: 'continue', 2: 'paused'}\n",
    "\n",
    "# Replace the numbers in the specified column with the labels\n",
    "df_actions_tone['Tone'] = df_actions_tone['Tone'].map(label_mapping)"
   ]
  },
  {
   "cell_type": "code",
   "execution_count": null,
   "id": "f2ab88b7",
   "metadata": {},
   "outputs": [],
   "source": [
    "df_actions_tone.head(10)"
   ]
  },
  {
   "cell_type": "code",
   "execution_count": null,
   "id": "0551bc1e",
   "metadata": {},
   "outputs": [],
   "source": [
    "df_int = df_int.rename(columns={'i': 'Company'})\n",
    "df_int = df_int.rename(columns={'ИНН': 'INT'})\n",
    "df_int = df_int.sort_values(by='Company')\n",
    "df_int = df_int.reset_index(drop=True)\n",
    "df_int.head(1)"
   ]
  },
  {
   "cell_type": "code",
   "execution_count": null,
   "id": "d885e399",
   "metadata": {},
   "outputs": [],
   "source": [
    "df1 = df_actions_tone.copy()\n",
    "df2 = df_int.copy()\n",
    "\n",
    "# Merge the two datasets based on the \"Company\" column\n",
    "data = pd.merge(df1, df2, on='Company')\n",
    "data.head(1)"
   ]
  },
  {
   "cell_type": "code",
   "execution_count": null,
   "id": "63c517fc",
   "metadata": {},
   "outputs": [],
   "source": [
    "# Select the desired columns\n",
    "desired_columns = ['Company', 'Action_x', 'Industry_x', 'Country_x', 'Tone', 'INT']\n",
    "data = data[desired_columns]\n",
    "data.head(1)"
   ]
  },
  {
   "cell_type": "code",
   "execution_count": null,
   "id": "ba4d5251",
   "metadata": {},
   "outputs": [],
   "source": [
    "# Rename the columns\n",
    "data.columns = ['Company', 'Action', 'Industry', 'Country', 'Tone', 'INT']"
   ]
  },
  {
   "cell_type": "code",
   "execution_count": null,
   "id": "c46c44fb",
   "metadata": {},
   "outputs": [],
   "source": [
    "data"
   ]
  },
  {
   "cell_type": "markdown",
   "id": "7ec056a9",
   "metadata": {},
   "source": [
    "# Spark database"
   ]
  },
  {
   "cell_type": "code",
   "execution_count": null,
   "id": "cc9754b9",
   "metadata": {},
   "outputs": [],
   "source": [
    "spark.head()"
   ]
  },
  {
   "cell_type": "code",
   "execution_count": null,
   "id": "c9fde0dc",
   "metadata": {},
   "outputs": [],
   "source": [
    "spark.shape"
   ]
  },
  {
   "cell_type": "markdown",
   "id": "ab95f9fc",
   "metadata": {},
   "source": [
    "<span style=\"font-size: 17px;\"> Delete all unnecessary columns"
   ]
  },
  {
   "cell_type": "code",
   "execution_count": null,
   "id": "60e149b8",
   "metadata": {},
   "outputs": [],
   "source": [
    "columns_to_drop = ['№', 'Наименование', 'Регистрационный номер', 'Краткое наименование', 'Дата регистрации']\n",
    "spark = spark.drop(columns_to_drop, axis=1)"
   ]
  },
  {
   "cell_type": "code",
   "execution_count": null,
   "id": "dd8eecc6",
   "metadata": {},
   "outputs": [],
   "source": [
    "print(spark.columns)"
   ]
  },
  {
   "cell_type": "markdown",
   "id": "c8983b54",
   "metadata": {},
   "source": [
    "<span style=\"font-size: 17px;\"> Rename columns 'Наименование на английском' and 'Код налогоплательщика' to 'Company' and 'INT'"
   ]
  },
  {
   "cell_type": "code",
   "execution_count": null,
   "id": "57866a72",
   "metadata": {},
   "outputs": [],
   "source": [
    "spark = spark.rename(columns={\"Наименование на английском\": \"Company\"})\n",
    "spark = spark.rename(columns={\"Код налогоплательщика\": \"INT\"})\n",
    "# spark['Company'] = spark['Company'].str.lower()"
   ]
  },
  {
   "cell_type": "code",
   "execution_count": null,
   "id": "c8f381b3",
   "metadata": {},
   "outputs": [],
   "source": [
    "spark.head(1)"
   ]
  },
  {
   "cell_type": "markdown",
   "id": "249ec4f4",
   "metadata": {},
   "source": [
    "# Merging two databases into one"
   ]
  },
  {
   "cell_type": "code",
   "execution_count": null,
   "id": "9411e42f",
   "metadata": {},
   "outputs": [],
   "source": [
    "df_merged = data.merge(spark, on='INT')"
   ]
  },
  {
   "cell_type": "code",
   "execution_count": null,
   "id": "66a2de7a",
   "metadata": {},
   "outputs": [],
   "source": [
    "df_merged.head()"
   ]
  },
  {
   "cell_type": "code",
   "execution_count": null,
   "id": "78128d00",
   "metadata": {},
   "outputs": [],
   "source": [
    "df_merged = df_merged.rename(columns={\"Company_y\": \"Company\"})\n",
    "\n",
    "df_merged = df_merged.drop({'Company_x', 'INT', \n",
    "                          '2017, Среднесписочная численность работников', \n",
    "                          '2018, Среднесписочная численность работников', \n",
    "                          '2019, Среднесписочная численность работников',\n",
    "                          '2020, Среднесписочная численность работников', \n",
    "                          '2021, Среднесписочная численность работников',\n",
    "                          'Мои списки'}, axis=1)"
   ]
  },
  {
   "cell_type": "code",
   "execution_count": null,
   "id": "f730f02f",
   "metadata": {},
   "outputs": [],
   "source": [
    "df_merged = df_merged[['Company', 'Industry', 'Country', 'Action', 'Tone', 'Возраст компании, лет',\n",
    "       'Вид деятельности/отрасль', 'Организационно-правовая форма',\n",
    "       'Форма собственности', 'Размер компании', '2017, Выручка, RUB',\n",
    "       '2018, Выручка, RUB', '2019, Выручка, RUB', '2020, Выручка, RUB',\n",
    "       '2021, Выручка, RUB', '2017, Прибыль (убыток) до налогообложения , RUB',\n",
    "       '2018, Прибыль (убыток) до налогообложения , RUB',\n",
    "       '2019, Прибыль (убыток) до налогообложения , RUB',\n",
    "       '2020, Прибыль (убыток) до налогообложения , RUB',\n",
    "       '2021, Прибыль (убыток) до налогообложения , RUB']]"
   ]
  },
  {
   "cell_type": "code",
   "execution_count": null,
   "id": "ae092608",
   "metadata": {},
   "outputs": [],
   "source": [
    "df_merged.head()"
   ]
  },
  {
   "cell_type": "code",
   "execution_count": null,
   "id": "a6e2a2c2",
   "metadata": {},
   "outputs": [],
   "source": [
    "database = df_merged.copy()"
   ]
  },
  {
   "cell_type": "markdown",
   "id": "2e7223a8",
   "metadata": {},
   "source": [
    "<span style=\"font-size: 17px;\"> The column 'Возраст компании, лет' is of string datatype. To make it float datatype, we replace , with . "
   ]
  },
  {
   "cell_type": "code",
   "execution_count": null,
   "id": "87bbc613",
   "metadata": {},
   "outputs": [],
   "source": [
    "if database['Возраст компании, лет'].dtype == object:\n",
    "        # Replace commas with periods in the column\n",
    "        database['Возраст компании, лет'] = database['Возраст компании, лет'].str.replace(',', '.')\n",
    "database['Возраст компании, лет'] = database['Возраст компании, лет'].astype(float)"
   ]
  },
  {
   "cell_type": "markdown",
   "id": "647fd38f",
   "metadata": {},
   "source": [
    "<span style=\"font-size: 17px;\"> Some columns has big number with spaces, therefore they are of a string type.  To make them float datatype, we delete all unnecassary spaces"
   ]
  },
  {
   "cell_type": "code",
   "execution_count": null,
   "id": "129873c4",
   "metadata": {},
   "outputs": [],
   "source": [
    "database['2017, Выручка, RUB'] = database['2017, Выручка, RUB'].str.replace(' ', '').astype(float)\n",
    "database['2018, Выручка, RUB'] = database['2018, Выручка, RUB'].str.replace(' ', '').astype(float)\n",
    "database['2019, Выручка, RUB'] = database['2019, Выручка, RUB'].str.replace(' ', '').astype(float)\n",
    "database['2020, Выручка, RUB'] = database['2020, Выручка, RUB'].str.replace(' ', '').astype(float)\n",
    "database['2021, Выручка, RUB'] = database['2021, Выручка, RUB'].str.replace(' ', '').astype(float)\n",
    "database['2017, Прибыль (убыток) до налогообложения , RUB'] = database['2017, Прибыль (убыток) до налогообложения , RUB'].str.replace(' ', '').astype(float)\n",
    "database['2018, Прибыль (убыток) до налогообложения , RUB'] = database['2018, Прибыль (убыток) до налогообложения , RUB'].str.replace(' ', '').astype(float)\n",
    "database['2019, Прибыль (убыток) до налогообложения , RUB'] = database['2019, Прибыль (убыток) до налогообложения , RUB'].str.replace(' ', '').astype(float)\n",
    "database['2020, Прибыль (убыток) до налогообложения , RUB'] = database['2020, Прибыль (убыток) до налогообложения , RUB'].str.replace(' ', '').astype(float)\n",
    "database['2021, Прибыль (убыток) до налогообложения , RUB'] = database['2021, Прибыль (убыток) до налогообложения , RUB'].str.replace(' ', '').astype(float)"
   ]
  },
  {
   "cell_type": "code",
   "execution_count": null,
   "id": "a85cb0eb",
   "metadata": {},
   "outputs": [],
   "source": [
    "database.head(5)"
   ]
  },
  {
   "cell_type": "code",
   "execution_count": null,
   "id": "7e038f0d",
   "metadata": {},
   "outputs": [],
   "source": [
    "database.shape"
   ]
  },
  {
   "cell_type": "markdown",
   "id": "19dc4436",
   "metadata": {},
   "source": [
    "# Handling missing values"
   ]
  },
  {
   "cell_type": "markdown",
   "id": "e55d47ef",
   "metadata": {},
   "source": [
    "# Сделать прибыль и выручку из средних за все года"
   ]
  },
  {
   "cell_type": "markdown",
   "id": "81468bc2",
   "metadata": {},
   "source": [
    "<span style=\"font-size: 17px;\"> Count total NaN at each column in a database"
   ]
  },
  {
   "cell_type": "code",
   "execution_count": null,
   "id": "359720f5",
   "metadata": {},
   "outputs": [],
   "source": [
    "print(\" \\nCount total NaN at each column in a DataFrame : \\n\\n\", database.isnull().sum())"
   ]
  },
  {
   "cell_type": "markdown",
   "id": "2da0e24d",
   "metadata": {},
   "source": [
    "<span style=\"font-size: 17px;\"> Visualize missing values in dataset"
   ]
  },
  {
   "cell_type": "code",
   "execution_count": null,
   "id": "fac7edc2",
   "metadata": {
    "scrolled": true
   },
   "outputs": [],
   "source": [
    "pip install missingno"
   ]
  },
  {
   "cell_type": "markdown",
   "id": "a0229d48",
   "metadata": {},
   "source": [
    "<span style=\"font-size: 17px;\"> Visualize the number of missing values as a bar chart"
   ]
  },
  {
   "cell_type": "code",
   "execution_count": null,
   "id": "8c083aae",
   "metadata": {
    "tags": []
   },
   "outputs": [],
   "source": [
    "import missingno as msno\n",
    "msno.bar(database)"
   ]
  },
  {
   "cell_type": "markdown",
   "id": "ac053fde",
   "metadata": {},
   "source": [
    "<span style=\"font-size: 17px;\"> Visualize the correlation between the number of missing values in different columns as a heatmap.\n",
    "\n",
    "<span style=\"font-size: 17px;\"> As we see below, there is a diagonal with values 0.9, which means that profit and insome highly correlates in terms of null values (if profit value is present, then income value is likely to be present too)"
   ]
  },
  {
   "cell_type": "code",
   "execution_count": null,
   "id": "af094edd",
   "metadata": {
    "tags": []
   },
   "outputs": [],
   "source": [
    "msno.heatmap(database)"
   ]
  },
  {
   "cell_type": "markdown",
   "id": "726c82b4",
   "metadata": {},
   "source": [
    "# Here we have to fill NaN values of proft with mean !!!!!"
   ]
  },
  {
   "cell_type": "markdown",
   "id": "372bf90e",
   "metadata": {},
   "source": [
    "<span style=\"font-size: 17px;\"> Delete all rows where more than 6 NaN values exist"
   ]
  },
  {
   "cell_type": "code",
   "execution_count": null,
   "id": "4121d8fb",
   "metadata": {},
   "outputs": [],
   "source": [
    "database.dropna(thresh=database.shape[1] - 6, inplace=True)"
   ]
  },
  {
   "cell_type": "code",
   "execution_count": null,
   "id": "6f501723",
   "metadata": {},
   "outputs": [],
   "source": [
    "print(\" \\nCount total NaN at each column in a DataFrame : \\n\\n\", database.isnull().sum())"
   ]
  },
  {
   "cell_type": "code",
   "execution_count": null,
   "id": "e74f8698",
   "metadata": {},
   "outputs": [],
   "source": [
    "database.shape"
   ]
  },
  {
   "cell_type": "markdown",
   "id": "bec7455c",
   "metadata": {},
   "source": [
    "<span style=\"font-size: 17px;\"> Delete all rows where Nan values exist"
   ]
  },
  {
   "cell_type": "code",
   "execution_count": null,
   "id": "140f80ba",
   "metadata": {},
   "outputs": [],
   "source": [
    "database['Mean Revenue'] = database[['2017, Выручка, RUB', '2018, Выручка, RUB', '2019, Выручка, RUB', '2020, Выручка, RUB', '2021, Выручка, RUB']].mean(axis=1)"
   ]
  },
  {
   "cell_type": "code",
   "execution_count": null,
   "id": "d3c34d8a",
   "metadata": {},
   "outputs": [],
   "source": [
    "database.dropna(subset=['Mean Revenue'], inplace=True)\n",
    "database.drop(['2017, Выручка, RUB', '2018, Выручка, RUB', '2019, Выручка, RUB', '2020, Выручка, RUB', '2021, Выручка, RUB'], axis=1, inplace=True)\n"
   ]
  },
  {
   "cell_type": "code",
   "execution_count": null,
   "id": "1c4511ff",
   "metadata": {},
   "outputs": [],
   "source": [
    "database.head()"
   ]
  },
  {
   "cell_type": "code",
   "execution_count": null,
   "id": "db70ecec",
   "metadata": {},
   "outputs": [],
   "source": [
    "database.shape"
   ]
  },
  {
   "cell_type": "code",
   "execution_count": null,
   "id": "40d758dc",
   "metadata": {},
   "outputs": [],
   "source": [
    "print(\" \\nCount total NaN at each column in a DataFrame : \\n\\n\", database.isnull().sum())"
   ]
  },
  {
   "cell_type": "code",
   "execution_count": null,
   "id": "c829d240",
   "metadata": {},
   "outputs": [],
   "source": [
    "database['Mean Profit'] = database[['2017, Прибыль (убыток) до налогообложения , RUB', '2018, Прибыль (убыток) до налогообложения , RUB', '2019, Прибыль (убыток) до налогообложения , RUB', '2020, Прибыль (убыток) до налогообложения , RUB', '2021, Прибыль (убыток) до налогообложения , RUB']].mean(axis=1)"
   ]
  },
  {
   "cell_type": "code",
   "execution_count": null,
   "id": "efc9d565",
   "metadata": {},
   "outputs": [],
   "source": [
    "database.dropna(subset=['Mean Revenue'], inplace=True)\n",
    "database.drop(['2017, Прибыль (убыток) до налогообложения , RUB', '2018, Прибыль (убыток) до налогообложения , RUB', '2019, Прибыль (убыток) до налогообложения , RUB', '2020, Прибыль (убыток) до налогообложения , RUB', '2021, Прибыль (убыток) до налогообложения , RUB'], axis=1, inplace=True)"
   ]
  },
  {
   "cell_type": "code",
   "execution_count": null,
   "id": "ed1f8e0c",
   "metadata": {},
   "outputs": [],
   "source": [
    "database.head()"
   ]
  },
  {
   "cell_type": "code",
   "execution_count": null,
   "id": "b7fd1d2d",
   "metadata": {},
   "outputs": [],
   "source": [
    "database.shape"
   ]
  },
  {
   "cell_type": "code",
   "execution_count": null,
   "id": "a4814827",
   "metadata": {},
   "outputs": [],
   "source": [
    "print(\" \\nCount total NaN at each column in a DataFrame : \\n\\n\", database.isnull().sum())"
   ]
  },
  {
   "cell_type": "code",
   "execution_count": null,
   "id": "5f68737b",
   "metadata": {},
   "outputs": [],
   "source": [
    "database.dropna(inplace=True)"
   ]
  },
  {
   "cell_type": "code",
   "execution_count": null,
   "id": "b189a56b",
   "metadata": {},
   "outputs": [],
   "source": [
    "print(\" \\nCount total NaN at each column in a DataFrame : \\n\\n\", database.isnull().sum())"
   ]
  },
  {
   "cell_type": "code",
   "execution_count": null,
   "id": "4a29385b",
   "metadata": {},
   "outputs": [],
   "source": [
    "database.shape"
   ]
  },
  {
   "cell_type": "code",
   "execution_count": null,
   "id": "d0c15948",
   "metadata": {},
   "outputs": [],
   "source": [
    "database.describe()"
   ]
  },
  {
   "cell_type": "code",
   "execution_count": null,
   "id": "8e01401d",
   "metadata": {},
   "outputs": [],
   "source": [
    "database.corr()"
   ]
  },
  {
   "cell_type": "markdown",
   "id": "98c45a86",
   "metadata": {},
   "source": [
    "<span style=\"font-size: 17px;\">  Now our dataset has no NaN values and we can start clustarisation"
   ]
  },
  {
   "cell_type": "markdown",
   "id": "43bf5fa5",
   "metadata": {},
   "source": [
    "# Clusterisation (k-prototypes)"
   ]
  },
  {
   "cell_type": "markdown",
   "id": "eb690951",
   "metadata": {},
   "source": [
    "Если мы оставляем колонку 'Mean Profit', то получается 1 кластер"
   ]
  },
  {
   "cell_type": "markdown",
   "id": "0e751d35",
   "metadata": {},
   "source": [
    "Если мы удаляем колонку 'Mean Revenue' and 'Mean Profit', то получается 2 кластера: \n",
    "0 : 326 и 1 : 218"
   ]
  },
  {
   "cell_type": "code",
   "execution_count": null,
   "id": "44fc6da1",
   "metadata": {},
   "outputs": [],
   "source": [
    "database2 = database.copy()\n",
    "database2 = database2.drop({'Company', 'Action', 'Вид деятельности/отрасль','Организационно-правовая форма'} , axis = 1)\n",
    "# database2 = database2.drop({'Company', 'Action','Вид деятельности/отрасль', 'Организационно-правовая форма','Форма собственности'} , axis = 1)"
   ]
  },
  {
   "cell_type": "code",
   "execution_count": null,
   "id": "340e5a5a",
   "metadata": {
    "scrolled": true
   },
   "outputs": [],
   "source": [
    "database2.head(5)"
   ]
  },
  {
   "cell_type": "code",
   "execution_count": null,
   "id": "456ac77f",
   "metadata": {},
   "outputs": [],
   "source": [
    "pip install kmodes"
   ]
  },
  {
   "cell_type": "code",
   "execution_count": null,
   "id": "b8b4e6a6",
   "metadata": {},
   "outputs": [],
   "source": [
    "mark_array=database2.values"
   ]
  },
  {
   "cell_type": "markdown",
   "id": "d4d735fc",
   "metadata": {},
   "source": [
    "<span style=\"font-size: 17px;\"> Mark columns that has float datatypes"
   ]
  },
  {
   "cell_type": "code",
   "execution_count": null,
   "id": "88abf0d9",
   "metadata": {},
   "outputs": [],
   "source": [
    "mark_array[:, 3] = mark_array[:, 3].astype(float)\n",
    "# mark_array[:, 5] = mark_array[:, 5].astype(float)\n",
    "# mark_array[:, 6] = mark_array[:, 6].astype(float)\n",
    "# mark_array[:, 8] = mark_array[:, 8].astype(float)\n",
    "# mark_array[:, 9] = mark_array[:, 9].astype(float)"
   ]
  },
  {
   "cell_type": "code",
   "execution_count": null,
   "id": "a398868b",
   "metadata": {},
   "outputs": [],
   "source": [
    "mark_array"
   ]
  },
  {
   "cell_type": "markdown",
   "id": "2b4cf495",
   "metadata": {},
   "source": [
    "<span style=\"font-size: 17px;\"> Get the position of categorical columns"
   ]
  },
  {
   "cell_type": "code",
   "execution_count": null,
   "id": "7514aefa",
   "metadata": {},
   "outputs": [],
   "source": [
    "catColumnsPos = [database2.columns.get_loc(col) for col in list(database2.select_dtypes('object').columns)]\n",
    "\n",
    "print('Categorical columns           : {}'.format(list(database2.select_dtypes('object').columns)))\n",
    "print('Categorical columns position  : {}'.format(catColumnsPos))"
   ]
  },
  {
   "cell_type": "code",
   "execution_count": null,
   "id": "90a963c2",
   "metadata": {},
   "outputs": [],
   "source": [
    "# Convert dataframe to matrix\n",
    "dfMatrix = database2.to_numpy()"
   ]
  },
  {
   "cell_type": "code",
   "execution_count": null,
   "id": "4afd95cb",
   "metadata": {},
   "outputs": [],
   "source": [
    "dfMatrix "
   ]
  },
  {
   "cell_type": "code",
   "execution_count": null,
   "id": "0af2bf65",
   "metadata": {},
   "outputs": [],
   "source": [
    "print(\" \\nCount total NaN at each column in a DataFrame : \\n\\n\", database2.isnull().sum())"
   ]
  },
  {
   "cell_type": "markdown",
   "id": "5ec5ed31",
   "metadata": {},
   "source": [
    "<span style=\"font-size: 17px;\"> Elbow method to detect number of clusters K"
   ]
  },
  {
   "cell_type": "code",
   "execution_count": null,
   "id": "5ecf9ec3",
   "metadata": {},
   "outputs": [],
   "source": [
    "from kmodes.kprototypes import KPrototypes\n",
    "\n",
    "cost = []\n",
    "for cluster in range(1, 10):\n",
    "    try:\n",
    "        kprototype = KPrototypes(n_jobs = -1, n_clusters = cluster, init = 'Huang', random_state = 0)\n",
    "        kprototype.fit_predict(database2, categorical = catColumnsPos)\n",
    "        cost.append(kprototype.cost_)\n",
    "        print('Cluster initiation: {}'.format(cluster))\n",
    "    except:\n",
    "        break\n",
    "\n",
    "plt.plot(cost)\n",
    "plt.xlabel('K')\n",
    "plt.ylabel('cost')\n",
    "plt.show"
   ]
  },
  {
   "cell_type": "code",
   "execution_count": null,
   "id": "6d52ef4a",
   "metadata": {},
   "outputs": [],
   "source": []
  },
  {
   "cell_type": "code",
   "execution_count": null,
   "id": "a1450fc7",
   "metadata": {},
   "outputs": [],
   "source": [
    "cost"
   ]
  },
  {
   "cell_type": "code",
   "execution_count": null,
   "id": "ba3de5fb",
   "metadata": {
    "tags": []
   },
   "outputs": [],
   "source": [
    "kproto = KPrototypes(n_clusters=2, verbose=2,max_iter=30)\n",
    "clusters = kproto.fit_predict(mark_array, categorical=[0, 1, 2, 4, 5, 6])"
   ]
  },
  {
   "cell_type": "code",
   "execution_count": null,
   "id": "a3b0f70c",
   "metadata": {},
   "outputs": [],
   "source": [
    "print(kproto.cluster_centroids_)"
   ]
  },
  {
   "cell_type": "code",
   "execution_count": null,
   "id": "33a5fb1d",
   "metadata": {},
   "outputs": [],
   "source": [
    "cluster_dict=[]\n",
    "for c in clusters:\n",
    "    cluster_dict.append(c)"
   ]
  },
  {
   "cell_type": "code",
   "execution_count": null,
   "id": "74eb9945",
   "metadata": {
    "tags": []
   },
   "outputs": [],
   "source": [
    "cluster_dict"
   ]
  },
  {
   "cell_type": "code",
   "execution_count": null,
   "id": "6ea96c2b",
   "metadata": {},
   "outputs": [],
   "source": [
    "database2['cluster']=cluster_dict"
   ]
  },
  {
   "cell_type": "code",
   "execution_count": null,
   "id": "d3738572",
   "metadata": {},
   "outputs": [],
   "source": [
    "for i in range(0,5):\n",
    "    print(i, \": \", database2[database2['cluster']== i].value_counts().sum())"
   ]
  },
  {
   "cell_type": "code",
   "execution_count": null,
   "id": "fa326821",
   "metadata": {},
   "outputs": [],
   "source": [
    "database2"
   ]
  },
  {
   "cell_type": "code",
   "execution_count": null,
   "id": "6beeb894",
   "metadata": {},
   "outputs": [],
   "source": [
    "database2[database2['cluster']== 0].head(10)"
   ]
  },
  {
   "cell_type": "code",
   "execution_count": null,
   "id": "d03c0ab2",
   "metadata": {},
   "outputs": [],
   "source": [
    "database2[database2['cluster']== 1].head(10)"
   ]
  },
  {
   "cell_type": "code",
   "execution_count": null,
   "id": "230d0317",
   "metadata": {},
   "outputs": [],
   "source": [
    "database2[database2['cluster']== 2].head(10)"
   ]
  },
  {
   "cell_type": "markdown",
   "id": "fe3dd781",
   "metadata": {},
   "source": [
    "<span style=\"font-size: 17px;\"> Visualisation:"
   ]
  },
  {
   "cell_type": "code",
   "execution_count": null,
   "id": "4a263801",
   "metadata": {},
   "outputs": [],
   "source": [
    "import seaborn as sns\n",
    "import matplotlib.pyplot as plt\n",
    "\n",
    "database2.columns = [\"Action\", \"Tone\", \"Возраст компании, лет\", \"Вид деятельности/отрасль\", \"Организационно-правовая форма\", \"Форма собственности\", \"cluster\"]\n",
    "sns.pairplot(database2, hue=\"cluster\")"
   ]
  },
  {
   "cell_type": "code",
   "execution_count": null,
   "id": "0291c3c8",
   "metadata": {},
   "outputs": [],
   "source": [
    "sns.boxplot(x=\"cluster\", y=\"Возраст компании, лет\", data=database2)\n"
   ]
  },
  {
   "cell_type": "code",
   "execution_count": null,
   "id": "15227198",
   "metadata": {},
   "outputs": [],
   "source": [
    "sns.boxplot(x=\"cluster\", y=\"Организационно-правовая форма\", data=database2)"
   ]
  },
  {
   "cell_type": "code",
   "execution_count": null,
   "id": "e3a7b501",
   "metadata": {
    "scrolled": true
   },
   "outputs": [],
   "source": [
    "sns.boxplot(x=\"cluster\", y=\"Форма собственности\", data=database2)"
   ]
  },
  {
   "cell_type": "markdown",
   "id": "9a5ff3e3",
   "metadata": {},
   "source": [
    "## Clusterisation of dataset with income and profit"
   ]
  },
  {
   "cell_type": "code",
   "execution_count": null,
   "id": "7481d676",
   "metadata": {},
   "outputs": [],
   "source": [
    "df_filtered = database.copy()\n",
    "df_filtered = df_filtered.drop({'Company', 'Action', 'Вид деятельности/отрасль'}, axis=1)"
   ]
  },
  {
   "cell_type": "code",
   "execution_count": null,
   "id": "5392471a",
   "metadata": {},
   "outputs": [],
   "source": [
    "df_filtered.head(1)"
   ]
  },
  {
   "cell_type": "code",
   "execution_count": null,
   "id": "0ed343e8",
   "metadata": {},
   "outputs": [],
   "source": [
    "df_cat = df_filtered[['Industry', 'Country', 'Tone', 'Организационно-правовая форма', 'Форма собственности', 'Размер компании']]\n",
    "\n",
    "for i in df_cat.columns:\n",
    "    print(df_cat[i].unique())"
   ]
  },
  {
   "cell_type": "code",
   "execution_count": null,
   "id": "917b7939",
   "metadata": {},
   "outputs": [],
   "source": [
    "pip install kmodes"
   ]
  },
  {
   "cell_type": "markdown",
   "id": "5c2dfbab",
   "metadata": {},
   "source": [
    "<span style=\"font-size: 17px;\"> Check that there are no NaN values in the dataset</span>"
   ]
  },
  {
   "cell_type": "code",
   "execution_count": null,
   "id": "4b941cdd",
   "metadata": {},
   "outputs": [],
   "source": [
    "print(\" \\nCount total NaN at each column in a DataFrame : \\n\\n\", df_filtered.isnull().sum())"
   ]
  },
  {
   "cell_type": "code",
   "execution_count": null,
   "id": "06c5f93a",
   "metadata": {},
   "outputs": [],
   "source": [
    "mark_array=df_filtered.values"
   ]
  },
  {
   "cell_type": "markdown",
   "id": "c0e28fba",
   "metadata": {},
   "source": [
    "<span style=\"font-size: 17px;\"> Mark columns that has float datatypes"
   ]
  },
  {
   "cell_type": "code",
   "execution_count": null,
   "id": "8c918a21",
   "metadata": {},
   "outputs": [],
   "source": [
    "mark_array[:, 2] = mark_array[:, 2].astype(float)\n",
    "mark_array[:, 7] = mark_array[:, 7].astype(float)\n",
    "mark_array[:, 8] = mark_array[:, 8].astype(float)\n",
    "mark_array[:, 9] = mark_array[:, 9].astype(float)\n",
    "mark_array[:, 10] = mark_array[:, 10].astype(float)\n",
    "mark_array[:,11] = mark_array[:, 11].astype(float)"
   ]
  },
  {
   "cell_type": "markdown",
   "id": "e5481b1a",
   "metadata": {},
   "source": [
    "<span style=\"font-size: 17px;\"> Get the position of categorical columns"
   ]
  },
  {
   "cell_type": "code",
   "execution_count": null,
   "id": "e407d1f4",
   "metadata": {},
   "outputs": [],
   "source": [
    "catColumnsPos = [df_filtered.columns.get_loc(col) for col in list(df_filtered.select_dtypes('object').columns)]\n",
    "\n",
    "print('Categorical columns           : {}'.format(list(df_filtered.select_dtypes('object').columns)))\n",
    "print('Categorical columns position  : {}'.format(catColumnsPos))"
   ]
  },
  {
   "cell_type": "code",
   "execution_count": null,
   "id": "00e64dfa",
   "metadata": {},
   "outputs": [],
   "source": [
    "# Convert dataframe to matrix\n",
    "dfMatrix = df_filtered.to_numpy()"
   ]
  },
  {
   "cell_type": "markdown",
   "id": "a301adbc",
   "metadata": {},
   "source": [
    "<span style=\"font-size: 17px;\"> Elbow method to detect number of clusters K"
   ]
  },
  {
   "cell_type": "code",
   "execution_count": null,
   "id": "4a58ea61",
   "metadata": {},
   "outputs": [],
   "source": [
    "from kmodes.kprototypes import KPrototypes\n",
    "\n",
    "cost = []\n",
    "for cluster in range(1, 10):\n",
    "    try:\n",
    "        kprototype = KPrototypes(n_jobs = -1, n_clusters = cluster, init = 'Huang', random_state = 0)\n",
    "        kprototype.fit_predict(dfMatrix, categorical = catColumnsPos)\n",
    "        cost.append(kprototype.cost_)\n",
    "        print('Cluster initiation: {}'.format(cluster))\n",
    "    except:\n",
    "        break\n",
    "\n",
    "plt.plot(cost)\n",
    "plt.xlabel('K')\n",
    "plt.ylabel('cost')\n",
    "plt.show"
   ]
  },
  {
   "cell_type": "markdown",
   "id": "02c7dc34",
   "metadata": {},
   "source": [
    "<span style=\"font-size: 17px;\">  The elbow is at point 3 => numbers of clusters = 3"
   ]
  },
  {
   "cell_type": "code",
   "execution_count": null,
   "id": "fa35a2d7",
   "metadata": {},
   "outputs": [],
   "source": []
  },
  {
   "cell_type": "code",
   "execution_count": null,
   "id": "51b857be",
   "metadata": {},
   "outputs": [],
   "source": []
  },
  {
   "cell_type": "code",
   "execution_count": null,
   "id": "3e73a449",
   "metadata": {},
   "outputs": [],
   "source": [
    "mark_array"
   ]
  },
  {
   "cell_type": "code",
   "execution_count": null,
   "id": "8e1be294",
   "metadata": {},
   "outputs": [],
   "source": [
    "kproto = KPrototypes(n_clusters=3, verbose=2,max_iter=30)\n",
    "clusters = kproto.fit_predict(mark_array, categorical=[0, 1, 4, 5, 6])"
   ]
  },
  {
   "cell_type": "code",
   "execution_count": null,
   "id": "09d51fba",
   "metadata": {},
   "outputs": [],
   "source": [
    "print(kproto.cluster_centroids_)"
   ]
  },
  {
   "cell_type": "code",
   "execution_count": null,
   "id": "0a581688",
   "metadata": {},
   "outputs": [],
   "source": [
    "cluster_dict=[]\n",
    "for c in clusters:\n",
    "    cluster_dict.append(c)"
   ]
  },
  {
   "cell_type": "code",
   "execution_count": null,
   "id": "02de9cc6",
   "metadata": {},
   "outputs": [],
   "source": [
    "cluster_dict"
   ]
  },
  {
   "cell_type": "code",
   "execution_count": null,
   "id": "44c38205",
   "metadata": {},
   "outputs": [],
   "source": [
    "df_filtered['Cluster']=cluster_dict"
   ]
  },
  {
   "cell_type": "code",
   "execution_count": null,
   "id": "dce27428",
   "metadata": {},
   "outputs": [],
   "source": [
    "df_filtered"
   ]
  },
  {
   "cell_type": "code",
   "execution_count": null,
   "id": "7f7ae144",
   "metadata": {},
   "outputs": [],
   "source": [
    "df_filtered[df_filtered['Cluster']== 0].head(10)"
   ]
  },
  {
   "cell_type": "code",
   "execution_count": null,
   "id": "a78f2574",
   "metadata": {},
   "outputs": [],
   "source": [
    "df_filtered[df_filtered['Cluster']== 1].head(10)"
   ]
  },
  {
   "cell_type": "code",
   "execution_count": null,
   "id": "d59d242d",
   "metadata": {},
   "outputs": [],
   "source": [
    "df_filtered[df_filtered['Cluster']== 2].head(10)"
   ]
  },
  {
   "cell_type": "markdown",
   "id": "8e09bdd7",
   "metadata": {},
   "source": [
    "<span style=\"font-size: 17px;\"> Let's visualize our clusters"
   ]
  },
  {
   "cell_type": "code",
   "execution_count": null,
   "id": "e8bee0e4",
   "metadata": {},
   "outputs": [],
   "source": [
    "#the volume of each cluster\n",
    "df_filtered['Cluster'].value_counts().plot(kind='bar')\n",
    "\n",
    "plt.xticks(fontsize=10, rotation=0, ha='right')"
   ]
  },
  {
   "cell_type": "markdown",
   "id": "2eaccbd0",
   "metadata": {},
   "source": [
    "# Graphs"
   ]
  },
  {
   "cell_type": "code",
   "execution_count": null,
   "id": "c643141e",
   "metadata": {},
   "outputs": [],
   "source": [
    "import matplotlib.pyplot as plt"
   ]
  },
  {
   "cell_type": "code",
   "execution_count": null,
   "id": "6bee4ede",
   "metadata": {},
   "outputs": [],
   "source": [
    "database3 = database.copy()\n",
    "database3"
   ]
  },
  {
   "cell_type": "markdown",
   "id": "b248e2e5",
   "metadata": {},
   "source": [
    "### Countries"
   ]
  },
  {
   "cell_type": "markdown",
   "id": "2f5cc2c5",
   "metadata": {},
   "source": [
    "<span style=\"font-size: 17px;\"> Value_counts() returns the count of unique values in the 'Country' column, and head(10) selects the first 10 values, which represent the top 10 countries with the highest counts.</span>"
   ]
  },
  {
   "cell_type": "code",
   "execution_count": null,
   "id": "698a312d",
   "metadata": {},
   "outputs": [],
   "source": [
    "df_countries = database3['Country'].value_counts().head(10)"
   ]
  },
  {
   "cell_type": "code",
   "execution_count": null,
   "id": "1fe4ea94",
   "metadata": {},
   "outputs": [],
   "source": [
    "df_countries = df_countries.to_frame().reset_index()"
   ]
  },
  {
   "cell_type": "code",
   "execution_count": null,
   "id": "7d6eec1e",
   "metadata": {},
   "outputs": [],
   "source": [
    "df_countries"
   ]
  },
  {
   "cell_type": "code",
   "execution_count": null,
   "id": "348cd599",
   "metadata": {},
   "outputs": [],
   "source": [
    "# Increase the figure size and adjust the spacing\n",
    "plt.figure(figsize=(12, 8))\n",
    "plt.subplots_adjust(left=0.1, right=0.9, top=0.9, bottom=0.1)\n",
    "\n",
    "# Plot the bar chart\n",
    "df_countries.plot(kind='bar', x='index', y='Country', color='pink')\n",
    "\n",
    "# Set the labels and title\n",
    "plt.xlabel('Country', fontsize=12, labelpad=10)\n",
    "plt.ylabel('Number of Companies', fontsize=12, labelpad=10)\n",
    "plt.title('Number of Companies per Country', fontsize=14, fontweight='bold', pad=20)\n",
    "\n",
    "# Adjust the font size and rotation of the x-axis labels\n",
    "plt.xticks(fontsize=10, rotation=45, ha='right')\n",
    "\n",
    "# Adjust the font size of the y-axis labels\n",
    "plt.yticks(fontsize=10)\n",
    "\n",
    "# Remove the top and right spines (borders)\n",
    "plt.gca().spines['top'].set_visible(False)\n",
    "plt.gca().spines['right'].set_visible(False)\n",
    "\n",
    "# Add grid lines to the plot\n",
    "plt.grid(axis='y', linestyle='--', alpha=0.5)\n",
    "\n",
    "plt.show()"
   ]
  },
  {
   "cell_type": "markdown",
   "id": "f686ee09",
   "metadata": {},
   "source": [
    "### Industries:"
   ]
  },
  {
   "cell_type": "code",
   "execution_count": null,
   "id": "63bca5c3",
   "metadata": {},
   "outputs": [],
   "source": [
    "df_industries = database3['Industry'].value_counts().head(15)\n",
    "df_industries = df_industries.to_frame().reset_index()"
   ]
  },
  {
   "cell_type": "code",
   "execution_count": null,
   "id": "47c6684c",
   "metadata": {},
   "outputs": [],
   "source": [
    "import matplotlib.pyplot as plt\n",
    "\n",
    "# Increase the figure size and adjust the spacing\n",
    "plt.figure(figsize=(16, 8))\n",
    "plt.subplots_adjust(left=0.1, right=0.9, top=0.9, bottom=0.1)\n",
    "\n",
    "# Plot the bar chart\n",
    "df_industries.plot(kind='bar', x='index', y='Industry', color='#a7e8a9')\n",
    "\n",
    "# Set the labels and title\n",
    "plt.xlabel('Industry', fontsize=12, labelpad=10)\n",
    "plt.ylabel('Number of Companies', fontsize=12, labelpad=10)\n",
    "plt.title('Number of Companies per Industry', fontsize=14, fontweight='bold', pad=20)\n",
    "\n",
    "# Adjust the font size and rotation of the x-axis labels\n",
    "plt.xticks(fontsize=10, rotation=45, ha='right')\n",
    "\n",
    "# Adjust the font size of the y-axis labels\n",
    "plt.yticks(fontsize=10)\n",
    "\n",
    "# Remove the top and right spines\n",
    "plt.gca().spines['top'].set_visible(False)\n",
    "plt.gca().spines['right'].set_visible(False)\n",
    "\n",
    "# Add grid lines to the plot\n",
    "plt.grid(axis='y', linestyle='--', alpha=0.5)\n",
    "\n",
    "plt.show()"
   ]
  },
  {
   "cell_type": "markdown",
   "id": "46b7b231",
   "metadata": {},
   "source": [
    "### Size"
   ]
  },
  {
   "cell_type": "code",
   "execution_count": null,
   "id": "c9ddf0f1",
   "metadata": {},
   "outputs": [],
   "source": [
    "df_size = database3['Размер компании'].value_counts()\n",
    "df_size = df_size.to_frame().reset_index()"
   ]
  },
  {
   "cell_type": "code",
   "execution_count": null,
   "id": "c83cd7a1",
   "metadata": {},
   "outputs": [],
   "source": [
    "import matplotlib.pyplot as plt\n",
    "\n",
    "# Increase the figure size and adjust the spacing\n",
    "plt.figure(figsize=(14, 8))\n",
    "plt.subplots_adjust(left=0.1, right=0.9, top=0.9, bottom=0.1)\n",
    "\n",
    "# Plot the bar chart\n",
    "df_size.plot(kind='bar', x='index', y='Размер компании', color='#b6dffc')\n",
    "\n",
    "# Set the labels and title\n",
    "plt.xlabel('Size', fontsize=12, labelpad=10)\n",
    "plt.ylabel('Number of Companies', fontsize=12, labelpad=10)\n",
    "plt.title('Number of Companies per Size', fontsize=14, fontweight='bold', pad=20)\n",
    "\n",
    "# Adjust the font size and rotation of the x-axis labels\n",
    "plt.xticks(fontsize=10, rotation=45, ha='right')\n",
    "\n",
    "# Adjust the font size of the y-axis labels\n",
    "plt.yticks(fontsize=10)\n",
    "\n",
    "# Remove the top and right spines\n",
    "plt.gca().spines['top'].set_visible(False)\n",
    "plt.gca().spines['right'].set_visible(False)\n",
    "\n",
    "# Add grid lines to the plot\n",
    "plt.grid(axis='y', linestyle='--', alpha=0.5)\n",
    "\n",
    "# Show the plot\n",
    "plt.show()"
   ]
  },
  {
   "cell_type": "code",
   "execution_count": null,
   "id": "09fd7213",
   "metadata": {},
   "outputs": [],
   "source": [
    "database3.head()"
   ]
  },
  {
   "cell_type": "markdown",
   "id": "2337b3c6",
   "metadata": {},
   "source": [
    "### Age"
   ]
  },
  {
   "cell_type": "code",
   "execution_count": null,
   "id": "acdd820c",
   "metadata": {},
   "outputs": [],
   "source": [
    "database3['Возраст компании, лет'].plot(kind='hist', bins=30)\n",
    "\n",
    "plt.xlabel('Age of Company')\n",
    "plt.ylabel('Count')\n",
    "plt.title('Distribution of Company Age')\n",
    "\n",
    "plt.show()"
   ]
  },
  {
   "cell_type": "markdown",
   "id": "13816878",
   "metadata": {},
   "source": [
    "### Organisational form"
   ]
  },
  {
   "cell_type": "code",
   "execution_count": null,
   "id": "e3a5b2cd",
   "metadata": {},
   "outputs": [],
   "source": [
    "df_form = database3['Организационно-правовая форма'].value_counts().head(5)\n",
    "df_form = df_form.to_frame().reset_index()\n",
    "df_form"
   ]
  },
  {
   "cell_type": "code",
   "execution_count": null,
   "id": "8300509a",
   "metadata": {},
   "outputs": [],
   "source": [
    "# Increase the figure size and adjust the spacing\n",
    "plt.figure(figsize=(10, 5))\n",
    "plt.subplots_adjust(left=0.1, right=0.9, top=0.9, bottom=0.1)\n",
    "\n",
    "# Plot the bar chart\n",
    "df_form.plot(kind='bar', x='index', y='Организационно-правовая форма', color='#ccccff')\n",
    "\n",
    "# Set the labels and title\n",
    "plt.xlabel('Type of form', fontsize=12, labelpad=10)\n",
    "plt.ylabel('Number of Companies', fontsize=12, labelpad=10)\n",
    "plt.title('Number of Companies per Organisational form', fontsize=14, fontweight='bold', pad=20)\n",
    "\n",
    "# Adjust the font size and rotation of the x-axis labels\n",
    "plt.xticks(fontsize=10, rotation=45, ha='right')\n",
    "\n",
    "# Adjust the font size of the y-axis labels\n",
    "plt.yticks(fontsize=10)\n",
    "\n",
    "# Remove the top and right spines\n",
    "plt.gca().spines['top'].set_visible(False)\n",
    "plt.gca().spines['right'].set_visible(False)\n",
    "\n",
    "# Add grid lines to the plot\n",
    "plt.grid(axis='y', linestyle='--', alpha=0.5)\n",
    "\n",
    "# Show the plot\n",
    "plt.show()"
   ]
  },
  {
   "cell_type": "markdown",
   "id": "83f3b97f",
   "metadata": {},
   "source": [
    "### Form of property"
   ]
  },
  {
   "cell_type": "code",
   "execution_count": null,
   "id": "acaea374",
   "metadata": {},
   "outputs": [],
   "source": [
    "df_form2 = database3['Форма собственности'].value_counts().head(5)\n",
    "df_form2 = df_form2.to_frame().reset_index()\n",
    "df_form2"
   ]
  },
  {
   "cell_type": "code",
   "execution_count": null,
   "id": "db7c549f",
   "metadata": {},
   "outputs": [],
   "source": [
    "# Increase the figure size and adjust the spacing\n",
    "plt.figure(figsize=(10, 5))\n",
    "plt.subplots_adjust(left=0.1, right=0.9, top=0.9, bottom=0.1)\n",
    "\n",
    "# Plot the bar chart\n",
    "df_form2.plot(kind='bar', x='index', y='Форма собственности', color='#ffcc99')\n",
    "\n",
    "# Set the labels and title\n",
    "plt.xlabel('Type of form', fontsize=12, labelpad=10)\n",
    "plt.ylabel('Number of Companies', fontsize=12, labelpad=10)\n",
    "plt.title('Number of Companies per Form of property', fontsize=14, fontweight='bold', pad=20)\n",
    "\n",
    "# Adjust the font size and rotation of the x-axis labels\n",
    "plt.xticks(fontsize=10, rotation=45, ha='right')\n",
    "\n",
    "# Adjust the font size of the y-axis labels\n",
    "plt.yticks(fontsize=10)\n",
    "\n",
    "# Remove the top and right spines\n",
    "plt.gca().spines['top'].set_visible(False)\n",
    "plt.gca().spines['right'].set_visible(False)\n",
    "\n",
    "# Add grid lines to the plot\n",
    "plt.grid(axis='y', linestyle='--', alpha=0.5)\n",
    "\n",
    "# Show the plot\n",
    "plt.show()"
   ]
  },
  {
   "cell_type": "markdown",
   "id": "b5cb4df1",
   "metadata": {},
   "source": [
    "### Tone\n",
    "* 0 - completely stoped operations in Russia\n",
    "* 1 - continue operations in Russia\n",
    "* 2 - paused operations in Russia"
   ]
  },
  {
   "cell_type": "code",
   "execution_count": null,
   "id": "291cc588",
   "metadata": {},
   "outputs": [],
   "source": [
    "df_tone = database3['Tone'].value_counts().head(5)\n",
    "df_tone"
   ]
  },
  {
   "cell_type": "code",
   "execution_count": null,
   "id": "24a8ab19",
   "metadata": {},
   "outputs": [],
   "source": [
    "# Increase the figure size and adjust the spacing\n",
    "plt.figure(figsize=(10, 5))\n",
    "plt.subplots_adjust(left=0.1, right=0.9, top=0.9, bottom=0.1)\n",
    "\n",
    "# Plot the bar chart\n",
    "df_tone.plot(kind='bar', x='index', y='Tone', color='#ffcc99')\n",
    "\n",
    "# Set the labels and title\n",
    "plt.xlabel('Tone', fontsize=12, labelpad=10)\n",
    "plt.ylabel('Number of Companies', fontsize=12, labelpad=10)\n",
    "plt.title('Number of Companies per Tone', fontsize=14, fontweight='bold', pad=20)\n",
    "\n",
    "# Adjust the font size and rotation of the x-axis labels\n",
    "plt.xticks(fontsize=10, rotation=0, ha='right')\n",
    "\n",
    "# Adjust the font size of the y-axis labels\n",
    "plt.yticks(fontsize=10)\n",
    "\n",
    "# Remove the top and right spines\n",
    "plt.gca().spines['top'].set_visible(False)\n",
    "plt.gca().spines['right'].set_visible(False)\n",
    "\n",
    "# Add grid lines to the plot\n",
    "plt.grid(axis='y', linestyle='--', alpha=0.5)\n",
    "\n",
    "# Show the plot\n",
    "plt.show()"
   ]
  },
  {
   "cell_type": "code",
   "execution_count": null,
   "id": "57fe2e3d",
   "metadata": {},
   "outputs": [],
   "source": []
  },
  {
   "cell_type": "code",
   "execution_count": null,
   "id": "8e52dcd5",
   "metadata": {},
   "outputs": [],
   "source": []
  },
  {
   "cell_type": "code",
   "execution_count": null,
   "id": "3fd2b634",
   "metadata": {},
   "outputs": [],
   "source": []
  },
  {
   "cell_type": "code",
   "execution_count": null,
   "id": "ead34287",
   "metadata": {},
   "outputs": [],
   "source": []
  },
  {
   "cell_type": "code",
   "execution_count": null,
   "id": "ffd6101a",
   "metadata": {},
   "outputs": [],
   "source": []
  },
  {
   "cell_type": "code",
   "execution_count": null,
   "id": "adca97f0",
   "metadata": {},
   "outputs": [],
   "source": []
  },
  {
   "cell_type": "code",
   "execution_count": null,
   "id": "5b4d738a",
   "metadata": {},
   "outputs": [],
   "source": []
  },
  {
   "cell_type": "markdown",
   "id": "46f2a7e4-7241-46fe-b094-dc3a86f73e4b",
   "metadata": {},
   "source": [
    "# Prediction of Tone"
   ]
  },
  {
   "cell_type": "code",
   "execution_count": 3,
   "id": "d5a80f6f",
   "metadata": {},
   "outputs": [
    {
     "ename": "NameError",
     "evalue": "name 'database' is not defined",
     "output_type": "error",
     "traceback": [
      "\u001B[1;31m---------------------------------------------------------------------------\u001B[0m",
      "\u001B[1;31mNameError\u001B[0m                                 Traceback (most recent call last)",
      "Cell \u001B[1;32mIn[3], line 1\u001B[0m\n\u001B[1;32m----> 1\u001B[0m df \u001B[38;5;241m=\u001B[39m \u001B[43mdatabase\u001B[49m\u001B[38;5;241m.\u001B[39mcopy()\n",
      "\u001B[1;31mNameError\u001B[0m: name 'database' is not defined"
     ]
    }
   ],
   "source": [
    "df = database.copy()"
   ]
  },
  {
   "cell_type": "code",
   "execution_count": null,
   "id": "0f081e34",
   "metadata": {},
   "outputs": [],
   "source": [
    "df.head()"
   ]
  },
  {
   "cell_type": "code",
   "execution_count": null,
   "id": "06afdb3e",
   "metadata": {},
   "outputs": [],
   "source": [
    "df.columns"
   ]
  },
  {
   "cell_type": "markdown",
   "id": "f82e70ce",
   "metadata": {},
   "source": [
    "### Before predicting, we should check whether variables \"Mean Revenue\", \"Country\" and \"Industry\" are somehow associated with \"Tone\""
   ]
  },
  {
   "cell_type": "code",
   "execution_count": null,
   "id": "fc18dd96",
   "metadata": {},
   "outputs": [],
   "source": [
    "from scipy.stats import chi2_contingency"
   ]
  },
  {
   "cell_type": "markdown",
   "id": "9c973f25",
   "metadata": {},
   "source": [
    "### \"Tone\" and \"Mean Revenue\""
   ]
  },
  {
   "cell_type": "code",
   "execution_count": null,
   "id": "51bed061",
   "metadata": {},
   "outputs": [],
   "source": [
    "# Create a contingency table between \"Tone\" and \"Mean Revenue\"\n",
    "contingency_table = pd.crosstab(df['Tone'], df['Mean Revenue'])\n",
    "\n",
    "# Perform the chi-square test of independence\n",
    "chi2, p_value, _, _ = chi2_contingency(contingency_table)\n",
    "\n",
    "print(\"Chi-square statistic:\", chi2)\n",
    "print(\"p-value:\", p_value)"
   ]
  },
  {
   "cell_type": "markdown",
   "id": "e0dbf446",
   "metadata": {},
   "source": [
    "The p-value, 0.08029718074555114, represents the statistical significance of the association. In this case, the p-value is above the typical significance level of 0.05, suggesting that there is not enough evidence to reject the null hypothesis of independence. This means that based on the available data, <span style=\"font-size: 17px;\">  we do not have significant evidence to conclude that there is an association between the \"Tone\" and \"Mean Revenue\" variables."
   ]
  },
  {
   "cell_type": "markdown",
   "id": "88913a02",
   "metadata": {},
   "source": [
    "### \"Tone\" and \"Country\""
   ]
  },
  {
   "cell_type": "code",
   "execution_count": null,
   "id": "bda18065",
   "metadata": {},
   "outputs": [],
   "source": [
    "# Create a contingency table between \"Tone\" and \"Country\"\n",
    "contingency_table = pd.crosstab(df['Tone'], df['Country'])\n",
    "\n",
    "# Perform the chi-square test of independence\n",
    "chi2, p_value, _, _ = chi2_contingency(contingency_table)\n",
    "\n",
    "print(\"Chi-square statistic:\", chi2)\n",
    "print(\"p-value:\", p_value)"
   ]
  },
  {
   "cell_type": "markdown",
   "id": "43645905",
   "metadata": {},
   "source": [
    "The p-value is extremely small (approximately 1.0227188469211595e-09), which is significantly below the typical significance level of 0.05. This indicates strong evidence to reject the null hypothesis of independence. Therefore, based on the available data, we can conclude that <span style=\"font-size: 17px;\"> there is a significant association between the \"Tone\" and \"Country\" variables."
   ]
  },
  {
   "cell_type": "markdown",
   "id": "9d114611",
   "metadata": {},
   "source": [
    "### \"Tone\" and \"Industry\""
   ]
  },
  {
   "cell_type": "code",
   "execution_count": null,
   "id": "01b6e8f5",
   "metadata": {},
   "outputs": [],
   "source": [
    "# Create a contingency table between \"Tone\" and \"Industry\"\n",
    "contingency_table = pd.crosstab(df['Tone'], df['Industry'])\n",
    "\n",
    "# Perform the chi-square test of independence\n",
    "chi2, p_value, _, _ = chi2_contingency(contingency_table)\n",
    "\n",
    "print(\"Chi-square statistic:\", chi2)\n",
    "print(\"p-value:\", p_value)"
   ]
  },
  {
   "cell_type": "markdown",
   "id": "89fc3e3a",
   "metadata": {},
   "source": [
    "The p-value is extremely small (approximately 4.815758757819452e-09), which is significantly below the typical significance level of 0.05. This provides strong evidence to reject the null hypothesis of independence. Therefore, based on the available data, we can conclude that <span style=\"font-size: 17px;\">  there is a significant association between the \"Tone\" and \"Industry\" variables."
   ]
  },
  {
   "cell_type": "markdown",
   "id": "44d5597f",
   "metadata": {},
   "source": [
    "### \"Tone\" and \"Age\""
   ]
  },
  {
   "cell_type": "code",
   "execution_count": null,
   "id": "eac79fa6",
   "metadata": {},
   "outputs": [],
   "source": [
    "# Create a contingency table between \"Tone\" and \"Industry\"\n",
    "contingency_table = pd.crosstab(df['Tone'], df['Возраст компании, лет'])\n",
    "\n",
    "# Perform the chi-square test of independence\n",
    "chi2, p_value, _, _ = chi2_contingency(contingency_table)\n",
    "\n",
    "print(\"Chi-square statistic:\", chi2)\n",
    "print(\"p-value:\", p_value)"
   ]
  },
  {
   "cell_type": "markdown",
   "id": "a9edd88a",
   "metadata": {},
   "source": [
    "<span style=\"font-size: 17px;\"> no dependence"
   ]
  },
  {
   "cell_type": "markdown",
   "id": "3b5f6586",
   "metadata": {},
   "source": [
    "### \"Tone\" and \"Форма собственности\""
   ]
  },
  {
   "cell_type": "code",
   "execution_count": null,
   "id": "4ac746b8",
   "metadata": {},
   "outputs": [],
   "source": [
    "# Create a contingency table between \"Tone\" and \"Industry\"\n",
    "contingency_table = pd.crosstab(df['Tone'], df['Форма собственности'])\n",
    "\n",
    "# Perform the chi-square test of independence\n",
    "chi2, p_value, _, _ = chi2_contingency(contingency_table)\n",
    "\n",
    "print(\"Chi-square statistic:\", chi2)\n",
    "print(\"p-value:\", p_value)"
   ]
  },
  {
   "cell_type": "markdown",
   "id": "7c2f9a45",
   "metadata": {},
   "source": [
    "<span style=\"font-size: 17px;\"> no dependence"
   ]
  },
  {
   "cell_type": "markdown",
   "id": "d5fe1758",
   "metadata": {},
   "source": [
    "### Therefore, we can predict Tone only by Country and by Industry"
   ]
  },
  {
   "cell_type": "code",
   "execution_count": null,
   "id": "cf9692db",
   "metadata": {},
   "outputs": [],
   "source": [
    "from sklearn.model_selection import train_test_split\n",
    "from sklearn.tree import DecisionTreeClassifier\n",
    "from sklearn.preprocessing import OneHotEncoder\n",
    "from sklearn.compose import ColumnTransformer\n",
    "from sklearn.pipeline import Pipeline"
   ]
  },
  {
   "cell_type": "code",
   "execution_count": null,
   "id": "b74db8e6",
   "metadata": {},
   "outputs": [],
   "source": [
    "# Split the dataset into input features and target variable\n",
    "X = df[['Country', 'Industry']]  # Input features\n",
    "y = df['Tone']                   # Target variable"
   ]
  },
  {
   "cell_type": "code",
   "execution_count": null,
   "id": "60c8ac08",
   "metadata": {},
   "outputs": [],
   "source": [
    "# Choose a machine learning algorithm and define the preprocessing steps\n",
    "model = DecisionTreeClassifier()"
   ]
  },
  {
   "cell_type": "code",
   "execution_count": null,
   "id": "c2564c75",
   "metadata": {},
   "outputs": [],
   "source": [
    "# One-hot encoding for categorical variables\n",
    "categorical_features = ['Country', 'Industry']\n",
    "preprocessor = ColumnTransformer(\n",
    "    transformers=[('cat', OneHotEncoder(), categorical_features)])"
   ]
  },
  {
   "cell_type": "code",
   "execution_count": null,
   "id": "d77fd601",
   "metadata": {},
   "outputs": [],
   "source": [
    "# Combine preprocessing and model into a single pipeline\n",
    "model = Pipeline(steps=[('preprocessor', preprocessor),\n",
    "                           ('model', model)])"
   ]
  },
  {
   "cell_type": "code",
   "execution_count": null,
   "id": "b9607391",
   "metadata": {},
   "outputs": [],
   "source": [
    "# Train the model\n",
    "model.fit(X, y)"
   ]
  },
  {
   "cell_type": "code",
   "execution_count": null,
   "id": "7b66142d",
   "metadata": {},
   "outputs": [],
   "source": [
    "# Predict the tone for new companies\n",
    "new_companies = pd.DataFrame({'Country': ['Canada', 'France'],\n",
    "                              'Industry': ['Industrials', 'IT']})\n",
    "predictions = model.predict(new_companies)\n",
    "\n",
    "# Print the predicted tones for the new companies\n",
    "print(predictions)"
   ]
  },
  {
   "cell_type": "code",
   "execution_count": null,
   "id": "0c70ca73",
   "metadata": {},
   "outputs": [],
   "source": []
  },
  {
   "cell_type": "code",
   "execution_count": null,
   "id": "33ec897c",
   "metadata": {},
   "outputs": [],
   "source": []
  },
  {
   "cell_type": "code",
   "execution_count": null,
   "id": "050ef63d",
   "metadata": {},
   "outputs": [],
   "source": []
  }
 ],
 "metadata": {
  "kernelspec": {
   "display_name": "Python 3 (ipykernel)",
   "language": "python",
   "name": "python3"
  },
  "language_info": {
   "codemirror_mode": {
    "name": "ipython",
    "version": 3
   },
   "file_extension": ".py",
   "mimetype": "text/x-python",
   "name": "python",
   "nbconvert_exporter": "python",
   "pygments_lexer": "ipython3",
   "version": "3.10.10"
  },
  "toc-autonumbering": true,
  "toc-showmarkdowntxt": false
 },
 "nbformat": 4,
 "nbformat_minor": 5
}
