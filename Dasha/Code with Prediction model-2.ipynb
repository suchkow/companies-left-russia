{
 "cells": [
  {
   "cell_type": "markdown",
   "id": "bd6a4c39",
   "metadata": {},
   "source": [
    "# Our database with companies that left Russia in 2022"
   ]
  },
  {
   "cell_type": "markdown",
   "id": "65bf5d2c",
   "metadata": {},
   "source": [
    "### База Тиграна с Action, Tone + База старая с INT  + Spark"
   ]
  },
  {
   "cell_type": "code",
   "execution_count": null,
   "id": "e820752a",
   "metadata": {},
   "outputs": [],
   "source": []
  },
  {
   "cell_type": "code",
   "execution_count": 1,
   "id": "5e459caf",
   "metadata": {},
   "outputs": [],
   "source": [
    "import pandas as pd\n",
    "import matplotlib.pyplot as plt\n",
    "import numpy as np\n",
    "import seaborn as sns\n",
    "from kmodes.kprototypes import KPrototypes"
   ]
  },
  {
   "cell_type": "code",
   "execution_count": 2,
   "id": "72ec1267",
   "metadata": {},
   "outputs": [],
   "source": [
    "df_int = pd.read_excel('../data/major_version_int.xlsx')\n",
    "\n",
    "df_actions_tone = pd.read_csv('../data/major_version_act.csv')\n",
    "\n",
    "spark = pd.read_csv('../data/spark_interfax.csv', delimiter=';')\n"
   ]
  },
  {
   "cell_type": "code",
   "execution_count": 3,
   "id": "2a096064",
   "metadata": {},
   "outputs": [
    {
     "data": {
      "text/plain": [
       "(4007, 5)"
      ]
     },
     "execution_count": 3,
     "metadata": {},
     "output_type": "execute_result"
    }
   ],
   "source": [
    "df_int.shape"
   ]
  },
  {
   "cell_type": "code",
   "execution_count": 4,
   "id": "9ca8f579",
   "metadata": {},
   "outputs": [
    {
     "name": "stdout",
     "output_type": "stream",
     "text": [
      " \n",
      "Count total NaN at each column in a DataFrame : \n",
      "\n",
      " i              0\n",
      "Action        27\n",
      "Industry     420\n",
      "Country      180\n",
      "ИНН         3095\n",
      "dtype: int64\n"
     ]
    }
   ],
   "source": [
    "print(\" \\nCount total NaN at each column in a DataFrame : \\n\\n\", df_int.isnull().sum())"
   ]
  },
  {
   "cell_type": "code",
   "execution_count": 5,
   "id": "a47857bf",
   "metadata": {},
   "outputs": [
    {
     "data": {
      "text/plain": [
       "(3344, 6)"
      ]
     },
     "execution_count": 5,
     "metadata": {},
     "output_type": "execute_result"
    }
   ],
   "source": [
    "df_actions_tone.shape"
   ]
  },
  {
   "cell_type": "code",
   "execution_count": 6,
   "id": "6e22f83f",
   "metadata": {
    "scrolled": true
   },
   "outputs": [
    {
     "data": {
      "text/html": [
       "<div>\n",
       "<style scoped>\n",
       "    .dataframe tbody tr th:only-of-type {\n",
       "        vertical-align: middle;\n",
       "    }\n",
       "\n",
       "    .dataframe tbody tr th {\n",
       "        vertical-align: top;\n",
       "    }\n",
       "\n",
       "    .dataframe thead th {\n",
       "        text-align: right;\n",
       "    }\n",
       "</style>\n",
       "<table border=\"1\" class=\"dataframe\">\n",
       "  <thead>\n",
       "    <tr style=\"text-align: right;\">\n",
       "      <th></th>\n",
       "      <th>Company</th>\n",
       "      <th>Action</th>\n",
       "      <th>Industry</th>\n",
       "      <th>Country</th>\n",
       "      <th>Tone</th>\n",
       "    </tr>\n",
       "  </thead>\n",
       "  <tbody>\n",
       "    <tr>\n",
       "      <th>0</th>\n",
       "      <td>1840 &amp; Company</td>\n",
       "      <td>['suspend', 'aesthetics', 'operations', ',', '...</td>\n",
       "      <td>Health Care</td>\n",
       "      <td>United States</td>\n",
       "      <td>2</td>\n",
       "    </tr>\n",
       "  </tbody>\n",
       "</table>\n",
       "</div>"
      ],
      "text/plain": [
       "          Company                                             Action  \\\n",
       "0  1840 & Company  ['suspend', 'aesthetics', 'operations', ',', '...   \n",
       "\n",
       "      Industry        Country  Tone  \n",
       "0  Health Care  United States     2  "
      ]
     },
     "execution_count": 6,
     "metadata": {},
     "output_type": "execute_result"
    }
   ],
   "source": [
    "df_actions_tone = df_actions_tone.drop('Unnamed: 0', axis = 1)\n",
    "df_actions_tone = df_actions_tone.rename(columns = {'tone': 'Tone'})\n",
    "df_actions_tone = df_actions_tone.sort_values(by='Company')\n",
    "df_actions_tone = df_actions_tone.reset_index(drop=True)\n",
    "df_actions_tone.head(1)"
   ]
  },
  {
   "cell_type": "code",
   "execution_count": 7,
   "id": "454f95a1",
   "metadata": {},
   "outputs": [],
   "source": [
    "# Define a dictionary to map the numbers to their corresponding labels\n",
    "label_mapping = {0: 'leaved', 1: 'continue', 2: 'paused'}\n",
    "\n",
    "# Replace the numbers in the specified column with the labels\n",
    "df_actions_tone['Tone'] = df_actions_tone['Tone'].map(label_mapping)"
   ]
  },
  {
   "cell_type": "code",
   "execution_count": 8,
   "id": "f2ab88b7",
   "metadata": {},
   "outputs": [
    {
     "data": {
      "text/html": [
       "<div>\n",
       "<style scoped>\n",
       "    .dataframe tbody tr th:only-of-type {\n",
       "        vertical-align: middle;\n",
       "    }\n",
       "\n",
       "    .dataframe tbody tr th {\n",
       "        vertical-align: top;\n",
       "    }\n",
       "\n",
       "    .dataframe thead th {\n",
       "        text-align: right;\n",
       "    }\n",
       "</style>\n",
       "<table border=\"1\" class=\"dataframe\">\n",
       "  <thead>\n",
       "    <tr style=\"text-align: right;\">\n",
       "      <th></th>\n",
       "      <th>Company</th>\n",
       "      <th>Action</th>\n",
       "      <th>Industry</th>\n",
       "      <th>Country</th>\n",
       "      <th>Tone</th>\n",
       "    </tr>\n",
       "  </thead>\n",
       "  <tbody>\n",
       "    <tr>\n",
       "      <th>0</th>\n",
       "      <td>1840 &amp; Company</td>\n",
       "      <td>['suspend', 'aesthetics', 'operations', ',', '...</td>\n",
       "      <td>Health Care</td>\n",
       "      <td>United States</td>\n",
       "      <td>paused</td>\n",
       "    </tr>\n",
       "    <tr>\n",
       "      <th>1</th>\n",
       "      <td>1Password</td>\n",
       "      <td>['suspend', 'new', 'investments/development']</td>\n",
       "      <td>Consumer Discretionary</td>\n",
       "      <td>France</td>\n",
       "      <td>paused</td>\n",
       "    </tr>\n",
       "    <tr>\n",
       "      <th>2</th>\n",
       "      <td>1xBet</td>\n",
       "      <td>['ending', 'new', 'investments', 'where', 'has...</td>\n",
       "      <td>Financials</td>\n",
       "      <td>Netherlands</td>\n",
       "      <td>leaved</td>\n",
       "    </tr>\n",
       "    <tr>\n",
       "      <th>3</th>\n",
       "      <td>3HC Semiconductors</td>\n",
       "      <td>['some', 'clients', 'no', 'longer', 'supplied'...</td>\n",
       "      <td>Materials</td>\n",
       "      <td>France</td>\n",
       "      <td>leaved</td>\n",
       "    </tr>\n",
       "    <tr>\n",
       "      <th>4</th>\n",
       "      <td>3M</td>\n",
       "      <td>['suspend', 'supply', 'of', 'parts', 'and', 'd...</td>\n",
       "      <td>Industrials</td>\n",
       "      <td>Netherlands</td>\n",
       "      <td>continue</td>\n",
       "    </tr>\n",
       "    <tr>\n",
       "      <th>5</th>\n",
       "      <td>3M Company</td>\n",
       "      <td>['suspend', 'new', 'investments', 'and', 'new'...</td>\n",
       "      <td>Health Care</td>\n",
       "      <td>Switzerland</td>\n",
       "      <td>paused</td>\n",
       "    </tr>\n",
       "    <tr>\n",
       "      <th>6</th>\n",
       "      <td>A&amp;D</td>\n",
       "      <td>['cease', 'trading', 'operations', 'with', 'ru...</td>\n",
       "      <td>Industrials</td>\n",
       "      <td>Germany</td>\n",
       "      <td>leaved</td>\n",
       "    </tr>\n",
       "    <tr>\n",
       "      <th>7</th>\n",
       "      <td>A-SAFE</td>\n",
       "      <td>['still', 'operating', 'in', 'russia', ';', 's...</td>\n",
       "      <td>Information Technology</td>\n",
       "      <td>Australia</td>\n",
       "      <td>leaved</td>\n",
       "    </tr>\n",
       "    <tr>\n",
       "      <th>8</th>\n",
       "      <td>AAK</td>\n",
       "      <td>['suspended', 'some', 'shipments']</td>\n",
       "      <td>Information Technology</td>\n",
       "      <td>Japan</td>\n",
       "      <td>leaved</td>\n",
       "    </tr>\n",
       "    <tr>\n",
       "      <th>9</th>\n",
       "      <td>AB InBev</td>\n",
       "      <td>['continues', 'flows', 'to', 'russian', 'and',...</td>\n",
       "      <td>Industrials</td>\n",
       "      <td>France</td>\n",
       "      <td>leaved</td>\n",
       "    </tr>\n",
       "  </tbody>\n",
       "</table>\n",
       "</div>"
      ],
      "text/plain": [
       "              Company                                             Action  \\\n",
       "0      1840 & Company  ['suspend', 'aesthetics', 'operations', ',', '...   \n",
       "1           1Password      ['suspend', 'new', 'investments/development']   \n",
       "2               1xBet  ['ending', 'new', 'investments', 'where', 'has...   \n",
       "3  3HC Semiconductors  ['some', 'clients', 'no', 'longer', 'supplied'...   \n",
       "4                  3M  ['suspend', 'supply', 'of', 'parts', 'and', 'd...   \n",
       "5          3M Company  ['suspend', 'new', 'investments', 'and', 'new'...   \n",
       "6                 A&D  ['cease', 'trading', 'operations', 'with', 'ru...   \n",
       "7              A-SAFE  ['still', 'operating', 'in', 'russia', ';', 's...   \n",
       "8                 AAK                 ['suspended', 'some', 'shipments']   \n",
       "9            AB InBev  ['continues', 'flows', 'to', 'russian', 'and',...   \n",
       "\n",
       "                 Industry        Country      Tone  \n",
       "0             Health Care  United States    paused  \n",
       "1  Consumer Discretionary         France    paused  \n",
       "2              Financials    Netherlands    leaved  \n",
       "3               Materials         France    leaved  \n",
       "4             Industrials    Netherlands  continue  \n",
       "5             Health Care    Switzerland    paused  \n",
       "6             Industrials        Germany    leaved  \n",
       "7  Information Technology      Australia    leaved  \n",
       "8  Information Technology          Japan    leaved  \n",
       "9             Industrials         France    leaved  "
      ]
     },
     "execution_count": 8,
     "metadata": {},
     "output_type": "execute_result"
    }
   ],
   "source": [
    "df_actions_tone.head(10)"
   ]
  },
  {
   "cell_type": "code",
   "execution_count": 9,
   "id": "0551bc1e",
   "metadata": {},
   "outputs": [
    {
     "data": {
      "text/html": [
       "<div>\n",
       "<style scoped>\n",
       "    .dataframe tbody tr th:only-of-type {\n",
       "        vertical-align: middle;\n",
       "    }\n",
       "\n",
       "    .dataframe tbody tr th {\n",
       "        vertical-align: top;\n",
       "    }\n",
       "\n",
       "    .dataframe thead th {\n",
       "        text-align: right;\n",
       "    }\n",
       "</style>\n",
       "<table border=\"1\" class=\"dataframe\">\n",
       "  <thead>\n",
       "    <tr style=\"text-align: right;\">\n",
       "      <th></th>\n",
       "      <th>Company</th>\n",
       "      <th>Action</th>\n",
       "      <th>Industry</th>\n",
       "      <th>Country</th>\n",
       "      <th>INT</th>\n",
       "    </tr>\n",
       "  </thead>\n",
       "  <tbody>\n",
       "    <tr>\n",
       "      <th>0</th>\n",
       "      <td>1840 &amp; Company</td>\n",
       "      <td>suspend aesthetics operations, pause new clini...</td>\n",
       "      <td>Health Care</td>\n",
       "      <td>United States</td>\n",
       "      <td>7743855873</td>\n",
       "    </tr>\n",
       "  </tbody>\n",
       "</table>\n",
       "</div>"
      ],
      "text/plain": [
       "          Company                                             Action  \\\n",
       "0  1840 & Company  suspend aesthetics operations, pause new clini...   \n",
       "\n",
       "      Industry        Country         INT  \n",
       "0  Health Care  United States  7743855873  "
      ]
     },
     "execution_count": 9,
     "metadata": {},
     "output_type": "execute_result"
    }
   ],
   "source": [
    "df_int = df_int.rename(columns={'i': 'Company'})\n",
    "df_int = df_int.rename(columns={'ИНН': 'INT'})\n",
    "df_int = df_int.sort_values(by='Company')\n",
    "df_int = df_int.reset_index(drop=True)\n",
    "df_int.head(1)"
   ]
  },
  {
   "cell_type": "code",
   "execution_count": 10,
   "id": "d885e399",
   "metadata": {},
   "outputs": [
    {
     "data": {
      "text/html": [
       "<div>\n",
       "<style scoped>\n",
       "    .dataframe tbody tr th:only-of-type {\n",
       "        vertical-align: middle;\n",
       "    }\n",
       "\n",
       "    .dataframe tbody tr th {\n",
       "        vertical-align: top;\n",
       "    }\n",
       "\n",
       "    .dataframe thead th {\n",
       "        text-align: right;\n",
       "    }\n",
       "</style>\n",
       "<table border=\"1\" class=\"dataframe\">\n",
       "  <thead>\n",
       "    <tr style=\"text-align: right;\">\n",
       "      <th></th>\n",
       "      <th>Company</th>\n",
       "      <th>Action_x</th>\n",
       "      <th>Industry_x</th>\n",
       "      <th>Country_x</th>\n",
       "      <th>Tone</th>\n",
       "      <th>Action_y</th>\n",
       "      <th>Industry_y</th>\n",
       "      <th>Country_y</th>\n",
       "      <th>INT</th>\n",
       "    </tr>\n",
       "  </thead>\n",
       "  <tbody>\n",
       "    <tr>\n",
       "      <th>0</th>\n",
       "      <td>1840 &amp; Company</td>\n",
       "      <td>['suspend', 'aesthetics', 'operations', ',', '...</td>\n",
       "      <td>Health Care</td>\n",
       "      <td>United States</td>\n",
       "      <td>paused</td>\n",
       "      <td>suspend aesthetics operations, pause new clini...</td>\n",
       "      <td>Health Care</td>\n",
       "      <td>United States</td>\n",
       "      <td>7743855873</td>\n",
       "    </tr>\n",
       "  </tbody>\n",
       "</table>\n",
       "</div>"
      ],
      "text/plain": [
       "          Company                                           Action_x  \\\n",
       "0  1840 & Company  ['suspend', 'aesthetics', 'operations', ',', '...   \n",
       "\n",
       "    Industry_x      Country_x    Tone  \\\n",
       "0  Health Care  United States  paused   \n",
       "\n",
       "                                            Action_y   Industry_y  \\\n",
       "0  suspend aesthetics operations, pause new clini...  Health Care   \n",
       "\n",
       "       Country_y         INT  \n",
       "0  United States  7743855873  "
      ]
     },
     "execution_count": 10,
     "metadata": {},
     "output_type": "execute_result"
    }
   ],
   "source": [
    "df1 = df_actions_tone.copy()\n",
    "df2 = df_int.copy()\n",
    "\n",
    "# Merge the two datasets based on the \"Company\" column\n",
    "data = pd.merge(df1, df2, on='Company')\n",
    "data.head(1)"
   ]
  },
  {
   "cell_type": "code",
   "execution_count": 11,
   "id": "63c517fc",
   "metadata": {},
   "outputs": [
    {
     "data": {
      "text/html": [
       "<div>\n",
       "<style scoped>\n",
       "    .dataframe tbody tr th:only-of-type {\n",
       "        vertical-align: middle;\n",
       "    }\n",
       "\n",
       "    .dataframe tbody tr th {\n",
       "        vertical-align: top;\n",
       "    }\n",
       "\n",
       "    .dataframe thead th {\n",
       "        text-align: right;\n",
       "    }\n",
       "</style>\n",
       "<table border=\"1\" class=\"dataframe\">\n",
       "  <thead>\n",
       "    <tr style=\"text-align: right;\">\n",
       "      <th></th>\n",
       "      <th>Company</th>\n",
       "      <th>Action_x</th>\n",
       "      <th>Industry_x</th>\n",
       "      <th>Country_x</th>\n",
       "      <th>Tone</th>\n",
       "      <th>INT</th>\n",
       "    </tr>\n",
       "  </thead>\n",
       "  <tbody>\n",
       "    <tr>\n",
       "      <th>0</th>\n",
       "      <td>1840 &amp; Company</td>\n",
       "      <td>['suspend', 'aesthetics', 'operations', ',', '...</td>\n",
       "      <td>Health Care</td>\n",
       "      <td>United States</td>\n",
       "      <td>paused</td>\n",
       "      <td>7743855873</td>\n",
       "    </tr>\n",
       "  </tbody>\n",
       "</table>\n",
       "</div>"
      ],
      "text/plain": [
       "          Company                                           Action_x  \\\n",
       "0  1840 & Company  ['suspend', 'aesthetics', 'operations', ',', '...   \n",
       "\n",
       "    Industry_x      Country_x    Tone         INT  \n",
       "0  Health Care  United States  paused  7743855873  "
      ]
     },
     "execution_count": 11,
     "metadata": {},
     "output_type": "execute_result"
    }
   ],
   "source": [
    "# Select the desired columns\n",
    "desired_columns = ['Company', 'Action_x', 'Industry_x', 'Country_x', 'Tone', 'INT']\n",
    "data = data[desired_columns]\n",
    "data.head(1)"
   ]
  },
  {
   "cell_type": "code",
   "execution_count": 12,
   "id": "ba4d5251",
   "metadata": {},
   "outputs": [],
   "source": [
    "# Rename the columns\n",
    "data.columns = ['Company', 'Action', 'Industry', 'Country', 'Tone', 'INT']"
   ]
  },
  {
   "cell_type": "code",
   "execution_count": 13,
   "id": "c46c44fb",
   "metadata": {},
   "outputs": [
    {
     "data": {
      "text/html": [
       "<div>\n",
       "<style scoped>\n",
       "    .dataframe tbody tr th:only-of-type {\n",
       "        vertical-align: middle;\n",
       "    }\n",
       "\n",
       "    .dataframe tbody tr th {\n",
       "        vertical-align: top;\n",
       "    }\n",
       "\n",
       "    .dataframe thead th {\n",
       "        text-align: right;\n",
       "    }\n",
       "</style>\n",
       "<table border=\"1\" class=\"dataframe\">\n",
       "  <thead>\n",
       "    <tr style=\"text-align: right;\">\n",
       "      <th></th>\n",
       "      <th>Company</th>\n",
       "      <th>Action</th>\n",
       "      <th>Industry</th>\n",
       "      <th>Country</th>\n",
       "      <th>Tone</th>\n",
       "      <th>INT</th>\n",
       "    </tr>\n",
       "  </thead>\n",
       "  <tbody>\n",
       "    <tr>\n",
       "      <th>0</th>\n",
       "      <td>1840 &amp; Company</td>\n",
       "      <td>['suspend', 'aesthetics', 'operations', ',', '...</td>\n",
       "      <td>Health Care</td>\n",
       "      <td>United States</td>\n",
       "      <td>paused</td>\n",
       "      <td>7743855873</td>\n",
       "    </tr>\n",
       "    <tr>\n",
       "      <th>1</th>\n",
       "      <td>1Password</td>\n",
       "      <td>['suspend', 'new', 'investments/development']</td>\n",
       "      <td>Consumer Discretionary</td>\n",
       "      <td>France</td>\n",
       "      <td>paused</td>\n",
       "      <td>7704662187</td>\n",
       "    </tr>\n",
       "    <tr>\n",
       "      <th>2</th>\n",
       "      <td>1xBet</td>\n",
       "      <td>['ending', 'new', 'investments', 'where', 'has...</td>\n",
       "      <td>Financials</td>\n",
       "      <td>Netherlands</td>\n",
       "      <td>leaved</td>\n",
       "      <td>NaN</td>\n",
       "    </tr>\n",
       "    <tr>\n",
       "      <th>3</th>\n",
       "      <td>3HC Semiconductors</td>\n",
       "      <td>['some', 'clients', 'no', 'longer', 'supplied'...</td>\n",
       "      <td>Materials</td>\n",
       "      <td>France</td>\n",
       "      <td>leaved</td>\n",
       "      <td>3528103017</td>\n",
       "    </tr>\n",
       "    <tr>\n",
       "      <th>4</th>\n",
       "      <td>3M</td>\n",
       "      <td>['suspend', 'supply', 'of', 'parts', 'and', 'd...</td>\n",
       "      <td>Industrials</td>\n",
       "      <td>Netherlands</td>\n",
       "      <td>continue</td>\n",
       "      <td>9704116463</td>\n",
       "    </tr>\n",
       "    <tr>\n",
       "      <th>...</th>\n",
       "      <td>...</td>\n",
       "      <td>...</td>\n",
       "      <td>...</td>\n",
       "      <td>...</td>\n",
       "      <td>...</td>\n",
       "      <td>...</td>\n",
       "    </tr>\n",
       "    <tr>\n",
       "      <th>3339</th>\n",
       "      <td>Французский автомобильный концерн Re...\"</td>\n",
       "      <td>['no', 'new', 'investments']</td>\n",
       "      <td>Utilities</td>\n",
       "      <td>France</td>\n",
       "      <td>leaved</td>\n",
       "      <td>5003026630</td>\n",
       "    </tr>\n",
       "    <tr>\n",
       "      <th>3340</th>\n",
       "      <td>Хостинг Ukraine</td>\n",
       "      <td>['ban', 'people', 'with', 'ties', 'to', 'russi...</td>\n",
       "      <td>NGO</td>\n",
       "      <td>Germany</td>\n",
       "      <td>leaved</td>\n",
       "      <td>7453231464</td>\n",
       "    </tr>\n",
       "    <tr>\n",
       "      <th>3341</th>\n",
       "      <td>Шальке</td>\n",
       "      <td>['no', 'new', 'business']</td>\n",
       "      <td>Industrials</td>\n",
       "      <td>Denmark</td>\n",
       "      <td>leaved</td>\n",
       "      <td>NaN</td>\n",
       "    </tr>\n",
       "    <tr>\n",
       "      <th>3342</th>\n",
       "      <td>Эвертон</td>\n",
       "      <td>['stopped', 'renewing', 'and', 'underwriting',...</td>\n",
       "      <td>Financials</td>\n",
       "      <td>United States</td>\n",
       "      <td>leaved</td>\n",
       "      <td>6829067343</td>\n",
       "    </tr>\n",
       "    <tr>\n",
       "      <th>3343</th>\n",
       "      <td>ЯБпоела</td>\n",
       "      <td>['no', 'new', 'investments', 'and', 'expansion...</td>\n",
       "      <td>Industrials</td>\n",
       "      <td>United States</td>\n",
       "      <td>leaved</td>\n",
       "      <td>NaN</td>\n",
       "    </tr>\n",
       "  </tbody>\n",
       "</table>\n",
       "<p>3344 rows × 6 columns</p>\n",
       "</div>"
      ],
      "text/plain": [
       "                                       Company  \\\n",
       "0                               1840 & Company   \n",
       "1                                    1Password   \n",
       "2                                        1xBet   \n",
       "3                           3HC Semiconductors   \n",
       "4                                           3M   \n",
       "...                                        ...   \n",
       "3339  Французский автомобильный концерн Re...\"   \n",
       "3340                           Хостинг Ukraine   \n",
       "3341                                    Шальке   \n",
       "3342                                   Эвертон   \n",
       "3343                                   ЯБпоела   \n",
       "\n",
       "                                                 Action  \\\n",
       "0     ['suspend', 'aesthetics', 'operations', ',', '...   \n",
       "1         ['suspend', 'new', 'investments/development']   \n",
       "2     ['ending', 'new', 'investments', 'where', 'has...   \n",
       "3     ['some', 'clients', 'no', 'longer', 'supplied'...   \n",
       "4     ['suspend', 'supply', 'of', 'parts', 'and', 'd...   \n",
       "...                                                 ...   \n",
       "3339                       ['no', 'new', 'investments']   \n",
       "3340  ['ban', 'people', 'with', 'ties', 'to', 'russi...   \n",
       "3341                          ['no', 'new', 'business']   \n",
       "3342  ['stopped', 'renewing', 'and', 'underwriting',...   \n",
       "3343  ['no', 'new', 'investments', 'and', 'expansion...   \n",
       "\n",
       "                    Industry        Country      Tone         INT  \n",
       "0                Health Care  United States    paused  7743855873  \n",
       "1     Consumer Discretionary         France    paused  7704662187  \n",
       "2                 Financials    Netherlands    leaved         NaN  \n",
       "3                  Materials         France    leaved  3528103017  \n",
       "4                Industrials    Netherlands  continue  9704116463  \n",
       "...                      ...            ...       ...         ...  \n",
       "3339               Utilities         France    leaved  5003026630  \n",
       "3340                     NGO        Germany    leaved  7453231464  \n",
       "3341             Industrials        Denmark    leaved         NaN  \n",
       "3342              Financials  United States    leaved  6829067343  \n",
       "3343             Industrials  United States    leaved         NaN  \n",
       "\n",
       "[3344 rows x 6 columns]"
      ]
     },
     "execution_count": 13,
     "metadata": {},
     "output_type": "execute_result"
    }
   ],
   "source": [
    "data"
   ]
  },
  {
   "cell_type": "markdown",
   "id": "7ec056a9",
   "metadata": {},
   "source": [
    "# Spark database"
   ]
  },
  {
   "cell_type": "code",
   "execution_count": 14,
   "id": "cc9754b9",
   "metadata": {},
   "outputs": [
    {
     "data": {
      "text/html": [
       "<div>\n",
       "<style scoped>\n",
       "    .dataframe tbody tr th:only-of-type {\n",
       "        vertical-align: middle;\n",
       "    }\n",
       "\n",
       "    .dataframe tbody tr th {\n",
       "        vertical-align: top;\n",
       "    }\n",
       "\n",
       "    .dataframe thead th {\n",
       "        text-align: right;\n",
       "    }\n",
       "</style>\n",
       "<table border=\"1\" class=\"dataframe\">\n",
       "  <thead>\n",
       "    <tr style=\"text-align: right;\">\n",
       "      <th></th>\n",
       "      <th>№</th>\n",
       "      <th>Наименование</th>\n",
       "      <th>Регистрационный номер</th>\n",
       "      <th>Наименование на английском</th>\n",
       "      <th>Краткое наименование</th>\n",
       "      <th>Дата регистрации</th>\n",
       "      <th>Возраст компании, лет</th>\n",
       "      <th>Код налогоплательщика</th>\n",
       "      <th>Вид деятельности/отрасль</th>\n",
       "      <th>Организационно-правовая форма</th>\n",
       "      <th>...</th>\n",
       "      <th>2017, Выручка, RUB</th>\n",
       "      <th>2018, Выручка, RUB</th>\n",
       "      <th>2019, Выручка, RUB</th>\n",
       "      <th>2020, Выручка, RUB</th>\n",
       "      <th>2021, Выручка, RUB</th>\n",
       "      <th>2017, Прибыль (убыток) до налогообложения , RUB</th>\n",
       "      <th>2018, Прибыль (убыток) до налогообложения , RUB</th>\n",
       "      <th>2019, Прибыль (убыток) до налогообложения , RUB</th>\n",
       "      <th>2020, Прибыль (убыток) до налогообложения , RUB</th>\n",
       "      <th>2021, Прибыль (убыток) до налогообложения , RUB</th>\n",
       "    </tr>\n",
       "  </thead>\n",
       "  <tbody>\n",
       "    <tr>\n",
       "      <th>0</th>\n",
       "      <td>1</td>\n",
       "      <td>3М ВОЛГА, ООО</td>\n",
       "      <td>1.121674e+12</td>\n",
       "      <td>3M VOLGA, OOO</td>\n",
       "      <td>ООО\"3М ВОЛГА\"</td>\n",
       "      <td>16.08.2012</td>\n",
       "      <td>10,5</td>\n",
       "      <td>1646033450</td>\n",
       "      <td>Торговля оптовая прочими бытовыми товарами</td>\n",
       "      <td>Общества с ограниченной ответственностью</td>\n",
       "      <td>...</td>\n",
       "      <td>13 300 000</td>\n",
       "      <td>104 722 000</td>\n",
       "      <td>218 916 000</td>\n",
       "      <td>19 484 000</td>\n",
       "      <td>153 458 000</td>\n",
       "      <td>-154 449 000</td>\n",
       "      <td>-147 371 000</td>\n",
       "      <td>-135 529 000</td>\n",
       "      <td>-196 685 000</td>\n",
       "      <td>-172 832 000</td>\n",
       "    </tr>\n",
       "    <tr>\n",
       "      <th>1</th>\n",
       "      <td>2</td>\n",
       "      <td>CCC, ООО</td>\n",
       "      <td>1.198617e+12</td>\n",
       "      <td>OOO C, CJSC</td>\n",
       "      <td>ООО \"CCC\"</td>\n",
       "      <td>18.06.2019</td>\n",
       "      <td>3,5</td>\n",
       "      <td>8608060872</td>\n",
       "      <td>Строительство инженерных коммуникаций для водо...</td>\n",
       "      <td>Общества с ограниченной ответственностью</td>\n",
       "      <td>...</td>\n",
       "      <td>NaN</td>\n",
       "      <td>NaN</td>\n",
       "      <td>NaN</td>\n",
       "      <td>65 126 000</td>\n",
       "      <td>47 022 000</td>\n",
       "      <td>NaN</td>\n",
       "      <td>NaN</td>\n",
       "      <td>-381 000</td>\n",
       "      <td>8 130 000</td>\n",
       "      <td>213 000</td>\n",
       "    </tr>\n",
       "    <tr>\n",
       "      <th>2</th>\n",
       "      <td>3</td>\n",
       "      <td>WIX-SZ, ООО</td>\n",
       "      <td>1.133538e+12</td>\n",
       "      <td>WIX-SZ, OOO</td>\n",
       "      <td>ООО \"WIX-SZ\"</td>\n",
       "      <td>12.02.2013</td>\n",
       "      <td>10,0</td>\n",
       "      <td>3526030067</td>\n",
       "      <td>Работы строительные специализированные прочие,...</td>\n",
       "      <td>Общества с ограниченной ответственностью</td>\n",
       "      <td>...</td>\n",
       "      <td>18 049 000</td>\n",
       "      <td>11 592 000</td>\n",
       "      <td>5 157 000</td>\n",
       "      <td>11 399 000</td>\n",
       "      <td>15 481 000</td>\n",
       "      <td>558 000</td>\n",
       "      <td>548 000</td>\n",
       "      <td>279 000</td>\n",
       "      <td>422 000</td>\n",
       "      <td>543 000</td>\n",
       "    </tr>\n",
       "    <tr>\n",
       "      <th>3</th>\n",
       "      <td>4</td>\n",
       "      <td>А.С. ГРУПП, ООО</td>\n",
       "      <td>1.192375e+12</td>\n",
       "      <td>A.S. GROUP, LLC</td>\n",
       "      <td>ООО \"А.С. ГРУПП\"</td>\n",
       "      <td>16.04.2019</td>\n",
       "      <td>4,0</td>\n",
       "      <td>2310213891</td>\n",
       "      <td>Консультирование по вопросам коммерческой деят...</td>\n",
       "      <td>Общества с ограниченной ответственностью</td>\n",
       "      <td>...</td>\n",
       "      <td>NaN</td>\n",
       "      <td>NaN</td>\n",
       "      <td>1 586 000</td>\n",
       "      <td>5 833 000</td>\n",
       "      <td>NaN</td>\n",
       "      <td>NaN</td>\n",
       "      <td>NaN</td>\n",
       "      <td>-2 667 000</td>\n",
       "      <td>-914 000</td>\n",
       "      <td>NaN</td>\n",
       "    </tr>\n",
       "    <tr>\n",
       "      <th>4</th>\n",
       "      <td>5</td>\n",
       "      <td>АББ, ООО</td>\n",
       "      <td>1.027739e+12</td>\n",
       "      <td>ABB, OOO</td>\n",
       "      <td>ООО \"АББ\"</td>\n",
       "      <td>13.12.2000</td>\n",
       "      <td>22,0</td>\n",
       "      <td>7727180430</td>\n",
       "      <td>Торговля оптовая производственным электротехни...</td>\n",
       "      <td>Общества с ограниченной ответственностью</td>\n",
       "      <td>...</td>\n",
       "      <td>21 012 268 000</td>\n",
       "      <td>23 143 045 000</td>\n",
       "      <td>22 362 311 000</td>\n",
       "      <td>23 544 957 000</td>\n",
       "      <td>23 339 744 000</td>\n",
       "      <td>1 908 551 000</td>\n",
       "      <td>1 011 902 000</td>\n",
       "      <td>1 142 817 000</td>\n",
       "      <td>-33 797 000</td>\n",
       "      <td>1 555 765 000</td>\n",
       "    </tr>\n",
       "  </tbody>\n",
       "</table>\n",
       "<p>5 rows × 28 columns</p>\n",
       "</div>"
      ],
      "text/plain": [
       "   №     Наименование  Регистрационный номер Наименование на английском  \\\n",
       "0  1    3М ВОЛГА, ООО           1.121674e+12              3M VOLGA, OOO   \n",
       "1  2         CCC, ООО           1.198617e+12                OOO C, CJSC   \n",
       "2  3      WIX-SZ, ООО           1.133538e+12                WIX-SZ, OOO   \n",
       "3  4  А.С. ГРУПП, ООО           1.192375e+12            A.S. GROUP, LLC   \n",
       "4  5         АББ, ООО           1.027739e+12                   ABB, OOO   \n",
       "\n",
       "  Краткое наименование Дата регистрации Возраст компании, лет  \\\n",
       "0        ООО\"3М ВОЛГА\"       16.08.2012                  10,5   \n",
       "1            ООО \"CCC\"       18.06.2019                   3,5   \n",
       "2         ООО \"WIX-SZ\"       12.02.2013                  10,0   \n",
       "3     ООО \"А.С. ГРУПП\"       16.04.2019                   4,0   \n",
       "4            ООО \"АББ\"       13.12.2000                  22,0   \n",
       "\n",
       "   Код налогоплательщика                           Вид деятельности/отрасль  \\\n",
       "0             1646033450         Торговля оптовая прочими бытовыми товарами   \n",
       "1             8608060872  Строительство инженерных коммуникаций для водо...   \n",
       "2             3526030067  Работы строительные специализированные прочие,...   \n",
       "3             2310213891  Консультирование по вопросам коммерческой деят...   \n",
       "4             7727180430  Торговля оптовая производственным электротехни...   \n",
       "\n",
       "              Организационно-правовая форма  ... 2017, Выручка, RUB  \\\n",
       "0  Общества с ограниченной ответственностью  ...         13 300 000   \n",
       "1  Общества с ограниченной ответственностью  ...                NaN   \n",
       "2  Общества с ограниченной ответственностью  ...         18 049 000   \n",
       "3  Общества с ограниченной ответственностью  ...                NaN   \n",
       "4  Общества с ограниченной ответственностью  ...     21 012 268 000   \n",
       "\n",
       "  2018, Выручка, RUB 2019, Выручка, RUB 2020, Выручка, RUB 2021, Выручка, RUB  \\\n",
       "0        104 722 000        218 916 000         19 484 000        153 458 000   \n",
       "1                NaN                NaN         65 126 000         47 022 000   \n",
       "2         11 592 000          5 157 000         11 399 000         15 481 000   \n",
       "3                NaN          1 586 000          5 833 000                NaN   \n",
       "4     23 143 045 000     22 362 311 000     23 544 957 000     23 339 744 000   \n",
       "\n",
       "  2017, Прибыль (убыток) до налогообложения , RUB  \\\n",
       "0                                    -154 449 000   \n",
       "1                                             NaN   \n",
       "2                                         558 000   \n",
       "3                                             NaN   \n",
       "4                                   1 908 551 000   \n",
       "\n",
       "  2018, Прибыль (убыток) до налогообложения , RUB  \\\n",
       "0                                    -147 371 000   \n",
       "1                                             NaN   \n",
       "2                                         548 000   \n",
       "3                                             NaN   \n",
       "4                                   1 011 902 000   \n",
       "\n",
       "  2019, Прибыль (убыток) до налогообложения , RUB  \\\n",
       "0                                    -135 529 000   \n",
       "1                                        -381 000   \n",
       "2                                         279 000   \n",
       "3                                      -2 667 000   \n",
       "4                                   1 142 817 000   \n",
       "\n",
       "  2020, Прибыль (убыток) до налогообложения , RUB  \\\n",
       "0                                    -196 685 000   \n",
       "1                                       8 130 000   \n",
       "2                                         422 000   \n",
       "3                                        -914 000   \n",
       "4                                     -33 797 000   \n",
       "\n",
       "  2021, Прибыль (убыток) до налогообложения , RUB  \n",
       "0                                    -172 832 000  \n",
       "1                                         213 000  \n",
       "2                                         543 000  \n",
       "3                                             NaN  \n",
       "4                                   1 555 765 000  \n",
       "\n",
       "[5 rows x 28 columns]"
      ]
     },
     "execution_count": 14,
     "metadata": {},
     "output_type": "execute_result"
    }
   ],
   "source": [
    "spark.head()"
   ]
  },
  {
   "cell_type": "code",
   "execution_count": 15,
   "id": "c9fde0dc",
   "metadata": {},
   "outputs": [
    {
     "data": {
      "text/plain": [
       "(796, 28)"
      ]
     },
     "execution_count": 15,
     "metadata": {},
     "output_type": "execute_result"
    }
   ],
   "source": [
    "spark.shape"
   ]
  },
  {
   "cell_type": "markdown",
   "id": "ab95f9fc",
   "metadata": {},
   "source": [
    "<span style=\"font-size: 17px;\"> Delete all unnecessary columns"
   ]
  },
  {
   "cell_type": "code",
   "execution_count": 16,
   "id": "60e149b8",
   "metadata": {},
   "outputs": [],
   "source": [
    "columns_to_drop = ['№', 'Наименование', 'Регистрационный номер', 'Краткое наименование', 'Дата регистрации']\n",
    "spark = spark.drop(columns_to_drop, axis=1)"
   ]
  },
  {
   "cell_type": "code",
   "execution_count": 17,
   "id": "dd8eecc6",
   "metadata": {},
   "outputs": [
    {
     "name": "stdout",
     "output_type": "stream",
     "text": [
      "Index(['Наименование на английском', 'Возраст компании, лет',\n",
      "       'Код налогоплательщика', 'Вид деятельности/отрасль',\n",
      "       'Организационно-правовая форма', 'Форма собственности',\n",
      "       'Размер компании', '2017, Среднесписочная численность работников',\n",
      "       '2018, Среднесписочная численность работников',\n",
      "       '2019, Среднесписочная численность работников',\n",
      "       '2020, Среднесписочная численность работников',\n",
      "       '2021, Среднесписочная численность работников', 'Мои списки',\n",
      "       '2017, Выручка, RUB', '2018, Выручка, RUB', '2019, Выручка, RUB',\n",
      "       '2020, Выручка, RUB', '2021, Выручка, RUB',\n",
      "       '2017, Прибыль (убыток) до налогообложения , RUB',\n",
      "       '2018, Прибыль (убыток) до налогообложения , RUB',\n",
      "       '2019, Прибыль (убыток) до налогообложения , RUB',\n",
      "       '2020, Прибыль (убыток) до налогообложения , RUB',\n",
      "       '2021, Прибыль (убыток) до налогообложения , RUB'],\n",
      "      dtype='object')\n"
     ]
    }
   ],
   "source": [
    "print(spark.columns)"
   ]
  },
  {
   "cell_type": "markdown",
   "id": "c8983b54",
   "metadata": {},
   "source": [
    "<span style=\"font-size: 17px;\"> Rename columns 'Наименование на английском' and 'Код налогоплательщика' to 'Company' and 'INT'"
   ]
  },
  {
   "cell_type": "code",
   "execution_count": 18,
   "id": "57866a72",
   "metadata": {},
   "outputs": [],
   "source": [
    "spark = spark.rename(columns={\"Наименование на английском\": \"Company\"})\n",
    "spark = spark.rename(columns={\"Код налогоплательщика\": \"INT\"})\n",
    "# spark['Company'] = spark['Company'].str.lower()"
   ]
  },
  {
   "cell_type": "code",
   "execution_count": 19,
   "id": "c8f381b3",
   "metadata": {},
   "outputs": [
    {
     "data": {
      "text/html": [
       "<div>\n",
       "<style scoped>\n",
       "    .dataframe tbody tr th:only-of-type {\n",
       "        vertical-align: middle;\n",
       "    }\n",
       "\n",
       "    .dataframe tbody tr th {\n",
       "        vertical-align: top;\n",
       "    }\n",
       "\n",
       "    .dataframe thead th {\n",
       "        text-align: right;\n",
       "    }\n",
       "</style>\n",
       "<table border=\"1\" class=\"dataframe\">\n",
       "  <thead>\n",
       "    <tr style=\"text-align: right;\">\n",
       "      <th></th>\n",
       "      <th>Company</th>\n",
       "      <th>Возраст компании, лет</th>\n",
       "      <th>INT</th>\n",
       "      <th>Вид деятельности/отрасль</th>\n",
       "      <th>Организационно-правовая форма</th>\n",
       "      <th>Форма собственности</th>\n",
       "      <th>Размер компании</th>\n",
       "      <th>2017, Среднесписочная численность работников</th>\n",
       "      <th>2018, Среднесписочная численность работников</th>\n",
       "      <th>2019, Среднесписочная численность работников</th>\n",
       "      <th>...</th>\n",
       "      <th>2017, Выручка, RUB</th>\n",
       "      <th>2018, Выручка, RUB</th>\n",
       "      <th>2019, Выручка, RUB</th>\n",
       "      <th>2020, Выручка, RUB</th>\n",
       "      <th>2021, Выручка, RUB</th>\n",
       "      <th>2017, Прибыль (убыток) до налогообложения , RUB</th>\n",
       "      <th>2018, Прибыль (убыток) до налогообложения , RUB</th>\n",
       "      <th>2019, Прибыль (убыток) до налогообложения , RUB</th>\n",
       "      <th>2020, Прибыль (убыток) до налогообложения , RUB</th>\n",
       "      <th>2021, Прибыль (убыток) до налогообложения , RUB</th>\n",
       "    </tr>\n",
       "  </thead>\n",
       "  <tbody>\n",
       "    <tr>\n",
       "      <th>0</th>\n",
       "      <td>3M VOLGA, OOO</td>\n",
       "      <td>10,5</td>\n",
       "      <td>1646033450</td>\n",
       "      <td>Торговля оптовая прочими бытовыми товарами</td>\n",
       "      <td>Общества с ограниченной ответственностью</td>\n",
       "      <td>Собственность иностранных юридических лиц</td>\n",
       "      <td>Малые предприятия</td>\n",
       "      <td>4</td>\n",
       "      <td>8</td>\n",
       "      <td>7</td>\n",
       "      <td>...</td>\n",
       "      <td>13 300 000</td>\n",
       "      <td>104 722 000</td>\n",
       "      <td>218 916 000</td>\n",
       "      <td>19 484 000</td>\n",
       "      <td>153 458 000</td>\n",
       "      <td>-154 449 000</td>\n",
       "      <td>-147 371 000</td>\n",
       "      <td>-135 529 000</td>\n",
       "      <td>-196 685 000</td>\n",
       "      <td>-172 832 000</td>\n",
       "    </tr>\n",
       "  </tbody>\n",
       "</table>\n",
       "<p>1 rows × 23 columns</p>\n",
       "</div>"
      ],
      "text/plain": [
       "         Company Возраст компании, лет         INT  \\\n",
       "0  3M VOLGA, OOO                  10,5  1646033450   \n",
       "\n",
       "                     Вид деятельности/отрасль  \\\n",
       "0  Торговля оптовая прочими бытовыми товарами   \n",
       "\n",
       "              Организационно-правовая форма  \\\n",
       "0  Общества с ограниченной ответственностью   \n",
       "\n",
       "                         Форма собственности    Размер компании  \\\n",
       "0  Собственность иностранных юридических лиц  Малые предприятия   \n",
       "\n",
       "  2017, Среднесписочная численность работников  \\\n",
       "0                                            4   \n",
       "\n",
       "  2018, Среднесписочная численность работников  \\\n",
       "0                                            8   \n",
       "\n",
       "  2019, Среднесписочная численность работников  ... 2017, Выручка, RUB  \\\n",
       "0                                            7  ...         13 300 000   \n",
       "\n",
       "  2018, Выручка, RUB 2019, Выручка, RUB 2020, Выручка, RUB 2021, Выручка, RUB  \\\n",
       "0        104 722 000        218 916 000         19 484 000        153 458 000   \n",
       "\n",
       "  2017, Прибыль (убыток) до налогообложения , RUB  \\\n",
       "0                                    -154 449 000   \n",
       "\n",
       "  2018, Прибыль (убыток) до налогообложения , RUB  \\\n",
       "0                                    -147 371 000   \n",
       "\n",
       "  2019, Прибыль (убыток) до налогообложения , RUB  \\\n",
       "0                                    -135 529 000   \n",
       "\n",
       "  2020, Прибыль (убыток) до налогообложения , RUB  \\\n",
       "0                                    -196 685 000   \n",
       "\n",
       "  2021, Прибыль (убыток) до налогообложения , RUB  \n",
       "0                                    -172 832 000  \n",
       "\n",
       "[1 rows x 23 columns]"
      ]
     },
     "execution_count": 19,
     "metadata": {},
     "output_type": "execute_result"
    }
   ],
   "source": [
    "spark.head(1)"
   ]
  },
  {
   "cell_type": "markdown",
   "id": "249ec4f4",
   "metadata": {},
   "source": [
    "# Merging two databases into one"
   ]
  },
  {
   "cell_type": "code",
   "execution_count": 20,
   "id": "9411e42f",
   "metadata": {},
   "outputs": [],
   "source": [
    "df_merged = data.merge(spark, on='INT')"
   ]
  },
  {
   "cell_type": "code",
   "execution_count": 21,
   "id": "66a2de7a",
   "metadata": {},
   "outputs": [
    {
     "data": {
      "text/html": [
       "<div>\n",
       "<style scoped>\n",
       "    .dataframe tbody tr th:only-of-type {\n",
       "        vertical-align: middle;\n",
       "    }\n",
       "\n",
       "    .dataframe tbody tr th {\n",
       "        vertical-align: top;\n",
       "    }\n",
       "\n",
       "    .dataframe thead th {\n",
       "        text-align: right;\n",
       "    }\n",
       "</style>\n",
       "<table border=\"1\" class=\"dataframe\">\n",
       "  <thead>\n",
       "    <tr style=\"text-align: right;\">\n",
       "      <th></th>\n",
       "      <th>Company_x</th>\n",
       "      <th>Action</th>\n",
       "      <th>Industry</th>\n",
       "      <th>Country</th>\n",
       "      <th>Tone</th>\n",
       "      <th>INT</th>\n",
       "      <th>Company_y</th>\n",
       "      <th>Возраст компании, лет</th>\n",
       "      <th>Вид деятельности/отрасль</th>\n",
       "      <th>Организационно-правовая форма</th>\n",
       "      <th>...</th>\n",
       "      <th>2017, Выручка, RUB</th>\n",
       "      <th>2018, Выручка, RUB</th>\n",
       "      <th>2019, Выручка, RUB</th>\n",
       "      <th>2020, Выручка, RUB</th>\n",
       "      <th>2021, Выручка, RUB</th>\n",
       "      <th>2017, Прибыль (убыток) до налогообложения , RUB</th>\n",
       "      <th>2018, Прибыль (убыток) до налогообложения , RUB</th>\n",
       "      <th>2019, Прибыль (убыток) до налогообложения , RUB</th>\n",
       "      <th>2020, Прибыль (убыток) до налогообложения , RUB</th>\n",
       "      <th>2021, Прибыль (убыток) до налогообложения , RUB</th>\n",
       "    </tr>\n",
       "  </thead>\n",
       "  <tbody>\n",
       "    <tr>\n",
       "      <th>0</th>\n",
       "      <td>1840 &amp; Company</td>\n",
       "      <td>['suspend', 'aesthetics', 'operations', ',', '...</td>\n",
       "      <td>Health Care</td>\n",
       "      <td>United States</td>\n",
       "      <td>paused</td>\n",
       "      <td>7743855873</td>\n",
       "      <td>EBBVI, OOO</td>\n",
       "      <td>10,5</td>\n",
       "      <td>Торговля оптовая фармацевтической продукцией</td>\n",
       "      <td>Общества с ограниченной ответственностью</td>\n",
       "      <td>...</td>\n",
       "      <td>10 254 588 000</td>\n",
       "      <td>9 951 071 000</td>\n",
       "      <td>10 208 217 000</td>\n",
       "      <td>11 038 418 000</td>\n",
       "      <td>10 107 069 000</td>\n",
       "      <td>39 767 000</td>\n",
       "      <td>115 612 000</td>\n",
       "      <td>-98 477 000</td>\n",
       "      <td>436 625 000</td>\n",
       "      <td>492 786 000</td>\n",
       "    </tr>\n",
       "    <tr>\n",
       "      <th>1</th>\n",
       "      <td>3HC Semiconductors</td>\n",
       "      <td>['some', 'clients', 'no', 'longer', 'supplied'...</td>\n",
       "      <td>Materials</td>\n",
       "      <td>France</td>\n",
       "      <td>leaved</td>\n",
       "      <td>3528103017</td>\n",
       "      <td>ALS, AO</td>\n",
       "      <td>17,5</td>\n",
       "      <td>Производство промышленных газов</td>\n",
       "      <td>Непубличные акционерные общества</td>\n",
       "      <td>...</td>\n",
       "      <td>4 241 597 000</td>\n",
       "      <td>4 085 493 000</td>\n",
       "      <td>4 219 756 000</td>\n",
       "      <td>4 261 008 000</td>\n",
       "      <td>3 935 799 000</td>\n",
       "      <td>1 758 438 000</td>\n",
       "      <td>1 923 752 000</td>\n",
       "      <td>2 082 180 000</td>\n",
       "      <td>2 148 197 000</td>\n",
       "      <td>2 038 560 000</td>\n",
       "    </tr>\n",
       "    <tr>\n",
       "      <th>2</th>\n",
       "      <td>3M</td>\n",
       "      <td>['suspend', 'supply', 'of', 'parts', 'and', 'd...</td>\n",
       "      <td>Industrials</td>\n",
       "      <td>Netherlands</td>\n",
       "      <td>continue</td>\n",
       "      <td>9704116463</td>\n",
       "      <td>AIRBUS, LLC</td>\n",
       "      <td>1,0</td>\n",
       "      <td>Деятельность туристических агентств</td>\n",
       "      <td>Общества с ограниченной ответственностью</td>\n",
       "      <td>...</td>\n",
       "      <td>NaN</td>\n",
       "      <td>NaN</td>\n",
       "      <td>NaN</td>\n",
       "      <td>NaN</td>\n",
       "      <td>NaN</td>\n",
       "      <td>NaN</td>\n",
       "      <td>NaN</td>\n",
       "      <td>NaN</td>\n",
       "      <td>NaN</td>\n",
       "      <td>NaN</td>\n",
       "    </tr>\n",
       "    <tr>\n",
       "      <th>3</th>\n",
       "      <td>AAK</td>\n",
       "      <td>['suspended', 'some', 'shipments']</td>\n",
       "      <td>Information Technology</td>\n",
       "      <td>Japan</td>\n",
       "      <td>leaved</td>\n",
       "      <td>7714391842</td>\n",
       "      <td>FUDZHIFILM RUS, OOO</td>\n",
       "      <td>29,0</td>\n",
       "      <td>Торговля оптовая неспециализированная</td>\n",
       "      <td>Общества с ограниченной ответственностью</td>\n",
       "      <td>...</td>\n",
       "      <td>3 178 782 000</td>\n",
       "      <td>3 672 729 000</td>\n",
       "      <td>2 898 280 000</td>\n",
       "      <td>2 800 149 000</td>\n",
       "      <td>3 410 160 000</td>\n",
       "      <td>117 504 000</td>\n",
       "      <td>49 294 000</td>\n",
       "      <td>188 041 000</td>\n",
       "      <td>265 433 000</td>\n",
       "      <td>446 284 000</td>\n",
       "    </tr>\n",
       "    <tr>\n",
       "      <th>4</th>\n",
       "      <td>ABC</td>\n",
       "      <td>['no', 'new', 'business', 'in', 'russia']</td>\n",
       "      <td>Consumer Discretionary</td>\n",
       "      <td>Austria</td>\n",
       "      <td>leaved</td>\n",
       "      <td>9715417769</td>\n",
       "      <td>HERZ GROUP RUS, LLC</td>\n",
       "      <td>0,5</td>\n",
       "      <td>Торговля оптовая водопроводным и отопительным ...</td>\n",
       "      <td>Общества с ограниченной ответственностью</td>\n",
       "      <td>...</td>\n",
       "      <td>NaN</td>\n",
       "      <td>NaN</td>\n",
       "      <td>NaN</td>\n",
       "      <td>NaN</td>\n",
       "      <td>NaN</td>\n",
       "      <td>NaN</td>\n",
       "      <td>NaN</td>\n",
       "      <td>NaN</td>\n",
       "      <td>NaN</td>\n",
       "      <td>NaN</td>\n",
       "    </tr>\n",
       "  </tbody>\n",
       "</table>\n",
       "<p>5 rows × 28 columns</p>\n",
       "</div>"
      ],
      "text/plain": [
       "            Company_x                                             Action  \\\n",
       "0      1840 & Company  ['suspend', 'aesthetics', 'operations', ',', '...   \n",
       "1  3HC Semiconductors  ['some', 'clients', 'no', 'longer', 'supplied'...   \n",
       "2                  3M  ['suspend', 'supply', 'of', 'parts', 'and', 'd...   \n",
       "3                 AAK                 ['suspended', 'some', 'shipments']   \n",
       "4                 ABC          ['no', 'new', 'business', 'in', 'russia']   \n",
       "\n",
       "                 Industry        Country      Tone         INT  \\\n",
       "0             Health Care  United States    paused  7743855873   \n",
       "1               Materials         France    leaved  3528103017   \n",
       "2             Industrials    Netherlands  continue  9704116463   \n",
       "3  Information Technology          Japan    leaved  7714391842   \n",
       "4  Consumer Discretionary        Austria    leaved  9715417769   \n",
       "\n",
       "             Company_y Возраст компании, лет  \\\n",
       "0           EBBVI, OOO                  10,5   \n",
       "1              ALS, AO                  17,5   \n",
       "2          AIRBUS, LLC                   1,0   \n",
       "3  FUDZHIFILM RUS, OOO                  29,0   \n",
       "4  HERZ GROUP RUS, LLC                   0,5   \n",
       "\n",
       "                            Вид деятельности/отрасль  \\\n",
       "0       Торговля оптовая фармацевтической продукцией   \n",
       "1                    Производство промышленных газов   \n",
       "2                Деятельность туристических агентств   \n",
       "3              Торговля оптовая неспециализированная   \n",
       "4  Торговля оптовая водопроводным и отопительным ...   \n",
       "\n",
       "              Организационно-правовая форма  ... 2017, Выручка, RUB  \\\n",
       "0  Общества с ограниченной ответственностью  ...     10 254 588 000   \n",
       "1          Непубличные акционерные общества  ...      4 241 597 000   \n",
       "2  Общества с ограниченной ответственностью  ...                NaN   \n",
       "3  Общества с ограниченной ответственностью  ...      3 178 782 000   \n",
       "4  Общества с ограниченной ответственностью  ...                NaN   \n",
       "\n",
       "  2018, Выручка, RUB 2019, Выручка, RUB 2020, Выручка, RUB 2021, Выручка, RUB  \\\n",
       "0      9 951 071 000     10 208 217 000     11 038 418 000     10 107 069 000   \n",
       "1      4 085 493 000      4 219 756 000      4 261 008 000      3 935 799 000   \n",
       "2                NaN                NaN                NaN                NaN   \n",
       "3      3 672 729 000      2 898 280 000      2 800 149 000      3 410 160 000   \n",
       "4                NaN                NaN                NaN                NaN   \n",
       "\n",
       "  2017, Прибыль (убыток) до налогообложения , RUB  \\\n",
       "0                                      39 767 000   \n",
       "1                                   1 758 438 000   \n",
       "2                                             NaN   \n",
       "3                                     117 504 000   \n",
       "4                                             NaN   \n",
       "\n",
       "  2018, Прибыль (убыток) до налогообложения , RUB  \\\n",
       "0                                     115 612 000   \n",
       "1                                   1 923 752 000   \n",
       "2                                             NaN   \n",
       "3                                      49 294 000   \n",
       "4                                             NaN   \n",
       "\n",
       "  2019, Прибыль (убыток) до налогообложения , RUB  \\\n",
       "0                                     -98 477 000   \n",
       "1                                   2 082 180 000   \n",
       "2                                             NaN   \n",
       "3                                     188 041 000   \n",
       "4                                             NaN   \n",
       "\n",
       "  2020, Прибыль (убыток) до налогообложения , RUB  \\\n",
       "0                                     436 625 000   \n",
       "1                                   2 148 197 000   \n",
       "2                                             NaN   \n",
       "3                                     265 433 000   \n",
       "4                                             NaN   \n",
       "\n",
       "  2021, Прибыль (убыток) до налогообложения , RUB  \n",
       "0                                     492 786 000  \n",
       "1                                   2 038 560 000  \n",
       "2                                             NaN  \n",
       "3                                     446 284 000  \n",
       "4                                             NaN  \n",
       "\n",
       "[5 rows x 28 columns]"
      ]
     },
     "execution_count": 21,
     "metadata": {},
     "output_type": "execute_result"
    }
   ],
   "source": [
    "df_merged.head()"
   ]
  },
  {
   "cell_type": "code",
   "execution_count": 22,
   "id": "78128d00",
   "metadata": {},
   "outputs": [],
   "source": [
    "df_merged = df_merged.rename(columns={\"Company_y\": \"Company\"})\n",
    "\n",
    "df_merged = df_merged.drop({'Company_x', 'INT', \n",
    "                          '2017, Среднесписочная численность работников', \n",
    "                          '2018, Среднесписочная численность работников', \n",
    "                          '2019, Среднесписочная численность работников',\n",
    "                          '2020, Среднесписочная численность работников', \n",
    "                          '2021, Среднесписочная численность работников',\n",
    "                          'Мои списки'}, axis=1)"
   ]
  },
  {
   "cell_type": "code",
   "execution_count": 23,
   "id": "f730f02f",
   "metadata": {},
   "outputs": [],
   "source": [
    "df_merged = df_merged[['Company', 'Industry', 'Country', 'Action', 'Tone', 'Возраст компании, лет',\n",
    "       'Вид деятельности/отрасль', 'Организационно-правовая форма',\n",
    "       'Форма собственности', 'Размер компании', '2017, Выручка, RUB',\n",
    "       '2018, Выручка, RUB', '2019, Выручка, RUB', '2020, Выручка, RUB',\n",
    "       '2021, Выручка, RUB', '2017, Прибыль (убыток) до налогообложения , RUB',\n",
    "       '2018, Прибыль (убыток) до налогообложения , RUB',\n",
    "       '2019, Прибыль (убыток) до налогообложения , RUB',\n",
    "       '2020, Прибыль (убыток) до налогообложения , RUB',\n",
    "       '2021, Прибыль (убыток) до налогообложения , RUB']]"
   ]
  },
  {
   "cell_type": "code",
   "execution_count": 24,
   "id": "ae092608",
   "metadata": {},
   "outputs": [
    {
     "data": {
      "text/html": [
       "<div>\n",
       "<style scoped>\n",
       "    .dataframe tbody tr th:only-of-type {\n",
       "        vertical-align: middle;\n",
       "    }\n",
       "\n",
       "    .dataframe tbody tr th {\n",
       "        vertical-align: top;\n",
       "    }\n",
       "\n",
       "    .dataframe thead th {\n",
       "        text-align: right;\n",
       "    }\n",
       "</style>\n",
       "<table border=\"1\" class=\"dataframe\">\n",
       "  <thead>\n",
       "    <tr style=\"text-align: right;\">\n",
       "      <th></th>\n",
       "      <th>Company</th>\n",
       "      <th>Industry</th>\n",
       "      <th>Country</th>\n",
       "      <th>Action</th>\n",
       "      <th>Tone</th>\n",
       "      <th>Возраст компании, лет</th>\n",
       "      <th>Вид деятельности/отрасль</th>\n",
       "      <th>Организационно-правовая форма</th>\n",
       "      <th>Форма собственности</th>\n",
       "      <th>Размер компании</th>\n",
       "      <th>2017, Выручка, RUB</th>\n",
       "      <th>2018, Выручка, RUB</th>\n",
       "      <th>2019, Выручка, RUB</th>\n",
       "      <th>2020, Выручка, RUB</th>\n",
       "      <th>2021, Выручка, RUB</th>\n",
       "      <th>2017, Прибыль (убыток) до налогообложения , RUB</th>\n",
       "      <th>2018, Прибыль (убыток) до налогообложения , RUB</th>\n",
       "      <th>2019, Прибыль (убыток) до налогообложения , RUB</th>\n",
       "      <th>2020, Прибыль (убыток) до налогообложения , RUB</th>\n",
       "      <th>2021, Прибыль (убыток) до налогообложения , RUB</th>\n",
       "    </tr>\n",
       "  </thead>\n",
       "  <tbody>\n",
       "    <tr>\n",
       "      <th>0</th>\n",
       "      <td>EBBVI, OOO</td>\n",
       "      <td>Health Care</td>\n",
       "      <td>United States</td>\n",
       "      <td>['suspend', 'aesthetics', 'operations', ',', '...</td>\n",
       "      <td>paused</td>\n",
       "      <td>10,5</td>\n",
       "      <td>Торговля оптовая фармацевтической продукцией</td>\n",
       "      <td>Общества с ограниченной ответственностью</td>\n",
       "      <td>Собственность иностранных юридических лиц</td>\n",
       "      <td>Крупные предприятия</td>\n",
       "      <td>10 254 588 000</td>\n",
       "      <td>9 951 071 000</td>\n",
       "      <td>10 208 217 000</td>\n",
       "      <td>11 038 418 000</td>\n",
       "      <td>10 107 069 000</td>\n",
       "      <td>39 767 000</td>\n",
       "      <td>115 612 000</td>\n",
       "      <td>-98 477 000</td>\n",
       "      <td>436 625 000</td>\n",
       "      <td>492 786 000</td>\n",
       "    </tr>\n",
       "    <tr>\n",
       "      <th>1</th>\n",
       "      <td>ALS, AO</td>\n",
       "      <td>Materials</td>\n",
       "      <td>France</td>\n",
       "      <td>['some', 'clients', 'no', 'longer', 'supplied'...</td>\n",
       "      <td>leaved</td>\n",
       "      <td>17,5</td>\n",
       "      <td>Производство промышленных газов</td>\n",
       "      <td>Непубличные акционерные общества</td>\n",
       "      <td>Совместная частная и иностранная собственность</td>\n",
       "      <td>Крупные предприятия</td>\n",
       "      <td>4 241 597 000</td>\n",
       "      <td>4 085 493 000</td>\n",
       "      <td>4 219 756 000</td>\n",
       "      <td>4 261 008 000</td>\n",
       "      <td>3 935 799 000</td>\n",
       "      <td>1 758 438 000</td>\n",
       "      <td>1 923 752 000</td>\n",
       "      <td>2 082 180 000</td>\n",
       "      <td>2 148 197 000</td>\n",
       "      <td>2 038 560 000</td>\n",
       "    </tr>\n",
       "    <tr>\n",
       "      <th>2</th>\n",
       "      <td>AIRBUS, LLC</td>\n",
       "      <td>Industrials</td>\n",
       "      <td>Netherlands</td>\n",
       "      <td>['suspend', 'supply', 'of', 'parts', 'and', 'd...</td>\n",
       "      <td>continue</td>\n",
       "      <td>1,0</td>\n",
       "      <td>Деятельность туристических агентств</td>\n",
       "      <td>Общества с ограниченной ответственностью</td>\n",
       "      <td>Частная собственность</td>\n",
       "      <td>NaN</td>\n",
       "      <td>NaN</td>\n",
       "      <td>NaN</td>\n",
       "      <td>NaN</td>\n",
       "      <td>NaN</td>\n",
       "      <td>NaN</td>\n",
       "      <td>NaN</td>\n",
       "      <td>NaN</td>\n",
       "      <td>NaN</td>\n",
       "      <td>NaN</td>\n",
       "      <td>NaN</td>\n",
       "    </tr>\n",
       "    <tr>\n",
       "      <th>3</th>\n",
       "      <td>FUDZHIFILM RUS, OOO</td>\n",
       "      <td>Information Technology</td>\n",
       "      <td>Japan</td>\n",
       "      <td>['suspended', 'some', 'shipments']</td>\n",
       "      <td>leaved</td>\n",
       "      <td>29,0</td>\n",
       "      <td>Торговля оптовая неспециализированная</td>\n",
       "      <td>Общества с ограниченной ответственностью</td>\n",
       "      <td>Собственность иностранных юридических лиц</td>\n",
       "      <td>Крупные предприятия</td>\n",
       "      <td>3 178 782 000</td>\n",
       "      <td>3 672 729 000</td>\n",
       "      <td>2 898 280 000</td>\n",
       "      <td>2 800 149 000</td>\n",
       "      <td>3 410 160 000</td>\n",
       "      <td>117 504 000</td>\n",
       "      <td>49 294 000</td>\n",
       "      <td>188 041 000</td>\n",
       "      <td>265 433 000</td>\n",
       "      <td>446 284 000</td>\n",
       "    </tr>\n",
       "    <tr>\n",
       "      <th>4</th>\n",
       "      <td>HERZ GROUP RUS, LLC</td>\n",
       "      <td>Consumer Discretionary</td>\n",
       "      <td>Austria</td>\n",
       "      <td>['no', 'new', 'business', 'in', 'russia']</td>\n",
       "      <td>leaved</td>\n",
       "      <td>0,5</td>\n",
       "      <td>Торговля оптовая водопроводным и отопительным ...</td>\n",
       "      <td>Общества с ограниченной ответственностью</td>\n",
       "      <td>Частная собственность</td>\n",
       "      <td>NaN</td>\n",
       "      <td>NaN</td>\n",
       "      <td>NaN</td>\n",
       "      <td>NaN</td>\n",
       "      <td>NaN</td>\n",
       "      <td>NaN</td>\n",
       "      <td>NaN</td>\n",
       "      <td>NaN</td>\n",
       "      <td>NaN</td>\n",
       "      <td>NaN</td>\n",
       "      <td>NaN</td>\n",
       "    </tr>\n",
       "  </tbody>\n",
       "</table>\n",
       "</div>"
      ],
      "text/plain": [
       "               Company                Industry        Country  \\\n",
       "0           EBBVI, OOO             Health Care  United States   \n",
       "1              ALS, AO               Materials         France   \n",
       "2          AIRBUS, LLC             Industrials    Netherlands   \n",
       "3  FUDZHIFILM RUS, OOO  Information Technology          Japan   \n",
       "4  HERZ GROUP RUS, LLC  Consumer Discretionary        Austria   \n",
       "\n",
       "                                              Action      Tone  \\\n",
       "0  ['suspend', 'aesthetics', 'operations', ',', '...    paused   \n",
       "1  ['some', 'clients', 'no', 'longer', 'supplied'...    leaved   \n",
       "2  ['suspend', 'supply', 'of', 'parts', 'and', 'd...  continue   \n",
       "3                 ['suspended', 'some', 'shipments']    leaved   \n",
       "4          ['no', 'new', 'business', 'in', 'russia']    leaved   \n",
       "\n",
       "  Возраст компании, лет                           Вид деятельности/отрасль  \\\n",
       "0                  10,5       Торговля оптовая фармацевтической продукцией   \n",
       "1                  17,5                    Производство промышленных газов   \n",
       "2                   1,0                Деятельность туристических агентств   \n",
       "3                  29,0              Торговля оптовая неспециализированная   \n",
       "4                   0,5  Торговля оптовая водопроводным и отопительным ...   \n",
       "\n",
       "              Организационно-правовая форма  \\\n",
       "0  Общества с ограниченной ответственностью   \n",
       "1          Непубличные акционерные общества   \n",
       "2  Общества с ограниченной ответственностью   \n",
       "3  Общества с ограниченной ответственностью   \n",
       "4  Общества с ограниченной ответственностью   \n",
       "\n",
       "                              Форма собственности      Размер компании  \\\n",
       "0       Собственность иностранных юридических лиц  Крупные предприятия   \n",
       "1  Совместная частная и иностранная собственность  Крупные предприятия   \n",
       "2                           Частная собственность                  NaN   \n",
       "3       Собственность иностранных юридических лиц  Крупные предприятия   \n",
       "4                           Частная собственность                  NaN   \n",
       "\n",
       "  2017, Выручка, RUB 2018, Выручка, RUB 2019, Выручка, RUB 2020, Выручка, RUB  \\\n",
       "0     10 254 588 000      9 951 071 000     10 208 217 000     11 038 418 000   \n",
       "1      4 241 597 000      4 085 493 000      4 219 756 000      4 261 008 000   \n",
       "2                NaN                NaN                NaN                NaN   \n",
       "3      3 178 782 000      3 672 729 000      2 898 280 000      2 800 149 000   \n",
       "4                NaN                NaN                NaN                NaN   \n",
       "\n",
       "  2021, Выручка, RUB 2017, Прибыль (убыток) до налогообложения , RUB  \\\n",
       "0     10 107 069 000                                      39 767 000   \n",
       "1      3 935 799 000                                   1 758 438 000   \n",
       "2                NaN                                             NaN   \n",
       "3      3 410 160 000                                     117 504 000   \n",
       "4                NaN                                             NaN   \n",
       "\n",
       "  2018, Прибыль (убыток) до налогообложения , RUB  \\\n",
       "0                                     115 612 000   \n",
       "1                                   1 923 752 000   \n",
       "2                                             NaN   \n",
       "3                                      49 294 000   \n",
       "4                                             NaN   \n",
       "\n",
       "  2019, Прибыль (убыток) до налогообложения , RUB  \\\n",
       "0                                     -98 477 000   \n",
       "1                                   2 082 180 000   \n",
       "2                                             NaN   \n",
       "3                                     188 041 000   \n",
       "4                                             NaN   \n",
       "\n",
       "  2020, Прибыль (убыток) до налогообложения , RUB  \\\n",
       "0                                     436 625 000   \n",
       "1                                   2 148 197 000   \n",
       "2                                             NaN   \n",
       "3                                     265 433 000   \n",
       "4                                             NaN   \n",
       "\n",
       "  2021, Прибыль (убыток) до налогообложения , RUB  \n",
       "0                                     492 786 000  \n",
       "1                                   2 038 560 000  \n",
       "2                                             NaN  \n",
       "3                                     446 284 000  \n",
       "4                                             NaN  "
      ]
     },
     "execution_count": 24,
     "metadata": {},
     "output_type": "execute_result"
    }
   ],
   "source": [
    "df_merged.head()"
   ]
  },
  {
   "cell_type": "code",
   "execution_count": 25,
   "id": "a6e2a2c2",
   "metadata": {},
   "outputs": [],
   "source": [
    "database = df_merged.copy()"
   ]
  },
  {
   "cell_type": "markdown",
   "id": "2e7223a8",
   "metadata": {},
   "source": [
    "<span style=\"font-size: 17px;\"> The column 'Возраст компании, лет' is of string datatype. To make it float datatype, we replace , with . "
   ]
  },
  {
   "cell_type": "code",
   "execution_count": 26,
   "id": "87bbc613",
   "metadata": {},
   "outputs": [],
   "source": [
    "if database['Возраст компании, лет'].dtype == object:\n",
    "        # Replace commas with periods in the column\n",
    "        database['Возраст компании, лет'] = database['Возраст компании, лет'].str.replace(',', '.')\n",
    "database['Возраст компании, лет'] = database['Возраст компании, лет'].astype(float)"
   ]
  },
  {
   "cell_type": "markdown",
   "id": "647fd38f",
   "metadata": {},
   "source": [
    "<span style=\"font-size: 17px;\"> Some columns has big number with spaces, therefore they are of a string type.  To make them float datatype, we delete all unnecassary spaces"
   ]
  },
  {
   "cell_type": "code",
   "execution_count": 27,
   "id": "129873c4",
   "metadata": {},
   "outputs": [],
   "source": [
    "database['2017, Выручка, RUB'] = database['2017, Выручка, RUB'].str.replace(' ', '').astype(float)\n",
    "database['2018, Выручка, RUB'] = database['2018, Выручка, RUB'].str.replace(' ', '').astype(float)\n",
    "database['2019, Выручка, RUB'] = database['2019, Выручка, RUB'].str.replace(' ', '').astype(float)\n",
    "database['2020, Выручка, RUB'] = database['2020, Выручка, RUB'].str.replace(' ', '').astype(float)\n",
    "database['2021, Выручка, RUB'] = database['2021, Выручка, RUB'].str.replace(' ', '').astype(float)\n",
    "database['2017, Прибыль (убыток) до налогообложения , RUB'] = database['2017, Прибыль (убыток) до налогообложения , RUB'].str.replace(' ', '').astype(float)\n",
    "database['2018, Прибыль (убыток) до налогообложения , RUB'] = database['2018, Прибыль (убыток) до налогообложения , RUB'].str.replace(' ', '').astype(float)\n",
    "database['2019, Прибыль (убыток) до налогообложения , RUB'] = database['2019, Прибыль (убыток) до налогообложения , RUB'].str.replace(' ', '').astype(float)\n",
    "database['2020, Прибыль (убыток) до налогообложения , RUB'] = database['2020, Прибыль (убыток) до налогообложения , RUB'].str.replace(' ', '').astype(float)\n",
    "database['2021, Прибыль (убыток) до налогообложения , RUB'] = database['2021, Прибыль (убыток) до налогообложения , RUB'].str.replace(' ', '').astype(float)"
   ]
  },
  {
   "cell_type": "code",
   "execution_count": 28,
   "id": "a85cb0eb",
   "metadata": {},
   "outputs": [
    {
     "data": {
      "text/html": [
       "<div>\n",
       "<style scoped>\n",
       "    .dataframe tbody tr th:only-of-type {\n",
       "        vertical-align: middle;\n",
       "    }\n",
       "\n",
       "    .dataframe tbody tr th {\n",
       "        vertical-align: top;\n",
       "    }\n",
       "\n",
       "    .dataframe thead th {\n",
       "        text-align: right;\n",
       "    }\n",
       "</style>\n",
       "<table border=\"1\" class=\"dataframe\">\n",
       "  <thead>\n",
       "    <tr style=\"text-align: right;\">\n",
       "      <th></th>\n",
       "      <th>Company</th>\n",
       "      <th>Industry</th>\n",
       "      <th>Country</th>\n",
       "      <th>Action</th>\n",
       "      <th>Tone</th>\n",
       "      <th>Возраст компании, лет</th>\n",
       "      <th>Вид деятельности/отрасль</th>\n",
       "      <th>Организационно-правовая форма</th>\n",
       "      <th>Форма собственности</th>\n",
       "      <th>Размер компании</th>\n",
       "      <th>2017, Выручка, RUB</th>\n",
       "      <th>2018, Выручка, RUB</th>\n",
       "      <th>2019, Выручка, RUB</th>\n",
       "      <th>2020, Выручка, RUB</th>\n",
       "      <th>2021, Выручка, RUB</th>\n",
       "      <th>2017, Прибыль (убыток) до налогообложения , RUB</th>\n",
       "      <th>2018, Прибыль (убыток) до налогообложения , RUB</th>\n",
       "      <th>2019, Прибыль (убыток) до налогообложения , RUB</th>\n",
       "      <th>2020, Прибыль (убыток) до налогообложения , RUB</th>\n",
       "      <th>2021, Прибыль (убыток) до налогообложения , RUB</th>\n",
       "    </tr>\n",
       "  </thead>\n",
       "  <tbody>\n",
       "    <tr>\n",
       "      <th>0</th>\n",
       "      <td>EBBVI, OOO</td>\n",
       "      <td>Health Care</td>\n",
       "      <td>United States</td>\n",
       "      <td>['suspend', 'aesthetics', 'operations', ',', '...</td>\n",
       "      <td>paused</td>\n",
       "      <td>10.5</td>\n",
       "      <td>Торговля оптовая фармацевтической продукцией</td>\n",
       "      <td>Общества с ограниченной ответственностью</td>\n",
       "      <td>Собственность иностранных юридических лиц</td>\n",
       "      <td>Крупные предприятия</td>\n",
       "      <td>1.025459e+10</td>\n",
       "      <td>9.951071e+09</td>\n",
       "      <td>1.020822e+10</td>\n",
       "      <td>1.103842e+10</td>\n",
       "      <td>1.010707e+10</td>\n",
       "      <td>3.976700e+07</td>\n",
       "      <td>1.156120e+08</td>\n",
       "      <td>-9.847700e+07</td>\n",
       "      <td>4.366250e+08</td>\n",
       "      <td>4.927860e+08</td>\n",
       "    </tr>\n",
       "    <tr>\n",
       "      <th>1</th>\n",
       "      <td>ALS, AO</td>\n",
       "      <td>Materials</td>\n",
       "      <td>France</td>\n",
       "      <td>['some', 'clients', 'no', 'longer', 'supplied'...</td>\n",
       "      <td>leaved</td>\n",
       "      <td>17.5</td>\n",
       "      <td>Производство промышленных газов</td>\n",
       "      <td>Непубличные акционерные общества</td>\n",
       "      <td>Совместная частная и иностранная собственность</td>\n",
       "      <td>Крупные предприятия</td>\n",
       "      <td>4.241597e+09</td>\n",
       "      <td>4.085493e+09</td>\n",
       "      <td>4.219756e+09</td>\n",
       "      <td>4.261008e+09</td>\n",
       "      <td>3.935799e+09</td>\n",
       "      <td>1.758438e+09</td>\n",
       "      <td>1.923752e+09</td>\n",
       "      <td>2.082180e+09</td>\n",
       "      <td>2.148197e+09</td>\n",
       "      <td>2.038560e+09</td>\n",
       "    </tr>\n",
       "    <tr>\n",
       "      <th>2</th>\n",
       "      <td>AIRBUS, LLC</td>\n",
       "      <td>Industrials</td>\n",
       "      <td>Netherlands</td>\n",
       "      <td>['suspend', 'supply', 'of', 'parts', 'and', 'd...</td>\n",
       "      <td>continue</td>\n",
       "      <td>1.0</td>\n",
       "      <td>Деятельность туристических агентств</td>\n",
       "      <td>Общества с ограниченной ответственностью</td>\n",
       "      <td>Частная собственность</td>\n",
       "      <td>NaN</td>\n",
       "      <td>NaN</td>\n",
       "      <td>NaN</td>\n",
       "      <td>NaN</td>\n",
       "      <td>NaN</td>\n",
       "      <td>NaN</td>\n",
       "      <td>NaN</td>\n",
       "      <td>NaN</td>\n",
       "      <td>NaN</td>\n",
       "      <td>NaN</td>\n",
       "      <td>NaN</td>\n",
       "    </tr>\n",
       "    <tr>\n",
       "      <th>3</th>\n",
       "      <td>FUDZHIFILM RUS, OOO</td>\n",
       "      <td>Information Technology</td>\n",
       "      <td>Japan</td>\n",
       "      <td>['suspended', 'some', 'shipments']</td>\n",
       "      <td>leaved</td>\n",
       "      <td>29.0</td>\n",
       "      <td>Торговля оптовая неспециализированная</td>\n",
       "      <td>Общества с ограниченной ответственностью</td>\n",
       "      <td>Собственность иностранных юридических лиц</td>\n",
       "      <td>Крупные предприятия</td>\n",
       "      <td>3.178782e+09</td>\n",
       "      <td>3.672729e+09</td>\n",
       "      <td>2.898280e+09</td>\n",
       "      <td>2.800149e+09</td>\n",
       "      <td>3.410160e+09</td>\n",
       "      <td>1.175040e+08</td>\n",
       "      <td>4.929400e+07</td>\n",
       "      <td>1.880410e+08</td>\n",
       "      <td>2.654330e+08</td>\n",
       "      <td>4.462840e+08</td>\n",
       "    </tr>\n",
       "    <tr>\n",
       "      <th>4</th>\n",
       "      <td>HERZ GROUP RUS, LLC</td>\n",
       "      <td>Consumer Discretionary</td>\n",
       "      <td>Austria</td>\n",
       "      <td>['no', 'new', 'business', 'in', 'russia']</td>\n",
       "      <td>leaved</td>\n",
       "      <td>0.5</td>\n",
       "      <td>Торговля оптовая водопроводным и отопительным ...</td>\n",
       "      <td>Общества с ограниченной ответственностью</td>\n",
       "      <td>Частная собственность</td>\n",
       "      <td>NaN</td>\n",
       "      <td>NaN</td>\n",
       "      <td>NaN</td>\n",
       "      <td>NaN</td>\n",
       "      <td>NaN</td>\n",
       "      <td>NaN</td>\n",
       "      <td>NaN</td>\n",
       "      <td>NaN</td>\n",
       "      <td>NaN</td>\n",
       "      <td>NaN</td>\n",
       "      <td>NaN</td>\n",
       "    </tr>\n",
       "  </tbody>\n",
       "</table>\n",
       "</div>"
      ],
      "text/plain": [
       "               Company                Industry        Country  \\\n",
       "0           EBBVI, OOO             Health Care  United States   \n",
       "1              ALS, AO               Materials         France   \n",
       "2          AIRBUS, LLC             Industrials    Netherlands   \n",
       "3  FUDZHIFILM RUS, OOO  Information Technology          Japan   \n",
       "4  HERZ GROUP RUS, LLC  Consumer Discretionary        Austria   \n",
       "\n",
       "                                              Action      Tone  \\\n",
       "0  ['suspend', 'aesthetics', 'operations', ',', '...    paused   \n",
       "1  ['some', 'clients', 'no', 'longer', 'supplied'...    leaved   \n",
       "2  ['suspend', 'supply', 'of', 'parts', 'and', 'd...  continue   \n",
       "3                 ['suspended', 'some', 'shipments']    leaved   \n",
       "4          ['no', 'new', 'business', 'in', 'russia']    leaved   \n",
       "\n",
       "   Возраст компании, лет                           Вид деятельности/отрасль  \\\n",
       "0                   10.5       Торговля оптовая фармацевтической продукцией   \n",
       "1                   17.5                    Производство промышленных газов   \n",
       "2                    1.0                Деятельность туристических агентств   \n",
       "3                   29.0              Торговля оптовая неспециализированная   \n",
       "4                    0.5  Торговля оптовая водопроводным и отопительным ...   \n",
       "\n",
       "              Организационно-правовая форма  \\\n",
       "0  Общества с ограниченной ответственностью   \n",
       "1          Непубличные акционерные общества   \n",
       "2  Общества с ограниченной ответственностью   \n",
       "3  Общества с ограниченной ответственностью   \n",
       "4  Общества с ограниченной ответственностью   \n",
       "\n",
       "                              Форма собственности      Размер компании  \\\n",
       "0       Собственность иностранных юридических лиц  Крупные предприятия   \n",
       "1  Совместная частная и иностранная собственность  Крупные предприятия   \n",
       "2                           Частная собственность                  NaN   \n",
       "3       Собственность иностранных юридических лиц  Крупные предприятия   \n",
       "4                           Частная собственность                  NaN   \n",
       "\n",
       "   2017, Выручка, RUB  2018, Выручка, RUB  2019, Выручка, RUB  \\\n",
       "0        1.025459e+10        9.951071e+09        1.020822e+10   \n",
       "1        4.241597e+09        4.085493e+09        4.219756e+09   \n",
       "2                 NaN                 NaN                 NaN   \n",
       "3        3.178782e+09        3.672729e+09        2.898280e+09   \n",
       "4                 NaN                 NaN                 NaN   \n",
       "\n",
       "   2020, Выручка, RUB  2021, Выручка, RUB  \\\n",
       "0        1.103842e+10        1.010707e+10   \n",
       "1        4.261008e+09        3.935799e+09   \n",
       "2                 NaN                 NaN   \n",
       "3        2.800149e+09        3.410160e+09   \n",
       "4                 NaN                 NaN   \n",
       "\n",
       "   2017, Прибыль (убыток) до налогообложения , RUB  \\\n",
       "0                                     3.976700e+07   \n",
       "1                                     1.758438e+09   \n",
       "2                                              NaN   \n",
       "3                                     1.175040e+08   \n",
       "4                                              NaN   \n",
       "\n",
       "   2018, Прибыль (убыток) до налогообложения , RUB  \\\n",
       "0                                     1.156120e+08   \n",
       "1                                     1.923752e+09   \n",
       "2                                              NaN   \n",
       "3                                     4.929400e+07   \n",
       "4                                              NaN   \n",
       "\n",
       "   2019, Прибыль (убыток) до налогообложения , RUB  \\\n",
       "0                                    -9.847700e+07   \n",
       "1                                     2.082180e+09   \n",
       "2                                              NaN   \n",
       "3                                     1.880410e+08   \n",
       "4                                              NaN   \n",
       "\n",
       "   2020, Прибыль (убыток) до налогообложения , RUB  \\\n",
       "0                                     4.366250e+08   \n",
       "1                                     2.148197e+09   \n",
       "2                                              NaN   \n",
       "3                                     2.654330e+08   \n",
       "4                                              NaN   \n",
       "\n",
       "   2021, Прибыль (убыток) до налогообложения , RUB  \n",
       "0                                     4.927860e+08  \n",
       "1                                     2.038560e+09  \n",
       "2                                              NaN  \n",
       "3                                     4.462840e+08  \n",
       "4                                              NaN  "
      ]
     },
     "execution_count": 28,
     "metadata": {},
     "output_type": "execute_result"
    }
   ],
   "source": [
    "database.head(5)"
   ]
  },
  {
   "cell_type": "code",
   "execution_count": 29,
   "id": "7e038f0d",
   "metadata": {},
   "outputs": [
    {
     "data": {
      "text/plain": [
       "(476, 20)"
      ]
     },
     "execution_count": 29,
     "metadata": {},
     "output_type": "execute_result"
    }
   ],
   "source": [
    "database.shape"
   ]
  },
  {
   "cell_type": "code",
   "execution_count": 30,
   "id": "99f7c3ff",
   "metadata": {},
   "outputs": [],
   "source": [
    "database['Country'] = database['Country'].replace('United States', 'USA')"
   ]
  },
  {
   "cell_type": "code",
   "execution_count": 31,
   "id": "f367be96",
   "metadata": {},
   "outputs": [],
   "source": [
    "database['Industry'] = database['Industry'].replace('Information Technology', 'IT')"
   ]
  },
  {
   "cell_type": "code",
   "execution_count": 32,
   "id": "46de3e70",
   "metadata": {},
   "outputs": [
    {
     "data": {
      "text/plain": [
       "0"
      ]
     },
     "execution_count": 32,
     "metadata": {},
     "output_type": "execute_result"
    }
   ],
   "source": [
    "count = len(database[database['Industry'] == 'Information technology'])\n",
    "count"
   ]
  },
  {
   "cell_type": "markdown",
   "id": "19dc4436",
   "metadata": {},
   "source": [
    "# Handling missing values"
   ]
  },
  {
   "cell_type": "markdown",
   "id": "81468bc2",
   "metadata": {},
   "source": [
    "<span style=\"font-size: 17px;\"> Count total NaN at each column in a database"
   ]
  },
  {
   "cell_type": "code",
   "execution_count": 33,
   "id": "359720f5",
   "metadata": {},
   "outputs": [
    {
     "name": "stdout",
     "output_type": "stream",
     "text": [
      " \n",
      "Count total NaN at each column in a DataFrame : \n",
      "\n",
      " Company                                              0\n",
      "Industry                                             0\n",
      "Country                                              0\n",
      "Action                                               0\n",
      "Tone                                                 0\n",
      "Возраст компании, лет                                0\n",
      "Вид деятельности/отрасль                             0\n",
      "Организационно-правовая форма                        0\n",
      "Форма собственности                                  0\n",
      "Размер компании                                     77\n",
      "2017, Выручка, RUB                                 123\n",
      "2018, Выручка, RUB                                 111\n",
      "2019, Выручка, RUB                                 104\n",
      "2020, Выручка, RUB                                 100\n",
      "2021, Выручка, RUB                                 106\n",
      "2017, Прибыль (убыток) до налогообложения , RUB    110\n",
      "2018, Прибыль (убыток) до налогообложения , RUB    103\n",
      "2019, Прибыль (убыток) до налогообложения , RUB     89\n",
      "2020, Прибыль (убыток) до налогообложения , RUB     86\n",
      "2021, Прибыль (убыток) до налогообложения , RUB     92\n",
      "dtype: int64\n"
     ]
    }
   ],
   "source": [
    "print(\" \\nCount total NaN at each column in a DataFrame : \\n\\n\", database.isnull().sum())"
   ]
  },
  {
   "cell_type": "markdown",
   "id": "2da0e24d",
   "metadata": {},
   "source": [
    "<span style=\"font-size: 17px;\"> Visualize missing values in dataset"
   ]
  },
  {
   "cell_type": "code",
   "execution_count": 34,
   "id": "fac7edc2",
   "metadata": {
    "scrolled": true
   },
   "outputs": [
    {
     "name": "stdout",
     "output_type": "stream",
     "text": [
      "Collecting missingno\n",
      "  Using cached missingno-0.5.2-py3-none-any.whl (8.7 kB)\n",
      "Requirement already satisfied: scipy in /Users/dl3/anaconda3/lib/python3.10/site-packages (from missingno) (1.10.0)\n",
      "Requirement already satisfied: seaborn in /Users/dl3/anaconda3/lib/python3.10/site-packages (from missingno) (0.12.2)\n",
      "Requirement already satisfied: numpy in /Users/dl3/anaconda3/lib/python3.10/site-packages (from missingno) (1.23.5)\n",
      "Requirement already satisfied: matplotlib in /Users/dl3/anaconda3/lib/python3.10/site-packages (from missingno) (3.7.0)\n",
      "Requirement already satisfied: kiwisolver>=1.0.1 in /Users/dl3/anaconda3/lib/python3.10/site-packages (from matplotlib->missingno) (1.4.4)\n",
      "Requirement already satisfied: fonttools>=4.22.0 in /Users/dl3/anaconda3/lib/python3.10/site-packages (from matplotlib->missingno) (4.25.0)\n",
      "Requirement already satisfied: pillow>=6.2.0 in /Users/dl3/anaconda3/lib/python3.10/site-packages (from matplotlib->missingno) (9.4.0)\n",
      "Requirement already satisfied: contourpy>=1.0.1 in /Users/dl3/anaconda3/lib/python3.10/site-packages (from matplotlib->missingno) (1.0.5)\n",
      "Requirement already satisfied: packaging>=20.0 in /Users/dl3/anaconda3/lib/python3.10/site-packages (from matplotlib->missingno) (22.0)\n",
      "Requirement already satisfied: python-dateutil>=2.7 in /Users/dl3/anaconda3/lib/python3.10/site-packages (from matplotlib->missingno) (2.8.2)\n",
      "Requirement already satisfied: pyparsing>=2.3.1 in /Users/dl3/anaconda3/lib/python3.10/site-packages (from matplotlib->missingno) (3.0.9)\n",
      "Requirement already satisfied: cycler>=0.10 in /Users/dl3/anaconda3/lib/python3.10/site-packages (from matplotlib->missingno) (0.11.0)\n",
      "Requirement already satisfied: pandas>=0.25 in /Users/dl3/anaconda3/lib/python3.10/site-packages (from seaborn->missingno) (1.5.3)\n",
      "Requirement already satisfied: pytz>=2020.1 in /Users/dl3/anaconda3/lib/python3.10/site-packages (from pandas>=0.25->seaborn->missingno) (2022.7)\n",
      "Requirement already satisfied: six>=1.5 in /Users/dl3/anaconda3/lib/python3.10/site-packages (from python-dateutil>=2.7->matplotlib->missingno) (1.16.0)\n",
      "Installing collected packages: missingno\n",
      "Successfully installed missingno-0.5.2\n",
      "Note: you may need to restart the kernel to use updated packages.\n"
     ]
    }
   ],
   "source": [
    "pip install missingno"
   ]
  },
  {
   "cell_type": "markdown",
   "id": "a0229d48",
   "metadata": {},
   "source": [
    "<span style=\"font-size: 17px;\"> Visualize the number of missing values as a bar chart"
   ]
  },
  {
   "cell_type": "code",
   "execution_count": 35,
   "id": "8c083aae",
   "metadata": {},
   "outputs": [
    {
     "data": {
      "text/plain": [
       "<Axes: >"
      ]
     },
     "execution_count": 35,
     "metadata": {},
     "output_type": "execute_result"
    },
    {
     "data": {
      "image/png": "[encoded data removed]",
      "text/plain": [
       "<Figure size 2500x1000 with 3 Axes>"
      ]
     },
     "metadata": {},
     "output_type": "display_data"
    }
   ],
   "source": [
    "import missingno as msno\n",
    "msno.bar(database)"
   ]
  },
  {
   "cell_type": "markdown",
   "id": "ac053fde",
   "metadata": {},
   "source": [
    "<span style=\"font-size: 17px;\"> Visualize the correlation between the number of missing values in different columns as a heatmap.\n",
    "\n",
    "<span style=\"font-size: 17px;\"> As we see below, there is a diagonal with values 0.9, which means that profit and insome highly correlates in terms of null values (if profit value is present, then income value is likely to be present too)"
   ]
  },
  {
   "cell_type": "code",
   "execution_count": 36,
   "id": "af094edd",
   "metadata": {},
   "outputs": [
    {
     "data": {
      "text/plain": [
       "<Axes: >"
      ]
     },
     "execution_count": 36,
     "metadata": {},
     "output_type": "execute_result"
    },
    {
     "data": {
      "image/png": "[encoded data removed]",
      "text/plain": [
       "<Figure size 2000x1200 with 2 Axes>"
      ]
     },
     "metadata": {},
     "output_type": "display_data"
    }
   ],
   "source": [
    "msno.heatmap(database)"
   ]
  },
  {
   "cell_type": "markdown",
   "id": "726c82b4",
   "metadata": {},
   "source": [
    "# Here we have to fill NaN values of proft with mean !!!!!"
   ]
  },
  {
   "cell_type": "markdown",
   "id": "372bf90e",
   "metadata": {},
   "source": [
    "<span style=\"font-size: 17px;\"> Delete all rows where more than 6 NaN values exist"
   ]
  },
  {
   "cell_type": "code",
   "execution_count": 37,
   "id": "4121d8fb",
   "metadata": {},
   "outputs": [],
   "source": [
    "# database.dropna(thresh=database.shape[1] - 6, inplace=True)"
   ]
  },
  {
   "cell_type": "code",
   "execution_count": 38,
   "id": "6f501723",
   "metadata": {},
   "outputs": [
    {
     "name": "stdout",
     "output_type": "stream",
     "text": [
      " \n",
      "Count total NaN at each column in a DataFrame : \n",
      "\n",
      " Company                                              0\n",
      "Industry                                             0\n",
      "Country                                              0\n",
      "Action                                               0\n",
      "Tone                                                 0\n",
      "Возраст компании, лет                                0\n",
      "Вид деятельности/отрасль                             0\n",
      "Организационно-правовая форма                        0\n",
      "Форма собственности                                  0\n",
      "Размер компании                                     77\n",
      "2017, Выручка, RUB                                 123\n",
      "2018, Выручка, RUB                                 111\n",
      "2019, Выручка, RUB                                 104\n",
      "2020, Выручка, RUB                                 100\n",
      "2021, Выручка, RUB                                 106\n",
      "2017, Прибыль (убыток) до налогообложения , RUB    110\n",
      "2018, Прибыль (убыток) до налогообложения , RUB    103\n",
      "2019, Прибыль (убыток) до налогообложения , RUB     89\n",
      "2020, Прибыль (убыток) до налогообложения , RUB     86\n",
      "2021, Прибыль (убыток) до налогообложения , RUB     92\n",
      "dtype: int64\n"
     ]
    }
   ],
   "source": [
    "print(\" \\nCount total NaN at each column in a DataFrame : \\n\\n\", database.isnull().sum())"
   ]
  },
  {
   "cell_type": "code",
   "execution_count": 39,
   "id": "e74f8698",
   "metadata": {},
   "outputs": [
    {
     "data": {
      "text/plain": [
       "(476, 20)"
      ]
     },
     "execution_count": 39,
     "metadata": {},
     "output_type": "execute_result"
    }
   ],
   "source": [
    "database.shape"
   ]
  },
  {
   "cell_type": "code",
   "execution_count": 40,
   "id": "140f80ba",
   "metadata": {},
   "outputs": [],
   "source": [
    "database['Mean Revenue'] = database[['2017, Выручка, RUB', '2018, Выручка, RUB', '2019, Выручка, RUB', '2020, Выручка, RUB', '2021, Выручка, RUB']].mean(axis=1)"
   ]
  },
  {
   "cell_type": "code",
   "execution_count": 41,
   "id": "d3c34d8a",
   "metadata": {},
   "outputs": [],
   "source": [
    "database.dropna(subset=['Mean Revenue'], inplace=True)\n",
    "database.drop(['2017, Выручка, RUB', '2018, Выручка, RUB', '2019, Выручка, RUB', '2020, Выручка, RUB', '2021, Выручка, RUB'], axis=1, inplace=True)\n"
   ]
  },
  {
   "cell_type": "code",
   "execution_count": 42,
   "id": "1c4511ff",
   "metadata": {},
   "outputs": [
    {
     "data": {
      "text/html": [
       "<div>\n",
       "<style scoped>\n",
       "    .dataframe tbody tr th:only-of-type {\n",
       "        vertical-align: middle;\n",
       "    }\n",
       "\n",
       "    .dataframe tbody tr th {\n",
       "        vertical-align: top;\n",
       "    }\n",
       "\n",
       "    .dataframe thead th {\n",
       "        text-align: right;\n",
       "    }\n",
       "</style>\n",
       "<table border=\"1\" class=\"dataframe\">\n",
       "  <thead>\n",
       "    <tr style=\"text-align: right;\">\n",
       "      <th></th>\n",
       "      <th>Company</th>\n",
       "      <th>Industry</th>\n",
       "      <th>Country</th>\n",
       "      <th>Action</th>\n",
       "      <th>Tone</th>\n",
       "      <th>Возраст компании, лет</th>\n",
       "      <th>Вид деятельности/отрасль</th>\n",
       "      <th>Организационно-правовая форма</th>\n",
       "      <th>Форма собственности</th>\n",
       "      <th>Размер компании</th>\n",
       "      <th>2017, Прибыль (убыток) до налогообложения , RUB</th>\n",
       "      <th>2018, Прибыль (убыток) до налогообложения , RUB</th>\n",
       "      <th>2019, Прибыль (убыток) до налогообложения , RUB</th>\n",
       "      <th>2020, Прибыль (убыток) до налогообложения , RUB</th>\n",
       "      <th>2021, Прибыль (убыток) до налогообложения , RUB</th>\n",
       "      <th>Mean Revenue</th>\n",
       "    </tr>\n",
       "  </thead>\n",
       "  <tbody>\n",
       "    <tr>\n",
       "      <th>0</th>\n",
       "      <td>EBBVI, OOO</td>\n",
       "      <td>Health Care</td>\n",
       "      <td>USA</td>\n",
       "      <td>['suspend', 'aesthetics', 'operations', ',', '...</td>\n",
       "      <td>paused</td>\n",
       "      <td>10.5</td>\n",
       "      <td>Торговля оптовая фармацевтической продукцией</td>\n",
       "      <td>Общества с ограниченной ответственностью</td>\n",
       "      <td>Собственность иностранных юридических лиц</td>\n",
       "      <td>Крупные предприятия</td>\n",
       "      <td>3.976700e+07</td>\n",
       "      <td>1.156120e+08</td>\n",
       "      <td>-9.847700e+07</td>\n",
       "      <td>4.366250e+08</td>\n",
       "      <td>4.927860e+08</td>\n",
       "      <td>1.031187e+10</td>\n",
       "    </tr>\n",
       "    <tr>\n",
       "      <th>1</th>\n",
       "      <td>ALS, AO</td>\n",
       "      <td>Materials</td>\n",
       "      <td>France</td>\n",
       "      <td>['some', 'clients', 'no', 'longer', 'supplied'...</td>\n",
       "      <td>leaved</td>\n",
       "      <td>17.5</td>\n",
       "      <td>Производство промышленных газов</td>\n",
       "      <td>Непубличные акционерные общества</td>\n",
       "      <td>Совместная частная и иностранная собственность</td>\n",
       "      <td>Крупные предприятия</td>\n",
       "      <td>1.758438e+09</td>\n",
       "      <td>1.923752e+09</td>\n",
       "      <td>2.082180e+09</td>\n",
       "      <td>2.148197e+09</td>\n",
       "      <td>2.038560e+09</td>\n",
       "      <td>4.148731e+09</td>\n",
       "    </tr>\n",
       "    <tr>\n",
       "      <th>3</th>\n",
       "      <td>FUDZHIFILM RUS, OOO</td>\n",
       "      <td>IT</td>\n",
       "      <td>Japan</td>\n",
       "      <td>['suspended', 'some', 'shipments']</td>\n",
       "      <td>leaved</td>\n",
       "      <td>29.0</td>\n",
       "      <td>Торговля оптовая неспециализированная</td>\n",
       "      <td>Общества с ограниченной ответственностью</td>\n",
       "      <td>Собственность иностранных юридических лиц</td>\n",
       "      <td>Крупные предприятия</td>\n",
       "      <td>1.175040e+08</td>\n",
       "      <td>4.929400e+07</td>\n",
       "      <td>1.880410e+08</td>\n",
       "      <td>2.654330e+08</td>\n",
       "      <td>4.462840e+08</td>\n",
       "      <td>3.192020e+09</td>\n",
       "    </tr>\n",
       "    <tr>\n",
       "      <th>6</th>\n",
       "      <td>ID LOGISTIKS RUS, OOO</td>\n",
       "      <td>Industrials</td>\n",
       "      <td>France</td>\n",
       "      <td>['suspend', 'new', 'investment', 'in', 'russia']</td>\n",
       "      <td>paused</td>\n",
       "      <td>12.5</td>\n",
       "      <td>Деятельность по складированию и хранению</td>\n",
       "      <td>Общества с ограниченной ответственностью</td>\n",
       "      <td>Собственность иностранных юридических лиц</td>\n",
       "      <td>Крупные предприятия</td>\n",
       "      <td>8.034900e+07</td>\n",
       "      <td>-7.945400e+07</td>\n",
       "      <td>-1.681290e+08</td>\n",
       "      <td>6.518300e+07</td>\n",
       "      <td>1.402440e+08</td>\n",
       "      <td>2.062124e+09</td>\n",
       "    </tr>\n",
       "    <tr>\n",
       "      <th>7</th>\n",
       "      <td>MERCK LIFE SCIENCE, LLC</td>\n",
       "      <td>Health Care</td>\n",
       "      <td>USA</td>\n",
       "      <td>['no', 'further', 'investments/clinical', 'tri...</td>\n",
       "      <td>leaved</td>\n",
       "      <td>17.5</td>\n",
       "      <td>Деятельность предпринимательских членских неко...</td>\n",
       "      <td>Общества с ограниченной ответственностью</td>\n",
       "      <td>Собственность иностранных юридических лиц</td>\n",
       "      <td>Средние предприятия</td>\n",
       "      <td>1.023740e+08</td>\n",
       "      <td>9.124000e+07</td>\n",
       "      <td>5.450100e+07</td>\n",
       "      <td>3.063090e+08</td>\n",
       "      <td>3.462030e+08</td>\n",
       "      <td>1.059165e+09</td>\n",
       "    </tr>\n",
       "  </tbody>\n",
       "</table>\n",
       "</div>"
      ],
      "text/plain": [
       "                   Company     Industry Country  \\\n",
       "0               EBBVI, OOO  Health Care     USA   \n",
       "1                  ALS, AO    Materials  France   \n",
       "3      FUDZHIFILM RUS, OOO           IT   Japan   \n",
       "6    ID LOGISTIKS RUS, OOO  Industrials  France   \n",
       "7  MERCK LIFE SCIENCE, LLC  Health Care     USA   \n",
       "\n",
       "                                              Action    Tone  \\\n",
       "0  ['suspend', 'aesthetics', 'operations', ',', '...  paused   \n",
       "1  ['some', 'clients', 'no', 'longer', 'supplied'...  leaved   \n",
       "3                 ['suspended', 'some', 'shipments']  leaved   \n",
       "6   ['suspend', 'new', 'investment', 'in', 'russia']  paused   \n",
       "7  ['no', 'further', 'investments/clinical', 'tri...  leaved   \n",
       "\n",
       "   Возраст компании, лет                           Вид деятельности/отрасль  \\\n",
       "0                   10.5       Торговля оптовая фармацевтической продукцией   \n",
       "1                   17.5                    Производство промышленных газов   \n",
       "3                   29.0              Торговля оптовая неспециализированная   \n",
       "6                   12.5           Деятельность по складированию и хранению   \n",
       "7                   17.5  Деятельность предпринимательских членских неко...   \n",
       "\n",
       "              Организационно-правовая форма  \\\n",
       "0  Общества с ограниченной ответственностью   \n",
       "1          Непубличные акционерные общества   \n",
       "3  Общества с ограниченной ответственностью   \n",
       "6  Общества с ограниченной ответственностью   \n",
       "7  Общества с ограниченной ответственностью   \n",
       "\n",
       "                              Форма собственности      Размер компании  \\\n",
       "0       Собственность иностранных юридических лиц  Крупные предприятия   \n",
       "1  Совместная частная и иностранная собственность  Крупные предприятия   \n",
       "3       Собственность иностранных юридических лиц  Крупные предприятия   \n",
       "6       Собственность иностранных юридических лиц  Крупные предприятия   \n",
       "7       Собственность иностранных юридических лиц  Средние предприятия   \n",
       "\n",
       "   2017, Прибыль (убыток) до налогообложения , RUB  \\\n",
       "0                                     3.976700e+07   \n",
       "1                                     1.758438e+09   \n",
       "3                                     1.175040e+08   \n",
       "6                                     8.034900e+07   \n",
       "7                                     1.023740e+08   \n",
       "\n",
       "   2018, Прибыль (убыток) до налогообложения , RUB  \\\n",
       "0                                     1.156120e+08   \n",
       "1                                     1.923752e+09   \n",
       "3                                     4.929400e+07   \n",
       "6                                    -7.945400e+07   \n",
       "7                                     9.124000e+07   \n",
       "\n",
       "   2019, Прибыль (убыток) до налогообложения , RUB  \\\n",
       "0                                    -9.847700e+07   \n",
       "1                                     2.082180e+09   \n",
       "3                                     1.880410e+08   \n",
       "6                                    -1.681290e+08   \n",
       "7                                     5.450100e+07   \n",
       "\n",
       "   2020, Прибыль (убыток) до налогообложения , RUB  \\\n",
       "0                                     4.366250e+08   \n",
       "1                                     2.148197e+09   \n",
       "3                                     2.654330e+08   \n",
       "6                                     6.518300e+07   \n",
       "7                                     3.063090e+08   \n",
       "\n",
       "   2021, Прибыль (убыток) до налогообложения , RUB  Mean Revenue  \n",
       "0                                     4.927860e+08  1.031187e+10  \n",
       "1                                     2.038560e+09  4.148731e+09  \n",
       "3                                     4.462840e+08  3.192020e+09  \n",
       "6                                     1.402440e+08  2.062124e+09  \n",
       "7                                     3.462030e+08  1.059165e+09  "
      ]
     },
     "execution_count": 42,
     "metadata": {},
     "output_type": "execute_result"
    }
   ],
   "source": [
    "database.head()"
   ]
  },
  {
   "cell_type": "code",
   "execution_count": 43,
   "id": "db70ecec",
   "metadata": {},
   "outputs": [
    {
     "data": {
      "text/plain": [
       "(402, 16)"
      ]
     },
     "execution_count": 43,
     "metadata": {},
     "output_type": "execute_result"
    }
   ],
   "source": [
    "database.shape"
   ]
  },
  {
   "cell_type": "code",
   "execution_count": 44,
   "id": "40d758dc",
   "metadata": {},
   "outputs": [
    {
     "name": "stdout",
     "output_type": "stream",
     "text": [
      " \n",
      "Count total NaN at each column in a DataFrame : \n",
      "\n",
      " Company                                             0\n",
      "Industry                                            0\n",
      "Country                                             0\n",
      "Action                                              0\n",
      "Tone                                                0\n",
      "Возраст компании, лет                               0\n",
      "Вид деятельности/отрасль                            0\n",
      "Организационно-правовая форма                       0\n",
      "Форма собственности                                 0\n",
      "Размер компании                                     8\n",
      "2017, Прибыль (убыток) до налогообложения , RUB    47\n",
      "2018, Прибыль (убыток) до налогообложения , RUB    38\n",
      "2019, Прибыль (убыток) до налогообложения , RUB    23\n",
      "2020, Прибыль (убыток) до налогообложения , RUB    23\n",
      "2021, Прибыль (убыток) до налогообложения , RUB    28\n",
      "Mean Revenue                                        0\n",
      "dtype: int64\n"
     ]
    }
   ],
   "source": [
    "print(\" \\nCount total NaN at each column in a DataFrame : \\n\\n\", database.isnull().sum())"
   ]
  },
  {
   "cell_type": "code",
   "execution_count": 45,
   "id": "c829d240",
   "metadata": {},
   "outputs": [],
   "source": [
    "database['Mean Profit'] = database[['2017, Прибыль (убыток) до налогообложения , RUB', '2018, Прибыль (убыток) до налогообложения , RUB', '2019, Прибыль (убыток) до налогообложения , RUB', '2020, Прибыль (убыток) до налогообложения , RUB', '2021, Прибыль (убыток) до налогообложения , RUB']].mean(axis=1)"
   ]
  },
  {
   "cell_type": "code",
   "execution_count": 46,
   "id": "efc9d565",
   "metadata": {},
   "outputs": [],
   "source": [
    "database.dropna(subset=['Mean Revenue'], inplace=True)\n",
    "database.drop(['2017, Прибыль (убыток) до налогообложения , RUB', '2018, Прибыль (убыток) до налогообложения , RUB', '2019, Прибыль (убыток) до налогообложения , RUB', '2020, Прибыль (убыток) до налогообложения , RUB', '2021, Прибыль (убыток) до налогообложения , RUB'], axis=1, inplace=True)"
   ]
  },
  {
   "cell_type": "code",
   "execution_count": 47,
   "id": "ed1f8e0c",
   "metadata": {},
   "outputs": [
    {
     "data": {
      "text/html": [
       "<div>\n",
       "<style scoped>\n",
       "    .dataframe tbody tr th:only-of-type {\n",
       "        vertical-align: middle;\n",
       "    }\n",
       "\n",
       "    .dataframe tbody tr th {\n",
       "        vertical-align: top;\n",
       "    }\n",
       "\n",
       "    .dataframe thead th {\n",
       "        text-align: right;\n",
       "    }\n",
       "</style>\n",
       "<table border=\"1\" class=\"dataframe\">\n",
       "  <thead>\n",
       "    <tr style=\"text-align: right;\">\n",
       "      <th></th>\n",
       "      <th>Company</th>\n",
       "      <th>Industry</th>\n",
       "      <th>Country</th>\n",
       "      <th>Action</th>\n",
       "      <th>Tone</th>\n",
       "      <th>Возраст компании, лет</th>\n",
       "      <th>Вид деятельности/отрасль</th>\n",
       "      <th>Организационно-правовая форма</th>\n",
       "      <th>Форма собственности</th>\n",
       "      <th>Размер компании</th>\n",
       "      <th>Mean Revenue</th>\n",
       "      <th>Mean Profit</th>\n",
       "    </tr>\n",
       "  </thead>\n",
       "  <tbody>\n",
       "    <tr>\n",
       "      <th>0</th>\n",
       "      <td>EBBVI, OOO</td>\n",
       "      <td>Health Care</td>\n",
       "      <td>USA</td>\n",
       "      <td>['suspend', 'aesthetics', 'operations', ',', '...</td>\n",
       "      <td>paused</td>\n",
       "      <td>10.5</td>\n",
       "      <td>Торговля оптовая фармацевтической продукцией</td>\n",
       "      <td>Общества с ограниченной ответственностью</td>\n",
       "      <td>Собственность иностранных юридических лиц</td>\n",
       "      <td>Крупные предприятия</td>\n",
       "      <td>1.031187e+10</td>\n",
       "      <td>1.972626e+08</td>\n",
       "    </tr>\n",
       "    <tr>\n",
       "      <th>1</th>\n",
       "      <td>ALS, AO</td>\n",
       "      <td>Materials</td>\n",
       "      <td>France</td>\n",
       "      <td>['some', 'clients', 'no', 'longer', 'supplied'...</td>\n",
       "      <td>leaved</td>\n",
       "      <td>17.5</td>\n",
       "      <td>Производство промышленных газов</td>\n",
       "      <td>Непубличные акционерные общества</td>\n",
       "      <td>Совместная частная и иностранная собственность</td>\n",
       "      <td>Крупные предприятия</td>\n",
       "      <td>4.148731e+09</td>\n",
       "      <td>1.990225e+09</td>\n",
       "    </tr>\n",
       "    <tr>\n",
       "      <th>3</th>\n",
       "      <td>FUDZHIFILM RUS, OOO</td>\n",
       "      <td>IT</td>\n",
       "      <td>Japan</td>\n",
       "      <td>['suspended', 'some', 'shipments']</td>\n",
       "      <td>leaved</td>\n",
       "      <td>29.0</td>\n",
       "      <td>Торговля оптовая неспециализированная</td>\n",
       "      <td>Общества с ограниченной ответственностью</td>\n",
       "      <td>Собственность иностранных юридических лиц</td>\n",
       "      <td>Крупные предприятия</td>\n",
       "      <td>3.192020e+09</td>\n",
       "      <td>2.133112e+08</td>\n",
       "    </tr>\n",
       "    <tr>\n",
       "      <th>6</th>\n",
       "      <td>ID LOGISTIKS RUS, OOO</td>\n",
       "      <td>Industrials</td>\n",
       "      <td>France</td>\n",
       "      <td>['suspend', 'new', 'investment', 'in', 'russia']</td>\n",
       "      <td>paused</td>\n",
       "      <td>12.5</td>\n",
       "      <td>Деятельность по складированию и хранению</td>\n",
       "      <td>Общества с ограниченной ответственностью</td>\n",
       "      <td>Собственность иностранных юридических лиц</td>\n",
       "      <td>Крупные предприятия</td>\n",
       "      <td>2.062124e+09</td>\n",
       "      <td>7.638600e+06</td>\n",
       "    </tr>\n",
       "    <tr>\n",
       "      <th>7</th>\n",
       "      <td>MERCK LIFE SCIENCE, LLC</td>\n",
       "      <td>Health Care</td>\n",
       "      <td>USA</td>\n",
       "      <td>['no', 'further', 'investments/clinical', 'tri...</td>\n",
       "      <td>leaved</td>\n",
       "      <td>17.5</td>\n",
       "      <td>Деятельность предпринимательских членских неко...</td>\n",
       "      <td>Общества с ограниченной ответственностью</td>\n",
       "      <td>Собственность иностранных юридических лиц</td>\n",
       "      <td>Средние предприятия</td>\n",
       "      <td>1.059165e+09</td>\n",
       "      <td>1.801254e+08</td>\n",
       "    </tr>\n",
       "  </tbody>\n",
       "</table>\n",
       "</div>"
      ],
      "text/plain": [
       "                   Company     Industry Country  \\\n",
       "0               EBBVI, OOO  Health Care     USA   \n",
       "1                  ALS, AO    Materials  France   \n",
       "3      FUDZHIFILM RUS, OOO           IT   Japan   \n",
       "6    ID LOGISTIKS RUS, OOO  Industrials  France   \n",
       "7  MERCK LIFE SCIENCE, LLC  Health Care     USA   \n",
       "\n",
       "                                              Action    Tone  \\\n",
       "0  ['suspend', 'aesthetics', 'operations', ',', '...  paused   \n",
       "1  ['some', 'clients', 'no', 'longer', 'supplied'...  leaved   \n",
       "3                 ['suspended', 'some', 'shipments']  leaved   \n",
       "6   ['suspend', 'new', 'investment', 'in', 'russia']  paused   \n",
       "7  ['no', 'further', 'investments/clinical', 'tri...  leaved   \n",
       "\n",
       "   Возраст компании, лет                           Вид деятельности/отрасль  \\\n",
       "0                   10.5       Торговля оптовая фармацевтической продукцией   \n",
       "1                   17.5                    Производство промышленных газов   \n",
       "3                   29.0              Торговля оптовая неспециализированная   \n",
       "6                   12.5           Деятельность по складированию и хранению   \n",
       "7                   17.5  Деятельность предпринимательских членских неко...   \n",
       "\n",
       "              Организационно-правовая форма  \\\n",
       "0  Общества с ограниченной ответственностью   \n",
       "1          Непубличные акционерные общества   \n",
       "3  Общества с ограниченной ответственностью   \n",
       "6  Общества с ограниченной ответственностью   \n",
       "7  Общества с ограниченной ответственностью   \n",
       "\n",
       "                              Форма собственности      Размер компании  \\\n",
       "0       Собственность иностранных юридических лиц  Крупные предприятия   \n",
       "1  Совместная частная и иностранная собственность  Крупные предприятия   \n",
       "3       Собственность иностранных юридических лиц  Крупные предприятия   \n",
       "6       Собственность иностранных юридических лиц  Крупные предприятия   \n",
       "7       Собственность иностранных юридических лиц  Средние предприятия   \n",
       "\n",
       "   Mean Revenue   Mean Profit  \n",
       "0  1.031187e+10  1.972626e+08  \n",
       "1  4.148731e+09  1.990225e+09  \n",
       "3  3.192020e+09  2.133112e+08  \n",
       "6  2.062124e+09  7.638600e+06  \n",
       "7  1.059165e+09  1.801254e+08  "
      ]
     },
     "execution_count": 47,
     "metadata": {},
     "output_type": "execute_result"
    }
   ],
   "source": [
    "database.head()"
   ]
  },
  {
   "cell_type": "code",
   "execution_count": 48,
   "id": "b7fd1d2d",
   "metadata": {},
   "outputs": [
    {
     "data": {
      "text/plain": [
       "(402, 12)"
      ]
     },
     "execution_count": 48,
     "metadata": {},
     "output_type": "execute_result"
    }
   ],
   "source": [
    "database.shape"
   ]
  },
  {
   "cell_type": "code",
   "execution_count": 49,
   "id": "a4814827",
   "metadata": {},
   "outputs": [
    {
     "name": "stdout",
     "output_type": "stream",
     "text": [
      " \n",
      "Count total NaN at each column in a DataFrame : \n",
      "\n",
      " Company                          0\n",
      "Industry                         0\n",
      "Country                          0\n",
      "Action                           0\n",
      "Tone                             0\n",
      "Возраст компании, лет            0\n",
      "Вид деятельности/отрасль         0\n",
      "Организационно-правовая форма    0\n",
      "Форма собственности              0\n",
      "Размер компании                  8\n",
      "Mean Revenue                     0\n",
      "Mean Profit                      1\n",
      "dtype: int64\n"
     ]
    }
   ],
   "source": [
    "print(\" \\nCount total NaN at each column in a DataFrame : \\n\\n\", database.isnull().sum())"
   ]
  },
  {
   "cell_type": "code",
   "execution_count": 50,
   "id": "5f68737b",
   "metadata": {},
   "outputs": [],
   "source": [
    "database.dropna(inplace=True)"
   ]
  },
  {
   "cell_type": "code",
   "execution_count": 51,
   "id": "b189a56b",
   "metadata": {},
   "outputs": [
    {
     "name": "stdout",
     "output_type": "stream",
     "text": [
      " \n",
      "Count total NaN at each column in a DataFrame : \n",
      "\n",
      " Company                          0\n",
      "Industry                         0\n",
      "Country                          0\n",
      "Action                           0\n",
      "Tone                             0\n",
      "Возраст компании, лет            0\n",
      "Вид деятельности/отрасль         0\n",
      "Организационно-правовая форма    0\n",
      "Форма собственности              0\n",
      "Размер компании                  0\n",
      "Mean Revenue                     0\n",
      "Mean Profit                      0\n",
      "dtype: int64\n"
     ]
    }
   ],
   "source": [
    "print(\" \\nCount total NaN at each column in a DataFrame : \\n\\n\", database.isnull().sum())"
   ]
  },
  {
   "cell_type": "code",
   "execution_count": 52,
   "id": "4a29385b",
   "metadata": {},
   "outputs": [
    {
     "data": {
      "text/plain": [
       "(393, 12)"
      ]
     },
     "execution_count": 52,
     "metadata": {},
     "output_type": "execute_result"
    }
   ],
   "source": [
    "database.shape"
   ]
  },
  {
   "cell_type": "code",
   "execution_count": 53,
   "id": "d0c15948",
   "metadata": {},
   "outputs": [
    {
     "data": {
      "text/html": [
       "<div>\n",
       "<style scoped>\n",
       "    .dataframe tbody tr th:only-of-type {\n",
       "        vertical-align: middle;\n",
       "    }\n",
       "\n",
       "    .dataframe tbody tr th {\n",
       "        vertical-align: top;\n",
       "    }\n",
       "\n",
       "    .dataframe thead th {\n",
       "        text-align: right;\n",
       "    }\n",
       "</style>\n",
       "<table border=\"1\" class=\"dataframe\">\n",
       "  <thead>\n",
       "    <tr style=\"text-align: right;\">\n",
       "      <th></th>\n",
       "      <th>Возраст компании, лет</th>\n",
       "      <th>Mean Revenue</th>\n",
       "      <th>Mean Profit</th>\n",
       "    </tr>\n",
       "  </thead>\n",
       "  <tbody>\n",
       "    <tr>\n",
       "      <th>count</th>\n",
       "      <td>393.000000</td>\n",
       "      <td>3.930000e+02</td>\n",
       "      <td>3.930000e+02</td>\n",
       "    </tr>\n",
       "    <tr>\n",
       "      <th>mean</th>\n",
       "      <td>16.386768</td>\n",
       "      <td>1.588381e+10</td>\n",
       "      <td>1.157421e+09</td>\n",
       "    </tr>\n",
       "    <tr>\n",
       "      <th>std</th>\n",
       "      <td>7.411762</td>\n",
       "      <td>5.708728e+10</td>\n",
       "      <td>4.329993e+09</td>\n",
       "    </tr>\n",
       "    <tr>\n",
       "      <th>min</th>\n",
       "      <td>1.500000</td>\n",
       "      <td>5.000000e+03</td>\n",
       "      <td>-8.422013e+09</td>\n",
       "    </tr>\n",
       "    <tr>\n",
       "      <th>25%</th>\n",
       "      <td>11.000000</td>\n",
       "      <td>1.170690e+08</td>\n",
       "      <td>9.222000e+05</td>\n",
       "    </tr>\n",
       "    <tr>\n",
       "      <th>50%</th>\n",
       "      <td>16.500000</td>\n",
       "      <td>1.558419e+09</td>\n",
       "      <td>7.363080e+07</td>\n",
       "    </tr>\n",
       "    <tr>\n",
       "      <th>75%</th>\n",
       "      <td>21.000000</td>\n",
       "      <td>7.715130e+09</td>\n",
       "      <td>4.608464e+08</td>\n",
       "    </tr>\n",
       "    <tr>\n",
       "      <th>max</th>\n",
       "      <td>46.000000</td>\n",
       "      <td>8.470387e+11</td>\n",
       "      <td>3.872745e+10</td>\n",
       "    </tr>\n",
       "  </tbody>\n",
       "</table>\n",
       "</div>"
      ],
      "text/plain": [
       "       Возраст компании, лет  Mean Revenue   Mean Profit\n",
       "count             393.000000  3.930000e+02  3.930000e+02\n",
       "mean               16.386768  1.588381e+10  1.157421e+09\n",
       "std                 7.411762  5.708728e+10  4.329993e+09\n",
       "min                 1.500000  5.000000e+03 -8.422013e+09\n",
       "25%                11.000000  1.170690e+08  9.222000e+05\n",
       "50%                16.500000  1.558419e+09  7.363080e+07\n",
       "75%                21.000000  7.715130e+09  4.608464e+08\n",
       "max                46.000000  8.470387e+11  3.872745e+10"
      ]
     },
     "execution_count": 53,
     "metadata": {},
     "output_type": "execute_result"
    }
   ],
   "source": [
    "database.describe()"
   ]
  },
  {
   "cell_type": "code",
   "execution_count": 54,
   "id": "8e01401d",
   "metadata": {},
   "outputs": [
    {
     "name": "stderr",
     "output_type": "stream",
     "text": [
      "/var/folders/pk/czrcbd3n6tx7f3m676x_gw700000gn/T/ipykernel_23524/893794936.py:1: FutureWarning: The default value of numeric_only in DataFrame.corr is deprecated. In a future version, it will default to False. Select only valid columns or specify the value of numeric_only to silence this warning.\n",
      "  database.corr()\n"
     ]
    },
    {
     "data": {
      "text/html": [
       "<div>\n",
       "<style scoped>\n",
       "    .dataframe tbody tr th:only-of-type {\n",
       "        vertical-align: middle;\n",
       "    }\n",
       "\n",
       "    .dataframe tbody tr th {\n",
       "        vertical-align: top;\n",
       "    }\n",
       "\n",
       "    .dataframe thead th {\n",
       "        text-align: right;\n",
       "    }\n",
       "</style>\n",
       "<table border=\"1\" class=\"dataframe\">\n",
       "  <thead>\n",
       "    <tr style=\"text-align: right;\">\n",
       "      <th></th>\n",
       "      <th>Возраст компании, лет</th>\n",
       "      <th>Mean Revenue</th>\n",
       "      <th>Mean Profit</th>\n",
       "    </tr>\n",
       "  </thead>\n",
       "  <tbody>\n",
       "    <tr>\n",
       "      <th>Возраст компании, лет</th>\n",
       "      <td>1.000000</td>\n",
       "      <td>0.225665</td>\n",
       "      <td>0.200756</td>\n",
       "    </tr>\n",
       "    <tr>\n",
       "      <th>Mean Revenue</th>\n",
       "      <td>0.225665</td>\n",
       "      <td>1.000000</td>\n",
       "      <td>0.534594</td>\n",
       "    </tr>\n",
       "    <tr>\n",
       "      <th>Mean Profit</th>\n",
       "      <td>0.200756</td>\n",
       "      <td>0.534594</td>\n",
       "      <td>1.000000</td>\n",
       "    </tr>\n",
       "  </tbody>\n",
       "</table>\n",
       "</div>"
      ],
      "text/plain": [
       "                       Возраст компании, лет  Mean Revenue  Mean Profit\n",
       "Возраст компании, лет               1.000000      0.225665     0.200756\n",
       "Mean Revenue                        0.225665      1.000000     0.534594\n",
       "Mean Profit                         0.200756      0.534594     1.000000"
      ]
     },
     "execution_count": 54,
     "metadata": {},
     "output_type": "execute_result"
    }
   ],
   "source": [
    "database.corr()"
   ]
  },
  {
   "cell_type": "markdown",
   "id": "98c45a86",
   "metadata": {},
   "source": [
    "<span style=\"font-size: 17px;\">  Now our dataset has no NaN values and we can start clustarisation"
   ]
  },
  {
   "cell_type": "code",
   "execution_count": 55,
   "id": "8b177ecb",
   "metadata": {},
   "outputs": [],
   "source": [
    "database = database[database['Возраст компании, лет'] <= 35]"
   ]
  },
  {
   "cell_type": "code",
   "execution_count": 56,
   "id": "947a9c12",
   "metadata": {},
   "outputs": [
    {
     "data": {
      "text/plain": [
       "(392, 12)"
      ]
     },
     "execution_count": 56,
     "metadata": {},
     "output_type": "execute_result"
    }
   ],
   "source": [
    "database.shape"
   ]
  },
  {
   "cell_type": "code",
   "execution_count": 57,
   "id": "d209fa66",
   "metadata": {},
   "outputs": [],
   "source": [
    "# Sort the DataFrame by Mean Revenue column in descending order\n",
    "sort_by_revenue = database.sort_values('Mean Revenue', ascending=False)\n",
    "sort_by_profit = database.sort_values('Mean Profit', ascending=False)\n",
    "# Select the top 10 rows with the largest profits"
   ]
  },
  {
   "cell_type": "code",
   "execution_count": 58,
   "id": "48a573d1",
   "metadata": {},
   "outputs": [
    {
     "data": {
      "text/html": [
       "<div>\n",
       "<style scoped>\n",
       "    .dataframe tbody tr th:only-of-type {\n",
       "        vertical-align: middle;\n",
       "    }\n",
       "\n",
       "    .dataframe tbody tr th {\n",
       "        vertical-align: top;\n",
       "    }\n",
       "\n",
       "    .dataframe thead th {\n",
       "        text-align: right;\n",
       "    }\n",
       "</style>\n",
       "<table border=\"1\" class=\"dataframe\">\n",
       "  <thead>\n",
       "    <tr style=\"text-align: right;\">\n",
       "      <th></th>\n",
       "      <th>Company</th>\n",
       "      <th>Industry</th>\n",
       "      <th>Country</th>\n",
       "      <th>Action</th>\n",
       "      <th>Tone</th>\n",
       "      <th>Возраст компании, лет</th>\n",
       "      <th>Вид деятельности/отрасль</th>\n",
       "      <th>Организационно-правовая форма</th>\n",
       "      <th>Форма собственности</th>\n",
       "      <th>Размер компании</th>\n",
       "      <th>Mean Revenue</th>\n",
       "      <th>Mean Profit</th>\n",
       "    </tr>\n",
       "  </thead>\n",
       "  <tbody>\n",
       "    <tr>\n",
       "      <th>181</th>\n",
       "      <td>TORGOVY DOM PEREKRESTOK, AO</td>\n",
       "      <td>IT</td>\n",
       "      <td>USA</td>\n",
       "      <td>['suspend', 'all', 'shipments', 'to', 'russia']</td>\n",
       "      <td>paused</td>\n",
       "      <td>29.0</td>\n",
       "      <td>Торговля розничная преимущественно пищевыми пр...</td>\n",
       "      <td>Непубличные акционерные общества</td>\n",
       "      <td>Частная собственность</td>\n",
       "      <td>Крупные предприятия</td>\n",
       "      <td>8.470387e+11</td>\n",
       "      <td>1.965177e+10</td>\n",
       "    </tr>\n",
       "    <tr>\n",
       "      <th>74</th>\n",
       "      <td>LERUA MERLEN VOSTOK, OOO</td>\n",
       "      <td>Consumer Discretionary</td>\n",
       "      <td>France</td>\n",
       "      <td>['stopped', 'new', 'investments', ',', 'import...</td>\n",
       "      <td>leaved</td>\n",
       "      <td>19.5</td>\n",
       "      <td>Торговля розничная мебелью, осветительными при...</td>\n",
       "      <td>Общества с ограниченной ответственностью</td>\n",
       "      <td>Собственность иностранных юридических лиц</td>\n",
       "      <td>Крупные предприятия</td>\n",
       "      <td>3.235489e+11</td>\n",
       "      <td>1.521120e+10</td>\n",
       "    </tr>\n",
       "    <tr>\n",
       "      <th>419</th>\n",
       "      <td>AVTOVAZ, AO</td>\n",
       "      <td>Consumer Discretionary</td>\n",
       "      <td>France</td>\n",
       "      <td>['sell', 'renault', 'russia', ';', 'transfer',...</td>\n",
       "      <td>leaved</td>\n",
       "      <td>30.0</td>\n",
       "      <td>Производство легковых автомобилей</td>\n",
       "      <td>Непубличные акционерные общества</td>\n",
       "      <td>Частная собственность</td>\n",
       "      <td>Крупные предприятия</td>\n",
       "      <td>2.751390e+11</td>\n",
       "      <td>-1.395554e+09</td>\n",
       "    </tr>\n",
       "    <tr>\n",
       "      <th>148</th>\n",
       "      <td>EPPL RUS, OOO</td>\n",
       "      <td>IT</td>\n",
       "      <td>USA</td>\n",
       "      <td>['suspend', 'all', 'official', 'site', 'sales'...</td>\n",
       "      <td>paused</td>\n",
       "      <td>11.0</td>\n",
       "      <td>Торговля оптовая компьютерами, периферийными у...</td>\n",
       "      <td>Общества с ограниченной ответственностью</td>\n",
       "      <td>Собственность иностранных юридических лиц</td>\n",
       "      <td>Крупные предприятия</td>\n",
       "      <td>2.381601e+11</td>\n",
       "      <td>8.266895e+09</td>\n",
       "    </tr>\n",
       "    <tr>\n",
       "      <th>293</th>\n",
       "      <td>SERK, OOO</td>\n",
       "      <td>IT</td>\n",
       "      <td>South Korea</td>\n",
       "      <td>['suspend', 'all', 'shipments', 'to', 'russia']</td>\n",
       "      <td>paused</td>\n",
       "      <td>16.5</td>\n",
       "      <td>Торговля оптовая бытовыми электротоварами</td>\n",
       "      <td>Общества с ограниченной ответственностью</td>\n",
       "      <td>Собственность иностранных юридических лиц</td>\n",
       "      <td>Крупные предприятия</td>\n",
       "      <td>2.367960e+11</td>\n",
       "      <td>7.554737e+09</td>\n",
       "    </tr>\n",
       "    <tr>\n",
       "      <th>53</th>\n",
       "      <td>METRO KESH END KERRI, OOO</td>\n",
       "      <td>Consumer Staples</td>\n",
       "      <td>Germany</td>\n",
       "      <td>['stop', 'all', 'growth', 'investments', 'and'...</td>\n",
       "      <td>leaved</td>\n",
       "      <td>22.0</td>\n",
       "      <td>Торговля розничная преимущественно пищевыми пр...</td>\n",
       "      <td>Общества с ограниченной ответственностью</td>\n",
       "      <td>Собственность иностранных юридических лиц</td>\n",
       "      <td>Крупные предприятия</td>\n",
       "      <td>2.204530e+11</td>\n",
       "      <td>1.102893e+10</td>\n",
       "    </tr>\n",
       "    <tr>\n",
       "      <th>267</th>\n",
       "      <td>MERSEDES-BENTS RUS, AO</td>\n",
       "      <td>Consumer Discretionary</td>\n",
       "      <td>Germany</td>\n",
       "      <td>['suspend', 'all', 'shipments', 'to', 'russia']</td>\n",
       "      <td>paused</td>\n",
       "      <td>28.5</td>\n",
       "      <td>Торговля автотранспортными средствами</td>\n",
       "      <td>Непубличные акционерные общества</td>\n",
       "      <td>Собственность иностранных юридических лиц</td>\n",
       "      <td>Крупные предприятия</td>\n",
       "      <td>1.984721e+11</td>\n",
       "      <td>4.246639e+09</td>\n",
       "    </tr>\n",
       "    <tr>\n",
       "      <th>24</th>\n",
       "      <td>APATIT, AO</td>\n",
       "      <td>Materials</td>\n",
       "      <td>Norway</td>\n",
       "      <td>['reduced', 'deliveries', 'and', 'supplies', '...</td>\n",
       "      <td>leaved</td>\n",
       "      <td>30.5</td>\n",
       "      <td>Производство удобрений и азотных соединений</td>\n",
       "      <td>Непубличные акционерные общества</td>\n",
       "      <td>Частная собственность</td>\n",
       "      <td>Крупные предприятия</td>\n",
       "      <td>1.844591e+11</td>\n",
       "      <td>3.731023e+10</td>\n",
       "    </tr>\n",
       "    <tr>\n",
       "      <th>23</th>\n",
       "      <td>APATIT, AO</td>\n",
       "      <td>Industrials</td>\n",
       "      <td>USA</td>\n",
       "      <td>['stop', 'shipments', 'to', 'russia', ';', 'ma...</td>\n",
       "      <td>leaved</td>\n",
       "      <td>30.5</td>\n",
       "      <td>Производство удобрений и азотных соединений</td>\n",
       "      <td>Непубличные акционерные общества</td>\n",
       "      <td>Частная собственность</td>\n",
       "      <td>Крупные предприятия</td>\n",
       "      <td>1.844591e+11</td>\n",
       "      <td>3.731023e+10</td>\n",
       "    </tr>\n",
       "    <tr>\n",
       "      <th>179</th>\n",
       "      <td>KAMAZ, PAO</td>\n",
       "      <td>Consumer Discretionary</td>\n",
       "      <td>Germany</td>\n",
       "      <td>['freeze', 'activities', 'in', 'russia']</td>\n",
       "      <td>leaved</td>\n",
       "      <td>32.5</td>\n",
       "      <td>Производство грузовых автомобилей</td>\n",
       "      <td>Публичные акционерные общества</td>\n",
       "      <td>Совместная частная и иностранная собственность</td>\n",
       "      <td>Крупные предприятия</td>\n",
       "      <td>1.784821e+11</td>\n",
       "      <td>1.574902e+09</td>\n",
       "    </tr>\n",
       "  </tbody>\n",
       "</table>\n",
       "</div>"
      ],
      "text/plain": [
       "                         Company                Industry      Country  \\\n",
       "181  TORGOVY DOM PEREKRESTOK, AO                      IT          USA   \n",
       "74      LERUA MERLEN VOSTOK, OOO  Consumer Discretionary       France   \n",
       "419                  AVTOVAZ, AO  Consumer Discretionary       France   \n",
       "148                EPPL RUS, OOO                      IT          USA   \n",
       "293                    SERK, OOO                      IT  South Korea   \n",
       "53     METRO KESH END KERRI, OOO        Consumer Staples      Germany   \n",
       "267       MERSEDES-BENTS RUS, AO  Consumer Discretionary      Germany   \n",
       "24                    APATIT, AO               Materials       Norway   \n",
       "23                    APATIT, AO             Industrials          USA   \n",
       "179                   KAMAZ, PAO  Consumer Discretionary      Germany   \n",
       "\n",
       "                                                Action    Tone  \\\n",
       "181    ['suspend', 'all', 'shipments', 'to', 'russia']  paused   \n",
       "74   ['stopped', 'new', 'investments', ',', 'import...  leaved   \n",
       "419  ['sell', 'renault', 'russia', ';', 'transfer',...  leaved   \n",
       "148  ['suspend', 'all', 'official', 'site', 'sales'...  paused   \n",
       "293    ['suspend', 'all', 'shipments', 'to', 'russia']  paused   \n",
       "53   ['stop', 'all', 'growth', 'investments', 'and'...  leaved   \n",
       "267    ['suspend', 'all', 'shipments', 'to', 'russia']  paused   \n",
       "24   ['reduced', 'deliveries', 'and', 'supplies', '...  leaved   \n",
       "23   ['stop', 'shipments', 'to', 'russia', ';', 'ma...  leaved   \n",
       "179           ['freeze', 'activities', 'in', 'russia']  leaved   \n",
       "\n",
       "     Возраст компании, лет                           Вид деятельности/отрасль  \\\n",
       "181                   29.0  Торговля розничная преимущественно пищевыми пр...   \n",
       "74                    19.5  Торговля розничная мебелью, осветительными при...   \n",
       "419                   30.0                  Производство легковых автомобилей   \n",
       "148                   11.0  Торговля оптовая компьютерами, периферийными у...   \n",
       "293                   16.5          Торговля оптовая бытовыми электротоварами   \n",
       "53                    22.0  Торговля розничная преимущественно пищевыми пр...   \n",
       "267                   28.5              Торговля автотранспортными средствами   \n",
       "24                    30.5        Производство удобрений и азотных соединений   \n",
       "23                    30.5        Производство удобрений и азотных соединений   \n",
       "179                   32.5                  Производство грузовых автомобилей   \n",
       "\n",
       "                Организационно-правовая форма  \\\n",
       "181          Непубличные акционерные общества   \n",
       "74   Общества с ограниченной ответственностью   \n",
       "419          Непубличные акционерные общества   \n",
       "148  Общества с ограниченной ответственностью   \n",
       "293  Общества с ограниченной ответственностью   \n",
       "53   Общества с ограниченной ответственностью   \n",
       "267          Непубличные акционерные общества   \n",
       "24           Непубличные акционерные общества   \n",
       "23           Непубличные акционерные общества   \n",
       "179            Публичные акционерные общества   \n",
       "\n",
       "                                Форма собственности      Размер компании  \\\n",
       "181                           Частная собственность  Крупные предприятия   \n",
       "74        Собственность иностранных юридических лиц  Крупные предприятия   \n",
       "419                           Частная собственность  Крупные предприятия   \n",
       "148       Собственность иностранных юридических лиц  Крупные предприятия   \n",
       "293       Собственность иностранных юридических лиц  Крупные предприятия   \n",
       "53        Собственность иностранных юридических лиц  Крупные предприятия   \n",
       "267       Собственность иностранных юридических лиц  Крупные предприятия   \n",
       "24                            Частная собственность  Крупные предприятия   \n",
       "23                            Частная собственность  Крупные предприятия   \n",
       "179  Совместная частная и иностранная собственность  Крупные предприятия   \n",
       "\n",
       "     Mean Revenue   Mean Profit  \n",
       "181  8.470387e+11  1.965177e+10  \n",
       "74   3.235489e+11  1.521120e+10  \n",
       "419  2.751390e+11 -1.395554e+09  \n",
       "148  2.381601e+11  8.266895e+09  \n",
       "293  2.367960e+11  7.554737e+09  \n",
       "53   2.204530e+11  1.102893e+10  \n",
       "267  1.984721e+11  4.246639e+09  \n",
       "24   1.844591e+11  3.731023e+10  \n",
       "23   1.844591e+11  3.731023e+10  \n",
       "179  1.784821e+11  1.574902e+09  "
      ]
     },
     "execution_count": 58,
     "metadata": {},
     "output_type": "execute_result"
    }
   ],
   "source": [
    "sort_by_revenue.head(10)"
   ]
  },
  {
   "cell_type": "code",
   "execution_count": 59,
   "id": "8d8ffc7d",
   "metadata": {},
   "outputs": [
    {
     "data": {
      "text/html": [
       "<div>\n",
       "<style scoped>\n",
       "    .dataframe tbody tr th:only-of-type {\n",
       "        vertical-align: middle;\n",
       "    }\n",
       "\n",
       "    .dataframe tbody tr th {\n",
       "        vertical-align: top;\n",
       "    }\n",
       "\n",
       "    .dataframe thead th {\n",
       "        text-align: right;\n",
       "    }\n",
       "</style>\n",
       "<table border=\"1\" class=\"dataframe\">\n",
       "  <thead>\n",
       "    <tr style=\"text-align: right;\">\n",
       "      <th></th>\n",
       "      <th>Company</th>\n",
       "      <th>Industry</th>\n",
       "      <th>Country</th>\n",
       "      <th>Action</th>\n",
       "      <th>Tone</th>\n",
       "      <th>Возраст компании, лет</th>\n",
       "      <th>Вид деятельности/отрасль</th>\n",
       "      <th>Организационно-правовая форма</th>\n",
       "      <th>Форма собственности</th>\n",
       "      <th>Размер компании</th>\n",
       "      <th>Mean Revenue</th>\n",
       "      <th>Mean Profit</th>\n",
       "    </tr>\n",
       "  </thead>\n",
       "  <tbody>\n",
       "    <tr>\n",
       "      <th>20</th>\n",
       "      <td>ACHIMGAZ, AO</td>\n",
       "      <td>Energy</td>\n",
       "      <td>Germany</td>\n",
       "      <td>['maintain', 'russian', 'natural', 'gas', 'pro...</td>\n",
       "      <td>leaved</td>\n",
       "      <td>17.0</td>\n",
       "      <td>Предоставление прочих услуг в области добычи н...</td>\n",
       "      <td>Непубличные акционерные общества</td>\n",
       "      <td>Совместная частная и иностранная собственность</td>\n",
       "      <td>Крупные предприятия</td>\n",
       "      <td>6.617841e+10</td>\n",
       "      <td>3.872745e+10</td>\n",
       "    </tr>\n",
       "    <tr>\n",
       "      <th>24</th>\n",
       "      <td>APATIT, AO</td>\n",
       "      <td>Materials</td>\n",
       "      <td>Norway</td>\n",
       "      <td>['reduced', 'deliveries', 'and', 'supplies', '...</td>\n",
       "      <td>leaved</td>\n",
       "      <td>30.5</td>\n",
       "      <td>Производство удобрений и азотных соединений</td>\n",
       "      <td>Непубличные акционерные общества</td>\n",
       "      <td>Частная собственность</td>\n",
       "      <td>Крупные предприятия</td>\n",
       "      <td>1.844591e+11</td>\n",
       "      <td>3.731023e+10</td>\n",
       "    </tr>\n",
       "    <tr>\n",
       "      <th>23</th>\n",
       "      <td>APATIT, AO</td>\n",
       "      <td>Industrials</td>\n",
       "      <td>USA</td>\n",
       "      <td>['stop', 'shipments', 'to', 'russia', ';', 'ma...</td>\n",
       "      <td>leaved</td>\n",
       "      <td>30.5</td>\n",
       "      <td>Производство удобрений и азотных соединений</td>\n",
       "      <td>Непубличные акционерные общества</td>\n",
       "      <td>Частная собственность</td>\n",
       "      <td>Крупные предприятия</td>\n",
       "      <td>1.844591e+11</td>\n",
       "      <td>3.731023e+10</td>\n",
       "    </tr>\n",
       "    <tr>\n",
       "      <th>137</th>\n",
       "      <td>YUNIPRO, PAO</td>\n",
       "      <td>Utilities</td>\n",
       "      <td>Germany</td>\n",
       "      <td>['suspend', 'new', 'russian', 'gas', 'purchase...</td>\n",
       "      <td>paused</td>\n",
       "      <td>18.0</td>\n",
       "      <td>Производство электроэнергии тепловыми электрос...</td>\n",
       "      <td>Публичные акционерные общества</td>\n",
       "      <td>Совместная частная и иностранная собственность</td>\n",
       "      <td>Крупные предприятия</td>\n",
       "      <td>8.392181e+10</td>\n",
       "      <td>2.447115e+10</td>\n",
       "    </tr>\n",
       "    <tr>\n",
       "      <th>122</th>\n",
       "      <td>FILIP MORRIS IZHORA, AO</td>\n",
       "      <td>Consumer Staples</td>\n",
       "      <td>USA</td>\n",
       "      <td>['explore', 'strategic', 'alternatives', ',', ...</td>\n",
       "      <td>leaved</td>\n",
       "      <td>26.5</td>\n",
       "      <td>Производство табачных изделий</td>\n",
       "      <td>Непубличные акционерные общества</td>\n",
       "      <td>Собственность иностранных юридических лиц</td>\n",
       "      <td>Крупные предприятия</td>\n",
       "      <td>1.071844e+11</td>\n",
       "      <td>2.364943e+10</td>\n",
       "    </tr>\n",
       "    <tr>\n",
       "      <th>380</th>\n",
       "      <td>FORTUM, PAO</td>\n",
       "      <td>Utilities</td>\n",
       "      <td>Finland</td>\n",
       "      <td>['exit', 'russian', 'market']</td>\n",
       "      <td>leaved</td>\n",
       "      <td>17.5</td>\n",
       "      <td>Производство электроэнергии</td>\n",
       "      <td>Публичные акционерные общества</td>\n",
       "      <td>Совместная частная и иностранная собственность</td>\n",
       "      <td>Крупные предприятия</td>\n",
       "      <td>7.538546e+10</td>\n",
       "      <td>1.970527e+10</td>\n",
       "    </tr>\n",
       "    <tr>\n",
       "      <th>181</th>\n",
       "      <td>TORGOVY DOM PEREKRESTOK, AO</td>\n",
       "      <td>IT</td>\n",
       "      <td>USA</td>\n",
       "      <td>['suspend', 'all', 'shipments', 'to', 'russia']</td>\n",
       "      <td>paused</td>\n",
       "      <td>29.0</td>\n",
       "      <td>Торговля розничная преимущественно пищевыми пр...</td>\n",
       "      <td>Непубличные акционерные общества</td>\n",
       "      <td>Частная собственность</td>\n",
       "      <td>Крупные предприятия</td>\n",
       "      <td>8.470387e+11</td>\n",
       "      <td>1.965177e+10</td>\n",
       "    </tr>\n",
       "    <tr>\n",
       "      <th>326</th>\n",
       "      <td>SISTEMA, PAO AFK</td>\n",
       "      <td>Financials</td>\n",
       "      <td>Germany</td>\n",
       "      <td>['wind', 'down', 'business', 'in', 'russia']</td>\n",
       "      <td>leaved</td>\n",
       "      <td>29.5</td>\n",
       "      <td>Вложения в ценные бумаги и деятельность дилерская</td>\n",
       "      <td>Публичные акционерные общества</td>\n",
       "      <td>Частная собственность</td>\n",
       "      <td>Крупные предприятия</td>\n",
       "      <td>2.978876e+10</td>\n",
       "      <td>1.644489e+10</td>\n",
       "    </tr>\n",
       "    <tr>\n",
       "      <th>74</th>\n",
       "      <td>LERUA MERLEN VOSTOK, OOO</td>\n",
       "      <td>Consumer Discretionary</td>\n",
       "      <td>France</td>\n",
       "      <td>['stopped', 'new', 'investments', ',', 'import...</td>\n",
       "      <td>leaved</td>\n",
       "      <td>19.5</td>\n",
       "      <td>Торговля розничная мебелью, осветительными при...</td>\n",
       "      <td>Общества с ограниченной ответственностью</td>\n",
       "      <td>Собственность иностранных юридических лиц</td>\n",
       "      <td>Крупные предприятия</td>\n",
       "      <td>3.235489e+11</td>\n",
       "      <td>1.521120e+10</td>\n",
       "    </tr>\n",
       "    <tr>\n",
       "      <th>361</th>\n",
       "      <td>PIVOVARENNAYA KOMPANIYA BALTIKA, OOO</td>\n",
       "      <td>Consumer Staples</td>\n",
       "      <td>Denmark</td>\n",
       "      <td>['exit', 'russia', 'completely']</td>\n",
       "      <td>leaved</td>\n",
       "      <td>9.0</td>\n",
       "      <td>Производство пива</td>\n",
       "      <td>Общества с ограниченной ответственностью</td>\n",
       "      <td>Совместная частная и иностранная собственность</td>\n",
       "      <td>Крупные предприятия</td>\n",
       "      <td>7.740673e+10</td>\n",
       "      <td>1.247502e+10</td>\n",
       "    </tr>\n",
       "  </tbody>\n",
       "</table>\n",
       "</div>"
      ],
      "text/plain": [
       "                                  Company                Industry  Country  \\\n",
       "20                           ACHIMGAZ, AO                  Energy  Germany   \n",
       "24                             APATIT, AO               Materials   Norway   \n",
       "23                             APATIT, AO             Industrials      USA   \n",
       "137                          YUNIPRO, PAO               Utilities  Germany   \n",
       "122               FILIP MORRIS IZHORA, AO        Consumer Staples      USA   \n",
       "380                           FORTUM, PAO               Utilities  Finland   \n",
       "181           TORGOVY DOM PEREKRESTOK, AO                      IT      USA   \n",
       "326                      SISTEMA, PAO AFK              Financials  Germany   \n",
       "74               LERUA MERLEN VOSTOK, OOO  Consumer Discretionary   France   \n",
       "361  PIVOVARENNAYA KOMPANIYA BALTIKA, OOO        Consumer Staples  Denmark   \n",
       "\n",
       "                                                Action    Tone  \\\n",
       "20   ['maintain', 'russian', 'natural', 'gas', 'pro...  leaved   \n",
       "24   ['reduced', 'deliveries', 'and', 'supplies', '...  leaved   \n",
       "23   ['stop', 'shipments', 'to', 'russia', ';', 'ma...  leaved   \n",
       "137  ['suspend', 'new', 'russian', 'gas', 'purchase...  paused   \n",
       "122  ['explore', 'strategic', 'alternatives', ',', ...  leaved   \n",
       "380                      ['exit', 'russian', 'market']  leaved   \n",
       "181    ['suspend', 'all', 'shipments', 'to', 'russia']  paused   \n",
       "326       ['wind', 'down', 'business', 'in', 'russia']  leaved   \n",
       "74   ['stopped', 'new', 'investments', ',', 'import...  leaved   \n",
       "361                   ['exit', 'russia', 'completely']  leaved   \n",
       "\n",
       "     Возраст компании, лет                           Вид деятельности/отрасль  \\\n",
       "20                    17.0  Предоставление прочих услуг в области добычи н...   \n",
       "24                    30.5        Производство удобрений и азотных соединений   \n",
       "23                    30.5        Производство удобрений и азотных соединений   \n",
       "137                   18.0  Производство электроэнергии тепловыми электрос...   \n",
       "122                   26.5                      Производство табачных изделий   \n",
       "380                   17.5                        Производство электроэнергии   \n",
       "181                   29.0  Торговля розничная преимущественно пищевыми пр...   \n",
       "326                   29.5  Вложения в ценные бумаги и деятельность дилерская   \n",
       "74                    19.5  Торговля розничная мебелью, осветительными при...   \n",
       "361                    9.0                                  Производство пива   \n",
       "\n",
       "                Организационно-правовая форма  \\\n",
       "20           Непубличные акционерные общества   \n",
       "24           Непубличные акционерные общества   \n",
       "23           Непубличные акционерные общества   \n",
       "137            Публичные акционерные общества   \n",
       "122          Непубличные акционерные общества   \n",
       "380            Публичные акционерные общества   \n",
       "181          Непубличные акционерные общества   \n",
       "326            Публичные акционерные общества   \n",
       "74   Общества с ограниченной ответственностью   \n",
       "361  Общества с ограниченной ответственностью   \n",
       "\n",
       "                                Форма собственности      Размер компании  \\\n",
       "20   Совместная частная и иностранная собственность  Крупные предприятия   \n",
       "24                            Частная собственность  Крупные предприятия   \n",
       "23                            Частная собственность  Крупные предприятия   \n",
       "137  Совместная частная и иностранная собственность  Крупные предприятия   \n",
       "122       Собственность иностранных юридических лиц  Крупные предприятия   \n",
       "380  Совместная частная и иностранная собственность  Крупные предприятия   \n",
       "181                           Частная собственность  Крупные предприятия   \n",
       "326                           Частная собственность  Крупные предприятия   \n",
       "74        Собственность иностранных юридических лиц  Крупные предприятия   \n",
       "361  Совместная частная и иностранная собственность  Крупные предприятия   \n",
       "\n",
       "     Mean Revenue   Mean Profit  \n",
       "20   6.617841e+10  3.872745e+10  \n",
       "24   1.844591e+11  3.731023e+10  \n",
       "23   1.844591e+11  3.731023e+10  \n",
       "137  8.392181e+10  2.447115e+10  \n",
       "122  1.071844e+11  2.364943e+10  \n",
       "380  7.538546e+10  1.970527e+10  \n",
       "181  8.470387e+11  1.965177e+10  \n",
       "326  2.978876e+10  1.644489e+10  \n",
       "74   3.235489e+11  1.521120e+10  \n",
       "361  7.740673e+10  1.247502e+10  "
      ]
     },
     "execution_count": 59,
     "metadata": {},
     "output_type": "execute_result"
    }
   ],
   "source": [
    "sort_by_profit.head(10)"
   ]
  },
  {
   "cell_type": "code",
   "execution_count": 60,
   "id": "bd35f57f",
   "metadata": {},
   "outputs": [],
   "source": [
    "database = database[database['Mean Revenue'] < 7.808882e+11]\n",
    "database = database[database['Mean Profit'] < 2.663605e+11]"
   ]
  },
  {
   "cell_type": "code",
   "execution_count": 61,
   "id": "1d65406a",
   "metadata": {},
   "outputs": [
    {
     "data": {
      "text/html": [
       "<div>\n",
       "<style scoped>\n",
       "    .dataframe tbody tr th:only-of-type {\n",
       "        vertical-align: middle;\n",
       "    }\n",
       "\n",
       "    .dataframe tbody tr th {\n",
       "        vertical-align: top;\n",
       "    }\n",
       "\n",
       "    .dataframe thead th {\n",
       "        text-align: right;\n",
       "    }\n",
       "</style>\n",
       "<table border=\"1\" class=\"dataframe\">\n",
       "  <thead>\n",
       "    <tr style=\"text-align: right;\">\n",
       "      <th></th>\n",
       "      <th>Company</th>\n",
       "      <th>Industry</th>\n",
       "      <th>Country</th>\n",
       "      <th>Action</th>\n",
       "      <th>Tone</th>\n",
       "      <th>Возраст компании, лет</th>\n",
       "      <th>Вид деятельности/отрасль</th>\n",
       "      <th>Организационно-правовая форма</th>\n",
       "      <th>Форма собственности</th>\n",
       "      <th>Размер компании</th>\n",
       "      <th>Mean Revenue</th>\n",
       "      <th>Mean Profit</th>\n",
       "    </tr>\n",
       "  </thead>\n",
       "  <tbody>\n",
       "    <tr>\n",
       "      <th>74</th>\n",
       "      <td>LERUA MERLEN VOSTOK, OOO</td>\n",
       "      <td>Consumer Discretionary</td>\n",
       "      <td>France</td>\n",
       "      <td>['stopped', 'new', 'investments', ',', 'import...</td>\n",
       "      <td>leaved</td>\n",
       "      <td>19.5</td>\n",
       "      <td>Торговля розничная мебелью, осветительными при...</td>\n",
       "      <td>Общества с ограниченной ответственностью</td>\n",
       "      <td>Собственность иностранных юридических лиц</td>\n",
       "      <td>Крупные предприятия</td>\n",
       "      <td>3.235489e+11</td>\n",
       "      <td>1.521120e+10</td>\n",
       "    </tr>\n",
       "    <tr>\n",
       "      <th>419</th>\n",
       "      <td>AVTOVAZ, AO</td>\n",
       "      <td>Consumer Discretionary</td>\n",
       "      <td>France</td>\n",
       "      <td>['sell', 'renault', 'russia', ';', 'transfer',...</td>\n",
       "      <td>leaved</td>\n",
       "      <td>30.0</td>\n",
       "      <td>Производство легковых автомобилей</td>\n",
       "      <td>Непубличные акционерные общества</td>\n",
       "      <td>Частная собственность</td>\n",
       "      <td>Крупные предприятия</td>\n",
       "      <td>2.751390e+11</td>\n",
       "      <td>-1.395554e+09</td>\n",
       "    </tr>\n",
       "    <tr>\n",
       "      <th>148</th>\n",
       "      <td>EPPL RUS, OOO</td>\n",
       "      <td>IT</td>\n",
       "      <td>USA</td>\n",
       "      <td>['suspend', 'all', 'official', 'site', 'sales'...</td>\n",
       "      <td>paused</td>\n",
       "      <td>11.0</td>\n",
       "      <td>Торговля оптовая компьютерами, периферийными у...</td>\n",
       "      <td>Общества с ограниченной ответственностью</td>\n",
       "      <td>Собственность иностранных юридических лиц</td>\n",
       "      <td>Крупные предприятия</td>\n",
       "      <td>2.381601e+11</td>\n",
       "      <td>8.266895e+09</td>\n",
       "    </tr>\n",
       "    <tr>\n",
       "      <th>293</th>\n",
       "      <td>SERK, OOO</td>\n",
       "      <td>IT</td>\n",
       "      <td>South Korea</td>\n",
       "      <td>['suspend', 'all', 'shipments', 'to', 'russia']</td>\n",
       "      <td>paused</td>\n",
       "      <td>16.5</td>\n",
       "      <td>Торговля оптовая бытовыми электротоварами</td>\n",
       "      <td>Общества с ограниченной ответственностью</td>\n",
       "      <td>Собственность иностранных юридических лиц</td>\n",
       "      <td>Крупные предприятия</td>\n",
       "      <td>2.367960e+11</td>\n",
       "      <td>7.554737e+09</td>\n",
       "    </tr>\n",
       "    <tr>\n",
       "      <th>53</th>\n",
       "      <td>METRO KESH END KERRI, OOO</td>\n",
       "      <td>Consumer Staples</td>\n",
       "      <td>Germany</td>\n",
       "      <td>['stop', 'all', 'growth', 'investments', 'and'...</td>\n",
       "      <td>leaved</td>\n",
       "      <td>22.0</td>\n",
       "      <td>Торговля розничная преимущественно пищевыми пр...</td>\n",
       "      <td>Общества с ограниченной ответственностью</td>\n",
       "      <td>Собственность иностранных юридических лиц</td>\n",
       "      <td>Крупные предприятия</td>\n",
       "      <td>2.204530e+11</td>\n",
       "      <td>1.102893e+10</td>\n",
       "    </tr>\n",
       "  </tbody>\n",
       "</table>\n",
       "</div>"
      ],
      "text/plain": [
       "                       Company                Industry      Country  \\\n",
       "74    LERUA MERLEN VOSTOK, OOO  Consumer Discretionary       France   \n",
       "419                AVTOVAZ, AO  Consumer Discretionary       France   \n",
       "148              EPPL RUS, OOO                      IT          USA   \n",
       "293                  SERK, OOO                      IT  South Korea   \n",
       "53   METRO KESH END KERRI, OOO        Consumer Staples      Germany   \n",
       "\n",
       "                                                Action    Tone  \\\n",
       "74   ['stopped', 'new', 'investments', ',', 'import...  leaved   \n",
       "419  ['sell', 'renault', 'russia', ';', 'transfer',...  leaved   \n",
       "148  ['suspend', 'all', 'official', 'site', 'sales'...  paused   \n",
       "293    ['suspend', 'all', 'shipments', 'to', 'russia']  paused   \n",
       "53   ['stop', 'all', 'growth', 'investments', 'and'...  leaved   \n",
       "\n",
       "     Возраст компании, лет                           Вид деятельности/отрасль  \\\n",
       "74                    19.5  Торговля розничная мебелью, осветительными при...   \n",
       "419                   30.0                  Производство легковых автомобилей   \n",
       "148                   11.0  Торговля оптовая компьютерами, периферийными у...   \n",
       "293                   16.5          Торговля оптовая бытовыми электротоварами   \n",
       "53                    22.0  Торговля розничная преимущественно пищевыми пр...   \n",
       "\n",
       "                Организационно-правовая форма  \\\n",
       "74   Общества с ограниченной ответственностью   \n",
       "419          Непубличные акционерные общества   \n",
       "148  Общества с ограниченной ответственностью   \n",
       "293  Общества с ограниченной ответственностью   \n",
       "53   Общества с ограниченной ответственностью   \n",
       "\n",
       "                           Форма собственности      Размер компании  \\\n",
       "74   Собственность иностранных юридических лиц  Крупные предприятия   \n",
       "419                      Частная собственность  Крупные предприятия   \n",
       "148  Собственность иностранных юридических лиц  Крупные предприятия   \n",
       "293  Собственность иностранных юридических лиц  Крупные предприятия   \n",
       "53   Собственность иностранных юридических лиц  Крупные предприятия   \n",
       "\n",
       "     Mean Revenue   Mean Profit  \n",
       "74   3.235489e+11  1.521120e+10  \n",
       "419  2.751390e+11 -1.395554e+09  \n",
       "148  2.381601e+11  8.266895e+09  \n",
       "293  2.367960e+11  7.554737e+09  \n",
       "53   2.204530e+11  1.102893e+10  "
      ]
     },
     "execution_count": 61,
     "metadata": {},
     "output_type": "execute_result"
    }
   ],
   "source": [
    "sorted_df3 = database.sort_values('Mean Revenue', ascending=False)\n",
    "sorted_df3.head()"
   ]
  },
  {
   "cell_type": "code",
   "execution_count": 63,
   "id": "f282a326",
   "metadata": {},
   "outputs": [],
   "source": [
    "database.to_pickle(f'../data/pickles/int_spark_no_nans.pkl')"
   ]
  },
  {
   "cell_type": "markdown",
   "id": "43bf5fa5",
   "metadata": {},
   "source": [
    "# Clusterisation (k-prototypes)"
   ]
  },
  {
   "cell_type": "markdown",
   "id": "eb690951",
   "metadata": {},
   "source": [
    "Если мы оставляем колонку 'Mean Profit', то получается 1 кластер"
   ]
  },
  {
   "cell_type": "markdown",
   "id": "0e751d35",
   "metadata": {},
   "source": [
    "Если мы удаляем колонку 'Mean Revenue' and 'Mean Profit', то получается 2 кластера: \n",
    "0 : 326 и 1 : 218"
   ]
  },
  {
   "cell_type": "code",
   "execution_count": null,
   "id": "44fc6da1",
   "metadata": {},
   "outputs": [],
   "source": [
    "database2 = database.copy()\n",
    "database2 = database2.drop({'Company', 'Action', 'Вид деятельности/отрасль','Организационно-правовая форма'} , axis = 1)\n",
    "# database2 = database2.drop({'Company', 'Action','Вид деятельности/отрасль', 'Организационно-правовая форма','Форма собственности'} , axis = 1)"
   ]
  },
  {
   "cell_type": "code",
   "execution_count": null,
   "id": "340e5a5a",
   "metadata": {
    "scrolled": true
   },
   "outputs": [],
   "source": [
    "database2.head(5)"
   ]
  },
  {
   "cell_type": "code",
   "execution_count": null,
   "id": "456ac77f",
   "metadata": {},
   "outputs": [],
   "source": [
    "pip install kmodes"
   ]
  },
  {
   "cell_type": "code",
   "execution_count": null,
   "id": "b8b4e6a6",
   "metadata": {},
   "outputs": [],
   "source": [
    "mark_array=database2.values"
   ]
  },
  {
   "cell_type": "markdown",
   "id": "d4d735fc",
   "metadata": {},
   "source": [
    "<span style=\"font-size: 17px;\"> Mark columns that has float datatypes"
   ]
  },
  {
   "cell_type": "code",
   "execution_count": null,
   "id": "88abf0d9",
   "metadata": {},
   "outputs": [],
   "source": [
    "mark_array[:, 3] = mark_array[:, 3].astype(float)\n",
    "mark_array[:, 6] = mark_array[:, 6].astype(float)\n",
    "mark_array[:, 7] = mark_array[:, 7].astype(float)"
   ]
  },
  {
   "cell_type": "code",
   "execution_count": null,
   "id": "a398868b",
   "metadata": {},
   "outputs": [],
   "source": [
    "mark_array"
   ]
  },
  {
   "cell_type": "markdown",
   "id": "2b4cf495",
   "metadata": {},
   "source": [
    "<span style=\"font-size: 17px;\"> Get the position of categorical columns"
   ]
  },
  {
   "cell_type": "code",
   "execution_count": null,
   "id": "7514aefa",
   "metadata": {},
   "outputs": [],
   "source": [
    "catColumnsPos = [database2.columns.get_loc(col) for col in list(database2.select_dtypes('object').columns)]\n",
    "\n",
    "print('Categorical columns           : {}'.format(list(database2.select_dtypes('object').columns)))\n",
    "print('Categorical columns position  : {}'.format(catColumnsPos))"
   ]
  },
  {
   "cell_type": "code",
   "execution_count": null,
   "id": "90a963c2",
   "metadata": {},
   "outputs": [],
   "source": [
    "# Convert dataframe to matrix\n",
    "dfMatrix = database2.to_numpy()"
   ]
  },
  {
   "cell_type": "code",
   "execution_count": null,
   "id": "4afd95cb",
   "metadata": {},
   "outputs": [],
   "source": [
    "dfMatrix "
   ]
  },
  {
   "cell_type": "code",
   "execution_count": null,
   "id": "0af2bf65",
   "metadata": {},
   "outputs": [],
   "source": [
    "print(\" \\nCount total NaN at each column in a DataFrame : \\n\\n\", database2.isnull().sum())"
   ]
  },
  {
   "cell_type": "markdown",
   "id": "5ec5ed31",
   "metadata": {},
   "source": [
    "<span style=\"font-size: 17px;\"> Elbow method to detect number of clusters K"
   ]
  },
  {
   "cell_type": "code",
   "execution_count": null,
   "id": "5ecf9ec3",
   "metadata": {},
   "outputs": [],
   "source": [
    "from kmodes.kprototypes import KPrototypes\n",
    "\n",
    "cost = []\n",
    "for cluster in range(1, 10):\n",
    "    try:\n",
    "        kprototype = KPrototypes(n_jobs = -1, n_clusters = cluster, init = 'Huang', random_state = 0)\n",
    "        kprototype.fit_predict(database2, categorical = catColumnsPos)\n",
    "        cost.append(kprototype.cost_)\n",
    "        print('Cluster initiation: {}'.format(cluster))\n",
    "    except:\n",
    "        break\n",
    "\n",
    "plt.plot(cost)\n",
    "plt.xlabel('K')\n",
    "plt.ylabel('cost')\n",
    "plt.show"
   ]
  },
  {
   "cell_type": "code",
   "execution_count": null,
   "id": "6d52ef4a",
   "metadata": {},
   "outputs": [],
   "source": []
  },
  {
   "cell_type": "code",
   "execution_count": null,
   "id": "a1450fc7",
   "metadata": {},
   "outputs": [],
   "source": [
    "cost"
   ]
  },
  {
   "cell_type": "code",
   "execution_count": null,
   "id": "ba3de5fb",
   "metadata": {},
   "outputs": [],
   "source": [
    "kproto = KPrototypes(n_clusters=2, verbose=2,max_iter=30)\n",
    "clusters = kproto.fit_predict(mark_array, categorical=[0, 1, 2, 4, 5])"
   ]
  },
  {
   "cell_type": "code",
   "execution_count": null,
   "id": "a3b0f70c",
   "metadata": {},
   "outputs": [],
   "source": [
    "print(kproto.cluster_centroids_)"
   ]
  },
  {
   "cell_type": "code",
   "execution_count": null,
   "id": "33a5fb1d",
   "metadata": {},
   "outputs": [],
   "source": [
    "cluster_dict=[]\n",
    "for c in clusters:\n",
    "    cluster_dict.append(c)"
   ]
  },
  {
   "cell_type": "code",
   "execution_count": null,
   "id": "74eb9945",
   "metadata": {},
   "outputs": [],
   "source": [
    "cluster_dict"
   ]
  },
  {
   "cell_type": "code",
   "execution_count": null,
   "id": "6ea96c2b",
   "metadata": {},
   "outputs": [],
   "source": [
    "database2['cluster']=cluster_dict"
   ]
  },
  {
   "cell_type": "code",
   "execution_count": null,
   "id": "d3738572",
   "metadata": {},
   "outputs": [],
   "source": [
    "for i in range(0,5):\n",
    "    print(i, \": \", database2[database2['cluster']== i].value_counts().sum())"
   ]
  },
  {
   "cell_type": "code",
   "execution_count": null,
   "id": "fa326821",
   "metadata": {},
   "outputs": [],
   "source": [
    "database2"
   ]
  },
  {
   "cell_type": "code",
   "execution_count": null,
   "id": "6beeb894",
   "metadata": {},
   "outputs": [],
   "source": [
    "database2[database2['cluster']== 0].head(10)"
   ]
  },
  {
   "cell_type": "code",
   "execution_count": null,
   "id": "d03c0ab2",
   "metadata": {},
   "outputs": [],
   "source": [
    "database2[database2['cluster']== 1].head(10)"
   ]
  },
  {
   "cell_type": "code",
   "execution_count": null,
   "id": "230d0317",
   "metadata": {},
   "outputs": [],
   "source": [
    "database2[database2['cluster']== 2].head(10)"
   ]
  },
  {
   "cell_type": "markdown",
   "id": "fe3dd781",
   "metadata": {},
   "source": [
    "<span style=\"font-size: 17px;\"> Visualisation:"
   ]
  },
  {
   "cell_type": "code",
   "execution_count": null,
   "id": "4a263801",
   "metadata": {},
   "outputs": [],
   "source": [
    "# import seaborn as sns\n",
    "# import matplotlib.pyplot as plt\n",
    "\n",
    "# database2.columns = [\"Action\", \"Tone\", \"Возраст компании, лет\", \"Вид деятельности/отрасль\", \"Организационно-правовая форма\", \"Форма собственности\", \"cluster\"]\n",
    "# sns.pairplot(database2, hue=\"cluster\")"
   ]
  },
  {
   "cell_type": "code",
   "execution_count": null,
   "id": "0291c3c8",
   "metadata": {},
   "outputs": [],
   "source": [
    "# sns.boxplot(x=\"cluster\", y=\"Возраст компании, лет\", data=database2)\n"
   ]
  },
  {
   "cell_type": "code",
   "execution_count": null,
   "id": "15227198",
   "metadata": {},
   "outputs": [],
   "source": [
    "# sns.boxplot(x=\"cluster\", y=\"Организационно-правовая форма\", data=database2)"
   ]
  },
  {
   "cell_type": "code",
   "execution_count": null,
   "id": "e3a7b501",
   "metadata": {
    "scrolled": true
   },
   "outputs": [],
   "source": [
    "# sns.boxplot(x=\"cluster\", y=\"Форма собственности\", data=database2)"
   ]
  },
  {
   "cell_type": "markdown",
   "id": "9a5ff3e3",
   "metadata": {},
   "source": [
    "## Clusterisation of dataset with income and profit"
   ]
  },
  {
   "cell_type": "markdown",
   "id": "8e09bdd7",
   "metadata": {},
   "source": [
    "<span style=\"font-size: 17px;\"> Let's visualize our clusters"
   ]
  },
  {
   "cell_type": "code",
   "execution_count": null,
   "id": "e8bee0e4",
   "metadata": {},
   "outputs": [],
   "source": [
    "# #the volume of each cluster\n",
    "# df_filtered['Cluster'].value_counts().plot(kind='bar')\n",
    "\n",
    "# plt.xticks(fontsize=10, rotation=0, ha='right')"
   ]
  },
  {
   "cell_type": "markdown",
   "id": "2eaccbd0",
   "metadata": {},
   "source": [
    "# Graphs"
   ]
  },
  {
   "cell_type": "code",
   "execution_count": null,
   "id": "c643141e",
   "metadata": {},
   "outputs": [],
   "source": [
    "import matplotlib.pyplot as plt"
   ]
  },
  {
   "cell_type": "code",
   "execution_count": null,
   "id": "6bee4ede",
   "metadata": {},
   "outputs": [],
   "source": [
    "database3 = database[database['Tone'] != \"continue\"]\n",
    "database3"
   ]
  },
  {
   "cell_type": "markdown",
   "id": "b248e2e5",
   "metadata": {},
   "source": [
    "### Countries"
   ]
  },
  {
   "cell_type": "markdown",
   "id": "2f5cc2c5",
   "metadata": {},
   "source": [
    "<span style=\"font-size: 17px;\"> Value_counts() returns the count of unique values in the 'Country' column, and head(10) selects the first 10 values, which represent the top 10 countries with the highest counts.</span>"
   ]
  },
  {
   "cell_type": "code",
   "execution_count": null,
   "id": "698a312d",
   "metadata": {},
   "outputs": [],
   "source": [
    "df_countries = database3['Country'].value_counts().head(10)"
   ]
  },
  {
   "cell_type": "code",
   "execution_count": null,
   "id": "1fe4ea94",
   "metadata": {},
   "outputs": [],
   "source": [
    "df_countries = df_countries.to_frame().reset_index()"
   ]
  },
  {
   "cell_type": "code",
   "execution_count": null,
   "id": "7d6eec1e",
   "metadata": {},
   "outputs": [],
   "source": [
    "df_countries"
   ]
  },
  {
   "cell_type": "code",
   "execution_count": null,
   "id": "348cd599",
   "metadata": {},
   "outputs": [],
   "source": [
    "# Increase the figure size and adjust the spacing\n",
    "plt.figure(figsize=(12, 8))\n",
    "plt.subplots_adjust(left=0.1, right=0.9, top=0.9, bottom=0.1)\n",
    "\n",
    "# Plot the bar chart\n",
    "df_countries.plot(kind='bar', x='index', y='Country', color='pink')\n",
    "\n",
    "# Set the labels and title\n",
    "plt.xlabel('Country', fontsize=12, labelpad=10)\n",
    "plt.ylabel('Number of Companies', fontsize=12, labelpad=10)\n",
    "plt.title('Number of Companies per Country', fontsize=14, fontweight='bold', pad=20)\n",
    "\n",
    "# Adjust the font size and rotation of the x-axis labels\n",
    "plt.xticks(fontsize=10, rotation=45, ha='right')\n",
    "\n",
    "# Adjust the font size of the y-axis labels\n",
    "plt.yticks(fontsize=10)\n",
    "\n",
    "# Remove the top and right spines (borders)\n",
    "plt.gca().spines['top'].set_visible(False)\n",
    "plt.gca().spines['right'].set_visible(False)\n",
    "\n",
    "# Add grid lines to the plot\n",
    "plt.grid(axis='y', linestyle='--', alpha=0.5)\n",
    "\n",
    "plt.show()"
   ]
  },
  {
   "cell_type": "markdown",
   "id": "f686ee09",
   "metadata": {},
   "source": [
    "### Industries:"
   ]
  },
  {
   "cell_type": "code",
   "execution_count": null,
   "id": "63bca5c3",
   "metadata": {},
   "outputs": [],
   "source": [
    "df_industries = database3['Industry'].value_counts().head(15)\n",
    "df_industries = df_industries.to_frame().reset_index()"
   ]
  },
  {
   "cell_type": "code",
   "execution_count": null,
   "id": "47c6684c",
   "metadata": {},
   "outputs": [],
   "source": [
    "import matplotlib.pyplot as plt\n",
    "\n",
    "# Increase the figure size and adjust the spacing\n",
    "plt.figure(figsize=(16, 8))\n",
    "plt.subplots_adjust(left=0.1, right=0.9, top=0.9, bottom=0.1)\n",
    "\n",
    "# Plot the bar chart\n",
    "df_industries.plot(kind='bar', x='index', y='Industry', color='#a7e8a9')\n",
    "\n",
    "# Set the labels and title\n",
    "plt.xlabel('Industry', fontsize=12, labelpad=10)\n",
    "plt.ylabel('Number of Companies', fontsize=12, labelpad=10)\n",
    "plt.title('Number of Companies per Industry', fontsize=14, fontweight='bold', pad=20)\n",
    "\n",
    "# Adjust the font size and rotation of the x-axis labels\n",
    "plt.xticks(fontsize=10, rotation=45, ha='right')\n",
    "\n",
    "# Adjust the font size of the y-axis labels\n",
    "plt.yticks(fontsize=10)\n",
    "\n",
    "# Remove the top and right spines\n",
    "plt.gca().spines['top'].set_visible(False)\n",
    "plt.gca().spines['right'].set_visible(False)\n",
    "\n",
    "# Add grid lines to the plot\n",
    "plt.grid(axis='y', linestyle='--', alpha=0.5)\n",
    "\n",
    "plt.show()"
   ]
  },
  {
   "cell_type": "markdown",
   "id": "46b7b231",
   "metadata": {},
   "source": [
    "### Size"
   ]
  },
  {
   "cell_type": "code",
   "execution_count": null,
   "id": "c9ddf0f1",
   "metadata": {},
   "outputs": [],
   "source": [
    "df_size = database3['Размер компании'].value_counts()\n",
    "df_size = df_size.to_frame().reset_index()"
   ]
  },
  {
   "cell_type": "code",
   "execution_count": null,
   "id": "c83cd7a1",
   "metadata": {},
   "outputs": [],
   "source": [
    "import matplotlib.pyplot as plt\n",
    "\n",
    "# Increase the figure size and adjust the spacing\n",
    "plt.figure(figsize=(14, 8))\n",
    "plt.subplots_adjust(left=0.1, right=0.9, top=0.9, bottom=0.1)\n",
    "\n",
    "# Plot the bar chart\n",
    "df_size.plot(kind='bar', x='index', y='Размер компании', color='#b6dffc')\n",
    "\n",
    "# Set the labels and title\n",
    "plt.xlabel('Size', fontsize=12, labelpad=10)\n",
    "plt.ylabel('Number of Companies', fontsize=12, labelpad=10)\n",
    "plt.title('Number of Companies per Size', fontsize=14, fontweight='bold', pad=20)\n",
    "\n",
    "# Adjust the font size and rotation of the x-axis labels\n",
    "plt.xticks(fontsize=10, rotation=45, ha='right')\n",
    "\n",
    "# Adjust the font size of the y-axis labels\n",
    "plt.yticks(fontsize=10)\n",
    "\n",
    "# Remove the top and right spines\n",
    "plt.gca().spines['top'].set_visible(False)\n",
    "plt.gca().spines['right'].set_visible(False)\n",
    "\n",
    "# Add grid lines to the plot\n",
    "plt.grid(axis='y', linestyle='--', alpha=0.5)\n",
    "\n",
    "# Show the plot\n",
    "plt.show()"
   ]
  },
  {
   "cell_type": "code",
   "execution_count": null,
   "id": "09fd7213",
   "metadata": {},
   "outputs": [],
   "source": [
    "database3.head()"
   ]
  },
  {
   "cell_type": "markdown",
   "id": "2337b3c6",
   "metadata": {},
   "source": [
    "### Age"
   ]
  },
  {
   "cell_type": "code",
   "execution_count": null,
   "id": "acdd820c",
   "metadata": {},
   "outputs": [],
   "source": [
    "database3['Возраст компании, лет'].plot(kind='hist', bins=30)\n",
    "\n",
    "plt.xlabel('Age of Company')\n",
    "plt.ylabel('Count')\n",
    "plt.title('Distribution of Company Age')\n",
    "\n",
    "plt.show()"
   ]
  },
  {
   "cell_type": "markdown",
   "id": "13816878",
   "metadata": {},
   "source": [
    "### Organisational form"
   ]
  },
  {
   "cell_type": "code",
   "execution_count": null,
   "id": "e3a5b2cd",
   "metadata": {},
   "outputs": [],
   "source": [
    "df_form = database3['Организационно-правовая форма'].value_counts().head(5)\n",
    "df_form = df_form.to_frame().reset_index()\n",
    "df_form"
   ]
  },
  {
   "cell_type": "code",
   "execution_count": null,
   "id": "8300509a",
   "metadata": {},
   "outputs": [],
   "source": [
    "# Increase the figure size and adjust the spacing\n",
    "plt.figure(figsize=(10, 5))\n",
    "plt.subplots_adjust(left=0.1, right=0.9, top=0.9, bottom=0.1)\n",
    "\n",
    "# Plot the bar chart\n",
    "df_form.plot(kind='bar', x='index', y='Организационно-правовая форма', color='#ccccff')\n",
    "\n",
    "# Set the labels and title\n",
    "plt.xlabel('Type of form', fontsize=12, labelpad=10)\n",
    "plt.ylabel('Number of Companies', fontsize=12, labelpad=10)\n",
    "plt.title('Number of Companies per Organisational form', fontsize=14, fontweight='bold', pad=20)\n",
    "\n",
    "# Adjust the font size and rotation of the x-axis labels\n",
    "plt.xticks(fontsize=10, rotation=45, ha='right')\n",
    "\n",
    "# Adjust the font size of the y-axis labels\n",
    "plt.yticks(fontsize=10)\n",
    "\n",
    "# Remove the top and right spines\n",
    "plt.gca().spines['top'].set_visible(False)\n",
    "plt.gca().spines['right'].set_visible(False)\n",
    "\n",
    "# Add grid lines to the plot\n",
    "plt.grid(axis='y', linestyle='--', alpha=0.5)\n",
    "\n",
    "# Show the plot\n",
    "plt.show()"
   ]
  },
  {
   "cell_type": "markdown",
   "id": "83f3b97f",
   "metadata": {},
   "source": [
    "### Form of property"
   ]
  },
  {
   "cell_type": "code",
   "execution_count": null,
   "id": "acaea374",
   "metadata": {},
   "outputs": [],
   "source": [
    "df_form2 = database3['Форма собственности'].value_counts().head(5)\n",
    "df_form2 = df_form2.to_frame().reset_index()\n",
    "df_form2"
   ]
  },
  {
   "cell_type": "code",
   "execution_count": null,
   "id": "db7c549f",
   "metadata": {},
   "outputs": [],
   "source": [
    "# Increase the figure size and adjust the spacing\n",
    "plt.figure(figsize=(10, 5))\n",
    "plt.subplots_adjust(left=0.1, right=0.9, top=0.9, bottom=0.1)\n",
    "\n",
    "# Plot the bar chart\n",
    "df_form2.plot(kind='bar', x='index', y='Форма собственности', color='#ffcc99')\n",
    "\n",
    "# Set the labels and title\n",
    "plt.xlabel('Type of form', fontsize=12, labelpad=10)\n",
    "plt.ylabel('Number of Companies', fontsize=12, labelpad=10)\n",
    "plt.title('Number of Companies per Form of property', fontsize=14, fontweight='bold', pad=20)\n",
    "\n",
    "# Adjust the font size and rotation of the x-axis labels\n",
    "plt.xticks(fontsize=10, rotation=45, ha='right')\n",
    "\n",
    "# Adjust the font size of the y-axis labels\n",
    "plt.yticks(fontsize=10)\n",
    "\n",
    "# Remove the top and right spines\n",
    "plt.gca().spines['top'].set_visible(False)\n",
    "plt.gca().spines['right'].set_visible(False)\n",
    "\n",
    "# Add grid lines to the plot\n",
    "plt.grid(axis='y', linestyle='--', alpha=0.5)\n",
    "\n",
    "# Show the plot\n",
    "plt.show()"
   ]
  },
  {
   "cell_type": "markdown",
   "id": "b5cb4df1",
   "metadata": {},
   "source": [
    "### Tone\n",
    "* 0 - completely stoped operations in Russia\n",
    "* 1 - continue operations in Russia\n",
    "* 2 - paused operations in Russia"
   ]
  },
  {
   "cell_type": "code",
   "execution_count": null,
   "id": "291cc588",
   "metadata": {},
   "outputs": [],
   "source": [
    "df_tone = database3['Tone'].value_counts().head(5)\n",
    "df_tone"
   ]
  },
  {
   "cell_type": "code",
   "execution_count": null,
   "id": "24a8ab19",
   "metadata": {},
   "outputs": [],
   "source": [
    "# Increase the figure size and adjust the spacing\n",
    "plt.figure(figsize=(10, 5))\n",
    "plt.subplots_adjust(left=0.1, right=0.9, top=0.9, bottom=0.1)\n",
    "\n",
    "# Plot the bar chart\n",
    "df_tone.plot(kind='bar', x='index', y='Tone', color='#ffcc99')\n",
    "\n",
    "# Set the labels and title\n",
    "plt.xlabel('Tone', fontsize=12, labelpad=10)\n",
    "plt.ylabel('Number of Companies', fontsize=12, labelpad=10)\n",
    "plt.title('Number of Companies per Tone', fontsize=14, fontweight='bold', pad=20)\n",
    "\n",
    "# Adjust the font size and rotation of the x-axis labels\n",
    "plt.xticks(fontsize=10, rotation=0, ha='right')\n",
    "\n",
    "# Adjust the font size of the y-axis labels\n",
    "plt.yticks(fontsize=10)\n",
    "\n",
    "# Remove the top and right spines\n",
    "plt.gca().spines['top'].set_visible(False)\n",
    "plt.gca().spines['right'].set_visible(False)\n",
    "\n",
    "# Add grid lines to the plot\n",
    "plt.grid(axis='y', linestyle='--', alpha=0.5)\n",
    "\n",
    "# Show the plot\n",
    "plt.show()"
   ]
  },
  {
   "cell_type": "code",
   "execution_count": null,
   "id": "1adc1508",
   "metadata": {},
   "outputs": [],
   "source": [
    "database3.head(1)"
   ]
  },
  {
   "cell_type": "code",
   "execution_count": null,
   "id": "36e3a708",
   "metadata": {},
   "outputs": [],
   "source": [
    "database3.shape"
   ]
  },
  {
   "cell_type": "markdown",
   "id": "157308b0",
   "metadata": {},
   "source": [
    "# Find the outliers"
   ]
  },
  {
   "cell_type": "code",
   "execution_count": null,
   "id": "ac7a0034",
   "metadata": {},
   "outputs": [],
   "source": [
    "# # Calculate the IQR for Age, Mean Profit, and Mean Revenue columns\n",
    "# cols_of_interest = ['Возраст компании, лет', 'Mean Profit', 'Mean Revenue']\n",
    "# Q1 = database3[cols_of_interest].quantile(0.25)\n",
    "# Q3 = database3[cols_of_interest].quantile(0.75)\n",
    "# IQR = Q3 - Q1\n",
    "\n",
    "# # Set the multiplier for outlier bounds (e.g., 1.5)\n",
    "# multiplier = 1.5\n",
    "\n",
    "# # Determine the lower and upper bounds for outliers\n",
    "# lower_bound = Q1 - multiplier * IQR\n",
    "# upper_bound = Q3 + multiplier * IQR\n",
    "\n",
    "# # Identify outliers\n",
    "# outliers = database3[(database3[cols_of_interest] < lower_bound) | (database3[cols_of_interest] > upper_bound)]\n",
    "# # Print the outliers\n",
    "# print(outliers)"
   ]
  },
  {
   "cell_type": "code",
   "execution_count": null,
   "id": "99b92249",
   "metadata": {},
   "outputs": [],
   "source": [
    "# # Count the number of outliers\n",
    "# num_outliers = ((database3[cols_of_interest] < lower_bound) | (database3[cols_of_interest] > upper_bound)).sum()\n",
    "# # Print the number of outliers\n",
    "# print(\"Number of outliers: \\n\", num_outliers)\n",
    "\n",
    "# num_outliers = ((database3[cols_of_interest] < lower_bound) | (database3[cols_of_interest] > upper_bound)).sum().sum()\n",
    "# print(\"Overall:\", num_outliers)"
   ]
  },
  {
   "cell_type": "code",
   "execution_count": null,
   "id": "84f43c4a",
   "metadata": {},
   "outputs": [],
   "source": [
    "plt.scatter(database3['Возраст компании, лет'], database3['Mean Revenue'])\n",
    "plt.title('Age of Company vs Mean Revenue')\n",
    "plt.xlabel('Age of Company')\n",
    "plt.ylabel('Mean Revenue')\n",
    "plt.show()"
   ]
  },
  {
   "cell_type": "code",
   "execution_count": null,
   "id": "c99aaaf8",
   "metadata": {},
   "outputs": [],
   "source": [
    "plt.scatter(database3['Возраст компании, лет'], database3['Mean Profit'])\n",
    "plt.title('Age of Company vs Mean Profit')\n",
    "plt.xlabel('Age of Company')\n",
    "plt.ylabel('Mean Profit')\n",
    "\n",
    "plt.show()"
   ]
  },
  {
   "cell_type": "markdown",
   "id": "0beb4e71",
   "metadata": {},
   "source": [
    "Here we see that Mean revenue and Mean Profit are highly positively correlated"
   ]
  },
  {
   "cell_type": "markdown",
   "id": "69d757ca",
   "metadata": {},
   "source": [
    "Correlation Heatmap: This is a good place to look at correlations between the numeric variables in your dataset."
   ]
  },
  {
   "cell_type": "code",
   "execution_count": null,
   "id": "c0644d38",
   "metadata": {},
   "outputs": [],
   "source": [
    "sns.heatmap(database3.corr(), annot=True)\n",
    "plt.show()"
   ]
  },
  {
   "cell_type": "markdown",
   "id": "ef2ee5f7",
   "metadata": {},
   "source": [
    "Age of Company vs. Mean Revenue/Profit: It would be interesting to see whether older companies generally have higher revenue or profit. A scatter plot could be a good way to show this."
   ]
  },
  {
   "cell_type": "code",
   "execution_count": null,
   "id": "32392619",
   "metadata": {},
   "outputs": [],
   "source": [
    "fig, ax = plt.subplots()\n",
    "\n",
    "ax.scatter(database3['Возраст компании, лет'], database3['Mean Revenue'])\n",
    "ax.set_yscale('log')  # If the values span several orders of magnitude\n",
    "plt.title('Age of Company vs Mean Revenue')\n",
    "plt.xlabel('Age of Company')\n",
    "plt.ylabel('Mean Revenue')\n",
    "plt.show()"
   ]
  },
  {
   "cell_type": "code",
   "execution_count": null,
   "id": "cf1b6f06",
   "metadata": {},
   "outputs": [],
   "source": [
    "fig, ax = plt.subplots()\n",
    "\n",
    "ax.scatter(database3['Возраст компании, лет'], database3['Mean Profit'])\n",
    "ax.set_yscale('log')  # If the values span several orders of magnitude\n",
    "plt.title('Age of Company vs Mean Profit')\n",
    "plt.xlabel('Age of Company')\n",
    "plt.ylabel('Mean Profit')\n",
    "plt.show()"
   ]
  },
  {
   "cell_type": "markdown",
   "id": "f660c0e3",
   "metadata": {},
   "source": [
    "From the two graphs above we can conclude that age and Mean Revenue/Profit are slightly positevely correlated: the bigger the Age of company the bigger Mean Revenue/Profir is."
   ]
  },
  {
   "cell_type": "code",
   "execution_count": null,
   "id": "c61cded3",
   "metadata": {},
   "outputs": [],
   "source": []
  },
  {
   "cell_type": "markdown",
   "id": "533f2167",
   "metadata": {},
   "source": [
    "Tone and Profitability: Assuming \"Tone\" is a sentiment analysis metric, it would be interesting to see if there's a relationship between Tone and Mean Profit. You can use a boxplot to compare the distribution of Mean Profit between different tones."
   ]
  },
  {
   "cell_type": "code",
   "execution_count": null,
   "id": "c5955637",
   "metadata": {},
   "outputs": [],
   "source": [
    "sns.boxplot(x='Tone', y='Mean Profit', data=database3)\n",
    "plt.title('Tone vs Mean Profit')\n",
    "plt.show()"
   ]
  },
  {
   "cell_type": "code",
   "execution_count": null,
   "id": "cc0588ee",
   "metadata": {},
   "outputs": [],
   "source": [
    "sns.boxplot(x='Tone', y='Mean Revenue', data=database3)\n",
    "plt.title('Tone vs Mean Profit')\n",
    "plt.show()"
   ]
  },
  {
   "cell_type": "markdown",
   "id": "00cdf222",
   "metadata": {},
   "source": [
    "Form of Property and Profitability: Another potential factor influencing company performance might be its form of property. Again, you can use box plots to show the relationship between these two variables."
   ]
  },
  {
   "cell_type": "code",
   "execution_count": null,
   "id": "6768f138",
   "metadata": {},
   "outputs": [],
   "source": [
    "sns.boxplot(x='Форма собственности', y='Mean Profit', data=database3)\n",
    "plt.title('Form of Property vs Mean Profit')\n",
    "plt.show()\n"
   ]
  },
  {
   "cell_type": "markdown",
   "id": "d4fc75aa",
   "metadata": {},
   "source": [
    "Size of Company and Mean Revenue/Profit: It would be interesting to investigate the relationship between the size of the company and its Mean Revenue/Profit. Given that 'Size of company' is ordinal, this would be a perfect opportunity to use a line plot to examine this."
   ]
  },
  {
   "cell_type": "code",
   "execution_count": null,
   "id": "eaa890dd",
   "metadata": {},
   "outputs": [],
   "source": [
    "database3.groupby('Размер компании')['Mean Revenue'].mean().plot(kind='line')\n",
    "plt.title('Size of Company vs Mean Revenue')\n",
    "plt.xlabel('Size of Company')\n",
    "plt.ylabel('Mean Revenue')\n",
    "plt.show()"
   ]
  },
  {
   "cell_type": "code",
   "execution_count": null,
   "id": "64ff2b8e",
   "metadata": {},
   "outputs": [],
   "source": [
    "database3.groupby('Размер компании')['Mean Profit'].mean().plot(kind='line')\n",
    "plt.title('Size of Company vs Mean Profit')\n",
    "plt.xlabel('Size of Company')\n",
    "plt.ylabel('Mean Profit')\n",
    "plt.show()"
   ]
  },
  {
   "cell_type": "code",
   "execution_count": null,
   "id": "5ecf7d9a",
   "metadata": {},
   "outputs": [],
   "source": []
  },
  {
   "cell_type": "code",
   "execution_count": null,
   "id": "463c1b8b",
   "metadata": {},
   "outputs": [],
   "source": []
  },
  {
   "cell_type": "code",
   "execution_count": null,
   "id": "d77d7427",
   "metadata": {},
   "outputs": [],
   "source": []
  },
  {
   "cell_type": "markdown",
   "id": "b7b46e99",
   "metadata": {},
   "source": [
    "# Prediction of Tone"
   ]
  },
  {
   "cell_type": "code",
   "execution_count": null,
   "id": "5f969042",
   "metadata": {},
   "outputs": [],
   "source": [
    "df = database.copy()"
   ]
  },
  {
   "cell_type": "code",
   "execution_count": null,
   "id": "19eee2ae",
   "metadata": {},
   "outputs": [],
   "source": [
    "df.head()"
   ]
  },
  {
   "cell_type": "code",
   "execution_count": null,
   "id": "4c8d6734",
   "metadata": {},
   "outputs": [],
   "source": [
    "df.columns"
   ]
  },
  {
   "cell_type": "markdown",
   "id": "45a25a72",
   "metadata": {},
   "source": [
    "### Before predicting, we should check whether variables \"Mean Revenue\", \"Country\" and \"Industry\" are somehow associated with \"Tone\""
   ]
  },
  {
   "cell_type": "code",
   "execution_count": null,
   "id": "5520b5e6",
   "metadata": {},
   "outputs": [],
   "source": [
    "from scipy.stats import chi2_contingency"
   ]
  },
  {
   "cell_type": "markdown",
   "id": "9a24fbe3",
   "metadata": {},
   "source": [
    "### \"Tone\" and \"Mean Revenue\""
   ]
  },
  {
   "cell_type": "code",
   "execution_count": null,
   "id": "eff23903",
   "metadata": {},
   "outputs": [],
   "source": [
    "# Create a contingency table between \"Tone\" and \"Mean Revenue\"\n",
    "contingency_table = pd.crosstab(df['Tone'], df['Mean Revenue'])\n",
    "\n",
    "# Perform the chi-square test of independence\n",
    "chi2, p_value, _, _ = chi2_contingency(contingency_table)\n",
    "\n",
    "print(\"Chi-square statistic:\", chi2)\n",
    "print(\"p-value:\", p_value)"
   ]
  },
  {
   "cell_type": "markdown",
   "id": "92c3169b",
   "metadata": {},
   "source": [
    "The p-value, 0.08029718074555114, represents the statistical significance of the association. In this case, the p-value is above the typical significance level of 0.05, suggesting that there is not enough evidence to reject the null hypothesis of independence. This means that based on the available data, <span style=\"font-size: 17px;\">  we do not have significant evidence to conclude that there is an association between the \"Tone\" and \"Mean Revenue\" variables."
   ]
  },
  {
   "cell_type": "markdown",
   "id": "93eba449",
   "metadata": {},
   "source": [
    "### \"Tone\" and \"Country\""
   ]
  },
  {
   "cell_type": "code",
   "execution_count": null,
   "id": "bda18065",
   "metadata": {},
   "outputs": [],
   "source": [
    "# Create a contingency table between \"Tone\" and \"Country\"\n",
    "contingency_table = pd.crosstab(df['Tone'], df['Country'])\n",
    "\n",
    "# Perform the chi-square test of independence\n",
    "chi2, p_value, _, _ = chi2_contingency(contingency_table)\n",
    "\n",
    "print(\"Chi-square statistic:\", chi2)\n",
    "print(\"p-value:\", p_value)"
   ]
  },
  {
   "cell_type": "markdown",
   "id": "13b75e6d",
   "metadata": {},
   "source": [
    "The p-value is extremely small (approximately 1.0227188469211595e-09), which is significantly below the typical significance level of 0.05. This indicates strong evidence to reject the null hypothesis of independence. Therefore, based on the available data, we can conclude that <span style=\"font-size: 17px;\"> there is a significant association between the \"Tone\" and \"Country\" variables."
   ]
  },
  {
   "cell_type": "markdown",
   "id": "6c7e0c65",
   "metadata": {},
   "source": [
    "### \"Tone\" and \"Industry\""
   ]
  },
  {
   "cell_type": "code",
   "execution_count": null,
   "id": "01b6e8f5",
   "metadata": {},
   "outputs": [],
   "source": [
    "# Create a contingency table between \"Tone\" and \"Industry\"\n",
    "contingency_table = pd.crosstab(df['Tone'], df['Industry'])\n",
    "\n",
    "# Perform the chi-square test of independence\n",
    "chi2, p_value, _, _ = chi2_contingency(contingency_table)\n",
    "\n",
    "print(\"Chi-square statistic:\", chi2)\n",
    "print(\"p-value:\", p_value)"
   ]
  },
  {
   "cell_type": "markdown",
   "id": "6e818278",
   "metadata": {},
   "source": [
    "The p-value is extremely small (approximately 4.815758757819452e-09), which is significantly below the typical significance level of 0.05. This provides strong evidence to reject the null hypothesis of independence. Therefore, based on the available data, we can conclude that <span style=\"font-size: 17px;\">  there is a significant association between the \"Tone\" and \"Industry\" variables."
   ]
  },
  {
   "cell_type": "markdown",
   "id": "7e3ee7b1",
   "metadata": {},
   "source": [
    "### \"Tone\" and \"Age\""
   ]
  },
  {
   "cell_type": "code",
   "execution_count": null,
   "id": "eac79fa6",
   "metadata": {},
   "outputs": [],
   "source": [
    "# Create a contingency table between \"Tone\" and \"Industry\"\n",
    "contingency_table = pd.crosstab(df['Tone'], df['Возраст компании, лет'])\n",
    "\n",
    "# Perform the chi-square test of independence\n",
    "chi2, p_value, _, _ = chi2_contingency(contingency_table)\n",
    "\n",
    "print(\"Chi-square statistic:\", chi2)\n",
    "print(\"p-value:\", p_value)"
   ]
  },
  {
   "cell_type": "markdown",
   "id": "07770f87",
   "metadata": {},
   "source": [
    "<span style=\"font-size: 17px;\"> no dependence"
   ]
  },
  {
   "cell_type": "markdown",
   "id": "eb3e8411",
   "metadata": {},
   "source": [
    "### \"Tone\" and \"Форма собственности\""
   ]
  },
  {
   "cell_type": "code",
   "execution_count": null,
   "id": "222a87d7",
   "metadata": {},
   "outputs": [],
   "source": [
    "# Create a contingency table between \"Tone\" and \"Industry\"\n",
    "contingency_table = pd.crosstab(df['Tone'], df['Форма собственности'])\n",
    "\n",
    "# Perform the chi-square test of independence\n",
    "chi2, p_value, _, _ = chi2_contingency(contingency_table)\n",
    "\n",
    "print(\"Chi-square statistic:\", chi2)\n",
    "print(\"p-value:\", p_value)"
   ]
  },
  {
   "cell_type": "markdown",
   "id": "a620d8c4",
   "metadata": {},
   "source": [
    "<span style=\"font-size: 17px;\"> no dependence"
   ]
  },
  {
   "cell_type": "markdown",
   "id": "bc729c04",
   "metadata": {},
   "source": [
    "### Therefore, we can predict Tone only by Country and by Industry"
   ]
  },
  {
   "cell_type": "code",
   "execution_count": null,
   "id": "43d8e117",
   "metadata": {},
   "outputs": [],
   "source": [
    "from sklearn.model_selection import train_test_split\n",
    "from sklearn.tree import DecisionTreeClassifier\n",
    "from sklearn.preprocessing import OneHotEncoder\n",
    "from sklearn.compose import ColumnTransformer\n",
    "from sklearn.pipeline import Pipeline"
   ]
  },
  {
   "cell_type": "code",
   "execution_count": null,
   "id": "69f273fe",
   "metadata": {},
   "outputs": [],
   "source": [
    "# Split the dataset into input features and target variable\n",
    "X = df[['Country', 'Industry']]  # Input features\n",
    "y = df['Tone']                   # Target variable"
   ]
  },
  {
   "cell_type": "code",
   "execution_count": null,
   "id": "d6007a2a",
   "metadata": {},
   "outputs": [],
   "source": [
    "# Choose a machine learning algorithm and define the preprocessing steps\n",
    "model = DecisionTreeClassifier()"
   ]
  },
  {
   "cell_type": "code",
   "execution_count": null,
   "id": "8d15f772",
   "metadata": {},
   "outputs": [],
   "source": [
    "# One-hot encoding for categorical variables\n",
    "categorical_features = ['Country', 'Industry']\n",
    "preprocessor = ColumnTransformer(\n",
    "    transformers=[('cat', OneHotEncoder(), categorical_features)])"
   ]
  },
  {
   "cell_type": "code",
   "execution_count": null,
   "id": "8dab34ee",
   "metadata": {},
   "outputs": [],
   "source": [
    "# Combine preprocessing and model into a single pipeline\n",
    "model = Pipeline(steps=[('preprocessor', preprocessor),\n",
    "                           ('model', model)])"
   ]
  },
  {
   "cell_type": "code",
   "execution_count": null,
   "id": "2bb02080",
   "metadata": {},
   "outputs": [],
   "source": [
    "# Train the model\n",
    "model.fit(X, y)"
   ]
  },
  {
   "cell_type": "code",
   "execution_count": null,
   "id": "b06c1b16",
   "metadata": {},
   "outputs": [],
   "source": [
    "# Predict the tone for new companies\n",
    "new_companies = pd.DataFrame({'Country': ['Spain', 'France'],\n",
    "                              'Industry': ['IT', 'IT']})\n",
    "predictions = model.predict(new_companies)\n",
    "\n",
    "# Print the predicted tones for the new companies\n",
    "print(predictions)"
   ]
  },
  {
   "cell_type": "code",
   "execution_count": null,
   "id": "53da3b69",
   "metadata": {},
   "outputs": [],
   "source": []
  },
  {
   "cell_type": "code",
   "execution_count": null,
   "id": "a355bdb7",
   "metadata": {},
   "outputs": [],
   "source": [
    "import configlib as lib\n",
    "lib.save_new_df(spark_int_no_nans, database)"
   ]
  },
  {
   "cell_type": "code",
   "execution_count": null,
   "id": "9021956e",
   "metadata": {},
   "outputs": [],
   "source": [
    "$ ssh-keygen -t ed25519 -C \"lyakhova135@gmail.com\""
   ]
  }
 ],
 "metadata": {
  "kernelspec": {
   "display_name": "Python 3 (ipykernel)",
   "language": "python",
   "name": "python3"
  },
  "language_info": {
   "codemirror_mode": {
    "name": "ipython",
    "version": 3
   },
   "file_extension": ".py",
   "mimetype": "text/x-python",
   "name": "python",
   "nbconvert_exporter": "python",
   "pygments_lexer": "ipython3",
   "version": "3.10.9"
  }
 },
 "nbformat": 4,
 "nbformat_minor": 5
}
