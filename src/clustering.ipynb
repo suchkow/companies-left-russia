{
 "cells": [
  {
   "cell_type": "markdown",
   "metadata": {},
   "source": [
    "# Cluster analysis of created DataFrames"
   ]
  },
  {
   "cell_type": "markdown",
   "metadata": {},
   "source": [
    "## K-prototypes algorithm for mixed data"
   ]
  },
  {
   "cell_type": "markdown",
   "metadata": {},
   "source": [
    "If we keep \"Mean Profit\" column, then we will have 1 cluster.\n",
    "If we delete both \"Mean Profit\" and \"Mean Revenue\", thus 2 clusters will be created: [0:326] and [1:218]."
   ]
  },
  {
   "cell_type": "code",
   "execution_count": 6,
   "metadata": {
    "ExecuteTime": {
     "end_time": "2023-05-28T15:51:44.945652Z",
     "start_time": "2023-05-28T15:51:44.809845Z"
    },
    "collapsed": false,
    "jupyter": {
     "outputs_hidden": false
    }
   },
   "outputs": [
    {
     "name": "stdout",
     "output_type": "stream",
     "text": [
      "All the DataFrames saved under ../data/pickles/:\n",
      "cleaning-v2.pkl\n"
     ]
    }
   ],
   "source": [
    "import matplotlib.pyplot as plt\n",
    "import seaborn as sns\n",
    "import configlib as lib\n",
    "\n",
    "lib.list_saved()"
   ]
  },
  {
   "cell_type": "code",
   "execution_count": 7,
   "metadata": {
    "ExecuteTime": {
     "end_time": "2023-05-28T15:51:44.962293Z",
     "start_time": "2023-05-28T15:51:44.816515Z"
    },
    "collapsed": true,
    "jupyter": {
     "outputs_hidden": true
    }
   },
   "outputs": [],
   "source": [
    "df = lib.call_df('cleaning-v2')\n",
    "df = df.drop({'Company', 'Action','Mean Revenue', 'Mean Profit'} , axis = 1)"
   ]
  },
  {
   "cell_type": "code",
   "execution_count": 8,
   "metadata": {
    "ExecuteTime": {
     "end_time": "2023-05-28T15:51:45.066599Z",
     "start_time": "2023-05-28T15:51:44.822257Z"
    },
    "collapsed": false,
    "jupyter": {
     "outputs_hidden": false
    }
   },
   "outputs": [
    {
     "data": {
      "text/html": [
       "<div>\n",
       "<style scoped>\n",
       "    .dataframe tbody tr th:only-of-type {\n",
       "        vertical-align: middle;\n",
       "    }\n",
       "\n",
       "    .dataframe tbody tr th {\n",
       "        vertical-align: top;\n",
       "    }\n",
       "\n",
       "    .dataframe thead th {\n",
       "        text-align: right;\n",
       "    }\n",
       "</style>\n",
       "<table border=\"1\" class=\"dataframe\">\n",
       "  <thead>\n",
       "    <tr style=\"text-align: right;\">\n",
       "      <th></th>\n",
       "      <th>Industry</th>\n",
       "      <th>Country</th>\n",
       "      <th>Tone</th>\n",
       "      <th>Возраст компании, лет</th>\n",
       "      <th>Вид деятельности/отрасль</th>\n",
       "      <th>Организационно-правовая форма</th>\n",
       "      <th>Форма собственности</th>\n",
       "      <th>Размер компании</th>\n",
       "    </tr>\n",
       "  </thead>\n",
       "  <tbody>\n",
       "    <tr>\n",
       "      <th>0</th>\n",
       "      <td>Health Care</td>\n",
       "      <td>United States</td>\n",
       "      <td>paused</td>\n",
       "      <td>10.5</td>\n",
       "      <td>Торговля оптовая фармацевтической продукцией</td>\n",
       "      <td>Общества с ограниченной ответственностью</td>\n",
       "      <td>Собственность иностранных юридических лиц</td>\n",
       "      <td>Крупные предприятия</td>\n",
       "    </tr>\n",
       "  </tbody>\n",
       "</table>\n",
       "</div>"
      ],
      "text/plain": [
       "      Industry        Country    Tone  Возраст компании, лет  \\\n",
       "0  Health Care  United States  paused                   10.5   \n",
       "\n",
       "                       Вид деятельности/отрасль  \\\n",
       "0  Торговля оптовая фармацевтической продукцией   \n",
       "\n",
       "              Организационно-правовая форма  \\\n",
       "0  Общества с ограниченной ответственностью   \n",
       "\n",
       "                         Форма собственности      Размер компании  \n",
       "0  Собственность иностранных юридических лиц  Крупные предприятия  "
      ]
     },
     "execution_count": 8,
     "metadata": {},
     "output_type": "execute_result"
    }
   ],
   "source": [
    "df.head(1)"
   ]
  },
  {
   "cell_type": "code",
   "execution_count": 9,
   "metadata": {
    "ExecuteTime": {
     "end_time": "2023-05-28T15:51:45.066782Z",
     "start_time": "2023-05-28T15:51:44.834042Z"
    },
    "collapsed": false,
    "jupyter": {
     "outputs_hidden": false
    }
   },
   "outputs": [],
   "source": [
    "mark_array=df.values"
   ]
  },
  {
   "cell_type": "markdown",
   "metadata": {},
   "source": [
    "Mark columns that has float datatypes"
   ]
  },
  {
   "cell_type": "code",
   "execution_count": 10,
   "metadata": {
    "ExecuteTime": {
     "end_time": "2023-05-28T15:51:45.213678Z",
     "start_time": "2023-05-28T15:51:44.841095Z"
    },
    "collapsed": false,
    "jupyter": {
     "outputs_hidden": false
    }
   },
   "outputs": [
    {
     "data": {
      "text/plain": [
       "array([['Health Care', 'United States', 'paused', ...,\n",
       "        'Общества с ограниченной ответственностью',\n",
       "        'Собственность иностранных юридических лиц',\n",
       "        'Крупные предприятия'],\n",
       "       ['Materials', 'France', 'leaved', ...,\n",
       "        'Непубличные акционерные общества',\n",
       "        'Совместная частная и иностранная собственность',\n",
       "        'Крупные предприятия'],\n",
       "       ['Information Technology', 'Japan', 'leaved', ...,\n",
       "        'Общества с ограниченной ответственностью',\n",
       "        'Собственность иностранных юридических лиц',\n",
       "        'Крупные предприятия'],\n",
       "       ...,\n",
       "       ['Health Care', 'United States', 'paused', ...,\n",
       "        'Общества с ограниченной ответственностью',\n",
       "        'Собственность иностранных юридических лиц',\n",
       "        'Крупные предприятия'],\n",
       "       ['Utilities', 'France', 'leaved', ...,\n",
       "        'Непубличные акционерные общества',\n",
       "        'Совместная частная и иностранная собственность',\n",
       "        'Микропредприятия'],\n",
       "       ['Financials', 'United States', 'leaved', ...,\n",
       "        'Общества с ограниченной ответственностью',\n",
       "        'Частная собственность', 'Микропредприятия']], dtype=object)"
      ]
     },
     "execution_count": 10,
     "metadata": {},
     "output_type": "execute_result"
    }
   ],
   "source": [
    "mark_array[:, 3] = mark_array[:, 3].astype(float)\n",
    "mark_array"
   ]
  },
  {
   "cell_type": "markdown",
   "metadata": {},
   "source": [
    "Get the position of categorical columns"
   ]
  },
  {
   "cell_type": "code",
   "execution_count": 11,
   "metadata": {
    "ExecuteTime": {
     "end_time": "2023-05-28T15:51:45.402005Z",
     "start_time": "2023-05-28T15:51:44.851769Z"
    },
    "collapsed": false,
    "jupyter": {
     "outputs_hidden": false
    }
   },
   "outputs": [
    {
     "name": "stdout",
     "output_type": "stream",
     "text": [
      "Categorical columns           : ['Industry', 'Country', 'Tone', 'Вид деятельности/отрасль', 'Организационно-правовая форма', 'Форма собственности', 'Размер компании']\n",
      "Categorical columns position  : [0, 1, 2, 4, 5, 6, 7]\n"
     ]
    }
   ],
   "source": [
    "catColumnsPos = [df.columns.get_loc(col) for col in list(df.select_dtypes('object').columns)]\n",
    "\n",
    "print('Categorical columns           : {}'.format(list(df.select_dtypes('object').columns)))\n",
    "print('Categorical columns position  : {}'.format(catColumnsPos))"
   ]
  },
  {
   "cell_type": "code",
   "execution_count": 12,
   "metadata": {
    "ExecuteTime": {
     "end_time": "2023-05-28T15:51:45.544151Z",
     "start_time": "2023-05-28T15:51:44.855741Z"
    },
    "collapsed": false,
    "jupyter": {
     "outputs_hidden": false
    }
   },
   "outputs": [
    {
     "data": {
      "text/plain": [
       "array([['Health Care', 'United States', 'paused', ...,\n",
       "        'Общества с ограниченной ответственностью',\n",
       "        'Собственность иностранных юридических лиц',\n",
       "        'Крупные предприятия'],\n",
       "       ['Materials', 'France', 'leaved', ...,\n",
       "        'Непубличные акционерные общества',\n",
       "        'Совместная частная и иностранная собственность',\n",
       "        'Крупные предприятия'],\n",
       "       ['Information Technology', 'Japan', 'leaved', ...,\n",
       "        'Общества с ограниченной ответственностью',\n",
       "        'Собственность иностранных юридических лиц',\n",
       "        'Крупные предприятия'],\n",
       "       ...,\n",
       "       ['Health Care', 'United States', 'paused', ...,\n",
       "        'Общества с ограниченной ответственностью',\n",
       "        'Собственность иностранных юридических лиц',\n",
       "        'Крупные предприятия'],\n",
       "       ['Utilities', 'France', 'leaved', ...,\n",
       "        'Непубличные акционерные общества',\n",
       "        'Совместная частная и иностранная собственность',\n",
       "        'Микропредприятия'],\n",
       "       ['Financials', 'United States', 'leaved', ...,\n",
       "        'Общества с ограниченной ответственностью',\n",
       "        'Частная собственность', 'Микропредприятия']], dtype=object)"
      ]
     },
     "execution_count": 12,
     "metadata": {},
     "output_type": "execute_result"
    }
   ],
   "source": [
    "dfMatrix = df.to_numpy()\n",
    "dfMatrix"
   ]
  },
  {
   "cell_type": "code",
   "execution_count": 13,
   "metadata": {
    "ExecuteTime": {
     "end_time": "2023-05-28T15:51:45.544720Z",
     "start_time": "2023-05-28T15:51:44.862405Z"
    },
    "collapsed": false,
    "jupyter": {
     "outputs_hidden": false
    }
   },
   "outputs": [
    {
     "name": "stdout",
     "output_type": "stream",
     "text": [
      " \n",
      "Count total NaN at each column in a DataFrame : \n",
      "\n",
      " Industry                         0\n",
      "Country                          0\n",
      "Tone                             0\n",
      "Возраст компании, лет            0\n",
      "Вид деятельности/отрасль         0\n",
      "Организационно-правовая форма    0\n",
      "Форма собственности              0\n",
      "Размер компании                  0\n",
      "dtype: int64\n"
     ]
    }
   ],
   "source": [
    "print(\" \\nCount total NaN at each column in a DataFrame : \\n\\n\", df.isnull().sum())"
   ]
  },
  {
   "cell_type": "markdown",
   "metadata": {},
   "source": [
    "### Elbow method to detect number of clusters [K]"
   ]
  },
  {
   "cell_type": "code",
   "execution_count": 14,
   "metadata": {
    "ExecuteTime": {
     "end_time": "2023-05-28T15:51:59.294759Z",
     "start_time": "2023-05-28T15:51:44.870879Z"
    },
    "collapsed": false,
    "jupyter": {
     "outputs_hidden": false
    }
   },
   "outputs": [
    {
     "name": "stdout",
     "output_type": "stream",
     "text": [
      "Cluster initiation: 1\n",
      "Cluster initiation: 2\n",
      "Cluster initiation: 3\n",
      "Cluster initiation: 4\n",
      "Cluster initiation: 5\n",
      "Cluster initiation: 6\n",
      "Cluster initiation: 7\n",
      "Cluster initiation: 8\n",
      "Cluster initiation: 9\n"
     ]
    },
    {
     "data": {
      "text/plain": [
       "<function matplotlib.pyplot.show(close=None, block=None)>"
      ]
     },
     "execution_count": 14,
     "metadata": {},
     "output_type": "execute_result"
    },
    {
     "data": {
      "image/png": "[encoded data removed]",
      "text/plain": [
       "<Figure size 640x480 with 1 Axes>"
      ]
     },
     "metadata": {},
     "output_type": "display_data"
    }
   ],
   "source": [
    "from kmodes.kprototypes import KPrototypes\n",
    "\n",
    "cost = []\n",
    "for cluster in range(1, 10):\n",
    "    try:\n",
    "        kprototype = KPrototypes(n_jobs = -1, n_clusters = cluster, init = 'Huang', random_state = 0)\n",
    "        kprototype.fit_predict(df, categorical = catColumnsPos)\n",
    "        cost.append(kprototype.cost_)\n",
    "        print('Cluster initiation: {}'.format(cluster))\n",
    "    except:\n",
    "        break\n",
    "\n",
    "plt.plot(cost)\n",
    "plt.xlabel('K')\n",
    "plt.ylabel('cost')\n",
    "plt.show"
   ]
  },
  {
   "cell_type": "code",
   "execution_count": 15,
   "metadata": {
    "ExecuteTime": {
     "end_time": "2023-05-28T15:51:59.301459Z",
     "start_time": "2023-05-28T15:51:59.297266Z"
    },
    "collapsed": false,
    "jupyter": {
     "outputs_hidden": false
    }
   },
   "outputs": [
    {
     "data": {
      "text/plain": [
       "[23710.52909664521,\n",
       " 11853.041530762159,\n",
       " 7891.151827516149,\n",
       " 6910.352513150235,\n",
       " 6375.059639047463,\n",
       " 5983.017895069677,\n",
       " 5736.168738747749,\n",
       " 5566.964174301405,\n",
       " 5400.213702254852]"
      ]
     },
     "execution_count": 15,
     "metadata": {},
     "output_type": "execute_result"
    }
   ],
   "source": [
    "cost"
   ]
  },
  {
   "cell_type": "code",
   "execution_count": 16,
   "metadata": {
    "ExecuteTime": {
     "end_time": "2023-05-28T15:52:01.393764Z",
     "start_time": "2023-05-28T15:51:59.306867Z"
    },
    "collapsed": true,
    "jupyter": {
     "outputs_hidden": true
    },
    "tags": []
   },
   "outputs": [
    {
     "name": "stdout",
     "output_type": "stream",
     "text": [
      "Initialization method and algorithm are deterministic. Setting n_init to 1.\n",
      "Init: initializing centroids\n",
      "Init: initializing clusters\n",
      "Starting iterations...\n",
      "Run: 1, iteration: 1/30, moves: 20, ncost: 12068.19759963948\n",
      "Run: 1, iteration: 2/30, moves: 13, ncost: 12022.57259068127\n",
      "Run: 1, iteration: 3/30, moves: 11, ncost: 11953.119249243453\n",
      "Run: 1, iteration: 4/30, moves: 10, ncost: 11919.822181110778\n",
      "Run: 1, iteration: 5/30, moves: 0, ncost: 11919.822181110778\n",
      "Init: initializing centroids\n",
      "Init: initializing clusters\n",
      "Starting iterations...\n",
      "Run: 2, iteration: 1/30, moves: 122, ncost: 11890.507109257924\n",
      "Run: 2, iteration: 2/30, moves: 8, ncost: 11858.982041988524\n",
      "Run: 2, iteration: 3/30, moves: 4, ncost: 11853.041530762159\n",
      "Run: 2, iteration: 4/30, moves: 0, ncost: 11853.041530762159\n",
      "Init: initializing centroids\n",
      "Init: initializing clusters\n",
      "Starting iterations...\n",
      "Run: 3, iteration: 1/30, moves: 39, ncost: 12156.469961519313\n",
      "Run: 3, iteration: 2/30, moves: 17, ncost: 12064.273058104429\n",
      "Run: 3, iteration: 3/30, moves: 11, ncost: 12022.57259068127\n",
      "Run: 3, iteration: 4/30, moves: 11, ncost: 11953.119249243453\n",
      "Run: 3, iteration: 5/30, moves: 10, ncost: 11919.822181110778\n",
      "Run: 3, iteration: 6/30, moves: 0, ncost: 11919.822181110778\n",
      "Init: initializing centroids\n",
      "Init: initializing clusters\n",
      "Starting iterations...\n",
      "Run: 4, iteration: 1/30, moves: 32, ncost: 12054.729430664096\n",
      "Run: 4, iteration: 2/30, moves: 21, ncost: 11878.007156830638\n",
      "Run: 4, iteration: 3/30, moves: 7, ncost: 11854.51224812331\n",
      "Run: 4, iteration: 4/30, moves: 2, ncost: 11853.041530762159\n",
      "Run: 4, iteration: 5/30, moves: 0, ncost: 11853.041530762159\n",
      "Init: initializing centroids\n",
      "Init: initializing clusters\n",
      "Starting iterations...\n",
      "Run: 5, iteration: 1/30, moves: 33, ncost: 12170.143589499818\n",
      "Run: 5, iteration: 2/30, moves: 28, ncost: 11881.387164339618\n",
      "Run: 5, iteration: 3/30, moves: 7, ncost: 11856.36649069823\n",
      "Run: 5, iteration: 4/30, moves: 3, ncost: 11853.041530762159\n",
      "Run: 5, iteration: 5/30, moves: 0, ncost: 11853.041530762159\n",
      "Init: initializing centroids\n",
      "Init: initializing clusters\n",
      "Starting iterations...\n",
      "Run: 6, iteration: 1/30, moves: 17, ncost: 12056.498898986361\n",
      "Run: 6, iteration: 2/30, moves: 8, ncost: 12022.57259068127\n",
      "Run: 6, iteration: 3/30, moves: 11, ncost: 11953.119249243453\n",
      "Run: 6, iteration: 4/30, moves: 10, ncost: 11919.822181110778\n",
      "Run: 6, iteration: 5/30, moves: 0, ncost: 11919.822181110778\n",
      "Init: initializing centroids\n",
      "Init: initializing clusters\n",
      "Starting iterations...\n",
      "Run: 7, iteration: 1/30, moves: 4, ncost: 11853.041530762159\n",
      "Run: 7, iteration: 2/30, moves: 0, ncost: 11853.041530762159\n",
      "Init: initializing centroids\n",
      "Init: initializing clusters\n",
      "Starting iterations...\n",
      "Run: 8, iteration: 1/30, moves: 7, ncost: 11960.042619333366\n",
      "Run: 8, iteration: 2/30, moves: 11, ncost: 11919.822181110778\n",
      "Run: 8, iteration: 3/30, moves: 0, ncost: 11919.822181110778\n",
      "Init: initializing centroids\n",
      "Init: initializing clusters\n",
      "Starting iterations...\n",
      "Run: 9, iteration: 1/30, moves: 25, ncost: 11853.041530762159\n",
      "Run: 9, iteration: 2/30, moves: 0, ncost: 11853.041530762159\n",
      "Init: initializing centroids\n",
      "Init: initializing clusters\n",
      "Starting iterations...\n",
      "Run: 10, iteration: 1/30, moves: 25, ncost: 11959.517206624228\n",
      "Run: 10, iteration: 2/30, moves: 16, ncost: 11858.982041988524\n",
      "Run: 10, iteration: 3/30, moves: 4, ncost: 11853.041530762159\n",
      "Run: 10, iteration: 4/30, moves: 0, ncost: 11853.041530762159\n",
      "Best run was number 2\n"
     ]
    }
   ],
   "source": [
    "kproto = KPrototypes(n_clusters=2, verbose=2,max_iter=30)\n",
    "clusters = kproto.fit_predict(mark_array, categorical=[0, 1, 2, 4, 5, 6, 7])"
   ]
  },
  {
   "cell_type": "code",
   "execution_count": 17,
   "metadata": {
    "ExecuteTime": {
     "end_time": "2023-05-28T15:52:01.394008Z",
     "start_time": "2023-05-28T15:52:01.386061Z"
    },
    "collapsed": false,
    "jupyter": {
     "outputs_hidden": false
    }
   },
   "outputs": [
    {
     "name": "stdout",
     "output_type": "stream",
     "text": [
      "[['12.495708154506438' 'Industrials' 'United States' 'leaved'\n",
      "  'Разработка компьютерного программного обеспечения'\n",
      "  'Общества с ограниченной ответственностью'\n",
      "  'Собственность иностранных юридических лиц' 'Крупные предприятия']\n",
      " ['24.013793103448275' 'Industrials' 'United States' 'leaved'\n",
      "  'Разработка компьютерного программного обеспечения'\n",
      "  'Общества с ограниченной ответственностью'\n",
      "  'Собственность иностранных юридических лиц' 'Крупные предприятия']]\n"
     ]
    }
   ],
   "source": [
    "print(kproto.cluster_centroids_)"
   ]
  },
  {
   "cell_type": "code",
   "execution_count": 18,
   "metadata": {
    "ExecuteTime": {
     "end_time": "2023-05-28T15:52:01.394882Z",
     "start_time": "2023-05-28T15:52:01.391567Z"
    },
    "collapsed": false,
    "jupyter": {
     "outputs_hidden": false
    }
   },
   "outputs": [],
   "source": [
    "cluster_dict=[]\n",
    "for c in clusters:\n",
    "    cluster_dict.append(c)"
   ]
  },
  {
   "cell_type": "code",
   "execution_count": 19,
   "metadata": {
    "ExecuteTime": {
     "end_time": "2023-05-28T15:52:01.441524Z",
     "start_time": "2023-05-28T15:52:01.401962Z"
    },
    "collapsed": true,
    "jupyter": {
     "outputs_hidden": true
    },
    "tags": []
   },
   "outputs": [
    {
     "data": {
      "text/plain": [
       "[0,\n",
       " 0,\n",
       " 1,\n",
       " 0,\n",
       " 0,\n",
       " 0,\n",
       " 1,\n",
       " 0,\n",
       " 1,\n",
       " 0,\n",
       " 1,\n",
       " 0,\n",
       " 0,\n",
       " 1,\n",
       " 0,\n",
       " 0,\n",
       " 0,\n",
       " 1,\n",
       " 1,\n",
       " 1,\n",
       " 1,\n",
       " 0,\n",
       " 0,\n",
       " 0,\n",
       " 1,\n",
       " 0,\n",
       " 0,\n",
       " 0,\n",
       " 1,\n",
       " 0,\n",
       " 0,\n",
       " 0,\n",
       " 1,\n",
       " 1,\n",
       " 0,\n",
       " 1,\n",
       " 1,\n",
       " 1,\n",
       " 0,\n",
       " 1,\n",
       " 1,\n",
       " 1,\n",
       " 0,\n",
       " 1,\n",
       " 0,\n",
       " 1,\n",
       " 0,\n",
       " 1,\n",
       " 1,\n",
       " 1,\n",
       " 0,\n",
       " 1,\n",
       " 0,\n",
       " 0,\n",
       " 0,\n",
       " 0,\n",
       " 0,\n",
       " 0,\n",
       " 1,\n",
       " 0,\n",
       " 1,\n",
       " 1,\n",
       " 0,\n",
       " 1,\n",
       " 0,\n",
       " 0,\n",
       " 0,\n",
       " 0,\n",
       " 0,\n",
       " 1,\n",
       " 1,\n",
       " 1,\n",
       " 0,\n",
       " 0,\n",
       " 0,\n",
       " 0,\n",
       " 1,\n",
       " 0,\n",
       " 0,\n",
       " 1,\n",
       " 0,\n",
       " 0,\n",
       " 0,\n",
       " 0,\n",
       " 1,\n",
       " 1,\n",
       " 0,\n",
       " 1,\n",
       " 1,\n",
       " 0,\n",
       " 1,\n",
       " 0,\n",
       " 0,\n",
       " 0,\n",
       " 1,\n",
       " 0,\n",
       " 1,\n",
       " 1,\n",
       " 1,\n",
       " 0,\n",
       " 0,\n",
       " 0,\n",
       " 0,\n",
       " 0,\n",
       " 0,\n",
       " 0,\n",
       " 0,\n",
       " 1,\n",
       " 0,\n",
       " 0,\n",
       " 0,\n",
       " 0,\n",
       " 1,\n",
       " 0,\n",
       " 0,\n",
       " 0,\n",
       " 0,\n",
       " 1,\n",
       " 0,\n",
       " 1,\n",
       " 0,\n",
       " 0,\n",
       " 1,\n",
       " 0,\n",
       " 0,\n",
       " 1,\n",
       " 1,\n",
       " 0,\n",
       " 0,\n",
       " 0,\n",
       " 0,\n",
       " 0,\n",
       " 0,\n",
       " 0,\n",
       " 1,\n",
       " 0,\n",
       " 0,\n",
       " 1,\n",
       " 1,\n",
       " 0,\n",
       " 0,\n",
       " 0,\n",
       " 1,\n",
       " 0,\n",
       " 1,\n",
       " 0,\n",
       " 0,\n",
       " 0,\n",
       " 1,\n",
       " 0,\n",
       " 0,\n",
       " 0,\n",
       " 0,\n",
       " 1,\n",
       " 0,\n",
       " 0,\n",
       " 1,\n",
       " 1,\n",
       " 0,\n",
       " 0,\n",
       " 1,\n",
       " 1,\n",
       " 1,\n",
       " 1,\n",
       " 0,\n",
       " 0,\n",
       " 0,\n",
       " 0,\n",
       " 0,\n",
       " 0,\n",
       " 1,\n",
       " 0,\n",
       " 1,\n",
       " 0,\n",
       " 0,\n",
       " 0,\n",
       " 1,\n",
       " 0,\n",
       " 1,\n",
       " 0,\n",
       " 0,\n",
       " 0,\n",
       " 0,\n",
       " 1,\n",
       " 1,\n",
       " 0,\n",
       " 0,\n",
       " 0,\n",
       " 0,\n",
       " 0,\n",
       " 1,\n",
       " 1,\n",
       " 1,\n",
       " 0,\n",
       " 0,\n",
       " 0,\n",
       " 0,\n",
       " 0,\n",
       " 0,\n",
       " 0,\n",
       " 1,\n",
       " 0,\n",
       " 0,\n",
       " 0,\n",
       " 1,\n",
       " 0,\n",
       " 1,\n",
       " 1,\n",
       " 0,\n",
       " 1,\n",
       " 0,\n",
       " 0,\n",
       " 0,\n",
       " 1,\n",
       " 0,\n",
       " 1,\n",
       " 0,\n",
       " 0,\n",
       " 1,\n",
       " 1,\n",
       " 0,\n",
       " 0,\n",
       " 1,\n",
       " 1,\n",
       " 1,\n",
       " 0,\n",
       " 0,\n",
       " 0,\n",
       " 1,\n",
       " 1,\n",
       " 0,\n",
       " 0,\n",
       " 0,\n",
       " 0,\n",
       " 0,\n",
       " 1,\n",
       " 1,\n",
       " 1,\n",
       " 1,\n",
       " 0,\n",
       " 0,\n",
       " 0,\n",
       " 0,\n",
       " 0,\n",
       " 0,\n",
       " 1,\n",
       " 0,\n",
       " 0,\n",
       " 0,\n",
       " 1,\n",
       " 0,\n",
       " 0,\n",
       " 0,\n",
       " 1,\n",
       " 1,\n",
       " 1,\n",
       " 1,\n",
       " 0,\n",
       " 0,\n",
       " 0,\n",
       " 0,\n",
       " 0,\n",
       " 0,\n",
       " 0,\n",
       " 0,\n",
       " 1,\n",
       " 1,\n",
       " 0,\n",
       " 0,\n",
       " 1,\n",
       " 1,\n",
       " 1,\n",
       " 0,\n",
       " 0,\n",
       " 0,\n",
       " 0,\n",
       " 0,\n",
       " 0,\n",
       " 0,\n",
       " 0,\n",
       " 0,\n",
       " 0,\n",
       " 1,\n",
       " 1,\n",
       " 0,\n",
       " 0,\n",
       " 0,\n",
       " 1,\n",
       " 1,\n",
       " 0,\n",
       " 0,\n",
       " 0,\n",
       " 1,\n",
       " 0,\n",
       " 1,\n",
       " 0,\n",
       " 1,\n",
       " 0,\n",
       " 0,\n",
       " 0,\n",
       " 1,\n",
       " 0,\n",
       " 0,\n",
       " 0,\n",
       " 0,\n",
       " 1,\n",
       " 0,\n",
       " 1,\n",
       " 1,\n",
       " 0,\n",
       " 1,\n",
       " 1,\n",
       " 1,\n",
       " 0,\n",
       " 0,\n",
       " 0,\n",
       " 0,\n",
       " 0,\n",
       " 0,\n",
       " 0,\n",
       " 1,\n",
       " 0,\n",
       " 1,\n",
       " 1,\n",
       " 1,\n",
       " 1,\n",
       " 1,\n",
       " 1,\n",
       " 1,\n",
       " 0,\n",
       " 0,\n",
       " 1,\n",
       " 0,\n",
       " 1,\n",
       " 0,\n",
       " 1,\n",
       " 0,\n",
       " 0,\n",
       " 1,\n",
       " 1,\n",
       " 1,\n",
       " 0,\n",
       " 0,\n",
       " 1,\n",
       " 1,\n",
       " 0,\n",
       " 1,\n",
       " 0,\n",
       " 1,\n",
       " 1,\n",
       " 1,\n",
       " 1,\n",
       " 0,\n",
       " 0,\n",
       " 0,\n",
       " 1,\n",
       " 0,\n",
       " 1,\n",
       " 0,\n",
       " 1,\n",
       " 0,\n",
       " 0,\n",
       " 1,\n",
       " 0,\n",
       " 0,\n",
       " 0,\n",
       " 1,\n",
       " 0,\n",
       " 0,\n",
       " 0,\n",
       " 0,\n",
       " 0,\n",
       " 1,\n",
       " 1,\n",
       " 0,\n",
       " 1,\n",
       " 1,\n",
       " 0]"
      ]
     },
     "execution_count": 19,
     "metadata": {},
     "output_type": "execute_result"
    }
   ],
   "source": [
    "cluster_dict"
   ]
  },
  {
   "cell_type": "code",
   "execution_count": 20,
   "metadata": {
    "ExecuteTime": {
     "end_time": "2023-05-28T15:52:01.452844Z",
     "start_time": "2023-05-28T15:52:01.404828Z"
    },
    "collapsed": false,
    "jupyter": {
     "outputs_hidden": false
    }
   },
   "outputs": [],
   "source": [
    "df['cluster']=cluster_dict"
   ]
  },
  {
   "cell_type": "code",
   "execution_count": 21,
   "metadata": {
    "ExecuteTime": {
     "end_time": "2023-05-28T15:52:01.454434Z",
     "start_time": "2023-05-28T15:52:01.418155Z"
    },
    "collapsed": false,
    "jupyter": {
     "outputs_hidden": false
    }
   },
   "outputs": [
    {
     "name": "stdout",
     "output_type": "stream",
     "text": [
      "0 :  233\n",
      "1 :  145\n",
      "2 :  0\n",
      "3 :  0\n",
      "4 :  0\n"
     ]
    }
   ],
   "source": [
    "for i in range(0,5):\n",
    "    print(i, \": \", df[df['cluster']== i].value_counts().sum())"
   ]
  },
  {
   "cell_type": "code",
   "execution_count": 22,
   "metadata": {
    "ExecuteTime": {
     "end_time": "2023-05-28T15:52:01.472044Z",
     "start_time": "2023-05-28T15:52:01.441683Z"
    },
    "collapsed": false,
    "jupyter": {
     "outputs_hidden": false
    }
   },
   "outputs": [
    {
     "data": {
      "text/html": [
       "<div>\n",
       "<style scoped>\n",
       "    .dataframe tbody tr th:only-of-type {\n",
       "        vertical-align: middle;\n",
       "    }\n",
       "\n",
       "    .dataframe tbody tr th {\n",
       "        vertical-align: top;\n",
       "    }\n",
       "\n",
       "    .dataframe thead th {\n",
       "        text-align: right;\n",
       "    }\n",
       "</style>\n",
       "<table border=\"1\" class=\"dataframe\">\n",
       "  <thead>\n",
       "    <tr style=\"text-align: right;\">\n",
       "      <th></th>\n",
       "      <th>Industry</th>\n",
       "      <th>Country</th>\n",
       "      <th>Tone</th>\n",
       "      <th>Возраст компании, лет</th>\n",
       "      <th>Вид деятельности/отрасль</th>\n",
       "      <th>Организационно-правовая форма</th>\n",
       "      <th>Форма собственности</th>\n",
       "      <th>Размер компании</th>\n",
       "      <th>cluster</th>\n",
       "    </tr>\n",
       "  </thead>\n",
       "  <tbody>\n",
       "    <tr>\n",
       "      <th>0</th>\n",
       "      <td>Health Care</td>\n",
       "      <td>United States</td>\n",
       "      <td>paused</td>\n",
       "      <td>10.5</td>\n",
       "      <td>Торговля оптовая фармацевтической продукцией</td>\n",
       "      <td>Общества с ограниченной ответственностью</td>\n",
       "      <td>Собственность иностранных юридических лиц</td>\n",
       "      <td>Крупные предприятия</td>\n",
       "      <td>0</td>\n",
       "    </tr>\n",
       "    <tr>\n",
       "      <th>1</th>\n",
       "      <td>Materials</td>\n",
       "      <td>France</td>\n",
       "      <td>leaved</td>\n",
       "      <td>17.5</td>\n",
       "      <td>Производство промышленных газов</td>\n",
       "      <td>Непубличные акционерные общества</td>\n",
       "      <td>Совместная частная и иностранная собственность</td>\n",
       "      <td>Крупные предприятия</td>\n",
       "      <td>0</td>\n",
       "    </tr>\n",
       "    <tr>\n",
       "      <th>3</th>\n",
       "      <td>Information Technology</td>\n",
       "      <td>Japan</td>\n",
       "      <td>leaved</td>\n",
       "      <td>29.0</td>\n",
       "      <td>Торговля оптовая неспециализированная</td>\n",
       "      <td>Общества с ограниченной ответственностью</td>\n",
       "      <td>Собственность иностранных юридических лиц</td>\n",
       "      <td>Крупные предприятия</td>\n",
       "      <td>1</td>\n",
       "    </tr>\n",
       "    <tr>\n",
       "      <th>6</th>\n",
       "      <td>Industrials</td>\n",
       "      <td>France</td>\n",
       "      <td>paused</td>\n",
       "      <td>12.5</td>\n",
       "      <td>Деятельность по складированию и хранению</td>\n",
       "      <td>Общества с ограниченной ответственностью</td>\n",
       "      <td>Собственность иностранных юридических лиц</td>\n",
       "      <td>Крупные предприятия</td>\n",
       "      <td>0</td>\n",
       "    </tr>\n",
       "    <tr>\n",
       "      <th>7</th>\n",
       "      <td>Health Care</td>\n",
       "      <td>United States</td>\n",
       "      <td>leaved</td>\n",
       "      <td>17.5</td>\n",
       "      <td>Деятельность предпринимательских членских неко...</td>\n",
       "      <td>Общества с ограниченной ответственностью</td>\n",
       "      <td>Собственность иностранных юридических лиц</td>\n",
       "      <td>Средние предприятия</td>\n",
       "      <td>0</td>\n",
       "    </tr>\n",
       "    <tr>\n",
       "      <th>...</th>\n",
       "      <td>...</td>\n",
       "      <td>...</td>\n",
       "      <td>...</td>\n",
       "      <td>...</td>\n",
       "      <td>...</td>\n",
       "      <td>...</td>\n",
       "      <td>...</td>\n",
       "      <td>...</td>\n",
       "      <td>...</td>\n",
       "    </tr>\n",
       "    <tr>\n",
       "      <th>470</th>\n",
       "      <td>Consumer Staples</td>\n",
       "      <td>Germany</td>\n",
       "      <td>continue</td>\n",
       "      <td>25.0</td>\n",
       "      <td>Производство прочей молочной продукции</td>\n",
       "      <td>Общества с ограниченной ответственностью</td>\n",
       "      <td>Собственность иностранных юридических лиц</td>\n",
       "      <td>Крупные предприятия</td>\n",
       "      <td>1</td>\n",
       "    </tr>\n",
       "    <tr>\n",
       "      <th>471</th>\n",
       "      <td>Consumer Staples</td>\n",
       "      <td>Germany</td>\n",
       "      <td>leaved</td>\n",
       "      <td>15.5</td>\n",
       "      <td>Деятельность по управлению холдинг-компаниями</td>\n",
       "      <td>Общества с ограниченной ответственностью</td>\n",
       "      <td>Совместная частная и иностранная собственность</td>\n",
       "      <td>Средние предприятия</td>\n",
       "      <td>0</td>\n",
       "    </tr>\n",
       "    <tr>\n",
       "      <th>472</th>\n",
       "      <td>Health Care</td>\n",
       "      <td>United States</td>\n",
       "      <td>paused</td>\n",
       "      <td>24.5</td>\n",
       "      <td>Торговля оптовая фармацевтической продукцией</td>\n",
       "      <td>Общества с ограниченной ответственностью</td>\n",
       "      <td>Собственность иностранных юридических лиц</td>\n",
       "      <td>Крупные предприятия</td>\n",
       "      <td>1</td>\n",
       "    </tr>\n",
       "    <tr>\n",
       "      <th>473</th>\n",
       "      <td>Utilities</td>\n",
       "      <td>France</td>\n",
       "      <td>leaved</td>\n",
       "      <td>24.5</td>\n",
       "      <td>Производство прочего электрического оборудования</td>\n",
       "      <td>Непубличные акционерные общества</td>\n",
       "      <td>Совместная частная и иностранная собственность</td>\n",
       "      <td>Микропредприятия</td>\n",
       "      <td>1</td>\n",
       "    </tr>\n",
       "    <tr>\n",
       "      <th>475</th>\n",
       "      <td>Financials</td>\n",
       "      <td>United States</td>\n",
       "      <td>leaved</td>\n",
       "      <td>12.5</td>\n",
       "      <td>Деятельность рекламных агентств</td>\n",
       "      <td>Общества с ограниченной ответственностью</td>\n",
       "      <td>Частная собственность</td>\n",
       "      <td>Микропредприятия</td>\n",
       "      <td>0</td>\n",
       "    </tr>\n",
       "  </tbody>\n",
       "</table>\n",
       "<p>378 rows × 9 columns</p>\n",
       "</div>"
      ],
      "text/plain": [
       "                   Industry        Country      Tone  Возраст компании, лет  \\\n",
       "0               Health Care  United States    paused                   10.5   \n",
       "1                 Materials         France    leaved                   17.5   \n",
       "3    Information Technology          Japan    leaved                   29.0   \n",
       "6               Industrials         France    paused                   12.5   \n",
       "7               Health Care  United States    leaved                   17.5   \n",
       "..                      ...            ...       ...                    ...   \n",
       "470        Consumer Staples        Germany  continue                   25.0   \n",
       "471        Consumer Staples        Germany    leaved                   15.5   \n",
       "472             Health Care  United States    paused                   24.5   \n",
       "473               Utilities         France    leaved                   24.5   \n",
       "475              Financials  United States    leaved                   12.5   \n",
       "\n",
       "                              Вид деятельности/отрасль  \\\n",
       "0         Торговля оптовая фармацевтической продукцией   \n",
       "1                      Производство промышленных газов   \n",
       "3                Торговля оптовая неспециализированная   \n",
       "6             Деятельность по складированию и хранению   \n",
       "7    Деятельность предпринимательских членских неко...   \n",
       "..                                                 ...   \n",
       "470             Производство прочей молочной продукции   \n",
       "471      Деятельность по управлению холдинг-компаниями   \n",
       "472       Торговля оптовая фармацевтической продукцией   \n",
       "473   Производство прочего электрического оборудования   \n",
       "475                    Деятельность рекламных агентств   \n",
       "\n",
       "                Организационно-правовая форма  \\\n",
       "0    Общества с ограниченной ответственностью   \n",
       "1            Непубличные акционерные общества   \n",
       "3    Общества с ограниченной ответственностью   \n",
       "6    Общества с ограниченной ответственностью   \n",
       "7    Общества с ограниченной ответственностью   \n",
       "..                                        ...   \n",
       "470  Общества с ограниченной ответственностью   \n",
       "471  Общества с ограниченной ответственностью   \n",
       "472  Общества с ограниченной ответственностью   \n",
       "473          Непубличные акционерные общества   \n",
       "475  Общества с ограниченной ответственностью   \n",
       "\n",
       "                                Форма собственности      Размер компании  \\\n",
       "0         Собственность иностранных юридических лиц  Крупные предприятия   \n",
       "1    Совместная частная и иностранная собственность  Крупные предприятия   \n",
       "3         Собственность иностранных юридических лиц  Крупные предприятия   \n",
       "6         Собственность иностранных юридических лиц  Крупные предприятия   \n",
       "7         Собственность иностранных юридических лиц  Средние предприятия   \n",
       "..                                              ...                  ...   \n",
       "470       Собственность иностранных юридических лиц  Крупные предприятия   \n",
       "471  Совместная частная и иностранная собственность  Средние предприятия   \n",
       "472       Собственность иностранных юридических лиц  Крупные предприятия   \n",
       "473  Совместная частная и иностранная собственность     Микропредприятия   \n",
       "475                           Частная собственность     Микропредприятия   \n",
       "\n",
       "     cluster  \n",
       "0          0  \n",
       "1          0  \n",
       "3          1  \n",
       "6          0  \n",
       "7          0  \n",
       "..       ...  \n",
       "470        1  \n",
       "471        0  \n",
       "472        1  \n",
       "473        1  \n",
       "475        0  \n",
       "\n",
       "[378 rows x 9 columns]"
      ]
     },
     "execution_count": 22,
     "metadata": {},
     "output_type": "execute_result"
    }
   ],
   "source": [
    "df"
   ]
  },
  {
   "cell_type": "code",
   "execution_count": 23,
   "metadata": {
    "ExecuteTime": {
     "end_time": "2023-05-28T15:52:01.534826Z",
     "start_time": "2023-05-28T15:52:01.462980Z"
    },
    "collapsed": false,
    "jupyter": {
     "outputs_hidden": false
    }
   },
   "outputs": [
    {
     "data": {
      "text/html": [
       "<div>\n",
       "<style scoped>\n",
       "    .dataframe tbody tr th:only-of-type {\n",
       "        vertical-align: middle;\n",
       "    }\n",
       "\n",
       "    .dataframe tbody tr th {\n",
       "        vertical-align: top;\n",
       "    }\n",
       "\n",
       "    .dataframe thead th {\n",
       "        text-align: right;\n",
       "    }\n",
       "</style>\n",
       "<table border=\"1\" class=\"dataframe\">\n",
       "  <thead>\n",
       "    <tr style=\"text-align: right;\">\n",
       "      <th></th>\n",
       "      <th>Industry</th>\n",
       "      <th>Country</th>\n",
       "      <th>Tone</th>\n",
       "      <th>Возраст компании, лет</th>\n",
       "      <th>Вид деятельности/отрасль</th>\n",
       "      <th>Организационно-правовая форма</th>\n",
       "      <th>Форма собственности</th>\n",
       "      <th>Размер компании</th>\n",
       "      <th>cluster</th>\n",
       "    </tr>\n",
       "  </thead>\n",
       "  <tbody>\n",
       "    <tr>\n",
       "      <th>0</th>\n",
       "      <td>Health Care</td>\n",
       "      <td>United States</td>\n",
       "      <td>paused</td>\n",
       "      <td>10.5</td>\n",
       "      <td>Торговля оптовая фармацевтической продукцией</td>\n",
       "      <td>Общества с ограниченной ответственностью</td>\n",
       "      <td>Собственность иностранных юридических лиц</td>\n",
       "      <td>Крупные предприятия</td>\n",
       "      <td>0</td>\n",
       "    </tr>\n",
       "    <tr>\n",
       "      <th>1</th>\n",
       "      <td>Materials</td>\n",
       "      <td>France</td>\n",
       "      <td>leaved</td>\n",
       "      <td>17.5</td>\n",
       "      <td>Производство промышленных газов</td>\n",
       "      <td>Непубличные акционерные общества</td>\n",
       "      <td>Совместная частная и иностранная собственность</td>\n",
       "      <td>Крупные предприятия</td>\n",
       "      <td>0</td>\n",
       "    </tr>\n",
       "    <tr>\n",
       "      <th>6</th>\n",
       "      <td>Industrials</td>\n",
       "      <td>France</td>\n",
       "      <td>paused</td>\n",
       "      <td>12.5</td>\n",
       "      <td>Деятельность по складированию и хранению</td>\n",
       "      <td>Общества с ограниченной ответственностью</td>\n",
       "      <td>Собственность иностранных юридических лиц</td>\n",
       "      <td>Крупные предприятия</td>\n",
       "      <td>0</td>\n",
       "    </tr>\n",
       "    <tr>\n",
       "      <th>7</th>\n",
       "      <td>Health Care</td>\n",
       "      <td>United States</td>\n",
       "      <td>leaved</td>\n",
       "      <td>17.5</td>\n",
       "      <td>Деятельность предпринимательских членских неко...</td>\n",
       "      <td>Общества с ограниченной ответственностью</td>\n",
       "      <td>Собственность иностранных юридических лиц</td>\n",
       "      <td>Средние предприятия</td>\n",
       "      <td>0</td>\n",
       "    </tr>\n",
       "    <tr>\n",
       "      <th>8</th>\n",
       "      <td>Health Care</td>\n",
       "      <td>Switzerland</td>\n",
       "      <td>leaved</td>\n",
       "      <td>16.0</td>\n",
       "      <td>Торговля оптовая фармацевтической продукцией</td>\n",
       "      <td>Общества с ограниченной ответственностью</td>\n",
       "      <td>Собственность иностранных юридических лиц</td>\n",
       "      <td>Крупные предприятия</td>\n",
       "      <td>0</td>\n",
       "    </tr>\n",
       "    <tr>\n",
       "      <th>10</th>\n",
       "      <td>Industrials</td>\n",
       "      <td>Germany</td>\n",
       "      <td>leaved</td>\n",
       "      <td>11.5</td>\n",
       "      <td>Сбор отходов</td>\n",
       "      <td>Общества с ограниченной ответственностью</td>\n",
       "      <td>Иная смешанная российская собственность</td>\n",
       "      <td>Средние предприятия</td>\n",
       "      <td>0</td>\n",
       "    </tr>\n",
       "    <tr>\n",
       "      <th>12</th>\n",
       "      <td>Industrials</td>\n",
       "      <td>Belgium</td>\n",
       "      <td>leaved</td>\n",
       "      <td>14.0</td>\n",
       "      <td>Деятельность вспомогательная прочая, связанная...</td>\n",
       "      <td>Общества с ограниченной ответственностью</td>\n",
       "      <td>Собственность иностранных юридических лиц</td>\n",
       "      <td>Малые предприятия</td>\n",
       "      <td>0</td>\n",
       "    </tr>\n",
       "    <tr>\n",
       "      <th>14</th>\n",
       "      <td>Materials</td>\n",
       "      <td>Germany</td>\n",
       "      <td>paused</td>\n",
       "      <td>15.0</td>\n",
       "      <td>Производство стекла и изделий из стекла</td>\n",
       "      <td>Общества с ограниченной ответственностью</td>\n",
       "      <td>Собственность иностранных юридических лиц</td>\n",
       "      <td>Средние предприятия</td>\n",
       "      <td>0</td>\n",
       "    </tr>\n",
       "    <tr>\n",
       "      <th>17</th>\n",
       "      <td>Consumer Discretionary</td>\n",
       "      <td>Netherlands</td>\n",
       "      <td>paused</td>\n",
       "      <td>7.5</td>\n",
       "      <td>Торговля оптовая электрической бытовой техникой</td>\n",
       "      <td>Общества с ограниченной ответственностью</td>\n",
       "      <td>Собственность иностранных юридических лиц</td>\n",
       "      <td>Крупные предприятия</td>\n",
       "      <td>0</td>\n",
       "    </tr>\n",
       "    <tr>\n",
       "      <th>19</th>\n",
       "      <td>Industrials</td>\n",
       "      <td>Netherlands</td>\n",
       "      <td>paused</td>\n",
       "      <td>17.0</td>\n",
       "      <td>Деятельность административно-хозяйственная ком...</td>\n",
       "      <td>Общества с ограниченной ответственностью</td>\n",
       "      <td>Собственность иностранных юридических лиц</td>\n",
       "      <td>Малые предприятия</td>\n",
       "      <td>0</td>\n",
       "    </tr>\n",
       "  </tbody>\n",
       "</table>\n",
       "</div>"
      ],
      "text/plain": [
       "                  Industry        Country    Tone  Возраст компании, лет  \\\n",
       "0              Health Care  United States  paused                   10.5   \n",
       "1                Materials         France  leaved                   17.5   \n",
       "6              Industrials         France  paused                   12.5   \n",
       "7              Health Care  United States  leaved                   17.5   \n",
       "8              Health Care    Switzerland  leaved                   16.0   \n",
       "10             Industrials        Germany  leaved                   11.5   \n",
       "12             Industrials        Belgium  leaved                   14.0   \n",
       "14               Materials        Germany  paused                   15.0   \n",
       "17  Consumer Discretionary    Netherlands  paused                    7.5   \n",
       "19             Industrials    Netherlands  paused                   17.0   \n",
       "\n",
       "                             Вид деятельности/отрасль  \\\n",
       "0        Торговля оптовая фармацевтической продукцией   \n",
       "1                     Производство промышленных газов   \n",
       "6            Деятельность по складированию и хранению   \n",
       "7   Деятельность предпринимательских членских неко...   \n",
       "8        Торговля оптовая фармацевтической продукцией   \n",
       "10                                       Сбор отходов   \n",
       "12  Деятельность вспомогательная прочая, связанная...   \n",
       "14            Производство стекла и изделий из стекла   \n",
       "17    Торговля оптовая электрической бытовой техникой   \n",
       "19  Деятельность административно-хозяйственная ком...   \n",
       "\n",
       "               Организационно-правовая форма  \\\n",
       "0   Общества с ограниченной ответственностью   \n",
       "1           Непубличные акционерные общества   \n",
       "6   Общества с ограниченной ответственностью   \n",
       "7   Общества с ограниченной ответственностью   \n",
       "8   Общества с ограниченной ответственностью   \n",
       "10  Общества с ограниченной ответственностью   \n",
       "12  Общества с ограниченной ответственностью   \n",
       "14  Общества с ограниченной ответственностью   \n",
       "17  Общества с ограниченной ответственностью   \n",
       "19  Общества с ограниченной ответственностью   \n",
       "\n",
       "                               Форма собственности      Размер компании  \\\n",
       "0        Собственность иностранных юридических лиц  Крупные предприятия   \n",
       "1   Совместная частная и иностранная собственность  Крупные предприятия   \n",
       "6        Собственность иностранных юридических лиц  Крупные предприятия   \n",
       "7        Собственность иностранных юридических лиц  Средние предприятия   \n",
       "8        Собственность иностранных юридических лиц  Крупные предприятия   \n",
       "10         Иная смешанная российская собственность  Средние предприятия   \n",
       "12       Собственность иностранных юридических лиц    Малые предприятия   \n",
       "14       Собственность иностранных юридических лиц  Средние предприятия   \n",
       "17       Собственность иностранных юридических лиц  Крупные предприятия   \n",
       "19       Собственность иностранных юридических лиц    Малые предприятия   \n",
       "\n",
       "    cluster  \n",
       "0         0  \n",
       "1         0  \n",
       "6         0  \n",
       "7         0  \n",
       "8         0  \n",
       "10        0  \n",
       "12        0  \n",
       "14        0  \n",
       "17        0  \n",
       "19        0  "
      ]
     },
     "execution_count": 23,
     "metadata": {},
     "output_type": "execute_result"
    }
   ],
   "source": [
    "df[df['cluster']== 0].head(10)"
   ]
  },
  {
   "cell_type": "code",
   "execution_count": 24,
   "metadata": {
    "ExecuteTime": {
     "end_time": "2023-05-28T15:52:01.594145Z",
     "start_time": "2023-05-28T15:52:01.478248Z"
    },
    "collapsed": false,
    "jupyter": {
     "outputs_hidden": false
    }
   },
   "outputs": [
    {
     "data": {
      "text/html": [
       "<div>\n",
       "<style scoped>\n",
       "    .dataframe tbody tr th:only-of-type {\n",
       "        vertical-align: middle;\n",
       "    }\n",
       "\n",
       "    .dataframe tbody tr th {\n",
       "        vertical-align: top;\n",
       "    }\n",
       "\n",
       "    .dataframe thead th {\n",
       "        text-align: right;\n",
       "    }\n",
       "</style>\n",
       "<table border=\"1\" class=\"dataframe\">\n",
       "  <thead>\n",
       "    <tr style=\"text-align: right;\">\n",
       "      <th></th>\n",
       "      <th>Industry</th>\n",
       "      <th>Country</th>\n",
       "      <th>Tone</th>\n",
       "      <th>Возраст компании, лет</th>\n",
       "      <th>Вид деятельности/отрасль</th>\n",
       "      <th>Организационно-правовая форма</th>\n",
       "      <th>Форма собственности</th>\n",
       "      <th>Размер компании</th>\n",
       "      <th>cluster</th>\n",
       "    </tr>\n",
       "  </thead>\n",
       "  <tbody>\n",
       "    <tr>\n",
       "      <th>3</th>\n",
       "      <td>Information Technology</td>\n",
       "      <td>Japan</td>\n",
       "      <td>leaved</td>\n",
       "      <td>29.0</td>\n",
       "      <td>Торговля оптовая неспециализированная</td>\n",
       "      <td>Общества с ограниченной ответственностью</td>\n",
       "      <td>Собственность иностранных юридических лиц</td>\n",
       "      <td>Крупные предприятия</td>\n",
       "      <td>1</td>\n",
       "    </tr>\n",
       "    <tr>\n",
       "      <th>9</th>\n",
       "      <td>Energy</td>\n",
       "      <td>Austria</td>\n",
       "      <td>leaved</td>\n",
       "      <td>26.5</td>\n",
       "      <td>Деятельность по финансовой аренде (лизингу/суб...</td>\n",
       "      <td>Общества с ограниченной ответственностью</td>\n",
       "      <td>Частная собственность</td>\n",
       "      <td>Микропредприятия</td>\n",
       "      <td>1</td>\n",
       "    </tr>\n",
       "    <tr>\n",
       "      <th>11</th>\n",
       "      <td>Health Care</td>\n",
       "      <td>France</td>\n",
       "      <td>continue</td>\n",
       "      <td>28.0</td>\n",
       "      <td>Торговля оптовая фармацевтической продукцией</td>\n",
       "      <td>Непубличные акционерные общества</td>\n",
       "      <td>Собственность иностранных юридических лиц</td>\n",
       "      <td>Крупные предприятия</td>\n",
       "      <td>1</td>\n",
       "    </tr>\n",
       "    <tr>\n",
       "      <th>13</th>\n",
       "      <td>Energy</td>\n",
       "      <td>United States</td>\n",
       "      <td>leaved</td>\n",
       "      <td>18.5</td>\n",
       "      <td>Предоставление услуг в области добычи нефти и ...</td>\n",
       "      <td>Общества с ограниченной ответственностью</td>\n",
       "      <td>Частная собственность</td>\n",
       "      <td>Крупные предприятия</td>\n",
       "      <td>1</td>\n",
       "    </tr>\n",
       "    <tr>\n",
       "      <th>18</th>\n",
       "      <td>Materials</td>\n",
       "      <td>Belgium</td>\n",
       "      <td>leaved</td>\n",
       "      <td>20.0</td>\n",
       "      <td>Торговля оптовая промышленными химикатами</td>\n",
       "      <td>Общества с ограниченной ответственностью</td>\n",
       "      <td>Собственность иностранных юридических лиц</td>\n",
       "      <td>Крупные предприятия</td>\n",
       "      <td>1</td>\n",
       "    </tr>\n",
       "    <tr>\n",
       "      <th>22</th>\n",
       "      <td>Information Technology</td>\n",
       "      <td>United States</td>\n",
       "      <td>paused</td>\n",
       "      <td>23.5</td>\n",
       "      <td>Торговля оптовая изделиями из керамики и стекла</td>\n",
       "      <td>Общества с ограниченной ответственностью</td>\n",
       "      <td>Собственность иностранных юридических лиц</td>\n",
       "      <td>Средние предприятия</td>\n",
       "      <td>1</td>\n",
       "    </tr>\n",
       "    <tr>\n",
       "      <th>23</th>\n",
       "      <td>Industrials</td>\n",
       "      <td>United States</td>\n",
       "      <td>leaved</td>\n",
       "      <td>30.5</td>\n",
       "      <td>Производство удобрений и азотных соединений</td>\n",
       "      <td>Непубличные акционерные общества</td>\n",
       "      <td>Частная собственность</td>\n",
       "      <td>Крупные предприятия</td>\n",
       "      <td>1</td>\n",
       "    </tr>\n",
       "    <tr>\n",
       "      <th>24</th>\n",
       "      <td>Materials</td>\n",
       "      <td>Norway</td>\n",
       "      <td>leaved</td>\n",
       "      <td>30.5</td>\n",
       "      <td>Производство удобрений и азотных соединений</td>\n",
       "      <td>Непубличные акционерные общества</td>\n",
       "      <td>Частная собственность</td>\n",
       "      <td>Крупные предприятия</td>\n",
       "      <td>1</td>\n",
       "    </tr>\n",
       "    <tr>\n",
       "      <th>25</th>\n",
       "      <td>Consumer Staples</td>\n",
       "      <td>United States</td>\n",
       "      <td>leaved</td>\n",
       "      <td>18.5</td>\n",
       "      <td>Производство хлеба и мучных кондитерских издел...</td>\n",
       "      <td>Общества с ограниченной ответственностью</td>\n",
       "      <td>Собственность иностранных юридических лиц</td>\n",
       "      <td>Крупные предприятия</td>\n",
       "      <td>1</td>\n",
       "    </tr>\n",
       "    <tr>\n",
       "      <th>31</th>\n",
       "      <td>Consumer Discretionary</td>\n",
       "      <td>Germany</td>\n",
       "      <td>paused</td>\n",
       "      <td>24.5</td>\n",
       "      <td>Торговля розничная одеждой в специализированны...</td>\n",
       "      <td>Общества с ограниченной ответственностью</td>\n",
       "      <td>Собственность иностранных юридических лиц</td>\n",
       "      <td>Крупные предприятия</td>\n",
       "      <td>1</td>\n",
       "    </tr>\n",
       "  </tbody>\n",
       "</table>\n",
       "</div>"
      ],
      "text/plain": [
       "                  Industry        Country      Tone  Возраст компании, лет  \\\n",
       "3   Information Technology          Japan    leaved                   29.0   \n",
       "9                   Energy        Austria    leaved                   26.5   \n",
       "11             Health Care         France  continue                   28.0   \n",
       "13                  Energy  United States    leaved                   18.5   \n",
       "18               Materials        Belgium    leaved                   20.0   \n",
       "22  Information Technology  United States    paused                   23.5   \n",
       "23             Industrials  United States    leaved                   30.5   \n",
       "24               Materials         Norway    leaved                   30.5   \n",
       "25        Consumer Staples  United States    leaved                   18.5   \n",
       "31  Consumer Discretionary        Germany    paused                   24.5   \n",
       "\n",
       "                             Вид деятельности/отрасль  \\\n",
       "3               Торговля оптовая неспециализированная   \n",
       "9   Деятельность по финансовой аренде (лизингу/суб...   \n",
       "11       Торговля оптовая фармацевтической продукцией   \n",
       "13  Предоставление услуг в области добычи нефти и ...   \n",
       "18          Торговля оптовая промышленными химикатами   \n",
       "22    Торговля оптовая изделиями из керамики и стекла   \n",
       "23        Производство удобрений и азотных соединений   \n",
       "24        Производство удобрений и азотных соединений   \n",
       "25  Производство хлеба и мучных кондитерских издел...   \n",
       "31  Торговля розничная одеждой в специализированны...   \n",
       "\n",
       "               Организационно-правовая форма  \\\n",
       "3   Общества с ограниченной ответственностью   \n",
       "9   Общества с ограниченной ответственностью   \n",
       "11          Непубличные акционерные общества   \n",
       "13  Общества с ограниченной ответственностью   \n",
       "18  Общества с ограниченной ответственностью   \n",
       "22  Общества с ограниченной ответственностью   \n",
       "23          Непубличные акционерные общества   \n",
       "24          Непубличные акционерные общества   \n",
       "25  Общества с ограниченной ответственностью   \n",
       "31  Общества с ограниченной ответственностью   \n",
       "\n",
       "                          Форма собственности      Размер компании  cluster  \n",
       "3   Собственность иностранных юридических лиц  Крупные предприятия        1  \n",
       "9                       Частная собственность     Микропредприятия        1  \n",
       "11  Собственность иностранных юридических лиц  Крупные предприятия        1  \n",
       "13                      Частная собственность  Крупные предприятия        1  \n",
       "18  Собственность иностранных юридических лиц  Крупные предприятия        1  \n",
       "22  Собственность иностранных юридических лиц  Средние предприятия        1  \n",
       "23                      Частная собственность  Крупные предприятия        1  \n",
       "24                      Частная собственность  Крупные предприятия        1  \n",
       "25  Собственность иностранных юридических лиц  Крупные предприятия        1  \n",
       "31  Собственность иностранных юридических лиц  Крупные предприятия        1  "
      ]
     },
     "execution_count": 24,
     "metadata": {},
     "output_type": "execute_result"
    }
   ],
   "source": [
    "df[df['cluster']== 1].head(10)"
   ]
  },
  {
   "cell_type": "code",
   "execution_count": 25,
   "metadata": {
    "ExecuteTime": {
     "end_time": "2023-05-28T15:52:01.594887Z",
     "start_time": "2023-05-28T15:52:01.492249Z"
    },
    "collapsed": false,
    "jupyter": {
     "outputs_hidden": false
    }
   },
   "outputs": [
    {
     "data": {
      "text/html": [
       "<div>\n",
       "<style scoped>\n",
       "    .dataframe tbody tr th:only-of-type {\n",
       "        vertical-align: middle;\n",
       "    }\n",
       "\n",
       "    .dataframe tbody tr th {\n",
       "        vertical-align: top;\n",
       "    }\n",
       "\n",
       "    .dataframe thead th {\n",
       "        text-align: right;\n",
       "    }\n",
       "</style>\n",
       "<table border=\"1\" class=\"dataframe\">\n",
       "  <thead>\n",
       "    <tr style=\"text-align: right;\">\n",
       "      <th></th>\n",
       "      <th>Industry</th>\n",
       "      <th>Country</th>\n",
       "      <th>Tone</th>\n",
       "      <th>Возраст компании, лет</th>\n",
       "      <th>Вид деятельности/отрасль</th>\n",
       "      <th>Организационно-правовая форма</th>\n",
       "      <th>Форма собственности</th>\n",
       "      <th>Размер компании</th>\n",
       "      <th>cluster</th>\n",
       "    </tr>\n",
       "  </thead>\n",
       "  <tbody>\n",
       "  </tbody>\n",
       "</table>\n",
       "</div>"
      ],
      "text/plain": [
       "Empty DataFrame\n",
       "Columns: [Industry, Country, Tone, Возраст компании, лет, Вид деятельности/отрасль, Организационно-правовая форма, Форма собственности, Размер компании, cluster]\n",
       "Index: []"
      ]
     },
     "execution_count": 25,
     "metadata": {},
     "output_type": "execute_result"
    }
   ],
   "source": [
    "df[df['cluster']== 2].head(10)"
   ]
  },
  {
   "cell_type": "markdown",
   "metadata": {},
   "source": [
    "### Visualization of clusters"
   ]
  },
  {
   "cell_type": "code",
   "execution_count": 26,
   "metadata": {
    "ExecuteTime": {
     "end_time": "2023-05-28T15:52:03.922590Z",
     "start_time": "2023-05-28T15:52:01.504600Z"
    },
    "collapsed": false,
    "jupyter": {
     "outputs_hidden": false
    }
   },
   "outputs": [
    {
     "ename": "ValueError",
     "evalue": "Length mismatch: Expected axis has 9 elements, new values have 7 elements",
     "output_type": "error",
     "traceback": [
      "\u001b[0;31m---------------------------------------------------------------------------\u001b[0m",
      "\u001b[0;31mValueError\u001b[0m                                Traceback (most recent call last)",
      "Cell \u001b[0;32mIn[26], line 1\u001b[0m\n\u001b[0;32m----> 1\u001b[0m df\u001b[38;5;241m.\u001b[39mcolumns \u001b[38;5;241m=\u001b[39m [\u001b[38;5;124m\"\u001b[39m\u001b[38;5;124mAction\u001b[39m\u001b[38;5;124m\"\u001b[39m, \u001b[38;5;124m\"\u001b[39m\u001b[38;5;124mTone\u001b[39m\u001b[38;5;124m\"\u001b[39m, \u001b[38;5;124m\"\u001b[39m\u001b[38;5;124mВозраст компании, лет\u001b[39m\u001b[38;5;124m\"\u001b[39m, \u001b[38;5;124m\"\u001b[39m\u001b[38;5;124mВид деятельности/отрасль\u001b[39m\u001b[38;5;124m\"\u001b[39m, \u001b[38;5;124m\"\u001b[39m\u001b[38;5;124mОрганизационно-правовая форма\u001b[39m\u001b[38;5;124m\"\u001b[39m, \u001b[38;5;124m\"\u001b[39m\u001b[38;5;124mФорма собственности\u001b[39m\u001b[38;5;124m\"\u001b[39m, \u001b[38;5;124m\"\u001b[39m\u001b[38;5;124mcluster\u001b[39m\u001b[38;5;124m\"\u001b[39m]\n\u001b[1;32m      2\u001b[0m sns\u001b[38;5;241m.\u001b[39mpairplot(df, hue\u001b[38;5;241m=\u001b[39m\u001b[38;5;124m\"\u001b[39m\u001b[38;5;124mcluster\u001b[39m\u001b[38;5;124m\"\u001b[39m)\n",
      "File \u001b[0;32m~/miniconda3/lib/python3.10/site-packages/pandas/core/generic.py:5915\u001b[0m, in \u001b[0;36mNDFrame.__setattr__\u001b[0;34m(self, name, value)\u001b[0m\n\u001b[1;32m   5913\u001b[0m \u001b[38;5;28;01mtry\u001b[39;00m:\n\u001b[1;32m   5914\u001b[0m     \u001b[38;5;28mobject\u001b[39m\u001b[38;5;241m.\u001b[39m\u001b[38;5;21m__getattribute__\u001b[39m(\u001b[38;5;28mself\u001b[39m, name)\n\u001b[0;32m-> 5915\u001b[0m     \u001b[38;5;28;01mreturn\u001b[39;00m \u001b[38;5;28;43mobject\u001b[39;49m\u001b[38;5;241;43m.\u001b[39;49m\u001b[38;5;21;43m__setattr__\u001b[39;49m\u001b[43m(\u001b[49m\u001b[38;5;28;43mself\u001b[39;49m\u001b[43m,\u001b[49m\u001b[43m \u001b[49m\u001b[43mname\u001b[49m\u001b[43m,\u001b[49m\u001b[43m \u001b[49m\u001b[43mvalue\u001b[49m\u001b[43m)\u001b[49m\n\u001b[1;32m   5916\u001b[0m \u001b[38;5;28;01mexcept\u001b[39;00m \u001b[38;5;167;01mAttributeError\u001b[39;00m:\n\u001b[1;32m   5917\u001b[0m     \u001b[38;5;28;01mpass\u001b[39;00m\n",
      "File \u001b[0;32m~/miniconda3/lib/python3.10/site-packages/pandas/_libs/properties.pyx:69\u001b[0m, in \u001b[0;36mpandas._libs.properties.AxisProperty.__set__\u001b[0;34m()\u001b[0m\n",
      "File \u001b[0;32m~/miniconda3/lib/python3.10/site-packages/pandas/core/generic.py:823\u001b[0m, in \u001b[0;36mNDFrame._set_axis\u001b[0;34m(self, axis, labels)\u001b[0m\n\u001b[1;32m    821\u001b[0m \u001b[38;5;28;01mdef\u001b[39;00m \u001b[38;5;21m_set_axis\u001b[39m(\u001b[38;5;28mself\u001b[39m, axis: \u001b[38;5;28mint\u001b[39m, labels: AnyArrayLike \u001b[38;5;241m|\u001b[39m \u001b[38;5;28mlist\u001b[39m) \u001b[38;5;241m-\u001b[39m\u001b[38;5;241m>\u001b[39m \u001b[38;5;28;01mNone\u001b[39;00m:\n\u001b[1;32m    822\u001b[0m     labels \u001b[38;5;241m=\u001b[39m ensure_index(labels)\n\u001b[0;32m--> 823\u001b[0m     \u001b[38;5;28;43mself\u001b[39;49m\u001b[38;5;241;43m.\u001b[39;49m\u001b[43m_mgr\u001b[49m\u001b[38;5;241;43m.\u001b[39;49m\u001b[43mset_axis\u001b[49m\u001b[43m(\u001b[49m\u001b[43maxis\u001b[49m\u001b[43m,\u001b[49m\u001b[43m \u001b[49m\u001b[43mlabels\u001b[49m\u001b[43m)\u001b[49m\n\u001b[1;32m    824\u001b[0m     \u001b[38;5;28mself\u001b[39m\u001b[38;5;241m.\u001b[39m_clear_item_cache()\n",
      "File \u001b[0;32m~/miniconda3/lib/python3.10/site-packages/pandas/core/internals/managers.py:230\u001b[0m, in \u001b[0;36mBaseBlockManager.set_axis\u001b[0;34m(self, axis, new_labels)\u001b[0m\n\u001b[1;32m    228\u001b[0m \u001b[38;5;28;01mdef\u001b[39;00m \u001b[38;5;21mset_axis\u001b[39m(\u001b[38;5;28mself\u001b[39m, axis: \u001b[38;5;28mint\u001b[39m, new_labels: Index) \u001b[38;5;241m-\u001b[39m\u001b[38;5;241m>\u001b[39m \u001b[38;5;28;01mNone\u001b[39;00m:\n\u001b[1;32m    229\u001b[0m     \u001b[38;5;66;03m# Caller is responsible for ensuring we have an Index object.\u001b[39;00m\n\u001b[0;32m--> 230\u001b[0m     \u001b[38;5;28;43mself\u001b[39;49m\u001b[38;5;241;43m.\u001b[39;49m\u001b[43m_validate_set_axis\u001b[49m\u001b[43m(\u001b[49m\u001b[43maxis\u001b[49m\u001b[43m,\u001b[49m\u001b[43m \u001b[49m\u001b[43mnew_labels\u001b[49m\u001b[43m)\u001b[49m\n\u001b[1;32m    231\u001b[0m     \u001b[38;5;28mself\u001b[39m\u001b[38;5;241m.\u001b[39maxes[axis] \u001b[38;5;241m=\u001b[39m new_labels\n",
      "File \u001b[0;32m~/miniconda3/lib/python3.10/site-packages/pandas/core/internals/base.py:70\u001b[0m, in \u001b[0;36mDataManager._validate_set_axis\u001b[0;34m(self, axis, new_labels)\u001b[0m\n\u001b[1;32m     67\u001b[0m     \u001b[38;5;28;01mpass\u001b[39;00m\n\u001b[1;32m     69\u001b[0m \u001b[38;5;28;01melif\u001b[39;00m new_len \u001b[38;5;241m!=\u001b[39m old_len:\n\u001b[0;32m---> 70\u001b[0m     \u001b[38;5;28;01mraise\u001b[39;00m \u001b[38;5;167;01mValueError\u001b[39;00m(\n\u001b[1;32m     71\u001b[0m         \u001b[38;5;124mf\u001b[39m\u001b[38;5;124m\"\u001b[39m\u001b[38;5;124mLength mismatch: Expected axis has \u001b[39m\u001b[38;5;132;01m{\u001b[39;00mold_len\u001b[38;5;132;01m}\u001b[39;00m\u001b[38;5;124m elements, new \u001b[39m\u001b[38;5;124m\"\u001b[39m\n\u001b[1;32m     72\u001b[0m         \u001b[38;5;124mf\u001b[39m\u001b[38;5;124m\"\u001b[39m\u001b[38;5;124mvalues have \u001b[39m\u001b[38;5;132;01m{\u001b[39;00mnew_len\u001b[38;5;132;01m}\u001b[39;00m\u001b[38;5;124m elements\u001b[39m\u001b[38;5;124m\"\u001b[39m\n\u001b[1;32m     73\u001b[0m     )\n",
      "\u001b[0;31mValueError\u001b[0m: Length mismatch: Expected axis has 9 elements, new values have 7 elements"
     ]
    }
   ],
   "source": [
    "df.columns = [\"Action\", \"Tone\", \"Возраст компании, лет\", \"Вид деятельности/отрасль\", \"Организационно-правовая форма\", \"Форма собственности\", \"cluster\"]\n",
    "sns.pairplot(df, hue=\"cluster\")"
   ]
  },
  {
   "cell_type": "code",
   "execution_count": null,
   "metadata": {
    "collapsed": false,
    "jupyter": {
     "outputs_hidden": false
    }
   },
   "outputs": [],
   "source": [
    "sns.boxplot(x=\"cluster\", y=\"Возраст компании, лет\", data=df)"
   ]
  },
  {
   "cell_type": "code",
   "execution_count": null,
   "metadata": {
    "collapsed": false,
    "jupyter": {
     "outputs_hidden": false
    }
   },
   "outputs": [],
   "source": [
    "sns.boxplot(x=\"cluster\", y=\"Организационно-правовая форма\", data=df)"
   ]
  },
  {
   "cell_type": "code",
   "execution_count": null,
   "metadata": {
    "collapsed": false,
    "jupyter": {
     "outputs_hidden": false
    }
   },
   "outputs": [],
   "source": [
    "sns.boxplot(x=\"cluster\", y=\"Форма собственности\", data=df)"
   ]
  },
  {
   "cell_type": "markdown",
   "metadata": {},
   "source": [
    "## Clusterization of dataset with income and profit"
   ]
  },
  {
   "cell_type": "code",
   "execution_count": null,
   "metadata": {
    "collapsed": false,
    "jupyter": {
     "outputs_hidden": false
    }
   },
   "outputs": [],
   "source": []
  }
 ],
 "metadata": {
  "kernelspec": {
   "display_name": "Python 3 (ipykernel)",
   "language": "python",
   "name": "python3"
  },
  "language_info": {
   "codemirror_mode": {
    "name": "ipython",
    "version": 3
   },
   "file_extension": ".py",
   "mimetype": "text/x-python",
   "name": "python",
   "nbconvert_exporter": "python",
   "pygments_lexer": "ipython3",
   "version": "3.10.10"
  }
 },
 "nbformat": 4,
 "nbformat_minor": 4
}
