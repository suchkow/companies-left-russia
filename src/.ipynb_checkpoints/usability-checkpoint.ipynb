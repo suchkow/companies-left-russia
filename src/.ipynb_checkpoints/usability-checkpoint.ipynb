{
 "cells": [
  {
   "cell_type": "markdown",
   "id": "77a61fed-f6b6-41ed-b24e-424063255732",
   "metadata": {
    "tags": []
   },
   "source": [
    "# Usability of collected datasets"
   ]
  },
  {
   "cell_type": "code",
   "execution_count": 1,
   "id": "42e29156-d74e-4bc0-8366-311ad6149eca",
   "metadata": {
    "tags": []
   },
   "outputs": [],
   "source": [
    "%run load.ipynb\n",
    "import config as cf"
   ]
  },
  {
   "cell_type": "code",
   "execution_count": 2,
   "id": "9bfc87dd-930e-4bd1-9ed1-6a5d8066c664",
   "metadata": {
    "tags": []
   },
   "outputs": [
    {
     "name": "stdout",
     "output_type": "stream",
     "text": [
      "<class 'pandas.core.frame.DataFrame'>\n",
      "RangeIndex: 2023 entries, 0 to 2022\n",
      "Data columns (total 5 columns):\n",
      " #   Column    Non-Null Count  Dtype \n",
      "---  ------    --------------  ----- \n",
      " 0   Name      2022 non-null   object\n",
      " 1   Action    1986 non-null   object\n",
      " 2   Industry  1475 non-null   object\n",
      " 3   Country   1785 non-null   object\n",
      " 4   ИНН       1174 non-null   object\n",
      "dtypes: object(5)\n",
      "memory usage: 79.1+ KB\n"
     ]
    }
   ],
   "source": [
    "cf.V1.info()"
   ]
  },
  {
   "cell_type": "code",
   "execution_count": 3,
   "id": "5c2d5cd1-35e3-4022-9004-23c154d04a9e",
   "metadata": {},
   "outputs": [],
   "source": [
    "import warnings\n",
    "from bs4 import BeautifulSoup\n",
    "import requests\n",
    "import pandas as pd\n",
    "\n",
    "warnings.filterwarnings(\"ignore\")\n",
    "\n",
    "url = 'https://som.yale.edu/story/2022/over-1000-companies-have-curtailed-operations-russia-some-remain'\n",
    "req = requests.get(url)\n",
    "bs = BeautifulSoup(req.text)\n",
    "\n",
    "data = pd.DataFrame({'Name' : [], 'Action' : [], 'Industry' : [], 'Country' : []})\n",
    "\n",
    "def buyingTime(data):\n",
    "    temp_text = bs.find('section', {'id' : 'buyingtime'}).text\n",
    "    temp_arr = temp_text.split('\\n')\n",
    "    temp_arr = temp_arr[24:-7]\n",
    "    temp_arr = [i for i in temp_arr if i != '']\n",
    "\n",
    "    counter = 0\n",
    "    t = []\n",
    "    for i in temp_arr:\n",
    "        t.append(i)\n",
    "        counter += 1\n",
    "        if counter == 4:\n",
    "            data.loc[len(data)] = t\n",
    "            t = []\n",
    "            counter = 0\n",
    "\n",
    "def scalingBack(data):\n",
    "    temp_text = bs.find('section', {'id' : 'scalingback'}).text\n",
    "    temp_arr = temp_text.split('\\n')\n",
    "    temp_arr = temp_arr[24:-7]\n",
    "    temp_arr = [i for i in temp_arr if i != '']\n",
    "    temp_arr.insert(109, 'NaN')\n",
    "    temp_arr.insert(586, 'NaN')\n",
    "    counter = 0\n",
    "    t = []\n",
    "    for i in temp_arr:\n",
    "        t.append(i)\n",
    "        counter += 1\n",
    "        if counter == 4:\n",
    "            data.loc[len(data)] = t\n",
    "            t = []\n",
    "            counter = 0\n",
    "\n",
    "def suspension(data):\n",
    "    temp_text = bs.find('section', {'id' : 'suspension'}).text\n",
    "    temp_arr = temp_text.split('\\n')\n",
    "    temp_arr = temp_arr[24:-7]\n",
    "    temp_arr = [i for i in temp_arr if i != '']\n",
    "    temp_arr.insert(305, 'NaN')\n",
    "    counter = 0\n",
    "    t = []\n",
    "    for i in temp_arr:\n",
    "        t.append(i)\n",
    "        counter += 1\n",
    "        if counter == 4:\n",
    "            data.loc[len(data)] = t\n",
    "            t = []\n",
    "            counter = 0\n",
    "\n",
    "def withdrawal(data):\n",
    "    temp_text = bs.find('section', {'id' : 'withdrawal'}).text\n",
    "    temp_arr = temp_text.split('\\n')\n",
    "    temp_arr = temp_arr[24:-7]\n",
    "    temp_arr = [i for i in temp_arr if i != '']\n",
    "    counter = 0\n",
    "    t = []\n",
    "    for i in temp_arr:\n",
    "        t.append(i)\n",
    "        counter += 1\n",
    "        if counter == 4:\n",
    "            data.loc[len(data)] = t\n",
    "            t = []\n",
    "            counter = 0\n",
    "\n",
    "buyingTime(data)\n",
    "scalingBack(data)\n",
    "suspension(data)\n",
    "withdrawal(data)"
   ]
  },
  {
   "cell_type": "code",
   "execution_count": 4,
   "id": "7b15a949-83fe-44ca-a4dd-81fa85cac246",
   "metadata": {},
   "outputs": [
    {
     "name": "stdout",
     "output_type": "stream",
     "text": [
      "<class 'pandas.core.frame.DataFrame'>\n",
      "Int64Index: 1355 entries, 0 to 1354\n",
      "Data columns (total 4 columns):\n",
      " #   Column    Non-Null Count  Dtype \n",
      "---  ------    --------------  ----- \n",
      " 0   Name      1355 non-null   object\n",
      " 1   Action    1355 non-null   object\n",
      " 2   Industry  1355 non-null   object\n",
      " 3   Country   1355 non-null   object\n",
      "dtypes: object(4)\n",
      "memory usage: 52.9+ KB\n"
     ]
    }
   ],
   "source": [
    "data.info()"
   ]
  },
  {
   "cell_type": "code",
   "execution_count": 5,
   "id": "a2a5e49c-8580-4608-b32a-3f2b18e0e035",
   "metadata": {},
   "outputs": [
    {
     "data": {
      "text/plain": [
       "0"
      ]
     },
     "execution_count": 5,
     "metadata": {},
     "output_type": "execute_result"
    }
   ],
   "source": [
    "data.isna().sum().sum()"
   ]
  },
  {
   "cell_type": "code",
   "execution_count": 6,
   "id": "06214c15-eef8-4bfe-96b3-2de5e47fd533",
   "metadata": {},
   "outputs": [
    {
     "name": "stdout",
     "output_type": "stream",
     "text": [
      "<class 'pandas.core.frame.DataFrame'>\n",
      "RangeIndex: 251 entries, 0 to 250\n",
      "Data columns (total 2 columns):\n",
      " #   Column   Non-Null Count  Dtype \n",
      "---  ------   --------------  ----- \n",
      " 0   Company  251 non-null    object\n",
      " 1    Move    251 non-null    object\n",
      "dtypes: object(2)\n",
      "memory usage: 4.0+ KB\n"
     ]
    }
   ],
   "source": [
    "cf.BB_BREAKING.info()"
   ]
  },
  {
   "cell_type": "code",
   "execution_count": 7,
   "id": "7583e721-419d-4440-8143-d9e8598422cb",
   "metadata": {},
   "outputs": [
    {
     "data": {
      "text/plain": [
       "0"
      ]
     },
     "execution_count": 7,
     "metadata": {},
     "output_type": "execute_result"
    }
   ],
   "source": [
    "cf.BB_BREAKING.isna().sum().sum()"
   ]
  },
  {
   "cell_type": "code",
   "execution_count": 8,
   "id": "4c75a9d6-4ad1-4e4a-a3ab-3ac1c8fbe2d9",
   "metadata": {
    "tags": []
   },
   "outputs": [
    {
     "name": "stdout",
     "output_type": "stream",
     "text": [
      "{'BTC-Alpha': 'заблокировала аккаунты россиян, приостановила работу с рублями', 'QMall\\xa0': '-', 'Refinitiv\\xa0': '-', 'CEX IO': 'приостановила регистрацию новых пользователей из России', 'Kuna\\xa0': '-', 'Porsche': 'приостановила поставки', 'Jaguar Land Rover': 'приостановила поставки', 'General Motors': 'приостановила поставки', 'Volkswagen': 'приостановила поставки и производство', 'Skoda': 'приостановила поставки', 'Daimler Truck': 'приостановила работу с Камазом', 'Ford': 'приостановила деятельность', 'Scania': 'приостановила поставки', 'Honda': 'приостановила поставки', 'Mazda': 'приостановила поставки', 'Hyundai': 'приостановила производство', 'Seat': 'приостановила поставки', 'Lamborghini': 'приостановила поставки', 'Ducati': 'приостановила поставки', 'Bentley': 'приостановила поставки', 'Mercedes-Benz': 'приостановила производство и поставки', 'Toyota': 'приостановила производство и поставки', 'Lexus': 'приостановила производство и поставки', 'MAN': 'приостановила поставки', 'Nissan': 'приостановила производство', 'Bridgestone': 'приостановила производство и поставки', 'Michelin': 'замораживает все проекты в России', 'Continental': 'приостановила деятельность', 'Ferrari': 'приостановила производство для России', 'Suzuki': 'приостановит поставки', 'Iveco': 'приостановила продажи', 'Walt Disney': 'отменила прокат фильмов и приостановила производство', 'WarnerBros': 'отменила прокат фильмов', 'Sony Pictures': 'отменила прокат фильмов', 'Universal Pictures': 'отменила прокат фильмов', 'Netflix': 'приостановила подписку и производство российских сериалов', 'ITV': 'приостановила продажу новых лицензий', 'All3Media': 'приостановила переговоры с вещателями', 'Megogo': 'перестала работать в России', 'Amazon Prime Video': 'приостановила подписку', 'Globo': 'приостановила продажу сериалов', 'BBC Studios': 'приостановила лицензирование контента для российских партнёров', '«Ла Скала»': 'прекратил сотрудничать с российскими артистами', '«Ковент-Гарден»': 'прекратил сотрудничать с артистами', 'Мюнхенский филармонический оркестр': 'прекратил сотрудничать с артистами', 'Метрополитен-опера': 'прекратил сотрудничать с артистами', 'Spotify': 'закрыл офис в России', 'Universal Music': 'приостановила деятельность и закрыла офисы', 'WarnerMedia': 'приостановила лицензирование нового контента', 'Sony Music': 'приостановила работу', 'Twitch': 'прекратила выплаты российским стримерам', 'PlayStation': 'приостановила работу', 'Nintendo': 'отклоняет платежи, приостановила продажи', 'Steam': 'отклоняет платежи', 'CD Projekt': 'приостановила продажи', 'Electronic Arts': 'российские клубы и сборную удалили из видеоигр; приостановила продажи', 'Rockstar Games': 'приостановила продажи', 'Activision Blizzard': 'приостановила продажи', 'Ubisoft': 'приостановила продажи', 'HomaGames': 'приостановила сотрудничество', 'GSC Game World': 'приостановила продажи игр S.T.A.L.K.E.R. и других', 'Supercell': 'удалила игру Brawl Stars', 'Niantic': 'удалила игру Pokemon Go', 'Yoox Net-a-Porter Group': 'приостановила доставку', 'Nike': 'приостановила доставку', 'Matches': 'приостановила доставку', 'ASOS': 'приостановила доставку', 'H&M': 'приостановила продажи, в компанию входят\\xa0Cos,\\xa0Arket\\xa0,\\xa0Monki,\\xa0The Other Stories', 'Farfetch': 'приостановила продажи', 'Mytheresa': 'приостановила продажи', 'Burberry': 'приостановила продажи', 'Golden Goose': 'приостановила продажи', 'Nanushka': 'приостановила продажи', 'Ganni': 'приостановила продажи', 'Coperni': 'приостановила продажи', 'Mango': 'приостановила работу', 'Marks & Spencer': 'приостановила поставки', 'Hermes': 'приостановила продажи', 'Karl Lagerfeld': 'приостановила продажи', 'Kering': 'приостановила деятельность, в компанию входят\\xa0Gucci,\\xa0Balenciaga,\\xa0Yves Saint Laurent, Alexander McQueen, Brioni', 'Louis Vuitton Moet Hennessy': 'приостановила деятельность', 'Chanel': 'приостановила деятельность', 'Inditex': 'приостановила деятельность, в компанию входят\\xa0Bershka,\\xa0Pull&Bear,\\xa0Zara,\\xa0Stradivarius,\\xa0Oysho,\\xa0Massimo Dutti', 'Levi’s': 'приостановила деятельность', 'Puma': 'приостановила работу магазинов', 'LPP': 'приостановила работу интернет-магазинов, в компанию входят\\xa0Reserved,\\xa0Sinsay,\\xa0Mohito,\\xa0Cropp,\\xa0House', 'Prada': 'приостановила продажи', 'Reebok': 'приостановила работу', 'Victoria’s Secret': 'приостановила работу', 'Mothercare': 'приостановила продажи', 'Hugo Boss': 'приостановила продажи', 'Crocs': 'приостановила продажи и поставки', 'Tommy Hilfiger': 'приостановила работу', 'Helly Hansen': 'приостановила работу', 'Vans': 'приостановила работу', 'Tendam': 'приостановила работу', 'Springfield': 'приостановила работу', 'Women’s Secret': 'приостановила работу', 'iHerb': 'приостановила доставку', 'Bolt': 'перестала работать', 'Insydium': 'перестала работать', 'Jobble': 'перестала работать', 'Airbnb': 'приостановила работу', 'Booking.com': 'приостановила работу', 'Ebay': 'приостановила все транзакции', 'Coursera': 'заблокировала учебные материалы российских университетов и платежи от россиян', 'Pearson': 'приостановила работу', 'Grammarly': 'приостановила работу', 'Upwork': 'приостановила работу', 'Amazon': 'приостановила доставку', 'Bumble': 'приостановил работу', 'Badoo': 'приостановил работу', 'Fruitz': 'приостановил работу', 'BlaBlaCar': 'приостановила инвестиции и финансирование дочерней компании', 'Feeld': 'приостановил работу', 'Ahrefs': 'приостановила работу', 'SerpStat': 'приостановила работу', 'SeRanking': 'приостановила работу', 'Slack': 'отключает клиентов из России', 'Mailchimp': 'приостановила действие учётных записей', 'Ninja Sushi': 'навсегда ушла из России', 'McDonald’s': 'приостановила работу', 'Yum! Brands': 'приостановила инвестиции\\xa0KFC\\xa0и\\xa0Pizza Hut, приостановила работу 70 ресторанов\\xa0KFC', 'Starbucks': 'приостановила деятельность', 'Hilton': 'приостановила открытие новых отелей', 'Hyatt': 'приостановила открытие новых отелей', 'Burger King': 'приостановила бизнес-поддержку', 'Domino’s Pizza': 'приостановила инвестиции', 'Mariott': 'приостановила открытие новых отелей', 'Papa John’s': 'приостановила бизнес-поддержку', 'Adidas': 'приостановила продажи и партнёрство с Российским футбольным союзом', 'НХЛ': 'приостановила отношения с бизнес-партнёрами', 'ФИФА': 'отстранила сборную России и клубные команды от участия в турнирах', 'УЕФА': 'отстранила сборную России и клубные команды от участия в турнирах, отказалась от партнёрства с «Газпромом», перенесла финал Лиги чемпионов из Санкт-Петербурга в Париж', '«Шальке»': 'отказался от партнёрства с «Газпромом»', '«Манчестер Юнайтед»': 'отказался от партнёрства с «Аэрофлотом»', '«Формула-1»': 'отменила гран-при в России в 2022 году', '«Эвертон»': 'разорвал контракт с USM, «Мегафон» и Yota', 'Баскетбольная Евролига': 'отстранение всех клубов', 'Паралимпийские игры': 'отстранили российских спортсменов', 'Международная федерация баскетбола': 'отстранение россиян', 'Международная федерация волейбола': 'перенос ЧМ-2022, отстранение россиян', 'Международная федерация хоккея на льду': 'отстранение сборной', 'Всемирная конфедерация софтбола': 'отстранение россиян', 'Кубок мира Международная федерация лыжного спорта': 'отстранение россиян', 'Международная федерация бадминтона': 'отстранение россиян', 'Международная федерация легкой атлетики': 'отстранение россиян', 'Международная федерация регби': 'отстранение россиян', 'Международный союз конькобежцев': 'отстранение россиян', 'Международная федерация хоккея с мячом': 'отстранение россиян', 'Международная федерация гимнастики': 'отстранение россиян', 'Международная шахматная федерация': 'перенос Шахматной Олимпиады — 2022 из России', 'Ассоциация теннисистов-профессионалов': 'перенос турнира из Санкт-Петербурга в Нур-Султан', 'Международная федерация кёрлинга': 'перенос ЧЕ-2022', 'Международная федерация спортивной стрельбы': 'перенос ЧЕ-2022', 'Международная федерация университетского спорта': 'отстранила спортсменов от Универсиады-2022', 'PokerStars': 'приостановила деятельность, отменила покерный турнир в Сочи', 'BP': 'разорвала связи с российскими партнёрами, отказалась от покупок', 'Shell': 'разорвала связи с партнёрами, отказалась от покупок', 'Equinor': 'разорвала связи с партнёрами', 'TotalEnergies': 'перестала инвестировать в российские проекты', 'ExxonMobil': 'выйдет из проекта «Сахалин-1»', 'Fortum': 'остановила новые инвестпроекты', 'BASF': 'отказалась от новых проектов', 'Kinross Gold': 'приостановила работу', 'KONE': 'приостановила поставки', 'Komatsu': 'приостановила поставки', 'OMV': 'приостановила новые инвестиции', 'General Electric': 'приостановила деятельность', 'Sandvik': 'приостановила деятельность', 'Alcoa': 'приостановила продажи', 'UPM': 'приостановила производство и закупку', 'Alstom': 'приостановила поставки', 'Caterpillar': 'приостановила производство', 'Rio Tinto': 'разорвала связи с партнёрами', 'Eni': 'приостановила закупки', 'Tadano': 'приостановила поставки', 'Е.ON': 'приостановила закупки', 'Otis': 'приостановила инвестиции и приём заказов', 'Deere': 'приостановила поставки', 'Rolls-Royce': 'прекратила поставки двигателей и запчастей для «Аэрофлота» и автомобилей', 'Boeing': 'приостановила техподдержку российских авиакомпаний', 'Airbus': 'приостановила деятельность в России', 'Dassault Aviation': 'приостановила продажи джетов Falcon', 'AerCap': 'разорвала контракты', 'EASA': 'приостановила действие сертификатов', 'Apple': 'приостановила продажи iPhone и MacBook, ограничила работу\\xa0Apple Pay', 'Dell': 'приостановила поставки', 'Intel': 'приостановила поставки', 'AMD': 'приостановила поставки', 'Nokia': 'приостановила поставки', 'Siemens': 'приостановила поставки', 'Ericsson': 'приостановила поставки', 'HP': 'приостановила поставки', 'Panasonic': 'приостановила торговые операции', 'TSMC': 'приостановила сотрудничество', 'Hitachi': 'приостановила производство и поставки', 'Canon': 'приостановила продажи', 'IBM': 'приостановила деятельность', 'Epson': 'приостановила поставки', 'ASUS': 'приостановила бизнес', 'Ricoh': 'приостановила поставки', 'Qualcomm': 'приостановила продажи', 'Mitsubishi Electric': 'приостановила поставки', 'Bosch': 'приостановила производство', 'Xerox': 'приостановила поставки', 'SAP': 'приостановила работу и продажи продуктов', 'Oracle': 'приостановила работу', 'Sabre': 'прекратила сотрудничать с «Аэрофлотом»', 'Microsoft': 'приостановила продажи', 'Autodesk': 'приостановила работу', 'Adobe': 'приостановила новые продажи продуктов и услуг', 'EPAM Systems': 'приостановила работу с российскими клиентами', 'VMware': 'приостановила поддержку', 'Depositphotos': 'приостановила работу', 'VistaCreate': 'приостановила работу', 'Figma': 'заморозила корпоративные аккаунты', 'Atlassian': 'приостановила продажи и поддержку', 'JetBrains': 'приостановила продажи и разработку', 'Miro': 'приостановила продажи, заблокирует аккаунты компаний под санкциями', 'Avast': 'приостановила продажи', 'Norton': 'приостановила продажи', 'Tableau': 'приостановила продажи', 'Veeam Software': 'приостановила продажи', 'OnlyFans': 'прекратила выплаты на карты российских банков, ограничивает учётные записи', 'tiu.ru': 'перестал работать', 'LetyShops': 'перестал работать', 'Namechip': 'перестали работать домены .ru, .рф, .by, .бел и .su', 'EasyWP': 'перестали работать домены .ru, .рф, .by, .бел и .su', 'Private Email': 'перестали работать домены .ru, .рф, .by, .бел и .su', 'Galaxy Store': 'перестал принимать платежи', 'Google': 'приостановила контекстную рекламу и регистрацию пользователей в облачном сервисе', 'Facebook': 'заблокировали в России', 'YouTube': 'отключил монетизацию', 'GoDaddy': 'перестал принимать рубли', 'TikTok': 'приостановила работу', 'Munich Re': 'постепенно свернёт бизнес', 'Swiss Re': 'сократит бизнес', 'Zurich Re': 'сократит бизнес', 'Allianz': 'приостановит инвестиции и новые контракты', 'YIT': 'приостановила инвестиции', 'Herzog & de Meuron': 'приостановила деятельность', 'Zaha Hadid Architects': 'приостановила деятельность', 'David Chipperfield Architects': 'приостановила деятельность', 'MVRDV': 'приостановила деятельность', 'Holcim — продает бизнес, но возможно будет работать под другим брендом в России.': '-', 'Colnago': 'приостановила поставки', 'Giant': 'приостановила поставки', 'Merrida': 'приостановила поставки', 'Scott': 'приостановила поставки', 'Trek': 'приостановила поставки', 'Harley-Davidson': 'приостановила продажи', 'Yamaha': 'приостановила поставки', 'Европейская академия аллергии и клинической иммунологии': 'приостановила сотрудничество', 'Массачусетский технологический институт': 'прекратил сотрудничество со Сколково', 'IELTS': 'отменила экзамены в России', 'Quacquarelli Symonds': 'приостановила сотрудничество с вузами', 'Pfizer': 'приостановила инвестиции и испытания лекарств', 'Bayer': 'приостановила инвестиции', 'Eli Lilly': 'приостановила поставки лекарств', 'Novartis': 'приостановила инвестиции и коммерческую деятельность', 'AbbVie': 'приостановила поставки ботокса и филлеров', 'All Right': 'полностью уходит из России', 'CNN': 'приостановил вещание', 'ARD': 'приостановил вещание', 'ZDF': 'приостановил вещание', 'ABC': 'приостановил вещание', 'BBC': 'перевезёт сотрудников из России', 'Bloomberg': 'приостановило работу', 'CBC': 'приостановил вещание', 'Condé Nast': 'приостановила работу, в компанию входят\\xa0Vogue\\xa0и\\xa0GQ', 'Hearst': 'отозвала лицензию журналов\\xa0Esquire, Elle, Men’s Health, Harper’s Bazaar и Cosmopolitan', 'Discovery': 'приостановил вещание, в компанию входят\\xa0HGTV, Animal Planet, TLC, Eurosport', 'Cartoon Network': 'приостановил вещание', 'France 24': 'приостановил вещание', 'Deutsche Welle': 'приостановил вещание', 'NHK WORLD TV': 'приостановил вещание', 'JimJam': 'приостановил вещание', 'TV5Monde': 'приостановил вещание', 'Каннский кинофестиваль': 'отказался принимать российскую делегацию', '«Евровидение»': 'дисквалификация России', 'Международная кинологическая федерация': 'отменила выставки в России, запретила участвовать животным из России', 'Международная федерация кошек': 'запретила участвовать в выставках животным из России', 'Mobile World Congress': 'запретил присутствие российского павильона', '«Каннские львы»': 'не будет принимать заявки из России', 'Берлинский кинофестиваль': 'отстранил Россию', 'McKinsey': 'пообещала не работать с госорганами', 'Boston Consulting Group': 'пообещала не работать с госорганами', 'Baker McKenzie': 'прекратит отношения с несколькими клиентами', 'Linklaters': 'прекратит отношения с несколькими клиентами', 'KPMG': 'прекратит отношения с некоторыми клиентами', 'Accenture': 'приостановила работу', 'BCG': 'приостановила работу', 'Fitch': 'приостановила коммерческую деятельность', 'AECOM': 'приостановила работу', 'Deloitte': 'приостановила работу', 'PwC': 'приостановила работу', 'EY': 'приостановила работу', 'Knight Frank': 'приостановила транзакции', 'Bonava': 'приостановила работу', 'Models.com': 'приостановила сотрудничество', 'Priority Pass': 'приостановила работу', 'Lounge Key': 'приостановила работу', 'OneWeb': 'приостановила все запуски с Байконура', 'Cisco': 'приостановила деятельность', 'Cogent': 'отключила российских операторов от своих сетей', 'Lumen': 'приостановила работу', 'FedEx': 'приостановила все поставки', 'UPS': 'приостановила все поставки', 'DHL': 'приостановила некоторые рейсы', 'Cyprus Post': 'прекратила оказывать почтовые услуги россиянам', 'Maersk': 'приостановила приём заказов на перевозку контейнеров', 'CMA CGM': 'приостановила приём заказов', 'MSC': 'приостановила приём заказов', 'Shipco': 'приостановила приём заказов', 'Hapag-Lloyd': 'приостановила приём заказов', 'Oсean Network Express': 'приостановила приём заказов', 'Yang Ming': 'приостановила приём заказов', 'HMM': 'приостановила доставку по двум маршрутам', '«Волга-Днепр»': 'приостановила работу, в компанию входят\\xa0«Атран»\\xa0и\\xa0AirBridgeCargo', 'Sephora': 'приостановила работу', 'L’Oreal': 'приостановила работу магазинов; в компанию входят\\xa0Lancôme,\\xa0Giorgio Armani Beauty,\\xa0Biotherm,\\xa0Kiehl’s,\\xa0Ralph Lauren,\\xa0Shu Uemura,\\xa0Cacharel,\\xa0Helena Rubinstein,\\xa0Viktor&Rolf,\\xa0Maison Martin Margiela,\\xa0Urban Decay,\\xa0Garnier,\\xa0Maybelline NY,\\xa0Essie,\\xa0NYX Professional Makeup,\\xa0Matrix,\\xa0Vichy,\\xa0La Roche-Posay,\\xa0SkinCeuticals', 'CeraVe': 'приостановила работу', 'Estee Lauder': 'приостановила работу, в компанию входят\\xa0Clinique, MAC Cosmetics, Tom Ford Beauty, DKNY Fragrances, Jo Malone London, Tory Burch Beauty', 'Иль де Ботэ': 'приостановила работу', 'Shiseido': 'приостановила поставки и инвестиции', 'Swarovski': 'приостановила продажи', 'Cartier': 'приостановила деятельность', 'Swatch': 'приостановила продажи', 'Rolex': 'приостановила продажи', 'Velkopopovicky Kozel': 'приостановила поставки', 'Pilsner Urquell': 'приостановила поставки', 'Gambrinus': 'приостановила поставки', 'Staropramen': 'приостановила поставки', 'Budweiser Budvar': 'приостановила поставки', 'Bernard': 'приостановила поставки', 'Diageo': 'приостановила поставки, в компанию входят\\xa0Guinness,\\xa0Johnnie Walker,\\xa0Smirnoff,\\xa0Baileys,\\xa0Captain Morgan', 'Pernod Ricard': 'приостановила поставки, в компанию входят\\xa0Chivas Regal,\\xa0Jameson,\\xa0Ballantine’s,\\xa0Absolut,\\xa0Olmeca,\\xa0Havana Club', 'Fazer': 'приостановила поставки', 'Carlsberg': 'приостановила инвестиции и отгрузку в «Балтику»', 'Valio': 'приостановила работу', 'Paulig': 'приостановила работу', 'Coca-Cola': 'приостановила рекламу', 'Heineken': 'приостановила производство и продажи', 'Brown-Forman': 'приостановила деятельность, в компанию входят\\xa0Jack Daniel’s,\\xa0Finlandia', 'Mondelez': 'приостановила инвестиции и рекламу', 'Lindt': 'приостановила поставки', 'Nestle': 'приостановила инвестиции и рекламу, приостановила поставки\\xa0Nespresso\\xa0и\\xa0S.Pellegrino', 'Danone': 'приостановила инвестиции', 'Mars': 'приостановила инвестиции, рекламу и поставки, в компанию входят\\xa0Snickers, Twix, Bounty, Milky Way, M&M’s, Orbit, Dolmio', 'Jägermeister — компания по изготовлению ликера, приостановила поставки в Россию, но Дистрибьюторы ищут пути доставок в Россию.': '-'}\n"
     ]
    }
   ],
   "source": [
    "from bs4 import BeautifulSoup\n",
    "import requests\n",
    "import pandas as pd\n",
    "\n",
    "url = 'https://inkocoin.ru/spisok-kompanij-ushedshih-iz-rossii-2022-iz-za-ukrainy-i-sankcij/'\n",
    "headers = {'User-Agent': 'Mozilla/5.0 (Macintosh; Intel Mac OS X 10_11_5) AppleWebKit/537.36 (KHTML, like Gecko) Chrome/50.0.2661.102 Safari/537.36'}\n",
    "req = requests.get(url, headers=headers)\n",
    "src = req.text\n",
    "\n",
    "soup = BeautifulSoup(src, 'lxml')\n",
    "names = soup.findAll(\"ul\")\n",
    "all_companies = {}\n",
    "i = 0\n",
    "for ul in names:\n",
    "    if 5 < i < 36 :\n",
    "        for li in ul.findAll('li'):\n",
    "            text = li.text\n",
    "            if (text.find('\\xa0—') != -1):\n",
    "                if text[text.find('—')-1] == '\\xa0':\n",
    "                    text = text.split('\\xa0—')\n",
    "                else:\n",
    "                    text = text.split ( ' —' )\n",
    "                all_companies[text[0]] = text[1][1:-1]\n",
    "            else:\n",
    "                all_companies[text] = \"-\"\n",
    "    i += 1\n",
    "\n",
    "print(all_companies, sep='\\n')\n",
    "\n",
    "\n",
    "data = pd.DataFrame( {\"Name\" : [], \"Action\" : []} )\n",
    "\n",
    "for i in all_companies:\n",
    "    temp = []   \n",
    "    temp.append(i)\n",
    "    temp.append(all_companies.get(i))\n",
    "    data.loc[len(data)] = temp\n",
    "    temp.clear()\n",
    "\n",
    "data.to_csv(\"List of companies\", encoding='utf-8')"
   ]
  },
  {
   "cell_type": "code",
   "execution_count": 9,
   "id": "d0ed501d-a494-4b1a-87bb-489a14ca15d5",
   "metadata": {
    "tags": []
   },
   "outputs": [
    {
     "name": "stdout",
     "output_type": "stream",
     "text": [
      "<class 'pandas.core.frame.DataFrame'>\n",
      "Int64Index: 351 entries, 0 to 350\n",
      "Data columns (total 2 columns):\n",
      " #   Column  Non-Null Count  Dtype \n",
      "---  ------  --------------  ----- \n",
      " 0   Name    351 non-null    object\n",
      " 1   Action  351 non-null    object\n",
      "dtypes: object(2)\n",
      "memory usage: 8.2+ KB\n"
     ]
    }
   ],
   "source": [
    "data.info()"
   ]
  },
  {
   "cell_type": "code",
   "execution_count": 10,
   "id": "71d076c6-e66a-44b8-b675-865e78ed6512",
   "metadata": {},
   "outputs": [
    {
     "data": {
      "text/plain": [
       "0"
      ]
     },
     "execution_count": 10,
     "metadata": {},
     "output_type": "execute_result"
    }
   ],
   "source": [
    "data.isna().sum().sum()"
   ]
  },
  {
   "cell_type": "code",
   "execution_count": 15,
   "id": "2e6e384b-7077-4bad-87be-ee3c89ff6355",
   "metadata": {
    "tags": []
   },
   "outputs": [
    {
     "data": {
      "text/html": [
       "<div>\n",
       "<style scoped>\n",
       "    .dataframe tbody tr th:only-of-type {\n",
       "        vertical-align: middle;\n",
       "    }\n",
       "\n",
       "    .dataframe tbody tr th {\n",
       "        vertical-align: top;\n",
       "    }\n",
       "\n",
       "    .dataframe thead th {\n",
       "        text-align: right;\n",
       "    }\n",
       "</style>\n",
       "<table border=\"1\" class=\"dataframe\">\n",
       "  <thead>\n",
       "    <tr style=\"text-align: right;\">\n",
       "      <th></th>\n",
       "      <th>Dataset</th>\n",
       "      <th>Usability #scale 1-10</th>\n",
       "      <th>Missing Values #amount</th>\n",
       "      <th>Timeline Gaps #amount</th>\n",
       "      <th>Parsing Convinience #scale 1-10</th>\n",
       "    </tr>\n",
       "  </thead>\n",
       "  <tbody>\n",
       "    <tr>\n",
       "      <th>0</th>\n",
       "      <td>Yale CELI</td>\n",
       "      <td>10</td>\n",
       "      <td>0</td>\n",
       "      <td>0</td>\n",
       "      <td>10</td>\n",
       "    </tr>\n",
       "    <tr>\n",
       "      <th>1</th>\n",
       "      <td>D. Agniashvily</td>\n",
       "      <td>5</td>\n",
       "      <td>0</td>\n",
       "      <td>0</td>\n",
       "      <td>5</td>\n",
       "    </tr>\n",
       "    <tr>\n",
       "      <th>2</th>\n",
       "      <td>Sovcombank</td>\n",
       "      <td>7</td>\n",
       "      <td>0</td>\n",
       "      <td>0</td>\n",
       "      <td>7</td>\n",
       "    </tr>\n",
       "    <tr>\n",
       "      <th>3</th>\n",
       "      <td>InkioN</td>\n",
       "      <td>9</td>\n",
       "      <td>0</td>\n",
       "      <td>0</td>\n",
       "      <td>9</td>\n",
       "    </tr>\n",
       "    <tr>\n",
       "      <th>4</th>\n",
       "      <td>rozetked.me</td>\n",
       "      <td>7</td>\n",
       "      <td>0</td>\n",
       "      <td>0</td>\n",
       "      <td>7</td>\n",
       "    </tr>\n",
       "    <tr>\n",
       "      <th>5</th>\n",
       "      <td>BanksToday</td>\n",
       "      <td>7</td>\n",
       "      <td>0</td>\n",
       "      <td>0</td>\n",
       "      <td>7</td>\n",
       "    </tr>\n",
       "    <tr>\n",
       "      <th>6</th>\n",
       "      <td>всезамопмним.рф</td>\n",
       "      <td>10</td>\n",
       "      <td>0</td>\n",
       "      <td>0</td>\n",
       "      <td>10</td>\n",
       "    </tr>\n",
       "  </tbody>\n",
       "</table>\n",
       "</div>"
      ],
      "text/plain": [
       "           Dataset  Usability #scale 1-10  Missing Values #amount  \\\n",
       "0        Yale CELI                     10                       0   \n",
       "1   D. Agniashvily                      5                       0   \n",
       "2       Sovcombank                      7                       0   \n",
       "3           InkioN                      9                       0   \n",
       "4      rozetked.me                      7                       0   \n",
       "5       BanksToday                      7                       0   \n",
       "6  всезамопмним.рф                     10                       0   \n",
       "\n",
       "   Timeline Gaps #amount  Parsing Convinience #scale 1-10  \n",
       "0                      0                               10  \n",
       "1                      0                                5  \n",
       "2                      0                                7  \n",
       "3                      0                                9  \n",
       "4                      0                                7  \n",
       "5                      0                                7  \n",
       "6                      0                               10  "
      ]
     },
     "execution_count": 15,
     "metadata": {},
     "output_type": "execute_result"
    }
   ],
   "source": [
    "\n",
    "\n",
    "d = {'Dataset': ['Yale CELI', 'D. Agniashvily', 'Sovcombank', 'InkioN', 'rozetked.me', 'BanksToday', 'всезамопмним.рф'],\n",
    "     'Usability #scale 1-10': [10, 5, 7, 9, 7, 7, 10],\n",
    "     'Missing Values #amount': [0, 0, 0, 0, 0, 0, 0],\n",
    "     'Timeline Gaps #amount': [0, 0, 0, 0, 0, 0, 0],\n",
    "     'Parsing Convinience #scale 1-10': [10, 5, 7, 9, 7, 7, 10]}\n",
    "df = pd.DataFrame(data=d)\n",
    "df"
   ]
  },
  {
   "cell_type": "code",
   "execution_count": null,
   "id": "ca2d56dd-a757-4893-906e-89c973c55a70",
   "metadata": {},
   "outputs": [],
   "source": []
  }
 ],
 "metadata": {
  "kernelspec": {
   "display_name": "Python 3 (ipykernel)",
   "language": "python",
   "name": "python3"
  },
  "language_info": {
   "codemirror_mode": {
    "name": "ipython",
    "version": 3
   },
   "file_extension": ".py",
   "mimetype": "text/x-python",
   "name": "python",
   "nbconvert_exporter": "python",
   "pygments_lexer": "ipython3",
   "version": "3.10.10"
  }
 },
 "nbformat": 4,
 "nbformat_minor": 5
}
