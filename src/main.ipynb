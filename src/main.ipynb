{
 "cells": [
  {
   "cell_type": "markdown",
   "id": "bd6a4c39",
   "metadata": {},
   "source": [
    "# Our database with companies that left Russia in 2022"
   ]
  },
  {
   "cell_type": "markdown",
   "id": "65bf5d2c",
   "metadata": {},
   "source": [
    "### База Тиграна с Action, Tone + База старая с INT  + Spark"
   ]
  },
  {
   "cell_type": "code",
   "execution_count": 1,
   "id": "5e459caf",
   "metadata": {
    "ExecuteTime": {
     "end_time": "2023-05-26T19:55:58.647974Z",
     "start_time": "2023-05-26T19:55:55.969621Z"
    }
   },
   "outputs": [],
   "source": [
    "%run load.ipynb\n",
    "import pandas as pd\n",
    "import matplotlib.pyplot as plt\n",
    "import numpy as np\n",
    "from kmodes.kprototypes import KPrototypes\n",
    "\n",
    "import configlib as lib"
   ]
  },
  {
   "cell_type": "code",
   "execution_count": 2,
   "id": "72ec1267",
   "metadata": {
    "ExecuteTime": {
     "end_time": "2023-05-26T20:25:40.808071Z",
     "start_time": "2023-05-26T20:25:40.405031Z"
    }
   },
   "outputs": [],
   "source": [
    "df_int = lib.get_v2()\n",
    "df_actions_tone = lib.get_v3()\n",
    "spark = lib.get_spark_interfax()"
   ]
  },
  {
   "cell_type": "code",
   "execution_count": 3,
   "id": "2a096064",
   "metadata": {
    "ExecuteTime": {
     "start_time": "2023-05-26T19:55:56.100659Z"
    }
   },
   "outputs": [
    {
     "data": {
      "text/plain": [
       "(4007, 5)"
      ]
     },
     "execution_count": 3,
     "metadata": {},
     "output_type": "execute_result"
    }
   ],
   "source": [
    "df_int.shape"
   ]
  },
  {
   "cell_type": "code",
   "execution_count": 4,
   "id": "9ca8f579",
   "metadata": {
    "ExecuteTime": {
     "start_time": "2023-05-26T19:55:56.103145Z"
    }
   },
   "outputs": [
    {
     "name": "stdout",
     "output_type": "stream",
     "text": [
      " \n",
      "Count total NaN at each column in a DataFrame : \n",
      "\n",
      " i              0\n",
      "Action        27\n",
      "Industry     420\n",
      "Country      180\n",
      "ИНН         3095\n",
      "dtype: int64\n"
     ]
    }
   ],
   "source": [
    "print(\" \\nCount total NaN at each column in a DataFrame : \\n\\n\", df_int.isnull().sum())"
   ]
  },
  {
   "cell_type": "code",
   "execution_count": 5,
   "id": "a47857bf",
   "metadata": {
    "ExecuteTime": {
     "start_time": "2023-05-26T19:55:56.106157Z"
    }
   },
   "outputs": [
    {
     "data": {
      "text/plain": [
       "(3344, 6)"
      ]
     },
     "execution_count": 5,
     "metadata": {},
     "output_type": "execute_result"
    }
   ],
   "source": [
    "df_actions_tone.shape"
   ]
  },
  {
   "cell_type": "code",
   "execution_count": 6,
   "id": "6e22f83f",
   "metadata": {
    "ExecuteTime": {
     "start_time": "2023-05-26T19:55:56.109132Z"
    },
    "scrolled": true
   },
   "outputs": [
    {
     "data": {
      "text/html": [
       "<div>\n",
       "<style scoped>\n",
       "    .dataframe tbody tr th:only-of-type {\n",
       "        vertical-align: middle;\n",
       "    }\n",
       "\n",
       "    .dataframe tbody tr th {\n",
       "        vertical-align: top;\n",
       "    }\n",
       "\n",
       "    .dataframe thead th {\n",
       "        text-align: right;\n",
       "    }\n",
       "</style>\n",
       "<table border=\"1\" class=\"dataframe\">\n",
       "  <thead>\n",
       "    <tr style=\"text-align: right;\">\n",
       "      <th></th>\n",
       "      <th>Unnamed: 0</th>\n",
       "      <th>Company</th>\n",
       "      <th>Action</th>\n",
       "      <th>Industry</th>\n",
       "      <th>Country</th>\n",
       "      <th>Tone</th>\n",
       "    </tr>\n",
       "  </thead>\n",
       "  <tbody>\n",
       "    <tr>\n",
       "      <th>0</th>\n",
       "      <td>2010</td>\n",
       "      <td>1840 &amp; Company</td>\n",
       "      <td>['suspend', 'aesthetics', 'operations', ',', '...</td>\n",
       "      <td>Health Care</td>\n",
       "      <td>United States</td>\n",
       "      <td>2</td>\n",
       "    </tr>\n",
       "  </tbody>\n",
       "</table>\n",
       "</div>"
      ],
      "text/plain": [
       "   Unnamed: 0         Company  \\\n",
       "0        2010  1840 & Company   \n",
       "\n",
       "                                              Action     Industry  \\\n",
       "0  ['suspend', 'aesthetics', 'operations', ',', '...  Health Care   \n",
       "\n",
       "         Country  Tone  \n",
       "0  United States     2  "
      ]
     },
     "execution_count": 6,
     "metadata": {},
     "output_type": "execute_result"
    }
   ],
   "source": [
    "df_int = df_actions_tone.drop('Unnamed: 0', axis = 1)\n",
    "df_actions_tone = df_actions_tone.rename(columns = {'tone': 'Tone'})\n",
    "df_actions_tone = df_actions_tone.sort_values(by='Company')\n",
    "df_actions_tone = df_actions_tone.reset_index(drop=True)\n",
    "df_actions_tone.head(1)"
   ]
  },
  {
   "cell_type": "code",
   "execution_count": 7,
   "id": "454f95a1",
   "metadata": {
    "ExecuteTime": {
     "start_time": "2023-05-26T19:55:56.112191Z"
    }
   },
   "outputs": [],
   "source": [
    "# Define a dictionary to map the numbers to their corresponding labels\n",
    "label_mapping = {0: 'leaved', 1: 'continue', 2: 'paused'}\n",
    "\n",
    "# Replace the numbers in the specified column with the labels\n",
    "df_actions_tone['Tone'] = df_actions_tone['Tone'].map(label_mapping)"
   ]
  },
  {
   "cell_type": "code",
   "execution_count": 8,
   "id": "f2ab88b7",
   "metadata": {
    "ExecuteTime": {
     "start_time": "2023-05-26T19:55:56.115246Z"
    }
   },
   "outputs": [
    {
     "data": {
      "text/html": [
       "<div>\n",
       "<style scoped>\n",
       "    .dataframe tbody tr th:only-of-type {\n",
       "        vertical-align: middle;\n",
       "    }\n",
       "\n",
       "    .dataframe tbody tr th {\n",
       "        vertical-align: top;\n",
       "    }\n",
       "\n",
       "    .dataframe thead th {\n",
       "        text-align: right;\n",
       "    }\n",
       "</style>\n",
       "<table border=\"1\" class=\"dataframe\">\n",
       "  <thead>\n",
       "    <tr style=\"text-align: right;\">\n",
       "      <th></th>\n",
       "      <th>Unnamed: 0</th>\n",
       "      <th>Company</th>\n",
       "      <th>Action</th>\n",
       "      <th>Industry</th>\n",
       "      <th>Country</th>\n",
       "      <th>Tone</th>\n",
       "    </tr>\n",
       "  </thead>\n",
       "  <tbody>\n",
       "    <tr>\n",
       "      <th>0</th>\n",
       "      <td>2010</td>\n",
       "      <td>1840 &amp; Company</td>\n",
       "      <td>['suspend', 'aesthetics', 'operations', ',', '...</td>\n",
       "      <td>Health Care</td>\n",
       "      <td>United States</td>\n",
       "      <td>paused</td>\n",
       "    </tr>\n",
       "    <tr>\n",
       "      <th>1</th>\n",
       "      <td>2209</td>\n",
       "      <td>1Password</td>\n",
       "      <td>['suspend', 'new', 'investments/development']</td>\n",
       "      <td>Consumer Discretionary</td>\n",
       "      <td>France</td>\n",
       "      <td>paused</td>\n",
       "    </tr>\n",
       "    <tr>\n",
       "      <th>2</th>\n",
       "      <td>1142</td>\n",
       "      <td>1xBet</td>\n",
       "      <td>['ending', 'new', 'investments', 'where', 'has...</td>\n",
       "      <td>Financials</td>\n",
       "      <td>Netherlands</td>\n",
       "      <td>leaved</td>\n",
       "    </tr>\n",
       "    <tr>\n",
       "      <th>3</th>\n",
       "      <td>1924</td>\n",
       "      <td>3HC Semiconductors</td>\n",
       "      <td>['some', 'clients', 'no', 'longer', 'supplied'...</td>\n",
       "      <td>Materials</td>\n",
       "      <td>France</td>\n",
       "      <td>leaved</td>\n",
       "    </tr>\n",
       "    <tr>\n",
       "      <th>4</th>\n",
       "      <td>2323</td>\n",
       "      <td>3M</td>\n",
       "      <td>['suspend', 'supply', 'of', 'parts', 'and', 'd...</td>\n",
       "      <td>Industrials</td>\n",
       "      <td>Netherlands</td>\n",
       "      <td>continue</td>\n",
       "    </tr>\n",
       "    <tr>\n",
       "      <th>5</th>\n",
       "      <td>2197</td>\n",
       "      <td>3M Company</td>\n",
       "      <td>['suspend', 'new', 'investments', 'and', 'new'...</td>\n",
       "      <td>Health Care</td>\n",
       "      <td>Switzerland</td>\n",
       "      <td>paused</td>\n",
       "    </tr>\n",
       "    <tr>\n",
       "      <th>6</th>\n",
       "      <td>48</td>\n",
       "      <td>A&amp;D</td>\n",
       "      <td>['cease', 'trading', 'operations', 'with', 'ru...</td>\n",
       "      <td>Industrials</td>\n",
       "      <td>Germany</td>\n",
       "      <td>leaved</td>\n",
       "    </tr>\n",
       "    <tr>\n",
       "      <th>7</th>\n",
       "      <td>1929</td>\n",
       "      <td>A-SAFE</td>\n",
       "      <td>['still', 'operating', 'in', 'russia', ';', 's...</td>\n",
       "      <td>Information Technology</td>\n",
       "      <td>Australia</td>\n",
       "      <td>leaved</td>\n",
       "    </tr>\n",
       "    <tr>\n",
       "      <th>8</th>\n",
       "      <td>2357</td>\n",
       "      <td>AAK</td>\n",
       "      <td>['suspended', 'some', 'shipments']</td>\n",
       "      <td>Information Technology</td>\n",
       "      <td>Japan</td>\n",
       "      <td>leaved</td>\n",
       "    </tr>\n",
       "    <tr>\n",
       "      <th>9</th>\n",
       "      <td>1082</td>\n",
       "      <td>AB InBev</td>\n",
       "      <td>['continues', 'flows', 'to', 'russian', 'and',...</td>\n",
       "      <td>Industrials</td>\n",
       "      <td>France</td>\n",
       "      <td>leaved</td>\n",
       "    </tr>\n",
       "  </tbody>\n",
       "</table>\n",
       "</div>"
      ],
      "text/plain": [
       "   Unnamed: 0             Company  \\\n",
       "0        2010      1840 & Company   \n",
       "1        2209           1Password   \n",
       "2        1142               1xBet   \n",
       "3        1924  3HC Semiconductors   \n",
       "4        2323                  3M   \n",
       "5        2197          3M Company   \n",
       "6          48                 A&D   \n",
       "7        1929              A-SAFE   \n",
       "8        2357                 AAK   \n",
       "9        1082            AB InBev   \n",
       "\n",
       "                                              Action                Industry  \\\n",
       "0  ['suspend', 'aesthetics', 'operations', ',', '...             Health Care   \n",
       "1      ['suspend', 'new', 'investments/development']  Consumer Discretionary   \n",
       "2  ['ending', 'new', 'investments', 'where', 'has...              Financials   \n",
       "3  ['some', 'clients', 'no', 'longer', 'supplied'...               Materials   \n",
       "4  ['suspend', 'supply', 'of', 'parts', 'and', 'd...             Industrials   \n",
       "5  ['suspend', 'new', 'investments', 'and', 'new'...             Health Care   \n",
       "6  ['cease', 'trading', 'operations', 'with', 'ru...             Industrials   \n",
       "7  ['still', 'operating', 'in', 'russia', ';', 's...  Information Technology   \n",
       "8                 ['suspended', 'some', 'shipments']  Information Technology   \n",
       "9  ['continues', 'flows', 'to', 'russian', 'and',...             Industrials   \n",
       "\n",
       "         Country      Tone  \n",
       "0  United States    paused  \n",
       "1         France    paused  \n",
       "2    Netherlands    leaved  \n",
       "3         France    leaved  \n",
       "4    Netherlands  continue  \n",
       "5    Switzerland    paused  \n",
       "6        Germany    leaved  \n",
       "7      Australia    leaved  \n",
       "8          Japan    leaved  \n",
       "9         France    leaved  "
      ]
     },
     "execution_count": 8,
     "metadata": {},
     "output_type": "execute_result"
    }
   ],
   "source": [
    "df_actions_tone.head(10)"
   ]
  },
  {
   "cell_type": "code",
   "execution_count": 9,
   "id": "0551bc1e",
   "metadata": {
    "ExecuteTime": {
     "start_time": "2023-05-26T19:55:56.117668Z"
    }
   },
   "outputs": [
    {
     "data": {
      "text/html": [
       "<div>\n",
       "<style scoped>\n",
       "    .dataframe tbody tr th:only-of-type {\n",
       "        vertical-align: middle;\n",
       "    }\n",
       "\n",
       "    .dataframe tbody tr th {\n",
       "        vertical-align: top;\n",
       "    }\n",
       "\n",
       "    .dataframe thead th {\n",
       "        text-align: right;\n",
       "    }\n",
       "</style>\n",
       "<table border=\"1\" class=\"dataframe\">\n",
       "  <thead>\n",
       "    <tr style=\"text-align: right;\">\n",
       "      <th></th>\n",
       "      <th>Company</th>\n",
       "      <th>Action</th>\n",
       "      <th>Industry</th>\n",
       "      <th>Country</th>\n",
       "      <th>tone</th>\n",
       "    </tr>\n",
       "  </thead>\n",
       "  <tbody>\n",
       "    <tr>\n",
       "      <th>0</th>\n",
       "      <td>1840 &amp; Company</td>\n",
       "      <td>['suspend', 'aesthetics', 'operations', ',', '...</td>\n",
       "      <td>Health Care</td>\n",
       "      <td>United States</td>\n",
       "      <td>2</td>\n",
       "    </tr>\n",
       "  </tbody>\n",
       "</table>\n",
       "</div>"
      ],
      "text/plain": [
       "          Company                                             Action  \\\n",
       "0  1840 & Company  ['suspend', 'aesthetics', 'operations', ',', '...   \n",
       "\n",
       "      Industry        Country  tone  \n",
       "0  Health Care  United States     2  "
      ]
     },
     "execution_count": 9,
     "metadata": {},
     "output_type": "execute_result"
    }
   ],
   "source": [
    "df_int = df_int.rename(columns={'i': 'Company'})\n",
    "df_int = df_int.rename(columns={'ИНН': 'INT'})\n",
    "df_int = df_int.sort_values(by='Company')\n",
    "df_int = df_int.reset_index(drop=True)\n",
    "df_int.head(1)"
   ]
  },
  {
   "cell_type": "code",
   "execution_count": 10,
   "id": "d885e399",
   "metadata": {
    "ExecuteTime": {
     "start_time": "2023-05-26T19:55:56.120576Z"
    }
   },
   "outputs": [
    {
     "data": {
      "text/html": [
       "<div>\n",
       "<style scoped>\n",
       "    .dataframe tbody tr th:only-of-type {\n",
       "        vertical-align: middle;\n",
       "    }\n",
       "\n",
       "    .dataframe tbody tr th {\n",
       "        vertical-align: top;\n",
       "    }\n",
       "\n",
       "    .dataframe thead th {\n",
       "        text-align: right;\n",
       "    }\n",
       "</style>\n",
       "<table border=\"1\" class=\"dataframe\">\n",
       "  <thead>\n",
       "    <tr style=\"text-align: right;\">\n",
       "      <th></th>\n",
       "      <th>Unnamed: 0</th>\n",
       "      <th>Company</th>\n",
       "      <th>Action_x</th>\n",
       "      <th>Industry_x</th>\n",
       "      <th>Country_x</th>\n",
       "      <th>Tone</th>\n",
       "      <th>Action_y</th>\n",
       "      <th>Industry_y</th>\n",
       "      <th>Country_y</th>\n",
       "      <th>tone</th>\n",
       "    </tr>\n",
       "  </thead>\n",
       "  <tbody>\n",
       "    <tr>\n",
       "      <th>0</th>\n",
       "      <td>2010</td>\n",
       "      <td>1840 &amp; Company</td>\n",
       "      <td>['suspend', 'aesthetics', 'operations', ',', '...</td>\n",
       "      <td>Health Care</td>\n",
       "      <td>United States</td>\n",
       "      <td>paused</td>\n",
       "      <td>['suspend', 'aesthetics', 'operations', ',', '...</td>\n",
       "      <td>Health Care</td>\n",
       "      <td>United States</td>\n",
       "      <td>2</td>\n",
       "    </tr>\n",
       "  </tbody>\n",
       "</table>\n",
       "</div>"
      ],
      "text/plain": [
       "   Unnamed: 0         Company  \\\n",
       "0        2010  1840 & Company   \n",
       "\n",
       "                                            Action_x   Industry_x  \\\n",
       "0  ['suspend', 'aesthetics', 'operations', ',', '...  Health Care   \n",
       "\n",
       "       Country_x    Tone                                           Action_y  \\\n",
       "0  United States  paused  ['suspend', 'aesthetics', 'operations', ',', '...   \n",
       "\n",
       "    Industry_y      Country_y  tone  \n",
       "0  Health Care  United States     2  "
      ]
     },
     "execution_count": 10,
     "metadata": {},
     "output_type": "execute_result"
    }
   ],
   "source": [
    "df1 = df_actions_tone.copy()\n",
    "df2 = df_int.copy()\n",
    "\n",
    "# Merge the two datasets based on the \"Company\" column\n",
    "data = pd.merge(df1, df2, on='Company')\n",
    "data.head(1)"
   ]
  },
  {
   "cell_type": "code",
   "execution_count": 11,
   "id": "63c517fc",
   "metadata": {
    "ExecuteTime": {
     "start_time": "2023-05-26T19:55:56.123583Z"
    }
   },
   "outputs": [
    {
     "ename": "KeyError",
     "evalue": "\"['INT'] not in index\"",
     "output_type": "error",
     "traceback": [
      "\u001b[1;31m---------------------------------------------------------------------------\u001b[0m",
      "\u001b[1;31mKeyError\u001b[0m                                  Traceback (most recent call last)",
      "Cell \u001b[1;32mIn[11], line 3\u001b[0m\n\u001b[0;32m      1\u001b[0m \u001b[38;5;66;03m# Select the desired columns\u001b[39;00m\n\u001b[0;32m      2\u001b[0m desired_columns \u001b[38;5;241m=\u001b[39m [\u001b[38;5;124m'\u001b[39m\u001b[38;5;124mCompany\u001b[39m\u001b[38;5;124m'\u001b[39m, \u001b[38;5;124m'\u001b[39m\u001b[38;5;124mAction_x\u001b[39m\u001b[38;5;124m'\u001b[39m, \u001b[38;5;124m'\u001b[39m\u001b[38;5;124mIndustry_x\u001b[39m\u001b[38;5;124m'\u001b[39m, \u001b[38;5;124m'\u001b[39m\u001b[38;5;124mCountry_x\u001b[39m\u001b[38;5;124m'\u001b[39m, \u001b[38;5;124m'\u001b[39m\u001b[38;5;124mTone\u001b[39m\u001b[38;5;124m'\u001b[39m, \u001b[38;5;124m'\u001b[39m\u001b[38;5;124mINT\u001b[39m\u001b[38;5;124m'\u001b[39m]\n\u001b[1;32m----> 3\u001b[0m data \u001b[38;5;241m=\u001b[39m \u001b[43mdata\u001b[49m\u001b[43m[\u001b[49m\u001b[43mdesired_columns\u001b[49m\u001b[43m]\u001b[49m\n\u001b[0;32m      4\u001b[0m data\u001b[38;5;241m.\u001b[39mhead(\u001b[38;5;241m1\u001b[39m)\n",
      "File \u001b[1;32m~\\miniconda3\\lib\\site-packages\\pandas\\core\\frame.py:3813\u001b[0m, in \u001b[0;36mDataFrame.__getitem__\u001b[1;34m(self, key)\u001b[0m\n\u001b[0;32m   3811\u001b[0m     \u001b[38;5;28;01mif\u001b[39;00m is_iterator(key):\n\u001b[0;32m   3812\u001b[0m         key \u001b[38;5;241m=\u001b[39m \u001b[38;5;28mlist\u001b[39m(key)\n\u001b[1;32m-> 3813\u001b[0m     indexer \u001b[38;5;241m=\u001b[39m \u001b[38;5;28;43mself\u001b[39;49m\u001b[38;5;241;43m.\u001b[39;49m\u001b[43mcolumns\u001b[49m\u001b[38;5;241;43m.\u001b[39;49m\u001b[43m_get_indexer_strict\u001b[49m\u001b[43m(\u001b[49m\u001b[43mkey\u001b[49m\u001b[43m,\u001b[49m\u001b[43m \u001b[49m\u001b[38;5;124;43m\"\u001b[39;49m\u001b[38;5;124;43mcolumns\u001b[39;49m\u001b[38;5;124;43m\"\u001b[39;49m\u001b[43m)\u001b[49m[\u001b[38;5;241m1\u001b[39m]\n\u001b[0;32m   3815\u001b[0m \u001b[38;5;66;03m# take() does not accept boolean indexers\u001b[39;00m\n\u001b[0;32m   3816\u001b[0m \u001b[38;5;28;01mif\u001b[39;00m \u001b[38;5;28mgetattr\u001b[39m(indexer, \u001b[38;5;124m\"\u001b[39m\u001b[38;5;124mdtype\u001b[39m\u001b[38;5;124m\"\u001b[39m, \u001b[38;5;28;01mNone\u001b[39;00m) \u001b[38;5;241m==\u001b[39m \u001b[38;5;28mbool\u001b[39m:\n",
      "File \u001b[1;32m~\\miniconda3\\lib\\site-packages\\pandas\\core\\indexes\\base.py:6070\u001b[0m, in \u001b[0;36mIndex._get_indexer_strict\u001b[1;34m(self, key, axis_name)\u001b[0m\n\u001b[0;32m   6067\u001b[0m \u001b[38;5;28;01melse\u001b[39;00m:\n\u001b[0;32m   6068\u001b[0m     keyarr, indexer, new_indexer \u001b[38;5;241m=\u001b[39m \u001b[38;5;28mself\u001b[39m\u001b[38;5;241m.\u001b[39m_reindex_non_unique(keyarr)\n\u001b[1;32m-> 6070\u001b[0m \u001b[38;5;28;43mself\u001b[39;49m\u001b[38;5;241;43m.\u001b[39;49m\u001b[43m_raise_if_missing\u001b[49m\u001b[43m(\u001b[49m\u001b[43mkeyarr\u001b[49m\u001b[43m,\u001b[49m\u001b[43m \u001b[49m\u001b[43mindexer\u001b[49m\u001b[43m,\u001b[49m\u001b[43m \u001b[49m\u001b[43maxis_name\u001b[49m\u001b[43m)\u001b[49m\n\u001b[0;32m   6072\u001b[0m keyarr \u001b[38;5;241m=\u001b[39m \u001b[38;5;28mself\u001b[39m\u001b[38;5;241m.\u001b[39mtake(indexer)\n\u001b[0;32m   6073\u001b[0m \u001b[38;5;28;01mif\u001b[39;00m \u001b[38;5;28misinstance\u001b[39m(key, Index):\n\u001b[0;32m   6074\u001b[0m     \u001b[38;5;66;03m# GH 42790 - Preserve name from an Index\u001b[39;00m\n",
      "File \u001b[1;32m~\\miniconda3\\lib\\site-packages\\pandas\\core\\indexes\\base.py:6133\u001b[0m, in \u001b[0;36mIndex._raise_if_missing\u001b[1;34m(self, key, indexer, axis_name)\u001b[0m\n\u001b[0;32m   6130\u001b[0m     \u001b[38;5;28;01mraise\u001b[39;00m \u001b[38;5;167;01mKeyError\u001b[39;00m(\u001b[38;5;124mf\u001b[39m\u001b[38;5;124m\"\u001b[39m\u001b[38;5;124mNone of [\u001b[39m\u001b[38;5;132;01m{\u001b[39;00mkey\u001b[38;5;132;01m}\u001b[39;00m\u001b[38;5;124m] are in the [\u001b[39m\u001b[38;5;132;01m{\u001b[39;00maxis_name\u001b[38;5;132;01m}\u001b[39;00m\u001b[38;5;124m]\u001b[39m\u001b[38;5;124m\"\u001b[39m)\n\u001b[0;32m   6132\u001b[0m not_found \u001b[38;5;241m=\u001b[39m \u001b[38;5;28mlist\u001b[39m(ensure_index(key)[missing_mask\u001b[38;5;241m.\u001b[39mnonzero()[\u001b[38;5;241m0\u001b[39m]]\u001b[38;5;241m.\u001b[39munique())\n\u001b[1;32m-> 6133\u001b[0m \u001b[38;5;28;01mraise\u001b[39;00m \u001b[38;5;167;01mKeyError\u001b[39;00m(\u001b[38;5;124mf\u001b[39m\u001b[38;5;124m\"\u001b[39m\u001b[38;5;132;01m{\u001b[39;00mnot_found\u001b[38;5;132;01m}\u001b[39;00m\u001b[38;5;124m not in index\u001b[39m\u001b[38;5;124m\"\u001b[39m)\n",
      "\u001b[1;31mKeyError\u001b[0m: \"['INT'] not in index\""
     ]
    }
   ],
   "source": [
    "# Select the desired columns\n",
    "desired_columns = ['Company', 'Action_x', 'Industry_x', 'Country_x', 'Tone', 'INT']\n",
    "data = data[desired_columns]\n",
    "data.head(1)"
   ]
  },
  {
   "cell_type": "code",
   "execution_count": null,
   "id": "ba4d5251",
   "metadata": {
    "ExecuteTime": {
     "start_time": "2023-05-26T19:55:56.126023Z"
    }
   },
   "outputs": [],
   "source": [
    "# Rename the columns\n",
    "data.columns = ['Company', 'Action', 'Industry', 'Country', 'Tone', 'INT']"
   ]
  },
  {
   "cell_type": "code",
   "execution_count": null,
   "id": "c46c44fb",
   "metadata": {
    "ExecuteTime": {
     "start_time": "2023-05-26T19:55:56.127927Z"
    }
   },
   "outputs": [],
   "source": [
    "data"
   ]
  },
  {
   "cell_type": "markdown",
   "id": "7ec056a9",
   "metadata": {},
   "source": [
    "# Spark database"
   ]
  },
  {
   "cell_type": "code",
   "execution_count": null,
   "id": "cc9754b9",
   "metadata": {
    "ExecuteTime": {
     "start_time": "2023-05-26T19:55:56.129778Z"
    }
   },
   "outputs": [],
   "source": [
    "spark.head()"
   ]
  },
  {
   "cell_type": "code",
   "execution_count": null,
   "id": "c9fde0dc",
   "metadata": {
    "ExecuteTime": {
     "start_time": "2023-05-26T19:55:56.131614Z"
    }
   },
   "outputs": [],
   "source": [
    "spark.shape"
   ]
  },
  {
   "cell_type": "markdown",
   "id": "ab95f9fc",
   "metadata": {},
   "source": [
    "<span style=\"font-size: 17px;\"> Delete all unnecessary columns"
   ]
  },
  {
   "cell_type": "code",
   "execution_count": null,
   "id": "60e149b8",
   "metadata": {
    "ExecuteTime": {
     "start_time": "2023-05-26T19:55:56.133397Z"
    }
   },
   "outputs": [],
   "source": [
    "columns_to_drop = ['№', 'Наименование', 'Регистрационный номер', 'Краткое наименование', 'Дата регистрации']\n",
    "spark = spark.drop(columns_to_drop, axis=1)"
   ]
  },
  {
   "cell_type": "code",
   "execution_count": null,
   "id": "dd8eecc6",
   "metadata": {
    "ExecuteTime": {
     "start_time": "2023-05-26T19:55:56.135199Z"
    }
   },
   "outputs": [],
   "source": [
    "print(spark.columns)"
   ]
  },
  {
   "cell_type": "markdown",
   "id": "c8983b54",
   "metadata": {},
   "source": [
    "<span style=\"font-size: 17px;\"> Rename columns 'Наименование на английском' and 'Код налогоплательщика' to 'Company' and 'INT'"
   ]
  },
  {
   "cell_type": "code",
   "execution_count": null,
   "id": "57866a72",
   "metadata": {
    "ExecuteTime": {
     "start_time": "2023-05-26T19:55:56.154423Z"
    }
   },
   "outputs": [],
   "source": [
    "spark = spark.rename(columns={\"Наименование на английском\": \"Company\"})\n",
    "spark = spark.rename(columns={\"Код налогоплательщика\": \"INT\"})\n",
    "# spark['Company'] = spark['Company'].str.lower()"
   ]
  },
  {
   "cell_type": "code",
   "execution_count": null,
   "id": "c8f381b3",
   "metadata": {
    "ExecuteTime": {
     "start_time": "2023-05-26T19:55:56.170882Z"
    }
   },
   "outputs": [],
   "source": [
    "spark.head(1)"
   ]
  },
  {
   "cell_type": "markdown",
   "id": "249ec4f4",
   "metadata": {},
   "source": [
    "# Merging two databases into one"
   ]
  },
  {
   "cell_type": "code",
   "execution_count": null,
   "id": "9411e42f",
   "metadata": {
    "ExecuteTime": {
     "start_time": "2023-05-26T19:55:56.213703Z"
    }
   },
   "outputs": [],
   "source": [
    "df_merged = data.merge(spark, on='INT')"
   ]
  },
  {
   "cell_type": "code",
   "execution_count": null,
   "id": "66a2de7a",
   "metadata": {
    "ExecuteTime": {
     "start_time": "2023-05-26T19:55:56.332489Z"
    }
   },
   "outputs": [],
   "source": [
    "df_merged.head()"
   ]
  },
  {
   "cell_type": "code",
   "execution_count": null,
   "id": "78128d00",
   "metadata": {
    "ExecuteTime": {
     "start_time": "2023-05-26T19:55:56.334792Z"
    }
   },
   "outputs": [],
   "source": [
    "df_merged = df_merged.rename(columns={\"Company_y\": \"Company\"})\n",
    "\n",
    "df_merged = df_merged.drop({'Company_x', 'INT', \n",
    "                          '2017, Среднесписочная численность работников', \n",
    "                          '2018, Среднесписочная численность работников', \n",
    "                          '2019, Среднесписочная численность работников',\n",
    "                          '2020, Среднесписочная численность работников', \n",
    "                          '2021, Среднесписочная численность работников',\n",
    "                          'Мои списки'}, axis=1)"
   ]
  },
  {
   "cell_type": "code",
   "execution_count": null,
   "id": "f730f02f",
   "metadata": {
    "ExecuteTime": {
     "start_time": "2023-05-26T19:55:56.337792Z"
    }
   },
   "outputs": [],
   "source": [
    "df_merged = df_merged[['Company', 'Industry', 'Country', 'Action', 'Tone', 'Возраст компании, лет',\n",
    "       'Вид деятельности/отрасль', 'Организационно-правовая форма',\n",
    "       'Форма собственности', 'Размер компании', '2017, Выручка, RUB',\n",
    "       '2018, Выручка, RUB', '2019, Выручка, RUB', '2020, Выручка, RUB',\n",
    "       '2021, Выручка, RUB', '2017, Прибыль (убыток) до налогообложения , RUB',\n",
    "       '2018, Прибыль (убыток) до налогообложения , RUB',\n",
    "       '2019, Прибыль (убыток) до налогообложения , RUB',\n",
    "       '2020, Прибыль (убыток) до налогообложения , RUB',\n",
    "       '2021, Прибыль (убыток) до налогообложения , RUB']]"
   ]
  },
  {
   "cell_type": "code",
   "execution_count": null,
   "id": "ae092608",
   "metadata": {
    "ExecuteTime": {
     "start_time": "2023-05-26T19:55:56.340753Z"
    }
   },
   "outputs": [],
   "source": [
    "df_merged.head()"
   ]
  },
  {
   "cell_type": "code",
   "execution_count": null,
   "id": "a6e2a2c2",
   "metadata": {
    "ExecuteTime": {
     "start_time": "2023-05-26T19:55:56.342652Z"
    }
   },
   "outputs": [],
   "source": [
    "database = df_merged.copy()"
   ]
  },
  {
   "cell_type": "markdown",
   "id": "2e7223a8",
   "metadata": {},
   "source": [
    "<span style=\"font-size: 17px;\"> The column 'Возраст компании, лет' is of string datatype. To make it float datatype, we replace , with . "
   ]
  },
  {
   "cell_type": "code",
   "execution_count": null,
   "id": "87bbc613",
   "metadata": {
    "ExecuteTime": {
     "start_time": "2023-05-26T19:55:56.345675Z"
    }
   },
   "outputs": [],
   "source": [
    "if database['Возраст компании, лет'].dtype == object:\n",
    "        # Replace commas with periods in the column\n",
    "        database['Возраст компании, лет'] = database['Возраст компании, лет'].str.replace(',', '.')\n",
    "database['Возраст компании, лет'] = database['Возраст компании, лет'].astype(float)"
   ]
  },
  {
   "cell_type": "markdown",
   "id": "647fd38f",
   "metadata": {},
   "source": [
    "<span style=\"font-size: 17px;\"> Some columns has big number with spaces, therefore they are of a string type.  To make them float datatype, we delete all unnecassary spaces"
   ]
  },
  {
   "cell_type": "code",
   "execution_count": null,
   "id": "129873c4",
   "metadata": {
    "ExecuteTime": {
     "start_time": "2023-05-26T19:55:56.347958Z"
    }
   },
   "outputs": [],
   "source": [
    "database['2017, Выручка, RUB'] = database['2017, Выручка, RUB'].str.replace(' ', '').astype(float)\n",
    "database['2018, Выручка, RUB'] = database['2018, Выручка, RUB'].str.replace(' ', '').astype(float)\n",
    "database['2019, Выручка, RUB'] = database['2019, Выручка, RUB'].str.replace(' ', '').astype(float)\n",
    "database['2020, Выручка, RUB'] = database['2020, Выручка, RUB'].str.replace(' ', '').astype(float)\n",
    "database['2021, Выручка, RUB'] = database['2021, Выручка, RUB'].str.replace(' ', '').astype(float)\n",
    "database['2017, Прибыль (убыток) до налогообложения , RUB'] = database['2017, Прибыль (убыток) до налогообложения , RUB'].str.replace(' ', '').astype(float)\n",
    "database['2018, Прибыль (убыток) до налогообложения , RUB'] = database['2018, Прибыль (убыток) до налогообложения , RUB'].str.replace(' ', '').astype(float)\n",
    "database['2019, Прибыль (убыток) до налогообложения , RUB'] = database['2019, Прибыль (убыток) до налогообложения , RUB'].str.replace(' ', '').astype(float)\n",
    "database['2020, Прибыль (убыток) до налогообложения , RUB'] = database['2020, Прибыль (убыток) до налогообложения , RUB'].str.replace(' ', '').astype(float)\n",
    "database['2021, Прибыль (убыток) до налогообложения , RUB'] = database['2021, Прибыль (убыток) до налогообложения , RUB'].str.replace(' ', '').astype(float)"
   ]
  },
  {
   "cell_type": "code",
   "execution_count": null,
   "id": "a85cb0eb",
   "metadata": {
    "ExecuteTime": {
     "start_time": "2023-05-26T19:55:56.349757Z"
    }
   },
   "outputs": [],
   "source": [
    "database.head(5)"
   ]
  },
  {
   "cell_type": "code",
   "execution_count": null,
   "id": "7e038f0d",
   "metadata": {
    "ExecuteTime": {
     "start_time": "2023-05-26T19:55:56.351564Z"
    }
   },
   "outputs": [],
   "source": [
    "database.shape"
   ]
  },
  {
   "cell_type": "markdown",
   "id": "19dc4436",
   "metadata": {},
   "source": [
    "# Handling missing values"
   ]
  },
  {
   "cell_type": "markdown",
   "id": "e55d47ef",
   "metadata": {},
   "source": [
    "# Сделать прибыль и выручку из средних за все года"
   ]
  },
  {
   "cell_type": "markdown",
   "id": "81468bc2",
   "metadata": {},
   "source": [
    "<span style=\"font-size: 17px;\"> Count total NaN at each column in a database"
   ]
  },
  {
   "cell_type": "code",
   "execution_count": null,
   "id": "359720f5",
   "metadata": {
    "ExecuteTime": {
     "start_time": "2023-05-26T19:55:56.505851Z"
    }
   },
   "outputs": [],
   "source": [
    "print(\" \\nCount total NaN at each column in a DataFrame : \\n\\n\", database.isnull().sum())"
   ]
  },
  {
   "cell_type": "markdown",
   "id": "2da0e24d",
   "metadata": {},
   "source": [
    "<span style=\"font-size: 17px;\"> Visualize missing values in dataset"
   ]
  },
  {
   "cell_type": "code",
   "execution_count": null,
   "id": "fac7edc2",
   "metadata": {
    "ExecuteTime": {
     "end_time": "2023-05-26T19:56:01.581069Z",
     "start_time": "2023-05-26T19:55:56.568903Z"
    },
    "scrolled": true
   },
   "outputs": [],
   "source": []
  },
  {
   "cell_type": "markdown",
   "id": "a0229d48",
   "metadata": {},
   "source": [
    "<span style=\"font-size: 17px;\"> Visualize the number of missing values as a bar chart"
   ]
  },
  {
   "cell_type": "code",
   "execution_count": null,
   "id": "8c083aae",
   "metadata": {
    "ExecuteTime": {
     "start_time": "2023-05-26T19:55:58.779773Z"
    }
   },
   "outputs": [],
   "source": [
    "import missingno as msno\n",
    "msno.bar(database)"
   ]
  },
  {
   "cell_type": "markdown",
   "id": "ac053fde",
   "metadata": {},
   "source": [
    "<span style=\"font-size: 17px;\"> Visualize the correlation between the number of missing values in different columns as a heatmap.\n",
    "\n",
    "<span style=\"font-size: 17px;\"> As we see below, there is a diagonal with values 0.9, which means that profit and insome highly correlates in terms of null values (if profit value is present, then income value is likely to be present too)"
   ]
  },
  {
   "cell_type": "code",
   "execution_count": null,
   "id": "af094edd",
   "metadata": {
    "ExecuteTime": {
     "start_time": "2023-05-26T19:55:58.806824Z"
    }
   },
   "outputs": [],
   "source": [
    "msno.heatmap(database)"
   ]
  },
  {
   "cell_type": "markdown",
   "id": "726c82b4",
   "metadata": {},
   "source": [
    "# Here we have to fill NaN values of proft with mean !!!!!"
   ]
  },
  {
   "cell_type": "markdown",
   "id": "372bf90e",
   "metadata": {},
   "source": [
    "<span style=\"font-size: 17px;\"> Delete all rows where more than 6 NaN values exist"
   ]
  },
  {
   "cell_type": "code",
   "execution_count": null,
   "id": "4121d8fb",
   "metadata": {
    "ExecuteTime": {
     "start_time": "2023-05-26T19:55:58.809998Z"
    }
   },
   "outputs": [],
   "source": [
    "database.dropna(thresh=database.shape[1] - 6, inplace=True)"
   ]
  },
  {
   "cell_type": "code",
   "execution_count": null,
   "id": "6f501723",
   "metadata": {
    "ExecuteTime": {
     "start_time": "2023-05-26T19:55:58.813044Z"
    }
   },
   "outputs": [],
   "source": [
    "print(\" \\nCount total NaN at each column in a DataFrame : \\n\\n\", database.isnull().sum())"
   ]
  },
  {
   "cell_type": "code",
   "execution_count": null,
   "id": "e74f8698",
   "metadata": {
    "ExecuteTime": {
     "start_time": "2023-05-26T19:55:58.816010Z"
    }
   },
   "outputs": [],
   "source": [
    "database.shape"
   ]
  },
  {
   "cell_type": "markdown",
   "id": "bec7455c",
   "metadata": {},
   "source": [
    "<span style=\"font-size: 17px;\"> Delete all rows where Nan values exist"
   ]
  },
  {
   "cell_type": "code",
   "execution_count": null,
   "id": "140f80ba",
   "metadata": {
    "ExecuteTime": {
     "start_time": "2023-05-26T19:55:58.818556Z"
    }
   },
   "outputs": [],
   "source": [
    "database['Mean Revenue'] = database[['2017, Выручка, RUB', '2018, Выручка, RUB', '2019, Выручка, RUB', '2020, Выручка, RUB', '2021, Выручка, RUB']].mean(axis=1)"
   ]
  },
  {
   "cell_type": "code",
   "execution_count": null,
   "id": "d3c34d8a",
   "metadata": {
    "ExecuteTime": {
     "start_time": "2023-05-26T19:55:58.821485Z"
    }
   },
   "outputs": [],
   "source": [
    "database.dropna(subset=['Mean Revenue'], inplace=True)\n",
    "database.drop(['2017, Выручка, RUB', '2018, Выручка, RUB', '2019, Выручка, RUB', '2020, Выручка, RUB', '2021, Выручка, RUB'], axis=1, inplace=True)\n"
   ]
  },
  {
   "cell_type": "code",
   "execution_count": null,
   "id": "1c4511ff",
   "metadata": {
    "ExecuteTime": {
     "start_time": "2023-05-26T19:55:58.824402Z"
    }
   },
   "outputs": [],
   "source": [
    "database.head()"
   ]
  },
  {
   "cell_type": "code",
   "execution_count": null,
   "id": "db70ecec",
   "metadata": {
    "ExecuteTime": {
     "start_time": "2023-05-26T19:55:58.826820Z"
    }
   },
   "outputs": [],
   "source": [
    "database.shape"
   ]
  },
  {
   "cell_type": "code",
   "execution_count": null,
   "id": "40d758dc",
   "metadata": {
    "ExecuteTime": {
     "start_time": "2023-05-26T19:55:58.829815Z"
    }
   },
   "outputs": [],
   "source": [
    "print(\" \\nCount total NaN at each column in a DataFrame : \\n\\n\", database.isnull().sum())"
   ]
  },
  {
   "cell_type": "code",
   "execution_count": null,
   "id": "c829d240",
   "metadata": {
    "ExecuteTime": {
     "start_time": "2023-05-26T19:55:58.832881Z"
    }
   },
   "outputs": [],
   "source": [
    "database['Mean Profit'] = database[['2017, Прибыль (убыток) до налогообложения , RUB', '2018, Прибыль (убыток) до налогообложения , RUB', '2019, Прибыль (убыток) до налогообложения , RUB', '2020, Прибыль (убыток) до налогообложения , RUB', '2021, Прибыль (убыток) до налогообложения , RUB']].mean(axis=1)"
   ]
  },
  {
   "cell_type": "code",
   "execution_count": null,
   "id": "efc9d565",
   "metadata": {
    "ExecuteTime": {
     "start_time": "2023-05-26T19:55:58.835356Z"
    }
   },
   "outputs": [],
   "source": [
    "database.dropna(subset=['Mean Revenue'], inplace=True)\n",
    "database.drop(['2017, Прибыль (убыток) до налогообложения , RUB', '2018, Прибыль (убыток) до налогообложения , RUB', '2019, Прибыль (убыток) до налогообложения , RUB', '2020, Прибыль (убыток) до налогообложения , RUB', '2021, Прибыль (убыток) до налогообложения , RUB'], axis=1, inplace=True)"
   ]
  },
  {
   "cell_type": "code",
   "execution_count": null,
   "id": "ed1f8e0c",
   "metadata": {
    "ExecuteTime": {
     "start_time": "2023-05-26T19:55:58.838283Z"
    }
   },
   "outputs": [],
   "source": [
    "database.head()"
   ]
  },
  {
   "cell_type": "code",
   "execution_count": null,
   "id": "b7fd1d2d",
   "metadata": {
    "ExecuteTime": {
     "start_time": "2023-05-26T19:55:58.841301Z"
    }
   },
   "outputs": [],
   "source": [
    "database.shape"
   ]
  },
  {
   "cell_type": "code",
   "execution_count": null,
   "id": "a4814827",
   "metadata": {
    "ExecuteTime": {
     "start_time": "2023-05-26T19:55:58.844223Z"
    }
   },
   "outputs": [],
   "source": [
    "print(\" \\nCount total NaN at each column in a DataFrame : \\n\\n\", database.isnull().sum())"
   ]
  },
  {
   "cell_type": "code",
   "execution_count": null,
   "id": "5f68737b",
   "metadata": {
    "ExecuteTime": {
     "start_time": "2023-05-26T19:55:58.847195Z"
    }
   },
   "outputs": [],
   "source": [
    "database.dropna(inplace=True)"
   ]
  },
  {
   "cell_type": "code",
   "execution_count": null,
   "id": "b189a56b",
   "metadata": {
    "ExecuteTime": {
     "start_time": "2023-05-26T19:55:58.850141Z"
    }
   },
   "outputs": [],
   "source": [
    "print(\" \\nCount total NaN at each column in a DataFrame : \\n\\n\", database.isnull().sum())"
   ]
  },
  {
   "cell_type": "code",
   "execution_count": null,
   "id": "4a29385b",
   "metadata": {
    "ExecuteTime": {
     "start_time": "2023-05-26T19:55:58.853256Z"
    }
   },
   "outputs": [],
   "source": [
    "database.shape"
   ]
  },
  {
   "cell_type": "code",
   "execution_count": null,
   "id": "d0c15948",
   "metadata": {
    "ExecuteTime": {
     "start_time": "2023-05-26T19:55:58.855728Z"
    }
   },
   "outputs": [],
   "source": [
    "database.describe()"
   ]
  },
  {
   "cell_type": "code",
   "execution_count": null,
   "id": "8e01401d",
   "metadata": {
    "ExecuteTime": {
     "start_time": "2023-05-26T19:55:58.858804Z"
    }
   },
   "outputs": [],
   "source": [
    "database.corr()"
   ]
  },
  {
   "cell_type": "markdown",
   "id": "98c45a86",
   "metadata": {},
   "source": [
    "<span style=\"font-size: 17px;\">  Now our dataset has no NaN values and we can start clustarisation"
   ]
  },
  {
   "cell_type": "markdown",
   "id": "43bf5fa5",
   "metadata": {},
   "source": [
    "# Clusterisation (k-prototypes)"
   ]
  },
  {
   "cell_type": "markdown",
   "id": "eb690951",
   "metadata": {},
   "source": [
    "Если мы оставляем колонку 'Mean Profit', то получается 1 кластер"
   ]
  },
  {
   "cell_type": "markdown",
   "id": "0e751d35",
   "metadata": {},
   "source": [
    "Если мы удаляем колонку 'Mean Revenue' and 'Mean Profit', то получается 2 кластера: \n",
    "0 : 326 и 1 : 218"
   ]
  },
  {
   "cell_type": "code",
   "execution_count": null,
   "id": "44fc6da1",
   "metadata": {
    "ExecuteTime": {
     "start_time": "2023-05-26T19:55:58.861767Z"
    }
   },
   "outputs": [],
   "source": [
    "database2 = database.copy()\n",
    "database2 = database2.drop({'Company', 'Action','Mean Revenue', 'Mean Profit'} , axis = 1)\n",
    "# database2 = database2.drop({'Company', 'Action','Вид деятельности/отрасль', 'Организационно-правовая форма','Форма собственности'} , axis = 1)"
   ]
  },
  {
   "cell_type": "code",
   "execution_count": null,
   "id": "340e5a5a",
   "metadata": {
    "ExecuteTime": {
     "start_time": "2023-05-26T19:55:58.864705Z"
    }
   },
   "outputs": [],
   "source": [
    "database2.head(1)"
   ]
  },
  {
   "cell_type": "code",
   "execution_count": null,
   "id": "456ac77f",
   "metadata": {
    "ExecuteTime": {
     "start_time": "2023-05-26T19:55:58.867149Z"
    }
   },
   "outputs": [],
   "source": []
  },
  {
   "cell_type": "code",
   "execution_count": null,
   "id": "b8b4e6a6",
   "metadata": {
    "ExecuteTime": {
     "start_time": "2023-05-26T19:55:58.870096Z"
    }
   },
   "outputs": [],
   "source": [
    "mark_array=database2.values"
   ]
  },
  {
   "cell_type": "markdown",
   "id": "d4d735fc",
   "metadata": {},
   "source": [
    "<span style=\"font-size: 17px;\"> Mark columns that has float datatypes"
   ]
  },
  {
   "cell_type": "code",
   "execution_count": null,
   "id": "88abf0d9",
   "metadata": {
    "ExecuteTime": {
     "start_time": "2023-05-26T19:55:58.873014Z"
    }
   },
   "outputs": [],
   "source": [
    "mark_array[:, 3] = mark_array[:, 3].astype(float)\n",
    "# mark_array[:, 5] = mark_array[:, 5].astype(float)\n",
    "# mark_array[:, 6] = mark_array[:, 6].astype(float)\n",
    "# mark_array[:, 8] = mark_array[:, 8].astype(float)\n",
    "# mark_array[:, 9] = mark_array[:, 9].astype(float)"
   ]
  },
  {
   "cell_type": "code",
   "execution_count": null,
   "id": "a398868b",
   "metadata": {
    "ExecuteTime": {
     "start_time": "2023-05-26T19:55:58.875454Z"
    }
   },
   "outputs": [],
   "source": [
    "mark_array"
   ]
  },
  {
   "cell_type": "markdown",
   "id": "2b4cf495",
   "metadata": {},
   "source": [
    "<span style=\"font-size: 17px;\"> Get the position of categorical columns"
   ]
  },
  {
   "cell_type": "code",
   "execution_count": null,
   "id": "7514aefa",
   "metadata": {
    "ExecuteTime": {
     "start_time": "2023-05-26T19:55:58.878384Z"
    }
   },
   "outputs": [],
   "source": [
    "catColumnsPos = [database2.columns.get_loc(col) for col in list(database2.select_dtypes('object').columns)]\n",
    "\n",
    "print('Categorical columns           : {}'.format(list(database2.select_dtypes('object').columns)))\n",
    "print('Categorical columns position  : {}'.format(catColumnsPos))"
   ]
  },
  {
   "cell_type": "code",
   "execution_count": null,
   "id": "90a963c2",
   "metadata": {
    "ExecuteTime": {
     "start_time": "2023-05-26T19:55:58.881286Z"
    }
   },
   "outputs": [],
   "source": [
    "# Convert dataframe to matrix\n",
    "dfMatrix = database2.to_numpy()"
   ]
  },
  {
   "cell_type": "code",
   "execution_count": null,
   "id": "4afd95cb",
   "metadata": {
    "ExecuteTime": {
     "start_time": "2023-05-26T19:55:58.883746Z"
    }
   },
   "outputs": [],
   "source": [
    "dfMatrix "
   ]
  },
  {
   "cell_type": "code",
   "execution_count": null,
   "id": "0af2bf65",
   "metadata": {
    "ExecuteTime": {
     "start_time": "2023-05-26T19:55:58.886636Z"
    }
   },
   "outputs": [],
   "source": [
    "print(\" \\nCount total NaN at each column in a DataFrame : \\n\\n\", database2.isnull().sum())"
   ]
  },
  {
   "cell_type": "markdown",
   "id": "5ec5ed31",
   "metadata": {},
   "source": [
    "<span style=\"font-size: 17px;\"> Elbow method to detect number of clusters K"
   ]
  },
  {
   "cell_type": "code",
   "execution_count": null,
   "id": "5ecf9ec3",
   "metadata": {
    "ExecuteTime": {
     "start_time": "2023-05-26T19:55:58.889534Z"
    }
   },
   "outputs": [],
   "source": [
    "from kmodes.kprototypes import KPrototypes\n",
    "\n",
    "cost = []\n",
    "for cluster in range(1, 10):\n",
    "    try:\n",
    "        kprototype = KPrototypes(n_jobs = -1, n_clusters = cluster, init = 'Huang', random_state = 0)\n",
    "        kprototype.fit_predict(database2, categorical = catColumnsPos)\n",
    "        cost.append(kprototype.cost_)\n",
    "        print('Cluster initiation: {}'.format(cluster))\n",
    "    except:\n",
    "        break\n",
    "\n",
    "plt.plot(cost)\n",
    "plt.xlabel('K')\n",
    "plt.ylabel('cost')\n",
    "plt.show"
   ]
  },
  {
   "cell_type": "code",
   "execution_count": null,
   "id": "6d52ef4a",
   "metadata": {
    "ExecuteTime": {
     "start_time": "2023-05-26T19:55:58.892529Z"
    }
   },
   "outputs": [],
   "source": []
  },
  {
   "cell_type": "code",
   "execution_count": null,
   "id": "a1450fc7",
   "metadata": {
    "ExecuteTime": {
     "start_time": "2023-05-26T19:55:58.894888Z"
    }
   },
   "outputs": [],
   "source": [
    "cost"
   ]
  },
  {
   "cell_type": "code",
   "execution_count": null,
   "id": "ba3de5fb",
   "metadata": {
    "ExecuteTime": {
     "start_time": "2023-05-26T19:55:58.897941Z"
    }
   },
   "outputs": [],
   "source": [
    "kproto = KPrototypes(n_clusters=2, verbose=2,max_iter=30)\n",
    "clusters = kproto.fit_predict(mark_array, categorical=[0, 1, 2, 4, 5, 6, 7])"
   ]
  },
  {
   "cell_type": "code",
   "execution_count": null,
   "id": "a3b0f70c",
   "metadata": {
    "ExecuteTime": {
     "start_time": "2023-05-26T19:55:58.900979Z"
    }
   },
   "outputs": [],
   "source": [
    "print(kproto.cluster_centroids_)"
   ]
  },
  {
   "cell_type": "code",
   "execution_count": null,
   "id": "33a5fb1d",
   "metadata": {
    "ExecuteTime": {
     "start_time": "2023-05-26T19:55:58.903811Z"
    }
   },
   "outputs": [],
   "source": [
    "cluster_dict=[]\n",
    "for c in clusters:\n",
    "    cluster_dict.append(c)"
   ]
  },
  {
   "cell_type": "code",
   "execution_count": null,
   "id": "74eb9945",
   "metadata": {
    "ExecuteTime": {
     "start_time": "2023-05-26T19:55:58.906718Z"
    }
   },
   "outputs": [],
   "source": [
    "cluster_dict"
   ]
  },
  {
   "cell_type": "code",
   "execution_count": null,
   "id": "6ea96c2b",
   "metadata": {
    "ExecuteTime": {
     "start_time": "2023-05-26T19:55:58.909129Z"
    }
   },
   "outputs": [],
   "source": [
    "database2['cluster']=cluster_dict"
   ]
  },
  {
   "cell_type": "code",
   "execution_count": null,
   "id": "d3738572",
   "metadata": {
    "ExecuteTime": {
     "start_time": "2023-05-26T19:55:58.912072Z"
    }
   },
   "outputs": [],
   "source": [
    "for i in range(0,5):\n",
    "    print(i, \": \", database2[database2['cluster']== i].value_counts().sum())"
   ]
  },
  {
   "cell_type": "code",
   "execution_count": null,
   "id": "fa326821",
   "metadata": {
    "ExecuteTime": {
     "start_time": "2023-05-26T19:55:58.915154Z"
    }
   },
   "outputs": [],
   "source": [
    "database2"
   ]
  },
  {
   "cell_type": "code",
   "execution_count": null,
   "id": "6beeb894",
   "metadata": {
    "ExecuteTime": {
     "start_time": "2023-05-26T19:55:58.918197Z"
    }
   },
   "outputs": [],
   "source": [
    "database2[database2['cluster']== 0].head(10)"
   ]
  },
  {
   "cell_type": "code",
   "execution_count": null,
   "id": "d03c0ab2",
   "metadata": {
    "ExecuteTime": {
     "start_time": "2023-05-26T19:55:58.921155Z"
    }
   },
   "outputs": [],
   "source": [
    "database2[database2['cluster']== 1].head(10)"
   ]
  },
  {
   "cell_type": "code",
   "execution_count": null,
   "id": "230d0317",
   "metadata": {
    "ExecuteTime": {
     "start_time": "2023-05-26T19:55:58.923488Z"
    }
   },
   "outputs": [],
   "source": [
    "database2[database2['cluster']== 2].head(10)"
   ]
  },
  {
   "cell_type": "markdown",
   "id": "fe3dd781",
   "metadata": {},
   "source": [
    "<span style=\"font-size: 17px;\"> Visualisation:"
   ]
  },
  {
   "cell_type": "code",
   "execution_count": null,
   "id": "4a263801",
   "metadata": {
    "ExecuteTime": {
     "start_time": "2023-05-26T19:55:58.926509Z"
    }
   },
   "outputs": [],
   "source": [
    "import seaborn as sns\n",
    "import matplotlib.pyplot as plt\n",
    "\n",
    "database2.columns = [\"Action\", \"Tone\", \"Возраст компании, лет\", \"Вид деятельности/отрасль\", \"Организационно-правовая форма\", \"Форма собственности\", \"cluster\"]\n",
    "sns.pairplot(database2, hue=\"cluster\")"
   ]
  },
  {
   "cell_type": "code",
   "execution_count": null,
   "id": "0291c3c8",
   "metadata": {
    "ExecuteTime": {
     "start_time": "2023-05-26T19:55:58.929564Z"
    }
   },
   "outputs": [],
   "source": [
    "sns.boxplot(x=\"cluster\", y=\"Возраст компании, лет\", data=database2)\n"
   ]
  },
  {
   "cell_type": "code",
   "execution_count": null,
   "id": "15227198",
   "metadata": {
    "ExecuteTime": {
     "start_time": "2023-05-26T19:55:58.932525Z"
    }
   },
   "outputs": [],
   "source": [
    "sns.boxplot(x=\"cluster\", y=\"Организационно-правовая форма\", data=database2)"
   ]
  },
  {
   "cell_type": "code",
   "execution_count": null,
   "id": "e3a7b501",
   "metadata": {
    "ExecuteTime": {
     "start_time": "2023-05-26T19:55:58.934964Z"
    },
    "scrolled": true
   },
   "outputs": [],
   "source": [
    "sns.boxplot(x=\"cluster\", y=\"Форма собственности\", data=database2)"
   ]
  },
  {
   "cell_type": "markdown",
   "id": "9a5ff3e3",
   "metadata": {},
   "source": [
    "## Clusterisation of dataset with income and profit"
   ]
  },
  {
   "cell_type": "code",
   "execution_count": null,
   "id": "7481d676",
   "metadata": {
    "ExecuteTime": {
     "start_time": "2023-05-26T19:55:58.937968Z"
    }
   },
   "outputs": [],
   "source": [
    "df_filtered = database.copy()\n",
    "df_filtered = df_filtered.drop({'Company', 'Action', 'Вид деятельности/отрасль'}, axis=1)"
   ]
  },
  {
   "cell_type": "code",
   "execution_count": null,
   "id": "5392471a",
   "metadata": {
    "ExecuteTime": {
     "start_time": "2023-05-26T19:55:58.940798Z"
    }
   },
   "outputs": [],
   "source": [
    "df_filtered.head(1)"
   ]
  },
  {
   "cell_type": "code",
   "execution_count": null,
   "id": "0ed343e8",
   "metadata": {
    "ExecuteTime": {
     "start_time": "2023-05-26T19:55:58.943683Z"
    }
   },
   "outputs": [],
   "source": [
    "df_cat = df_filtered[['Industry', 'Country', 'Tone', 'Организационно-правовая форма', 'Форма собственности', 'Размер компании']]\n",
    "\n",
    "for i in df_cat.columns:\n",
    "    print(df_cat[i].unique())"
   ]
  },
  {
   "cell_type": "code",
   "execution_count": null,
   "id": "917b7939",
   "metadata": {
    "ExecuteTime": {
     "start_time": "2023-05-26T19:55:58.946245Z"
    }
   },
   "outputs": [],
   "source": []
  },
  {
   "cell_type": "markdown",
   "id": "5c2dfbab",
   "metadata": {},
   "source": [
    "<span style=\"font-size: 17px;\"> Check that there are no NaN values in the dataset</span>"
   ]
  },
  {
   "cell_type": "code",
   "execution_count": null,
   "id": "4b941cdd",
   "metadata": {
    "ExecuteTime": {
     "start_time": "2023-05-26T19:55:58.949307Z"
    }
   },
   "outputs": [],
   "source": [
    "print(\" \\nCount total NaN at each column in a DataFrame : \\n\\n\", df_filtered.isnull().sum())"
   ]
  },
  {
   "cell_type": "code",
   "execution_count": null,
   "id": "06c5f93a",
   "metadata": {
    "ExecuteTime": {
     "start_time": "2023-05-26T19:55:58.952413Z"
    }
   },
   "outputs": [],
   "source": [
    "mark_array=df_filtered.values"
   ]
  },
  {
   "cell_type": "markdown",
   "id": "c0e28fba",
   "metadata": {},
   "source": [
    "<span style=\"font-size: 17px;\"> Mark columns that has float datatypes"
   ]
  },
  {
   "cell_type": "code",
   "execution_count": null,
   "id": "8c918a21",
   "metadata": {
    "ExecuteTime": {
     "start_time": "2023-05-26T19:55:58.955365Z"
    }
   },
   "outputs": [],
   "source": [
    "mark_array[:, 2] = mark_array[:, 2].astype(float)\n",
    "mark_array[:, 7] = mark_array[:, 7].astype(float)\n",
    "mark_array[:, 8] = mark_array[:, 8].astype(float)\n",
    "mark_array[:, 9] = mark_array[:, 9].astype(float)\n",
    "mark_array[:, 10] = mark_array[:, 10].astype(float)\n",
    "mark_array[:,11] = mark_array[:, 11].astype(float)"
   ]
  },
  {
   "cell_type": "markdown",
   "id": "e5481b1a",
   "metadata": {},
   "source": [
    "<span style=\"font-size: 17px;\"> Get the position of categorical columns"
   ]
  },
  {
   "cell_type": "code",
   "execution_count": null,
   "id": "e407d1f4",
   "metadata": {
    "ExecuteTime": {
     "start_time": "2023-05-26T19:55:58.957308Z"
    }
   },
   "outputs": [],
   "source": [
    "catColumnsPos = [df_filtered.columns.get_loc(col) for col in list(df_filtered.select_dtypes('object').columns)]\n",
    "\n",
    "print('Categorical columns           : {}'.format(list(df_filtered.select_dtypes('object').columns)))\n",
    "print('Categorical columns position  : {}'.format(catColumnsPos))"
   ]
  },
  {
   "cell_type": "code",
   "execution_count": null,
   "id": "00e64dfa",
   "metadata": {
    "ExecuteTime": {
     "start_time": "2023-05-26T19:55:58.959204Z"
    }
   },
   "outputs": [],
   "source": [
    "# Convert dataframe to matrix\n",
    "dfMatrix = df_filtered.to_numpy()"
   ]
  },
  {
   "cell_type": "markdown",
   "id": "a301adbc",
   "metadata": {},
   "source": [
    "<span style=\"font-size: 17px;\"> Elbow method to detect number of clusters K"
   ]
  },
  {
   "cell_type": "code",
   "execution_count": null,
   "id": "4a58ea61",
   "metadata": {
    "ExecuteTime": {
     "start_time": "2023-05-26T19:55:58.961082Z"
    }
   },
   "outputs": [],
   "source": [
    "from kmodes.kprototypes import KPrototypes\n",
    "\n",
    "cost = []\n",
    "for cluster in range(1, 10):\n",
    "    try:\n",
    "        kprototype = KPrototypes(n_jobs = -1, n_clusters = cluster, init = 'Huang', random_state = 0)\n",
    "        kprototype.fit_predict(dfMatrix, categorical = catColumnsPos)\n",
    "        cost.append(kprototype.cost_)\n",
    "        print('Cluster initiation: {}'.format(cluster))\n",
    "    except:\n",
    "        break\n",
    "\n",
    "plt.plot(cost)\n",
    "plt.xlabel('K')\n",
    "plt.ylabel('cost')\n",
    "plt.show"
   ]
  },
  {
   "cell_type": "markdown",
   "id": "02c7dc34",
   "metadata": {},
   "source": [
    "<span style=\"font-size: 17px;\">  The elbow is at point 3 => numbers of clusters = 3"
   ]
  },
  {
   "cell_type": "code",
   "execution_count": null,
   "id": "fa35a2d7",
   "metadata": {
    "ExecuteTime": {
     "start_time": "2023-05-26T19:55:58.962858Z"
    }
   },
   "outputs": [],
   "source": []
  },
  {
   "cell_type": "code",
   "execution_count": null,
   "id": "51b857be",
   "metadata": {
    "ExecuteTime": {
     "start_time": "2023-05-26T19:55:58.964646Z"
    }
   },
   "outputs": [],
   "source": []
  },
  {
   "cell_type": "code",
   "execution_count": null,
   "id": "3e73a449",
   "metadata": {
    "ExecuteTime": {
     "start_time": "2023-05-26T19:55:58.966432Z"
    }
   },
   "outputs": [],
   "source": [
    "mark_array"
   ]
  },
  {
   "cell_type": "code",
   "execution_count": null,
   "id": "8e1be294",
   "metadata": {
    "ExecuteTime": {
     "start_time": "2023-05-26T19:55:58.968294Z"
    }
   },
   "outputs": [],
   "source": [
    "kproto = KPrototypes(n_clusters=3, verbose=2,max_iter=30)\n",
    "clusters = kproto.fit_predict(mark_array, categorical=[0, 1, 4, 5, 6])"
   ]
  },
  {
   "cell_type": "code",
   "execution_count": null,
   "id": "09d51fba",
   "metadata": {
    "ExecuteTime": {
     "start_time": "2023-05-26T19:55:58.970110Z"
    }
   },
   "outputs": [],
   "source": [
    "print(kproto.cluster_centroids_)"
   ]
  },
  {
   "cell_type": "code",
   "execution_count": null,
   "id": "0a581688",
   "metadata": {
    "ExecuteTime": {
     "start_time": "2023-05-26T19:55:58.971993Z"
    }
   },
   "outputs": [],
   "source": [
    "cluster_dict=[]\n",
    "for c in clusters:\n",
    "    cluster_dict.append(c)"
   ]
  },
  {
   "cell_type": "code",
   "execution_count": null,
   "id": "02de9cc6",
   "metadata": {
    "ExecuteTime": {
     "start_time": "2023-05-26T19:55:58.973814Z"
    }
   },
   "outputs": [],
   "source": [
    "cluster_dict"
   ]
  },
  {
   "cell_type": "code",
   "execution_count": null,
   "id": "44c38205",
   "metadata": {
    "ExecuteTime": {
     "start_time": "2023-05-26T19:55:58.975636Z"
    }
   },
   "outputs": [],
   "source": [
    "df_filtered['Cluster']=cluster_dict"
   ]
  },
  {
   "cell_type": "code",
   "execution_count": null,
   "id": "dce27428",
   "metadata": {
    "ExecuteTime": {
     "start_time": "2023-05-26T19:55:58.977528Z"
    }
   },
   "outputs": [],
   "source": [
    "df_filtered"
   ]
  },
  {
   "cell_type": "code",
   "execution_count": null,
   "id": "7f7ae144",
   "metadata": {
    "ExecuteTime": {
     "start_time": "2023-05-26T19:55:58.979433Z"
    }
   },
   "outputs": [],
   "source": [
    "df_filtered[df_filtered['Cluster']== 0].head(10)"
   ]
  },
  {
   "cell_type": "code",
   "execution_count": null,
   "id": "a78f2574",
   "metadata": {
    "ExecuteTime": {
     "start_time": "2023-05-26T19:55:58.981255Z"
    }
   },
   "outputs": [],
   "source": [
    "df_filtered[df_filtered['Cluster']== 1].head(10)"
   ]
  },
  {
   "cell_type": "code",
   "execution_count": null,
   "id": "d59d242d",
   "metadata": {
    "ExecuteTime": {
     "start_time": "2023-05-26T19:55:58.983144Z"
    }
   },
   "outputs": [],
   "source": [
    "df_filtered[df_filtered['Cluster']== 2].head(10)"
   ]
  },
  {
   "cell_type": "markdown",
   "id": "8e09bdd7",
   "metadata": {},
   "source": [
    "<span style=\"font-size: 17px;\"> Let's visualize our clusters"
   ]
  },
  {
   "cell_type": "code",
   "execution_count": null,
   "id": "e8bee0e4",
   "metadata": {
    "ExecuteTime": {
     "start_time": "2023-05-26T19:55:58.985016Z"
    }
   },
   "outputs": [],
   "source": [
    "#the volume of each cluster\n",
    "df_filtered['Cluster'].value_counts().plot(kind='bar')\n",
    "\n",
    "plt.xticks(fontsize=10, rotation=0, ha='right')"
   ]
  },
  {
   "cell_type": "markdown",
   "id": "2eaccbd0",
   "metadata": {},
   "source": [
    "# Graphs"
   ]
  },
  {
   "cell_type": "code",
   "execution_count": null,
   "id": "c643141e",
   "metadata": {
    "ExecuteTime": {
     "start_time": "2023-05-26T19:55:58.986963Z"
    }
   },
   "outputs": [],
   "source": [
    "import matplotlib.pyplot as plt"
   ]
  },
  {
   "cell_type": "code",
   "execution_count": null,
   "id": "6bee4ede",
   "metadata": {
    "ExecuteTime": {
     "start_time": "2023-05-26T19:55:58.988842Z"
    }
   },
   "outputs": [],
   "source": [
    "database3 = database.copy()\n",
    "database3"
   ]
  },
  {
   "cell_type": "markdown",
   "id": "b248e2e5",
   "metadata": {},
   "source": [
    "### Countries"
   ]
  },
  {
   "cell_type": "markdown",
   "id": "2f5cc2c5",
   "metadata": {},
   "source": [
    "<span style=\"font-size: 17px;\"> Value_counts() returns the count of unique values in the 'Country' column, and head(10) selects the first 10 values, which represent the top 10 countries with the highest counts.</span>"
   ]
  },
  {
   "cell_type": "code",
   "execution_count": null,
   "id": "698a312d",
   "metadata": {
    "ExecuteTime": {
     "start_time": "2023-05-26T19:55:58.990653Z"
    }
   },
   "outputs": [],
   "source": [
    "df_countries = database3['Country'].value_counts().head(10)"
   ]
  },
  {
   "cell_type": "code",
   "execution_count": null,
   "id": "1fe4ea94",
   "metadata": {
    "ExecuteTime": {
     "start_time": "2023-05-26T19:55:58.992453Z"
    }
   },
   "outputs": [],
   "source": [
    "df_countries = df_countries.to_frame().reset_index()"
   ]
  },
  {
   "cell_type": "code",
   "execution_count": null,
   "id": "7d6eec1e",
   "metadata": {
    "ExecuteTime": {
     "start_time": "2023-05-26T19:55:58.994402Z"
    }
   },
   "outputs": [],
   "source": [
    "df_countries"
   ]
  },
  {
   "cell_type": "code",
   "execution_count": null,
   "id": "348cd599",
   "metadata": {
    "ExecuteTime": {
     "start_time": "2023-05-26T19:55:58.996336Z"
    }
   },
   "outputs": [],
   "source": [
    "# Increase the figure size and adjust the spacing\n",
    "plt.figure(figsize=(12, 8))\n",
    "plt.subplots_adjust(left=0.1, right=0.9, top=0.9, bottom=0.1)\n",
    "\n",
    "# Plot the bar chart\n",
    "df_countries.plot(kind='bar', x='index', y='Country', color='pink')\n",
    "\n",
    "# Set the labels and title\n",
    "plt.xlabel('Country', fontsize=12, labelpad=10)\n",
    "plt.ylabel('Number of Companies', fontsize=12, labelpad=10)\n",
    "plt.title('Number of Companies per Country', fontsize=14, fontweight='bold', pad=20)\n",
    "\n",
    "# Adjust the font size and rotation of the x-axis labels\n",
    "plt.xticks(fontsize=10, rotation=45, ha='right')\n",
    "\n",
    "# Adjust the font size of the y-axis labels\n",
    "plt.yticks(fontsize=10)\n",
    "\n",
    "# Remove the top and right spines (borders)\n",
    "plt.gca().spines['top'].set_visible(False)\n",
    "plt.gca().spines['right'].set_visible(False)\n",
    "\n",
    "# Add grid lines to the plot\n",
    "plt.grid(axis='y', linestyle='--', alpha=0.5)\n",
    "\n",
    "plt.show()"
   ]
  },
  {
   "cell_type": "markdown",
   "id": "f686ee09",
   "metadata": {},
   "source": [
    "### Industries:"
   ]
  },
  {
   "cell_type": "code",
   "execution_count": null,
   "id": "63bca5c3",
   "metadata": {
    "ExecuteTime": {
     "start_time": "2023-05-26T19:55:58.998291Z"
    }
   },
   "outputs": [],
   "source": [
    "df_industries = database3['Industry'].value_counts()\n",
    "df_industries = df_industries.to_frame().reset_index()"
   ]
  },
  {
   "cell_type": "code",
   "execution_count": null,
   "id": "47c6684c",
   "metadata": {
    "ExecuteTime": {
     "start_time": "2023-05-26T19:55:59.000205Z"
    }
   },
   "outputs": [],
   "source": [
    "import matplotlib.pyplot as plt\n",
    "\n",
    "# Increase the figure size and adjust the spacing\n",
    "plt.figure(figsize=(16, 8))\n",
    "plt.subplots_adjust(left=0.1, right=0.9, top=0.9, bottom=0.1)\n",
    "\n",
    "# Plot the bar chart\n",
    "df_industries.plot(kind='bar', x='index', y='Industry', color='#a7e8a9')\n",
    "\n",
    "# Set the labels and title\n",
    "plt.xlabel('Industry', fontsize=12, labelpad=10)\n",
    "plt.ylabel('Number of Companies', fontsize=12, labelpad=10)\n",
    "plt.title('Number of Companies per Industry', fontsize=14, fontweight='bold', pad=20)\n",
    "\n",
    "# Adjust the font size and rotation of the x-axis labels\n",
    "plt.xticks(fontsize=10, rotation=45, ha='right')\n",
    "\n",
    "# Adjust the font size of the y-axis labels\n",
    "plt.yticks(fontsize=10)\n",
    "\n",
    "# Remove the top and right spines\n",
    "plt.gca().spines['top'].set_visible(False)\n",
    "plt.gca().spines['right'].set_visible(False)\n",
    "\n",
    "# Add grid lines to the plot\n",
    "plt.grid(axis='y', linestyle='--', alpha=0.5)\n",
    "\n",
    "plt.show()"
   ]
  },
  {
   "cell_type": "markdown",
   "id": "46b7b231",
   "metadata": {},
   "source": [
    "### Size"
   ]
  },
  {
   "cell_type": "code",
   "execution_count": null,
   "id": "c9ddf0f1",
   "metadata": {
    "ExecuteTime": {
     "start_time": "2023-05-26T19:55:59.002180Z"
    }
   },
   "outputs": [],
   "source": [
    "df_size = database3['Размер компании'].value_counts()\n",
    "df_size = df_size.to_frame().reset_index()"
   ]
  },
  {
   "cell_type": "code",
   "execution_count": null,
   "id": "c83cd7a1",
   "metadata": {
    "ExecuteTime": {
     "start_time": "2023-05-26T19:55:59.004232Z"
    }
   },
   "outputs": [],
   "source": [
    "import matplotlib.pyplot as plt\n",
    "\n",
    "# Increase the figure size and adjust the spacing\n",
    "plt.figure(figsize=(14, 8))\n",
    "plt.subplots_adjust(left=0.1, right=0.9, top=0.9, bottom=0.1)\n",
    "\n",
    "# Plot the bar chart\n",
    "df_size.plot(kind='bar', x='index', y='Размер компании', color='#b6dffc')\n",
    "\n",
    "# Set the labels and title\n",
    "plt.xlabel('Size', fontsize=12, labelpad=10)\n",
    "plt.ylabel('Number of Companies', fontsize=12, labelpad=10)\n",
    "plt.title('Number of Companies per Size', fontsize=14, fontweight='bold', pad=20)\n",
    "\n",
    "# Adjust the font size and rotation of the x-axis labels\n",
    "plt.xticks(fontsize=10, rotation=45, ha='right')\n",
    "\n",
    "# Adjust the font size of the y-axis labels\n",
    "plt.yticks(fontsize=10)\n",
    "\n",
    "# Remove the top and right spines\n",
    "plt.gca().spines['top'].set_visible(False)\n",
    "plt.gca().spines['right'].set_visible(False)\n",
    "\n",
    "# Add grid lines to the plot\n",
    "plt.grid(axis='y', linestyle='--', alpha=0.5)\n",
    "\n",
    "# Show the plot\n",
    "plt.show()"
   ]
  },
  {
   "cell_type": "code",
   "execution_count": null,
   "id": "09fd7213",
   "metadata": {
    "ExecuteTime": {
     "start_time": "2023-05-26T19:55:59.006193Z"
    }
   },
   "outputs": [],
   "source": [
    "database3.head()"
   ]
  },
  {
   "cell_type": "markdown",
   "id": "2337b3c6",
   "metadata": {},
   "source": [
    "### Age"
   ]
  },
  {
   "cell_type": "code",
   "execution_count": null,
   "id": "acdd820c",
   "metadata": {
    "ExecuteTime": {
     "start_time": "2023-05-26T19:55:59.008223Z"
    }
   },
   "outputs": [],
   "source": [
    "database3['Возраст компании, лет'].plot(kind='hist', bins=30)\n",
    "\n",
    "plt.xlabel('Age of Company')\n",
    "plt.ylabel('Count')\n",
    "plt.title('Distribution of Company Age')\n",
    "\n",
    "plt.show()"
   ]
  },
  {
   "cell_type": "markdown",
   "id": "13816878",
   "metadata": {},
   "source": [
    "### Organisational form"
   ]
  },
  {
   "cell_type": "code",
   "execution_count": null,
   "id": "e3a5b2cd",
   "metadata": {
    "ExecuteTime": {
     "start_time": "2023-05-26T19:55:59.010167Z"
    }
   },
   "outputs": [],
   "source": [
    "df_form = database3['Организационно-правовая форма'].value_counts().head(5)\n",
    "df_form = df_form.to_frame().reset_index()\n",
    "df_form"
   ]
  },
  {
   "cell_type": "code",
   "execution_count": null,
   "id": "8300509a",
   "metadata": {
    "ExecuteTime": {
     "start_time": "2023-05-26T19:55:59.012187Z"
    }
   },
   "outputs": [],
   "source": [
    "# Increase the figure size and adjust the spacing\n",
    "plt.figure(figsize=(10, 5))\n",
    "plt.subplots_adjust(left=0.1, right=0.9, top=0.9, bottom=0.1)\n",
    "\n",
    "# Plot the bar chart\n",
    "df_form.plot(kind='bar', x='index', y='Организационно-правовая форма', color='#ccccff')\n",
    "\n",
    "# Set the labels and title\n",
    "plt.xlabel('Type of form', fontsize=12, labelpad=10)\n",
    "plt.ylabel('Number of Companies', fontsize=12, labelpad=10)\n",
    "plt.title('Number of Companies per Organisational form', fontsize=14, fontweight='bold', pad=20)\n",
    "\n",
    "# Adjust the font size and rotation of the x-axis labels\n",
    "plt.xticks(fontsize=10, rotation=45, ha='right')\n",
    "\n",
    "# Adjust the font size of the y-axis labels\n",
    "plt.yticks(fontsize=10)\n",
    "\n",
    "# Remove the top and right spines\n",
    "plt.gca().spines['top'].set_visible(False)\n",
    "plt.gca().spines['right'].set_visible(False)\n",
    "\n",
    "# Add grid lines to the plot\n",
    "plt.grid(axis='y', linestyle='--', alpha=0.5)\n",
    "\n",
    "# Show the plot\n",
    "plt.show()"
   ]
  },
  {
   "cell_type": "markdown",
   "id": "83f3b97f",
   "metadata": {},
   "source": [
    "### Form of property"
   ]
  },
  {
   "cell_type": "code",
   "execution_count": null,
   "id": "acaea374",
   "metadata": {
    "ExecuteTime": {
     "start_time": "2023-05-26T19:55:59.014045Z"
    }
   },
   "outputs": [],
   "source": [
    "df_form2 = database3['Форма собственности'].value_counts().head(5)\n",
    "df_form2 = df_form2.to_frame().reset_index()\n",
    "df_form2"
   ]
  },
  {
   "cell_type": "code",
   "execution_count": null,
   "id": "db7c549f",
   "metadata": {
    "ExecuteTime": {
     "start_time": "2023-05-26T19:55:59.015934Z"
    }
   },
   "outputs": [],
   "source": [
    "# Increase the figure size and adjust the spacing\n",
    "plt.figure(figsize=(10, 5))\n",
    "plt.subplots_adjust(left=0.1, right=0.9, top=0.9, bottom=0.1)\n",
    "\n",
    "# Plot the bar chart\n",
    "df_form2.plot(kind='bar', x='index', y='Форма собственности', color='#ffcc99')\n",
    "\n",
    "# Set the labels and title\n",
    "plt.xlabel('Type of form', fontsize=12, labelpad=10)\n",
    "plt.ylabel('Number of Companies', fontsize=12, labelpad=10)\n",
    "plt.title('Number of Companies per Form of property', fontsize=14, fontweight='bold', pad=20)\n",
    "\n",
    "# Adjust the font size and rotation of the x-axis labels\n",
    "plt.xticks(fontsize=10, rotation=45, ha='right')\n",
    "\n",
    "# Adjust the font size of the y-axis labels\n",
    "plt.yticks(fontsize=10)\n",
    "\n",
    "# Remove the top and right spines\n",
    "plt.gca().spines['top'].set_visible(False)\n",
    "plt.gca().spines['right'].set_visible(False)\n",
    "\n",
    "# Add grid lines to the plot\n",
    "plt.grid(axis='y', linestyle='--', alpha=0.5)\n",
    "\n",
    "# Show the plot\n",
    "plt.show()"
   ]
  },
  {
   "cell_type": "markdown",
   "id": "b5cb4df1",
   "metadata": {},
   "source": [
    "### Tone\n",
    "* 0 - completely stoped operations in Russia\n",
    "* 1 - continue operations in Russia\n",
    "* 2 - paused operations in Russia"
   ]
  },
  {
   "cell_type": "code",
   "execution_count": null,
   "id": "291cc588",
   "metadata": {
    "ExecuteTime": {
     "start_time": "2023-05-26T19:55:59.017863Z"
    }
   },
   "outputs": [],
   "source": [
    "df_tone = database3['Tone'].value_counts().head(5)\n",
    "df_tone"
   ]
  },
  {
   "cell_type": "code",
   "execution_count": null,
   "id": "24a8ab19",
   "metadata": {
    "ExecuteTime": {
     "start_time": "2023-05-26T19:55:59.019726Z"
    }
   },
   "outputs": [],
   "source": [
    "# Increase the figure size and adjust the spacing\n",
    "plt.figure(figsize=(10, 5))\n",
    "plt.subplots_adjust(left=0.1, right=0.9, top=0.9, bottom=0.1)\n",
    "\n",
    "# Plot the bar chart\n",
    "df_tone.plot(kind='bar', x='index', y='Tone', color='#ffcc99')\n",
    "\n",
    "# Set the labels and title\n",
    "plt.xlabel('Tone', fontsize=12, labelpad=10)\n",
    "plt.ylabel('Number of Companies', fontsize=12, labelpad=10)\n",
    "plt.title('Number of Companies per Tone', fontsize=14, fontweight='bold', pad=20)\n",
    "\n",
    "# Adjust the font size and rotation of the x-axis labels\n",
    "plt.xticks(fontsize=10, rotation=0, ha='right')\n",
    "\n",
    "# Adjust the font size of the y-axis labels\n",
    "plt.yticks(fontsize=10)\n",
    "\n",
    "# Remove the top and right spines\n",
    "plt.gca().spines['top'].set_visible(False)\n",
    "plt.gca().spines['right'].set_visible(False)\n",
    "\n",
    "# Add grid lines to the plot\n",
    "plt.grid(axis='y', linestyle='--', alpha=0.5)\n",
    "\n",
    "# Show the plot\n",
    "plt.show()"
   ]
  },
  {
   "cell_type": "code",
   "execution_count": null,
   "id": "496bfcfb",
   "metadata": {
    "ExecuteTime": {
     "start_time": "2023-05-26T19:55:59.021563Z"
    }
   },
   "outputs": [],
   "source": []
  },
  {
   "cell_type": "code",
   "execution_count": null,
   "id": "4ae7f659",
   "metadata": {
    "ExecuteTime": {
     "start_time": "2023-05-26T19:55:59.023458Z"
    }
   },
   "outputs": [],
   "source": []
  },
  {
   "cell_type": "code",
   "execution_count": null,
   "id": "bda18065",
   "metadata": {
    "ExecuteTime": {
     "start_time": "2023-05-26T19:55:59.025340Z"
    }
   },
   "outputs": [],
   "source": []
  },
  {
   "cell_type": "code",
   "execution_count": null,
   "id": "01b6e8f5",
   "metadata": {
    "ExecuteTime": {
     "start_time": "2023-05-26T19:55:59.027157Z"
    }
   },
   "outputs": [],
   "source": []
  },
  {
   "cell_type": "code",
   "execution_count": null,
   "id": "558d39ae",
   "metadata": {
    "ExecuteTime": {
     "start_time": "2023-05-26T19:55:59.029043Z"
    }
   },
   "outputs": [],
   "source": []
  },
  {
   "cell_type": "code",
   "execution_count": null,
   "id": "eac79fa6",
   "metadata": {
    "ExecuteTime": {
     "start_time": "2023-05-26T19:55:59.030950Z"
    }
   },
   "outputs": [],
   "source": []
  }
 ],
 "metadata": {
  "kernelspec": {
   "display_name": "Python 3 (ipykernel)",
   "language": "python",
   "name": "python3"
  },
  "language_info": {
   "codemirror_mode": {
    "name": "ipython",
    "version": 3
   },
   "file_extension": ".py",
   "mimetype": "text/x-python",
   "name": "python",
   "nbconvert_exporter": "python",
   "pygments_lexer": "ipython3",
   "version": "3.10.10"
  }
 },
 "nbformat": 4,
 "nbformat_minor": 5
}
